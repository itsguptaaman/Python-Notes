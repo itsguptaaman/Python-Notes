{
 "cells": [
  {
   "cell_type": "code",
   "execution_count": 4,
   "id": "08f2d464",
   "metadata": {},
   "outputs": [
    {
     "name": "stdout",
     "output_type": "stream",
     "text": [
      "Requirement already satisfied: pymongo[srv] in c:\\users\\aman\\anaconda3\\lib\\site-packages (4.1.1)\n",
      "Requirement already satisfied: dnspython<3.0.0,>=1.16.0 in c:\\users\\aman\\anaconda3\\lib\\site-packages (from pymongo[srv]) (2.2.1)\n"
     ]
    }
   ],
   "source": [
    "!pip install \"pymongo[srv]\"\n",
    "import pymongo"
   ]
  },
  {
   "cell_type": "code",
   "execution_count": 9,
   "id": "9e0e41ae",
   "metadata": {},
   "outputs": [
    {
     "name": "stdout",
     "output_type": "stream",
     "text": [
      "Database(MongoClient(host=['ac-uvj2xfh-shard-00-00.brq57ep.mongodb.net:27017', 'ac-uvj2xfh-shard-00-01.brq57ep.mongodb.net:27017', 'ac-uvj2xfh-shard-00-02.brq57ep.mongodb.net:27017'], document_class=dict, tz_aware=False, connect=True, retrywrites=True, w='majority', authsource='admin', replicaset='atlas-kqp3g6-shard-0', tls=True), 'test')\n"
     ]
    }
   ],
   "source": [
    "client = pymongo.MongoClient(\"mongodb+srv://<admin>:<admin>@cluster0.brq57ep.mongodb.net/?retryWrites=true&w=majority\")\n",
    "db = client.test\n",
    "print(db)"
   ]
  },
  {
   "cell_type": "code",
   "execution_count": 10,
   "id": "aa8b304c",
   "metadata": {},
   "outputs": [],
   "source": [
    "import pandas as pd"
   ]
  },
  {
   "cell_type": "code",
   "execution_count": 11,
   "id": "16e94db4",
   "metadata": {},
   "outputs": [],
   "source": [
    "data=pd.read_json(r\"C:\\Users\\Aman\\Downloads\\free-bike-status-1.json\")"
   ]
  },
  {
   "cell_type": "code",
   "execution_count": 21,
   "id": "35f2fd77",
   "metadata": {},
   "outputs": [
    {
     "name": "stdout",
     "output_type": "stream",
     "text": [
      "l\n",
      "t\n",
      "d\n"
     ]
    }
   ],
   "source": []
  },
  {
   "cell_type": "code",
   "execution_count": null,
   "id": "8f0a7376",
   "metadata": {},
   "outputs": [],
   "source": []
  }
 ],
 "metadata": {
  "kernelspec": {
   "display_name": "Python 3",
   "language": "python",
   "name": "python3"
  },
  "language_info": {
   "codemirror_mode": {
    "name": "ipython",
    "version": 3
   },
   "file_extension": ".py",
   "mimetype": "text/x-python",
   "name": "python",
   "nbconvert_exporter": "python",
   "pygments_lexer": "ipython3",
   "version": "3.8.8"
  }
 },
 "nbformat": 4,
 "nbformat_minor": 5
}
