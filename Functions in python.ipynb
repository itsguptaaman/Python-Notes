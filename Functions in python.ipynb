{
 "cells": [
  {
   "cell_type": "code",
   "execution_count": null,
   "id": "9c0e32b8",
   "metadata": {},
   "outputs": [],
   "source": [
    "a=int(input(\"Enter first the number:\"))\n",
    "b=int(input(\"Enter second the number:\"))\n",
    "def add(a,b):\n",
    "    print(\"sum of numbers is \",a+b)\n",
    "add(a,b)"
   ]
  },
  {
   "cell_type": "code",
   "execution_count": null,
   "id": "4cba6f92",
   "metadata": {},
   "outputs": [],
   "source": [
    "type(add(a,b))"
   ]
  },
  {
   "cell_type": "code",
   "execution_count": null,
   "id": "10f6183d",
   "metadata": {},
   "outputs": [],
   "source": [
    "a=int(input(\"Enter first the number:\"))\n",
    "b=int(input(\"Enter second the number:\"))\n",
    "def mul(a,b):\n",
    "    return a*b\n",
    "mul(a,b)"
   ]
  },
  {
   "cell_type": "code",
   "execution_count": null,
   "id": "d446f1de",
   "metadata": {},
   "outputs": [],
   "source": [
    "type(mul(a,b)+5)"
   ]
  },
  {
   "cell_type": "code",
   "execution_count": null,
   "id": "5072df72",
   "metadata": {},
   "outputs": [],
   "source": [
    "def test(x,y,z=0):\n",
    "    return x+y, x-y, x*y\n",
    "test(23,53,5)"
   ]
  },
  {
   "cell_type": "code",
   "execution_count": null,
   "id": "1cec8cd3",
   "metadata": {},
   "outputs": [],
   "source": [
    "a,b,c=test(1,2,3)"
   ]
  },
  {
   "cell_type": "code",
   "execution_count": null,
   "id": "747b2895",
   "metadata": {},
   "outputs": [],
   "source": [
    "a"
   ]
  },
  {
   "cell_type": "code",
   "execution_count": null,
   "id": "192bf061",
   "metadata": {},
   "outputs": [],
   "source": [
    "b"
   ]
  },
  {
   "cell_type": "code",
   "execution_count": null,
   "id": "0222fe48",
   "metadata": {},
   "outputs": [],
   "source": [
    "c"
   ]
  },
  {
   "cell_type": "code",
   "execution_count": null,
   "id": "240d916d",
   "metadata": {},
   "outputs": [],
   "source": [
    "# Placeholder _\n",
    "a, _, b = test(1,2,z=0)"
   ]
  },
  {
   "cell_type": "code",
   "execution_count": null,
   "id": "6e241793",
   "metadata": {},
   "outputs": [],
   "source": [
    "a"
   ]
  },
  {
   "cell_type": "code",
   "execution_count": null,
   "id": "72de2d6f",
   "metadata": {},
   "outputs": [],
   "source": [
    "b"
   ]
  },
  {
   "cell_type": "code",
   "execution_count": null,
   "id": "41027ad1",
   "metadata": {},
   "outputs": [],
   "source": [
    "_"
   ]
  },
  {
   "cell_type": "code",
   "execution_count": null,
   "id": "a689ff12",
   "metadata": {},
   "outputs": [],
   "source": [
    "a,_,c=test(10,2)"
   ]
  },
  {
   "cell_type": "code",
   "execution_count": null,
   "id": "adaf204d",
   "metadata": {},
   "outputs": [],
   "source": [
    "a"
   ]
  },
  {
   "cell_type": "code",
   "execution_count": null,
   "id": "5449ca8c",
   "metadata": {},
   "outputs": [],
   "source": [
    "_"
   ]
  },
  {
   "cell_type": "code",
   "execution_count": null,
   "id": "08795b81",
   "metadata": {},
   "outputs": [],
   "source": [
    "c"
   ]
  },
  {
   "cell_type": "code",
   "execution_count": null,
   "id": "01915836",
   "metadata": {},
   "outputs": [],
   "source": [
    "def test2(n):\n",
    "    return n*2"
   ]
  },
  {
   "cell_type": "code",
   "execution_count": null,
   "id": "4c86a43d",
   "metadata": {},
   "outputs": [],
   "source": [
    "test2([2,3,4,56])"
   ]
  },
  {
   "cell_type": "code",
   "execution_count": null,
   "id": "39d61422",
   "metadata": {},
   "outputs": [],
   "source": [
    "test2(56)"
   ]
  },
  {
   "cell_type": "code",
   "execution_count": null,
   "id": "8b92e5cf",
   "metadata": {},
   "outputs": [],
   "source": [
    "def test3(n):\n",
    "    return n,n*2"
   ]
  },
  {
   "cell_type": "code",
   "execution_count": null,
   "id": "774f132d",
   "metadata": {},
   "outputs": [],
   "source": [
    "b=test3([24,5,657,8,9])"
   ]
  },
  {
   "cell_type": "code",
   "execution_count": null,
   "id": "60ad1e7d",
   "metadata": {},
   "outputs": [],
   "source": [
    "type(b)"
   ]
  },
  {
   "cell_type": "code",
   "execution_count": null,
   "id": "d9af6e97",
   "metadata": {},
   "outputs": [],
   "source": [
    "b[0]"
   ]
  },
  {
   "cell_type": "code",
   "execution_count": null,
   "id": "a3708c66",
   "metadata": {},
   "outputs": [],
   "source": [
    "b[1]"
   ]
  },
  {
   "cell_type": "code",
   "execution_count": null,
   "id": "32456503",
   "metadata": {},
   "outputs": [],
   "source": [
    "def test4(a=0,b=5):\n",
    "    return a+b"
   ]
  },
  {
   "cell_type": "code",
   "execution_count": null,
   "id": "1252e635",
   "metadata": {},
   "outputs": [],
   "source": [
    "test4(5,6)"
   ]
  },
  {
   "cell_type": "code",
   "execution_count": null,
   "id": "810a14d2",
   "metadata": {},
   "outputs": [],
   "source": [
    "test4(5)"
   ]
  },
  {
   "cell_type": "code",
   "execution_count": null,
   "id": "54311300",
   "metadata": {},
   "outputs": [],
   "source": [
    "def boolx(x=True,y=False):\n",
    "    return x+y"
   ]
  },
  {
   "cell_type": "code",
   "execution_count": null,
   "id": "75ab4b15",
   "metadata": {},
   "outputs": [],
   "source": [
    "boolx()"
   ]
  },
  {
   "cell_type": "code",
   "execution_count": null,
   "id": "b6f80a08",
   "metadata": {},
   "outputs": [],
   "source": [
    "boolx(False)"
   ]
  },
  {
   "cell_type": "code",
   "execution_count": null,
   "id": "8daf8940",
   "metadata": {},
   "outputs": [],
   "source": [
    "boolx(True,True)"
   ]
  },
  {
   "cell_type": "code",
   "execution_count": null,
   "id": "3ff8875d",
   "metadata": {},
   "outputs": [],
   "source": [
    "True and False"
   ]
  },
  {
   "cell_type": "code",
   "execution_count": null,
   "id": "affb48ae",
   "metadata": {},
   "outputs": [],
   "source": [
    "def travel( bike = True, car = False):\n",
    "    plan_travel= bike or car\n",
    "    return plan_travel, bike, car"
   ]
  },
  {
   "cell_type": "code",
   "execution_count": null,
   "id": "d33a266b",
   "metadata": {},
   "outputs": [],
   "source": [
    "travel()"
   ]
  },
  {
   "cell_type": "code",
   "execution_count": null,
   "id": "7f5c0429",
   "metadata": {},
   "outputs": [],
   "source": [
    "travel(False)"
   ]
  },
  {
   "cell_type": "code",
   "execution_count": null,
   "id": "80ed0231",
   "metadata": {},
   "outputs": [],
   "source": [
    "travel(car=True)"
   ]
  },
  {
   "cell_type": "code",
   "execution_count": null,
   "id": "db603bd1",
   "metadata": {},
   "outputs": [],
   "source": [
    "def test5(*args):\n",
    "    return args"
   ]
  },
  {
   "cell_type": "code",
   "execution_count": null,
   "id": "9f892ba4",
   "metadata": {},
   "outputs": [],
   "source": [
    "test5(\"aman\",\"gupta\",3,4,5,6,[23,5,6466,7,8])"
   ]
  },
  {
   "cell_type": "code",
   "execution_count": null,
   "id": "d922a5fa",
   "metadata": {},
   "outputs": [],
   "source": [
    "def test6(*args):\n",
    "    l=[]\n",
    "    for i in args:\n",
    "        if type(i)==list:\n",
    "            l+=i\n",
    "    return l"
   ]
  },
  {
   "cell_type": "code",
   "execution_count": null,
   "id": "2c6c771a",
   "metadata": {},
   "outputs": [],
   "source": [
    "test6([12,3,4,5,6],[123,34,5,6])"
   ]
  },
  {
   "cell_type": "code",
   "execution_count": null,
   "id": "968a8a4b",
   "metadata": {},
   "outputs": [],
   "source": [
    "args"
   ]
  },
  {
   "cell_type": "code",
   "execution_count": null,
   "id": "3d89f94b",
   "metadata": {},
   "outputs": [],
   "source": [
    "def test7(*args):\n",
    "    return [i for i in args]"
   ]
  },
  {
   "cell_type": "code",
   "execution_count": null,
   "id": "65271408",
   "metadata": {},
   "outputs": [],
   "source": [
    "test6([12,3,4,5,6],[123,34,5,6])"
   ]
  },
  {
   "cell_type": "code",
   "execution_count": null,
   "id": "2379ee89",
   "metadata": {},
   "outputs": [],
   "source": [
    "l=[]\n",
    "for i in args:\n",
    "    if type(args)==list:\n",
    "        l.append(args[i])\n",
    "l"
   ]
  },
  {
   "cell_type": "code",
   "execution_count": null,
   "id": "791c4ef5",
   "metadata": {},
   "outputs": [],
   "source": [
    "def test8(**kwargs):\n",
    "    return kwargs"
   ]
  },
  {
   "cell_type": "code",
   "execution_count": null,
   "id": "403d9fca",
   "metadata": {},
   "outputs": [],
   "source": [
    "test8(name=\"aman\",age=22,dateofbirth=\"24th may 2000\")"
   ]
  },
  {
   "cell_type": "code",
   "execution_count": null,
   "id": "214876ee",
   "metadata": {},
   "outputs": [],
   "source": [
    "type(test8())"
   ]
  },
  {
   "cell_type": "code",
   "execution_count": null,
   "id": "dd1b4b33",
   "metadata": {},
   "outputs": [],
   "source": [
    "def function1(*args):\n",
    "    l=[]\n",
    "    t=()\n",
    "    for i in args:\n",
    "        if type(i)==list:\n",
    "            l=l+i\n",
    "        if type(i)==tuple:\n",
    "            t=t+i\n",
    "        if type(i)==str:\n",
    "            l=l+i\n",
    "        if type(i)==int:\n",
    "            l=l+i\n",
    "        if type(i)==float:\n",
    "            l=l+i\n",
    "        else:\n",
    "            print(\"Invalid data\")\n",
    "    return l,t"
   ]
  },
  {
   "cell_type": "code",
   "execution_count": null,
   "id": "df297fc5",
   "metadata": {},
   "outputs": [],
   "source": [
    "function1([2,423,53],[324,5,647],12,434,5346)"
   ]
  },
  {
   "cell_type": "code",
   "execution_count": null,
   "id": "c5f8082c",
   "metadata": {},
   "outputs": [],
   "source": [
    "def function2(*args,**kwargs):\n",
    "    l=[i for i in args if type(i)==list]\n",
    "    li=[i[1] for i in kwargs.items() if type(i[1])==list]\n",
    "    return l,li"
   ]
  },
  {
   "cell_type": "code",
   "execution_count": null,
   "id": "fab2571d",
   "metadata": {},
   "outputs": [],
   "source": [
    "function2([4,5,6,7,8],[5,6,7,8,9,0],5,5,6,7,a=5,b='Aman',m=[4,5,6,7])"
   ]
  },
  {
   "cell_type": "code",
   "execution_count": null,
   "id": "2c947dbc",
   "metadata": {},
   "outputs": [],
   "source": [
    "[4,5,6,7,8],[5,6,7,8,9,0],5,5,6,7,a=5,b='Aman',m=[4,5,6,7]"
   ]
  },
  {
   "cell_type": "code",
   "execution_count": null,
   "id": "dca9c770",
   "metadata": {},
   "outputs": [],
   "source": [
    "def test7(**kwargs):\n",
    "    for i in kwargs.items():\n",
    "        if type(i[1])==list:\n",
    "            if \"aman\" in i[1]:\n",
    "                print(\"I am able to find your name in input data\")\n",
    "                print(i[1])\n",
    "    return kwargs"
   ]
  },
  {
   "cell_type": "code",
   "execution_count": null,
   "id": "bd3bbfd5",
   "metadata": {},
   "outputs": [],
   "source": [
    "test7(b=6,c=[1,2,34,5],d=[\"aman\",\"gupta\",5.6],n=6+7j)"
   ]
  },
  {
   "cell_type": "code",
   "execution_count": null,
   "id": "31e3ffb5",
   "metadata": {},
   "outputs": [],
   "source": [
    "def fun1(*args):\n",
    "    dt={}\n",
    "    for i in args:\n",
    "        if type(i) in dt:\n",
    "            dt[type(i)].append(i)\n",
    "        else:\n",
    "            dt[type(i)]=[i]\n",
    "    return dt\n",
    "        "
   ]
  },
  {
   "cell_type": "code",
   "execution_count": null,
   "id": "6b9539f8",
   "metadata": {},
   "outputs": [],
   "source": [
    "fun1([2,423,53],(324,5,647),12,434,5346,True,(2+5j))"
   ]
  },
  {
   "cell_type": "code",
   "execution_count": null,
   "id": "55add3ee",
   "metadata": {},
   "outputs": [],
   "source": []
  },
  {
   "cell_type": "code",
   "execution_count": null,
   "id": "579bf63a",
   "metadata": {},
   "outputs": [],
   "source": [
    "m=lambda a,b:a+b"
   ]
  },
  {
   "cell_type": "code",
   "execution_count": null,
   "id": "bad2c170",
   "metadata": {},
   "outputs": [],
   "source": [
    "m(5,6)"
   ]
  },
  {
   "cell_type": "code",
   "execution_count": null,
   "id": "2e1da338",
   "metadata": {},
   "outputs": [],
   "source": [
    "m(\"Aman\",\"Gupta\")"
   ]
  },
  {
   "cell_type": "code",
   "execution_count": null,
   "id": "8aa1d5cb",
   "metadata": {},
   "outputs": [],
   "source": [
    "x=lambda arg1,arg2:print(arg1,arg2)"
   ]
  },
  {
   "cell_type": "code",
   "execution_count": null,
   "id": "9bc2346a",
   "metadata": {},
   "outputs": [],
   "source": [
    "c=\"djsn\"\n",
    "d='djkd'\n",
    "x(c,d)"
   ]
  },
  {
   "cell_type": "code",
   "execution_count": 9,
   "id": "b8cf5a33",
   "metadata": {},
   "outputs": [],
   "source": [
    "r=10  # global variable\n",
    "def test8(a,b):\n",
    "    \"\"\"This Function is going to give division of two numbers\n",
    "    \"\"\"\n",
    "    r=a/b #local variable\n",
    "    print(r)"
   ]
  },
  {
   "cell_type": "code",
   "execution_count": 7,
   "id": "897e6d48",
   "metadata": {},
   "outputs": [
    {
     "name": "stdout",
     "output_type": "stream",
     "text": [
      "4.0\n"
     ]
    }
   ],
   "source": [
    "test8(20,5)"
   ]
  },
  {
   "cell_type": "code",
   "execution_count": 10,
   "id": "52ed52e3",
   "metadata": {},
   "outputs": [
    {
     "name": "stdout",
     "output_type": "stream",
     "text": [
      "Help on built-in function print in module builtins:\n",
      "\n",
      "print(...)\n",
      "    print(value, ..., sep=' ', end='\\n', file=sys.stdout, flush=False)\n",
      "    \n",
      "    Prints the values to a stream, or to sys.stdout by default.\n",
      "    Optional keyword arguments:\n",
      "    file:  a file-like object (stream); defaults to the current sys.stdout.\n",
      "    sep:   string inserted between values, default a space.\n",
      "    end:   string appended after the last value, default a newline.\n",
      "    flush: whether to forcibly flush the stream.\n",
      "\n"
     ]
    }
   ],
   "source": [
    "help(print)"
   ]
  },
  {
   "cell_type": "code",
   "execution_count": 11,
   "id": "a8001406",
   "metadata": {},
   "outputs": [
    {
     "name": "stdout",
     "output_type": "stream",
     "text": [
      "Help on function test8 in module __main__:\n",
      "\n",
      "test8(a, b)\n",
      "    This Function is going to give division of two numbers\n",
      "\n"
     ]
    }
   ],
   "source": [
    "help(test8)"
   ]
  },
  {
   "cell_type": "code",
   "execution_count": 12,
   "id": "a273210e",
   "metadata": {},
   "outputs": [],
   "source": [
    "def test9():\n",
    "    name=\"aman\"\n",
    "    name=list(name)\n",
    "    return name"
   ]
  },
  {
   "cell_type": "code",
   "execution_count": 15,
   "id": "77dc5414",
   "metadata": {},
   "outputs": [
    {
     "name": "stdout",
     "output_type": "stream",
     "text": [
      "['a', 'm', 'a', 'n']\n"
     ]
    }
   ],
   "source": [
    "print(test9())"
   ]
  },
  {
   "cell_type": "code",
   "execution_count": 17,
   "id": "2c576cd3",
   "metadata": {},
   "outputs": [],
   "source": [
    "name=\"Aman\"\n",
    "x=iter(name)"
   ]
  },
  {
   "cell_type": "code",
   "execution_count": 18,
   "id": "cd8e6734",
   "metadata": {},
   "outputs": [
    {
     "data": {
      "text/plain": [
       "'A'"
      ]
     },
     "execution_count": 18,
     "metadata": {},
     "output_type": "execute_result"
    }
   ],
   "source": [
    "next(x)"
   ]
  },
  {
   "cell_type": "code",
   "execution_count": 19,
   "id": "d292702c",
   "metadata": {},
   "outputs": [
    {
     "data": {
      "text/plain": [
       "'m'"
      ]
     },
     "execution_count": 19,
     "metadata": {},
     "output_type": "execute_result"
    }
   ],
   "source": [
    "next(x)"
   ]
  },
  {
   "cell_type": "code",
   "execution_count": 20,
   "id": "14289c42",
   "metadata": {},
   "outputs": [
    {
     "data": {
      "text/plain": [
       "'a'"
      ]
     },
     "execution_count": 20,
     "metadata": {},
     "output_type": "execute_result"
    }
   ],
   "source": [
    "next(x)"
   ]
  },
  {
   "cell_type": "code",
   "execution_count": 21,
   "id": "faf540e7",
   "metadata": {},
   "outputs": [
    {
     "data": {
      "text/plain": [
       "'n'"
      ]
     },
     "execution_count": 21,
     "metadata": {},
     "output_type": "execute_result"
    }
   ],
   "source": [
    "next(x)"
   ]
  },
  {
   "cell_type": "code",
   "execution_count": 22,
   "id": "bbfc8cb4",
   "metadata": {},
   "outputs": [
    {
     "ename": "TypeError",
     "evalue": "'int' object is not an iterator",
     "output_type": "error",
     "traceback": [
      "\u001b[1;31m---------------------------------------------------------------------------\u001b[0m",
      "\u001b[1;31mTypeError\u001b[0m                                 Traceback (most recent call last)",
      "\u001b[1;32m<ipython-input-22-98ad6148a9eb>\u001b[0m in \u001b[0;36m<module>\u001b[1;34m\u001b[0m\n\u001b[0;32m      1\u001b[0m \u001b[0ma\u001b[0m\u001b[1;33m=\u001b[0m\u001b[1;36m10\u001b[0m\u001b[1;33m\u001b[0m\u001b[1;33m\u001b[0m\u001b[0m\n\u001b[1;32m----> 2\u001b[1;33m \u001b[0mnext\u001b[0m\u001b[1;33m(\u001b[0m\u001b[0ma\u001b[0m\u001b[1;33m)\u001b[0m\u001b[1;33m\u001b[0m\u001b[1;33m\u001b[0m\u001b[0m\n\u001b[0m",
      "\u001b[1;31mTypeError\u001b[0m: 'int' object is not an iterator"
     ]
    }
   ],
   "source": [
    "a=10\n",
    "next(a)"
   ]
  },
  {
   "cell_type": "code",
   "execution_count": 23,
   "id": "899b85d7",
   "metadata": {},
   "outputs": [
    {
     "ename": "TypeError",
     "evalue": "'int' object is not iterable",
     "output_type": "error",
     "traceback": [
      "\u001b[1;31m---------------------------------------------------------------------------\u001b[0m",
      "\u001b[1;31mTypeError\u001b[0m                                 Traceback (most recent call last)",
      "\u001b[1;32m<ipython-input-23-2b64cb055077>\u001b[0m in \u001b[0;36m<module>\u001b[1;34m\u001b[0m\n\u001b[1;32m----> 1\u001b[1;33m \u001b[0miter\u001b[0m\u001b[1;33m(\u001b[0m\u001b[0ma\u001b[0m\u001b[1;33m)\u001b[0m\u001b[1;33m\u001b[0m\u001b[1;33m\u001b[0m\u001b[0m\n\u001b[0m",
      "\u001b[1;31mTypeError\u001b[0m: 'int' object is not iterable"
     ]
    }
   ],
   "source": [
    "iter(a)"
   ]
  },
  {
   "cell_type": "code",
   "execution_count": 28,
   "id": "4508ea15",
   "metadata": {},
   "outputs": [],
   "source": [
    "l=[1,2,3,4,5,6]"
   ]
  },
  {
   "cell_type": "code",
   "execution_count": 29,
   "id": "2cfc2e62",
   "metadata": {},
   "outputs": [],
   "source": [
    "x=iter(l)"
   ]
  },
  {
   "cell_type": "code",
   "execution_count": 30,
   "id": "433f1ff0",
   "metadata": {},
   "outputs": [
    {
     "data": {
      "text/plain": [
       "1"
      ]
     },
     "execution_count": 30,
     "metadata": {},
     "output_type": "execute_result"
    }
   ],
   "source": [
    "next(x)"
   ]
  },
  {
   "cell_type": "code",
   "execution_count": 31,
   "id": "36cc7cb8",
   "metadata": {},
   "outputs": [
    {
     "data": {
      "text/plain": [
       "2"
      ]
     },
     "execution_count": 31,
     "metadata": {},
     "output_type": "execute_result"
    }
   ],
   "source": [
    "next(x)"
   ]
  },
  {
   "cell_type": "code",
   "execution_count": 33,
   "id": "4ff5c33e",
   "metadata": {},
   "outputs": [
    {
     "data": {
      "text/plain": [
       "4"
      ]
     },
     "execution_count": 33,
     "metadata": {},
     "output_type": "execute_result"
    }
   ],
   "source": [
    "next(x)"
   ]
  },
  {
   "cell_type": "code",
   "execution_count": 35,
   "id": "a63572ff",
   "metadata": {},
   "outputs": [
    {
     "data": {
      "text/plain": [
       "6"
      ]
     },
     "execution_count": 35,
     "metadata": {},
     "output_type": "execute_result"
    }
   ],
   "source": [
    "next(x)"
   ]
  },
  {
   "cell_type": "code",
   "execution_count": 45,
   "id": "91940adc",
   "metadata": {},
   "outputs": [],
   "source": [
    "def test10(no):\n",
    "    x=[i**3 for i in range(no)]\n",
    "    return x"
   ]
  },
  {
   "cell_type": "code",
   "execution_count": 51,
   "id": "5242cb33",
   "metadata": {},
   "outputs": [
    {
     "ename": "MemoryError",
     "evalue": "",
     "output_type": "error",
     "traceback": [
      "\u001b[1;31m---------------------------------------------------------------------------\u001b[0m",
      "\u001b[1;31mMemoryError\u001b[0m                               Traceback (most recent call last)",
      "\u001b[1;32m<ipython-input-51-dfe23528c94a>\u001b[0m in \u001b[0;36m<module>\u001b[1;34m\u001b[0m\n\u001b[1;32m----> 1\u001b[1;33m \u001b[0mtest10\u001b[0m\u001b[1;33m(\u001b[0m\u001b[1;36m1000000000\u001b[0m\u001b[1;33m)\u001b[0m\u001b[1;33m\u001b[0m\u001b[1;33m\u001b[0m\u001b[0m\n\u001b[0m",
      "\u001b[1;32m<ipython-input-45-a67b6f6c981c>\u001b[0m in \u001b[0;36mtest10\u001b[1;34m(no)\u001b[0m\n\u001b[0;32m      1\u001b[0m \u001b[1;32mdef\u001b[0m \u001b[0mtest10\u001b[0m\u001b[1;33m(\u001b[0m\u001b[0mno\u001b[0m\u001b[1;33m)\u001b[0m\u001b[1;33m:\u001b[0m\u001b[1;33m\u001b[0m\u001b[1;33m\u001b[0m\u001b[0m\n\u001b[1;32m----> 2\u001b[1;33m     \u001b[0mx\u001b[0m\u001b[1;33m=\u001b[0m\u001b[1;33m[\u001b[0m\u001b[0mi\u001b[0m\u001b[1;33m**\u001b[0m\u001b[1;36m3\u001b[0m \u001b[1;32mfor\u001b[0m \u001b[0mi\u001b[0m \u001b[1;32min\u001b[0m \u001b[0mrange\u001b[0m\u001b[1;33m(\u001b[0m\u001b[0mno\u001b[0m\u001b[1;33m)\u001b[0m\u001b[1;33m]\u001b[0m\u001b[1;33m\u001b[0m\u001b[1;33m\u001b[0m\u001b[0m\n\u001b[0m\u001b[0;32m      3\u001b[0m     \u001b[1;32mreturn\u001b[0m \u001b[0mx\u001b[0m\u001b[1;33m\u001b[0m\u001b[1;33m\u001b[0m\u001b[0m\n",
      "\u001b[1;32m<ipython-input-45-a67b6f6c981c>\u001b[0m in \u001b[0;36m<listcomp>\u001b[1;34m(.0)\u001b[0m\n\u001b[0;32m      1\u001b[0m \u001b[1;32mdef\u001b[0m \u001b[0mtest10\u001b[0m\u001b[1;33m(\u001b[0m\u001b[0mno\u001b[0m\u001b[1;33m)\u001b[0m\u001b[1;33m:\u001b[0m\u001b[1;33m\u001b[0m\u001b[1;33m\u001b[0m\u001b[0m\n\u001b[1;32m----> 2\u001b[1;33m     \u001b[0mx\u001b[0m\u001b[1;33m=\u001b[0m\u001b[1;33m[\u001b[0m\u001b[0mi\u001b[0m\u001b[1;33m**\u001b[0m\u001b[1;36m3\u001b[0m \u001b[1;32mfor\u001b[0m \u001b[0mi\u001b[0m \u001b[1;32min\u001b[0m \u001b[0mrange\u001b[0m\u001b[1;33m(\u001b[0m\u001b[0mno\u001b[0m\u001b[1;33m)\u001b[0m\u001b[1;33m]\u001b[0m\u001b[1;33m\u001b[0m\u001b[1;33m\u001b[0m\u001b[0m\n\u001b[0m\u001b[0;32m      3\u001b[0m     \u001b[1;32mreturn\u001b[0m \u001b[0mx\u001b[0m\u001b[1;33m\u001b[0m\u001b[1;33m\u001b[0m\u001b[0m\n",
      "\u001b[1;31mMemoryError\u001b[0m: "
     ]
    }
   ],
   "source": [
    "test10(1000000000)"
   ]
  },
  {
   "cell_type": "code",
   "execution_count": 47,
   "id": "145d0fb8",
   "metadata": {},
   "outputs": [],
   "source": [
    "def test11(no):\n",
    "    x=[i**3 for i in range(no)]\n",
    "    yield x"
   ]
  },
  {
   "cell_type": "code",
   "execution_count": 52,
   "id": "b22cef3a",
   "metadata": {},
   "outputs": [
    {
     "data": {
      "text/plain": [
       "<generator object test11 at 0x00000208E68D7C10>"
      ]
     },
     "execution_count": 52,
     "metadata": {},
     "output_type": "execute_result"
    }
   ],
   "source": [
    "test11(1000000000)"
   ]
  },
  {
   "cell_type": "code",
   "execution_count": null,
   "id": "4778f55e",
   "metadata": {},
   "outputs": [],
   "source": [
    "Decoratoes "
   ]
  },
  {
   "cell_type": "code",
   "execution_count": 3,
   "id": "2d87fdf9",
   "metadata": {},
   "outputs": [
    {
     "name": "stdout",
     "output_type": "stream",
     "text": [
      "Himanshu Bhai\n",
      "10\n",
      "Kaise ho\n"
     ]
    }
   ],
   "source": [
    "def dec1(func1):\n",
    "    def test():\n",
    "        print(\"Himanshu Bhai\")\n",
    "        func1()\n",
    "        print(\"Kaise ho\")\n",
    "    return test\n",
    "@dec1\n",
    "def add():\n",
    "    print(10)"
   ]
  },
  {
   "cell_type": "code",
   "execution_count": 2,
   "id": "dc1d2ce4",
   "metadata": {},
   "outputs": [
    {
     "name": "stdout",
     "output_type": "stream",
     "text": [
      "Himanshu Bhai\n",
      "10\n",
      "Kaise ho\n"
     ]
    }
   ],
   "source": [
    "add()"
   ]
  },
  {
   "cell_type": "code",
   "execution_count": 1,
   "id": "d363011d",
   "metadata": {},
   "outputs": [],
   "source": [
    "x=lambda a,b:a-b"
   ]
  },
  {
   "cell_type": "code",
   "execution_count": 2,
   "id": "03f3f090",
   "metadata": {},
   "outputs": [
    {
     "data": {
      "text/plain": [
       "1"
      ]
     },
     "execution_count": 2,
     "metadata": {},
     "output_type": "execute_result"
    }
   ],
   "source": [
    "x(2,1)"
   ]
  },
  {
   "cell_type": "code",
   "execution_count": null,
   "id": "1284e016",
   "metadata": {},
   "outputs": [],
   "source": [
    "from flask import Flask, render_template, request, jsonify\n",
    "\n",
    "app = Flask(__name__)\n",
    "\n",
    "\n",
    "@app.route('/', methods=['GET', 'POST']) # To render Homepage\n",
    "def home_page():\n",
    "    return render_template('index.html')\n",
    "\n",
    "@app.route('/math', methods=['POST'])  # This will be called from UI\n",
    "def math_operation():\n",
    "    if (request.method=='POST'):\n",
    "        operation=request.form['operation']\n",
    "        num1=int(request.form['num1'])\n",
    "        num2 = int(request.form['num2'])\n",
    "        if(operation=='add'):\n",
    "            r=num1+num2\n",
    "            result= 'the sum of '+str(num1)+' and '+str(num2) +' is '+str(r)\n",
    "        if (operation == 'subtract'):\n",
    "            r = num1 - num2\n",
    "            result = 'the difference of ' + str(num1) + ' and ' + str(num2) + ' is ' + str(r)\n",
    "        if (operation == 'multiply'):\n",
    "            r = num1 * num2\n",
    "            result = 'the product of ' + str(num1) + ' and ' + str(num2) + ' is ' + str(r)\n",
    "        if (operation == 'divide'):\n",
    "            r = num1 / num2\n",
    "            result = 'the quotient when ' + str(num1) + ' is divided by ' + str(num2) + ' is ' + str(r)\n",
    "        return render_template('results.html',result=result)\n",
    "\n",
    "@app.route('/via_postman', methods=['POST']) # for calling the API from Postman/SOAPUI\n",
    "def math_operation_via_postman():\n",
    "    if (request.method=='POST'):\n",
    "        operation=request.json['operation']\n",
    "        num1=int(request.json['num1'])\n",
    "        num2 = int(request.json['num2'])\n",
    "        if(operation=='add'):\n",
    "            r=num1+num2\n",
    "            result= 'the sum of '+str(num1)+' and '+str(num2) +' is '+str(r)\n",
    "        if (operation == 'subtract'):\n",
    "            r = num1 - num2\n",
    "            result = 'the difference of ' + str(num1) + ' and ' + str(num2) + ' is ' + str(r)\n",
    "        if (operation == 'multiply'):\n",
    "            r = num1 * num2\n",
    "            result = 'the product of ' + str(num1) + ' and ' + str(num2) + ' is ' + str(r)\n",
    "        if (operation == 'divide'):\n",
    "            r = num1 / num2\n",
    "            result = 'the quotient when ' + str(num1) + ' is divided by ' + str(num2) + ' is ' + str(r)\n",
    "        return jsonify(result)\n",
    "\n",
    "\n",
    "if __name__ == '__main__':\n",
    "    app.run()\n"
   ]
  },
  {
   "cell_type": "code",
   "execution_count": null,
   "id": "3671c607",
   "metadata": {},
   "outputs": [],
   "source": [
    "from flask import Flask, request, render_template, jsonify\n",
    "import time \n",
    "initial=time.time()\n",
    "app=Flask(__name__)\n",
    "\n",
    "@app.route(\"/via_postman\", method={\"POST\"})\n",
    "def math_operation():\n",
    "    if request.method=='POST':\n",
    "        operation=request.form['operation']\n",
    "        num1=int(request.form['num1'])\n",
    "        num2=int(request.form['num2'])\n",
    "        if operation=='add':\n",
    "            r=num1+num2\n",
    "            result= f\"The sum of {num1} and {num2} is {r}\"\n",
    "        elif operation=='subtract':\n",
    "            r=num1-num2\n",
    "            result= f\"The sum of {num1} and {num2} is {r}\"\n",
    "        if operation=='multiply':\n",
    "            r=num1*num2\n",
    "            result= f\"The sum of {num1} and {num2} is {r}\"\n",
    "        if operation=='divide':\n",
    "            r=num1+num2\n",
    "            result= f\"The sum of {num1} and {num2} is {r}\"\n",
    "    return render_template(\"result.html\", result=result)\n",
    "\n",
    "if __name__ == '__main__'\n",
    "print(\"Exicution time is\",time.time()-initial)"
   ]
  },
  {
   "cell_type": "code",
   "execution_count": null,
   "id": "ea8c6c5b",
   "metadata": {},
   "outputs": [],
   "source": []
  },
  {
   "cell_type": "code",
   "execution_count": null,
   "id": "d2826e88",
   "metadata": {},
   "outputs": [],
   "source": []
  },
  {
   "cell_type": "code",
   "execution_count": null,
   "id": "8727e17f",
   "metadata": {},
   "outputs": [],
   "source": []
  },
  {
   "cell_type": "code",
   "execution_count": null,
   "id": "3de9e86a",
   "metadata": {},
   "outputs": [],
   "source": []
  },
  {
   "cell_type": "code",
   "execution_count": null,
   "id": "abb76f4b",
   "metadata": {},
   "outputs": [],
   "source": []
  }
 ],
 "metadata": {
  "kernelspec": {
   "display_name": "Python 3 (ipykernel)",
   "language": "python",
   "name": "python3"
  },
  "language_info": {
   "codemirror_mode": {
    "name": "ipython",
    "version": 3
   },
   "file_extension": ".py",
   "mimetype": "text/x-python",
   "name": "python",
   "nbconvert_exporter": "python",
   "pygments_lexer": "ipython3",
   "version": "3.9.12"
  }
 },
 "nbformat": 4,
 "nbformat_minor": 5
}
