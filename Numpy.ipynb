{
 "cells": [
  {
   "cell_type": "code",
   "execution_count": 1,
   "id": "7da6cd7b",
   "metadata": {},
   "outputs": [],
   "source": [
    "import numpy as np\n",
    "import array"
   ]
  },
  {
   "cell_type": "code",
   "execution_count": 4,
   "id": "4b7bf6c6",
   "metadata": {},
   "outputs": [
    {
     "data": {
      "text/plain": [
       "array([1, 2, 3, 4, 5])"
      ]
     },
     "execution_count": 4,
     "metadata": {},
     "output_type": "execute_result"
    }
   ],
   "source": [
    "arr=np.array([1,2,3,4,5])\n",
    "type(arr)\n",
    "arr"
   ]
  },
  {
   "cell_type": "code",
   "execution_count": 5,
   "id": "c5fd30c4",
   "metadata": {},
   "outputs": [
    {
     "data": {
      "text/plain": [
       "array(['1', '2', '3', '4', '5', 'Aman', '(4+5j)'], dtype='<U64')"
      ]
     },
     "execution_count": 5,
     "metadata": {},
     "output_type": "execute_result"
    }
   ],
   "source": [
    "arr=np.array([1,2,3,4,5,\"Aman\",4+5j])\n",
    "arr"
   ]
  },
  {
   "cell_type": "code",
   "execution_count": 6,
   "id": "81223c5b",
   "metadata": {},
   "outputs": [
    {
     "data": {
      "text/plain": [
       "array([1., 2., 3., 4., 5., 6.])"
      ]
     },
     "execution_count": 6,
     "metadata": {},
     "output_type": "execute_result"
    }
   ],
   "source": [
    "arr=np.array([1,2,3,4,5,6.0])\n",
    "arr"
   ]
  },
  {
   "cell_type": "code",
   "execution_count": 7,
   "id": "63c1743d",
   "metadata": {},
   "outputs": [
    {
     "data": {
      "text/plain": [
       "array([[1, 2],\n",
       "       [3, 4]])"
      ]
     },
     "execution_count": 7,
     "metadata": {},
     "output_type": "execute_result"
    }
   ],
   "source": [
    "arr=np.array([[1,2],[3,4]])\n",
    "arr"
   ]
  },
  {
   "cell_type": "code",
   "execution_count": 9,
   "id": "b9f9fd64",
   "metadata": {},
   "outputs": [
    {
     "name": "stderr",
     "output_type": "stream",
     "text": [
      "<ipython-input-9-e6f3e5808a3c>:1: VisibleDeprecationWarning: Creating an ndarray from ragged nested sequences (which is a list-or-tuple of lists-or-tuples-or ndarrays with different lengths or shapes) is deprecated. If you meant to do this, you must specify 'dtype=object' when creating the ndarray.\n",
      "  arr=np.array([[1,2],[3,4],[5,6,7]])\n"
     ]
    },
    {
     "data": {
      "text/plain": [
       "array([list([1, 2]), list([3, 4]), list([5, 6, 7])], dtype=object)"
      ]
     },
     "execution_count": 9,
     "metadata": {},
     "output_type": "execute_result"
    }
   ],
   "source": [
    "arr=np.array([[1,2],[3,4],[5,6,7]])\n",
    "arr"
   ]
  },
  {
   "cell_type": "code",
   "execution_count": 10,
   "id": "74130d26",
   "metadata": {},
   "outputs": [
    {
     "data": {
      "text/plain": [
       "array([[[1, 2],\n",
       "        [3, 4]],\n",
       "\n",
       "       [[5, 6],\n",
       "        [6, 7]]])"
      ]
     },
     "execution_count": 10,
     "metadata": {},
     "output_type": "execute_result"
    }
   ],
   "source": [
    "arr=np.array([[[1,2],[3,4]],[[5,6],[6,7]]])\n",
    "arr"
   ]
  },
  {
   "cell_type": "code",
   "execution_count": 12,
   "id": "e33026ac",
   "metadata": {},
   "outputs": [
    {
     "data": {
      "text/plain": [
       "array([[[1, 2, 3, 4, 5]]])"
      ]
     },
     "execution_count": 12,
     "metadata": {},
     "output_type": "execute_result"
    }
   ],
   "source": [
    "arr=np.array([1,2,3,4,5], ndmin=3)\n",
    "arr"
   ]
  },
  {
   "cell_type": "code",
   "execution_count": 14,
   "id": "8d41956e",
   "metadata": {},
   "outputs": [
    {
     "data": {
      "text/plain": [
       "array([[[[[[[[[[[[[[[[[[[[[[[[[[[[[[1, 2, 3]]]]]]]]]]]]]]]]]]]]]]]]]]]]]])"
      ]
     },
     "execution_count": 14,
     "metadata": {},
     "output_type": "execute_result"
    }
   ],
   "source": [
    "arr=np.array([1,2,3], ndmin=30)\n",
    "arr"
   ]
  },
  {
   "cell_type": "code",
   "execution_count": 15,
   "id": "b95a0968",
   "metadata": {},
   "outputs": [
    {
     "data": {
      "text/plain": [
       "array([1.+0.j, 2.+0.j, 3.+0.j])"
      ]
     },
     "execution_count": 15,
     "metadata": {},
     "output_type": "execute_result"
    }
   ],
   "source": [
    "arr=np.array([1,2,3], dtype=complex)\n",
    "arr"
   ]
  },
  {
   "cell_type": "code",
   "execution_count": 22,
   "id": "bd84c9ea",
   "metadata": {},
   "outputs": [
    {
     "data": {
      "text/plain": [
       "array([(1, 2), (2, 3)], dtype=[('a', '<i2'), ('b', '<i8')])"
      ]
     },
     "execution_count": 22,
     "metadata": {},
     "output_type": "execute_result"
    }
   ],
   "source": [
    "arr=np.array([(1,2),(2,3)],dtype=[(\"a\",'<i2'), (\"b\",'<i8')])\n",
    "arr"
   ]
  },
  {
   "cell_type": "code",
   "execution_count": 25,
   "id": "f32b485a",
   "metadata": {},
   "outputs": [
    {
     "data": {
      "text/plain": [
       "numpy.int16"
      ]
     },
     "execution_count": 25,
     "metadata": {},
     "output_type": "execute_result"
    }
   ],
   "source": [
    "type(arr[0][0])"
   ]
  },
  {
   "cell_type": "code",
   "execution_count": 24,
   "id": "62550132",
   "metadata": {},
   "outputs": [
    {
     "data": {
      "text/plain": [
       "numpy.int64"
      ]
     },
     "execution_count": 24,
     "metadata": {},
     "output_type": "execute_result"
    }
   ],
   "source": [
    "type(arr[0][1])"
   ]
  },
  {
   "cell_type": "code",
   "execution_count": 26,
   "id": "8e421942",
   "metadata": {},
   "outputs": [
    {
     "data": {
      "text/plain": [
       "array([[1, 2],\n",
       "       [3, 4]])"
      ]
     },
     "execution_count": 26,
     "metadata": {},
     "output_type": "execute_result"
    }
   ],
   "source": [
    "arr=np.array([[1,2],[3,4]])\n",
    "arr"
   ]
  },
  {
   "cell_type": "code",
   "execution_count": 30,
   "id": "99ff0fdd",
   "metadata": {},
   "outputs": [
    {
     "data": {
      "text/plain": [
       "numpy.int32"
      ]
     },
     "execution_count": 30,
     "metadata": {},
     "output_type": "execute_result"
    }
   ],
   "source": [
    "type(arr[1][1])"
   ]
  },
  {
   "cell_type": "code",
   "execution_count": 37,
   "id": "386545f4",
   "metadata": {},
   "outputs": [
    {
     "data": {
      "text/plain": [
       "matrix([[1, 2],\n",
       "        [3, 4]])"
      ]
     },
     "execution_count": 37,
     "metadata": {},
     "output_type": "execute_result"
    }
   ],
   "source": [
    "mat=np.mat(arr)\n",
    "np.matrix(arr)"
   ]
  },
  {
   "cell_type": "code",
   "execution_count": 32,
   "id": "887b6d35",
   "metadata": {},
   "outputs": [
    {
     "data": {
      "text/plain": [
       "numpy.matrix"
      ]
     },
     "execution_count": 32,
     "metadata": {},
     "output_type": "execute_result"
    }
   ],
   "source": [
    "type(np.mat(arr))"
   ]
  },
  {
   "cell_type": "code",
   "execution_count": 34,
   "id": "4350c8ec",
   "metadata": {},
   "outputs": [
    {
     "data": {
      "text/plain": [
       "array([1, 2, 3, 4, 5, 6])"
      ]
     },
     "execution_count": 34,
     "metadata": {},
     "output_type": "execute_result"
    }
   ],
   "source": [
    "l=[1,2,3,4,5,6]\n",
    "np.array(l)"
   ]
  },
  {
   "cell_type": "code",
   "execution_count": 35,
   "id": "44138feb",
   "metadata": {},
   "outputs": [
    {
     "data": {
      "text/plain": [
       "array([1, 2, 3, 4, 5, 6])"
      ]
     },
     "execution_count": 35,
     "metadata": {},
     "output_type": "execute_result"
    }
   ],
   "source": [
    "np.asarray(l)"
   ]
  },
  {
   "cell_type": "code",
   "execution_count": 36,
   "id": "2614e994",
   "metadata": {},
   "outputs": [
    {
     "data": {
      "text/plain": [
       "array([1, 2, 3, 4, 5, 6])"
      ]
     },
     "execution_count": 36,
     "metadata": {},
     "output_type": "execute_result"
    }
   ],
   "source": [
    "np.asanyarray(l)"
   ]
  },
  {
   "cell_type": "code",
   "execution_count": 38,
   "id": "27593a87",
   "metadata": {},
   "outputs": [
    {
     "data": {
      "text/plain": [
       "matrix([[1, 2],\n",
       "        [3, 4]])"
      ]
     },
     "execution_count": 38,
     "metadata": {},
     "output_type": "execute_result"
    }
   ],
   "source": [
    "np.asanyarray(mat)"
   ]
  },
  {
   "cell_type": "code",
   "execution_count": 39,
   "id": "73e3bf01",
   "metadata": {},
   "outputs": [
    {
     "data": {
      "text/plain": [
       "True"
      ]
     },
     "execution_count": 39,
     "metadata": {},
     "output_type": "execute_result"
    }
   ],
   "source": [
    "issubclass(np.matrix, np.ndarray)"
   ]
  },
  {
   "cell_type": "code",
   "execution_count": 40,
   "id": "945ac04e",
   "metadata": {},
   "outputs": [
    {
     "data": {
      "text/plain": [
       "False"
      ]
     },
     "execution_count": 40,
     "metadata": {},
     "output_type": "execute_result"
    }
   ],
   "source": [
    "issubclass(np.ndarray,np.matrix)"
   ]
  },
  {
   "cell_type": "code",
   "execution_count": 41,
   "id": "d2901536",
   "metadata": {},
   "outputs": [
    {
     "data": {
      "text/plain": [
       "array([[1, 2],\n",
       "       [3, 4]])"
      ]
     },
     "execution_count": 41,
     "metadata": {},
     "output_type": "execute_result"
    }
   ],
   "source": [
    "arr"
   ]
  },
  {
   "cell_type": "code",
   "execution_count": 42,
   "id": "e6e07b22",
   "metadata": {},
   "outputs": [],
   "source": [
    "# Shallow copy\n",
    "a=arr"
   ]
  },
  {
   "cell_type": "code",
   "execution_count": 43,
   "id": "a73c0b8f",
   "metadata": {},
   "outputs": [],
   "source": [
    "# Deep copy\n",
    "b=np.copy(arr)"
   ]
  },
  {
   "cell_type": "code",
   "execution_count": 45,
   "id": "93328ef5",
   "metadata": {},
   "outputs": [],
   "source": [
    "arr[0][0]= 10"
   ]
  },
  {
   "cell_type": "code",
   "execution_count": 46,
   "id": "c6236bbc",
   "metadata": {},
   "outputs": [
    {
     "data": {
      "text/plain": [
       "array([[10,  2],\n",
       "       [ 3,  4]])"
      ]
     },
     "execution_count": 46,
     "metadata": {},
     "output_type": "execute_result"
    }
   ],
   "source": [
    "arr"
   ]
  },
  {
   "cell_type": "code",
   "execution_count": 47,
   "id": "3a476799",
   "metadata": {},
   "outputs": [
    {
     "data": {
      "text/plain": [
       "array([[10,  2],\n",
       "       [ 3,  4]])"
      ]
     },
     "execution_count": 47,
     "metadata": {},
     "output_type": "execute_result"
    }
   ],
   "source": [
    "a"
   ]
  },
  {
   "cell_type": "code",
   "execution_count": 49,
   "id": "b74221c7",
   "metadata": {},
   "outputs": [
    {
     "data": {
      "text/plain": [
       "array([[1, 2],\n",
       "       [3, 4]])"
      ]
     },
     "execution_count": 49,
     "metadata": {},
     "output_type": "execute_result"
    }
   ],
   "source": [
    "b"
   ]
  },
  {
   "cell_type": "code",
   "execution_count": 51,
   "id": "c4a088a8",
   "metadata": {},
   "outputs": [
    {
     "data": {
      "text/plain": [
       "array([[10,  2]])"
      ]
     },
     "execution_count": 51,
     "metadata": {},
     "output_type": "execute_result"
    }
   ],
   "source": [
    "arr[0:1]"
   ]
  },
  {
   "cell_type": "code",
   "execution_count": 52,
   "id": "fa665162",
   "metadata": {},
   "outputs": [
    {
     "name": "stdout",
     "output_type": "stream",
     "text": [
      "[10  2]\n",
      "[3 4]\n"
     ]
    }
   ],
   "source": [
    "for i in arr:\n",
    "    print(i)"
   ]
  },
  {
   "cell_type": "code",
   "execution_count": 54,
   "id": "dc393b72",
   "metadata": {},
   "outputs": [
    {
     "data": {
      "text/plain": [
       "numpy.ndarray"
      ]
     },
     "execution_count": 54,
     "metadata": {},
     "output_type": "execute_result"
    }
   ],
   "source": [
    "type(np.fromfunction(lambda a,b : a==b,(4,4)))"
   ]
  },
  {
   "cell_type": "code",
   "execution_count": 55,
   "id": "2d23cd50",
   "metadata": {},
   "outputs": [
    {
     "data": {
      "text/plain": [
       "array([[ True, False, False, False],\n",
       "       [False,  True, False, False],\n",
       "       [False, False,  True, False],\n",
       "       [False, False, False,  True]])"
      ]
     },
     "execution_count": 55,
     "metadata": {},
     "output_type": "execute_result"
    }
   ],
   "source": [
    "np.fromfunction(lambda a,b : a==b,(4,4))"
   ]
  },
  {
   "cell_type": "code",
   "execution_count": 56,
   "id": "960e4468",
   "metadata": {},
   "outputs": [
    {
     "data": {
      "text/plain": [
       "array([[0., 0., 0.],\n",
       "       [0., 1., 2.],\n",
       "       [0., 2., 4.]])"
      ]
     },
     "execution_count": 56,
     "metadata": {},
     "output_type": "execute_result"
    }
   ],
   "source": [
    "np.fromfunction(lambda a,b : a*b,(3,3))"
   ]
  },
  {
   "cell_type": "code",
   "execution_count": 57,
   "id": "6ac0daa2",
   "metadata": {},
   "outputs": [
    {
     "data": {
      "text/plain": [
       "array([[1., 0., 0.],\n",
       "       [1., 1., 1.],\n",
       "       [1., 2., 4.]])"
      ]
     },
     "execution_count": 57,
     "metadata": {},
     "output_type": "execute_result"
    }
   ],
   "source": [
    "np.fromfunction(lambda a,b : a**b,(3,3))"
   ]
  },
  {
   "cell_type": "code",
   "execution_count": 58,
   "id": "729ee2d0",
   "metadata": {},
   "outputs": [
    {
     "name": "stderr",
     "output_type": "stream",
     "text": [
      "<ipython-input-58-8132ae125f12>:1: RuntimeWarning: divide by zero encountered in true_divide\n",
      "  np.fromfunction(lambda a,b : a/b,(3,3))\n",
      "<ipython-input-58-8132ae125f12>:1: RuntimeWarning: invalid value encountered in true_divide\n",
      "  np.fromfunction(lambda a,b : a/b,(3,3))\n"
     ]
    },
    {
     "data": {
      "text/plain": [
       "array([[nan, 0. , 0. ],\n",
       "       [inf, 1. , 0.5],\n",
       "       [inf, 2. , 1. ]])"
      ]
     },
     "execution_count": 58,
     "metadata": {},
     "output_type": "execute_result"
    }
   ],
   "source": [
    "np.fromfunction(lambda a,b : a/b,(3,3))"
   ]
  },
  {
   "cell_type": "code",
   "execution_count": 62,
   "id": "a5052f78",
   "metadata": {},
   "outputs": [
    {
     "data": {
      "text/plain": [
       "<generator object <genexpr> at 0x00000216CA098740>"
      ]
     },
     "execution_count": 62,
     "metadata": {},
     "output_type": "execute_result"
    }
   ],
   "source": [
    "gen=(i*i for i in range(5))\n",
    "gen"
   ]
  },
  {
   "cell_type": "code",
   "execution_count": 60,
   "id": "a4c41a14",
   "metadata": {},
   "outputs": [
    {
     "data": {
      "text/plain": [
       "<generator object test at 0x00000216CA098200>"
      ]
     },
     "execution_count": 60,
     "metadata": {},
     "output_type": "execute_result"
    }
   ],
   "source": [
    "def test(x):\n",
    "    yield x\n",
    "\n",
    "test(5)"
   ]
  },
  {
   "cell_type": "code",
   "execution_count": 65,
   "id": "00d9f697",
   "metadata": {},
   "outputs": [
    {
     "data": {
      "text/plain": [
       "array([ 0,  1,  4,  9, 16])"
      ]
     },
     "execution_count": 65,
     "metadata": {},
     "output_type": "execute_result"
    }
   ],
   "source": [
    "np.fromiter(gen,dtype=int)"
   ]
  },
  {
   "cell_type": "code",
   "execution_count": 66,
   "id": "ac3999ee",
   "metadata": {},
   "outputs": [
    {
     "data": {
      "text/plain": [
       "array([0, 1, 2, 3, 4, 5, 6])"
      ]
     },
     "execution_count": 66,
     "metadata": {},
     "output_type": "execute_result"
    }
   ],
   "source": [
    "np.fromiter(range(7),dtype=int)"
   ]
  },
  {
   "cell_type": "code",
   "execution_count": 67,
   "id": "38a8a4bf",
   "metadata": {},
   "outputs": [
    {
     "data": {
      "text/plain": [
       "array([1, 2, 3, 4, 5, 6])"
      ]
     },
     "execution_count": 67,
     "metadata": {},
     "output_type": "execute_result"
    }
   ],
   "source": [
    "np.fromstring(\"1,2,3,4,5,6\", sep=\",\", dtype=int)"
   ]
  },
  {
   "cell_type": "code",
   "execution_count": 69,
   "id": "ac871854",
   "metadata": {},
   "outputs": [
    {
     "data": {
      "text/plain": [
       "array([1122.+0.j, 3323.+0.j, 4244.+0.j,  542.+0.j, 4236.+0.j])"
      ]
     },
     "execution_count": 69,
     "metadata": {},
     "output_type": "execute_result"
    }
   ],
   "source": [
    "np.fromstring(\"1122 3323 4244 542 4236\", sep=\" \", dtype=complex)"
   ]
  },
  {
   "cell_type": "code",
   "execution_count": 74,
   "id": "dcf5d5ad",
   "metadata": {},
   "outputs": [
    {
     "data": {
      "text/plain": [
       "array([ 0,  1,  4,  9, 16, 25, 36, 49, 64, 81])"
      ]
     },
     "execution_count": 74,
     "metadata": {},
     "output_type": "execute_result"
    }
   ],
   "source": [
    "x=(i**2 for i in range(10))\n",
    "np.fromiter(x, dtype=int)"
   ]
  },
  {
   "cell_type": "code",
   "execution_count": 75,
   "id": "d0d98a9c",
   "metadata": {},
   "outputs": [],
   "source": [
    "l=[3,4,5,6,7]\n",
    "arr=np.array(l)"
   ]
  },
  {
   "cell_type": "code",
   "execution_count": 82,
   "id": "3ba30c3d",
   "metadata": {},
   "outputs": [],
   "source": [
    "arr1=np.array([[1,2,3,4],[5,6,7,8],[0,1,2,3]])"
   ]
  },
  {
   "cell_type": "code",
   "execution_count": 83,
   "id": "a4ab6f23",
   "metadata": {},
   "outputs": [
    {
     "data": {
      "text/plain": [
       "array([[1, 2, 3, 4],\n",
       "       [5, 6, 7, 8],\n",
       "       [0, 1, 2, 3]])"
      ]
     },
     "execution_count": 83,
     "metadata": {},
     "output_type": "execute_result"
    }
   ],
   "source": [
    "arr1"
   ]
  },
  {
   "cell_type": "code",
   "execution_count": 84,
   "id": "45651ae7",
   "metadata": {},
   "outputs": [
    {
     "data": {
      "text/plain": [
       "2"
      ]
     },
     "execution_count": 84,
     "metadata": {},
     "output_type": "execute_result"
    }
   ],
   "source": [
    "arr1.ndim"
   ]
  },
  {
   "cell_type": "code",
   "execution_count": 85,
   "id": "054990ce",
   "metadata": {},
   "outputs": [
    {
     "data": {
      "text/plain": [
       "12"
      ]
     },
     "execution_count": 85,
     "metadata": {},
     "output_type": "execute_result"
    }
   ],
   "source": [
    "arr1.size"
   ]
  },
  {
   "cell_type": "code",
   "execution_count": 86,
   "id": "a4f9ea1c",
   "metadata": {},
   "outputs": [
    {
     "data": {
      "text/plain": [
       "(3, 4)"
      ]
     },
     "execution_count": 86,
     "metadata": {},
     "output_type": "execute_result"
    }
   ],
   "source": [
    "arr1.shape"
   ]
  },
  {
   "cell_type": "code",
   "execution_count": 87,
   "id": "999155a8",
   "metadata": {},
   "outputs": [
    {
     "data": {
      "text/plain": [
       "dtype('int32')"
      ]
     },
     "execution_count": 87,
     "metadata": {},
     "output_type": "execute_result"
    }
   ],
   "source": [
    "arr1.dtype"
   ]
  },
  {
   "cell_type": "code",
   "execution_count": 88,
   "id": "de883f3d",
   "metadata": {},
   "outputs": [
    {
     "data": {
      "text/plain": [
       "3"
      ]
     },
     "execution_count": 88,
     "metadata": {},
     "output_type": "execute_result"
    }
   ],
   "source": [
    "arr.size"
   ]
  },
  {
   "cell_type": "code",
   "execution_count": 89,
   "id": "554bb73f",
   "metadata": {},
   "outputs": [
    {
     "data": {
      "text/plain": [
       "1"
      ]
     },
     "execution_count": 89,
     "metadata": {},
     "output_type": "execute_result"
    }
   ],
   "source": [
    "arr.ndim"
   ]
  },
  {
   "cell_type": "code",
   "execution_count": 93,
   "id": "7a79e8ce",
   "metadata": {},
   "outputs": [
    {
     "data": {
      "text/plain": [
       "dtype('O')"
      ]
     },
     "execution_count": 93,
     "metadata": {},
     "output_type": "execute_result"
    }
   ],
   "source": [
    "arr.dtype"
   ]
  },
  {
   "cell_type": "code",
   "execution_count": 94,
   "id": "e55005af",
   "metadata": {},
   "outputs": [
    {
     "data": {
      "text/plain": [
       "(3,)"
      ]
     },
     "execution_count": 94,
     "metadata": {},
     "output_type": "execute_result"
    }
   ],
   "source": [
    "arr.shape"
   ]
  },
  {
   "cell_type": "code",
   "execution_count": 97,
   "id": "92709f5d",
   "metadata": {},
   "outputs": [],
   "source": [
    "arr2=np.array([[[1,2,3,4],[5,6,7,8]],[[1,2,3,4],[5,6,7,8]]])"
   ]
  },
  {
   "cell_type": "code",
   "execution_count": 98,
   "id": "06b6ff51",
   "metadata": {},
   "outputs": [
    {
     "data": {
      "text/plain": [
       "array([[[1, 2, 3, 4],\n",
       "        [5, 6, 7, 8]],\n",
       "\n",
       "       [[1, 2, 3, 4],\n",
       "        [5, 6, 7, 8]]])"
      ]
     },
     "execution_count": 98,
     "metadata": {},
     "output_type": "execute_result"
    }
   ],
   "source": [
    "arr2"
   ]
  },
  {
   "cell_type": "code",
   "execution_count": 99,
   "id": "0f3bf6b8",
   "metadata": {},
   "outputs": [
    {
     "data": {
      "text/plain": [
       "16"
      ]
     },
     "execution_count": 99,
     "metadata": {},
     "output_type": "execute_result"
    }
   ],
   "source": [
    "arr2.size"
   ]
  },
  {
   "cell_type": "code",
   "execution_count": 100,
   "id": "30cc274d",
   "metadata": {},
   "outputs": [
    {
     "data": {
      "text/plain": [
       "(2, 2, 4)"
      ]
     },
     "execution_count": 100,
     "metadata": {},
     "output_type": "execute_result"
    }
   ],
   "source": [
    "arr2.shape"
   ]
  },
  {
   "cell_type": "code",
   "execution_count": 101,
   "id": "319ef8bd",
   "metadata": {},
   "outputs": [
    {
     "data": {
      "text/plain": [
       "3"
      ]
     },
     "execution_count": 101,
     "metadata": {},
     "output_type": "execute_result"
    }
   ],
   "source": [
    "arr2.ndim"
   ]
  },
  {
   "cell_type": "code",
   "execution_count": 1,
   "id": "fd1c899e",
   "metadata": {},
   "outputs": [
    {
     "data": {
      "application/javascript": [
       "\n",
       "        if (window._pyforest_update_imports_cell) { window._pyforest_update_imports_cell('import numpy as np'); }\n",
       "    "
      ],
      "text/plain": [
       "<IPython.core.display.Javascript object>"
      ]
     },
     "metadata": {},
     "output_type": "display_data"
    }
   ],
   "source": [
    "arr4=np.array([[[[1,2,3,4],[5,6,7,8]],[[1,2,3,4],[5,6,7,8]],[[1,2,3,4],[5,6,7,8]],[[1,2,3,4],[5,6,7,8]]]])"
   ]
  },
  {
   "cell_type": "code",
   "execution_count": 2,
   "id": "f95826ac",
   "metadata": {},
   "outputs": [
    {
     "data": {
      "text/plain": [
       "array([[[[1, 2, 3, 4],\n",
       "         [5, 6, 7, 8]],\n",
       "\n",
       "        [[1, 2, 3, 4],\n",
       "         [5, 6, 7, 8]],\n",
       "\n",
       "        [[1, 2, 3, 4],\n",
       "         [5, 6, 7, 8]],\n",
       "\n",
       "        [[1, 2, 3, 4],\n",
       "         [5, 6, 7, 8]]]])"
      ]
     },
     "execution_count": 2,
     "metadata": {},
     "output_type": "execute_result"
    }
   ],
   "source": [
    "arr4"
   ]
  },
  {
   "cell_type": "code",
   "execution_count": 4,
   "id": "26bbcc3e",
   "metadata": {},
   "outputs": [
    {
     "data": {
      "text/plain": [
       "(1, 4, 2, 4)"
      ]
     },
     "execution_count": 4,
     "metadata": {},
     "output_type": "execute_result"
    }
   ],
   "source": [
    "arr4.shape"
   ]
  },
  {
   "cell_type": "code",
   "execution_count": 5,
   "id": "f38a51db",
   "metadata": {},
   "outputs": [
    {
     "data": {
      "text/plain": [
       "4"
      ]
     },
     "execution_count": 5,
     "metadata": {},
     "output_type": "execute_result"
    }
   ],
   "source": [
    "arr4.ndim"
   ]
  },
  {
   "cell_type": "code",
   "execution_count": 7,
   "id": "ea890171",
   "metadata": {},
   "outputs": [
    {
     "data": {
      "text/plain": [
       "[0, 1, 2, 3, 4, 5]"
      ]
     },
     "execution_count": 7,
     "metadata": {},
     "output_type": "execute_result"
    }
   ],
   "source": [
    "list(range(6))"
   ]
  },
  {
   "cell_type": "code",
   "execution_count": 11,
   "id": "d78c781c",
   "metadata": {},
   "outputs": [
    {
     "data": {
      "application/javascript": [
       "\n",
       "        if (window._pyforest_update_imports_cell) { window._pyforest_update_imports_cell('import numpy as np'); }\n",
       "    "
      ],
      "text/plain": [
       "<IPython.core.display.Javascript object>"
      ]
     },
     "metadata": {},
     "output_type": "display_data"
    },
    {
     "data": {
      "text/plain": [
       "array([5.5, 5.7, 5.9, 6.1, 6.3, 6.5, 6.7, 6.9, 7.1, 7.3, 7.5, 7.7, 7.9])"
      ]
     },
     "execution_count": 11,
     "metadata": {},
     "output_type": "execute_result"
    }
   ],
   "source": [
    "np.arange(5.5,8,.2)"
   ]
  },
  {
   "cell_type": "code",
   "execution_count": 12,
   "id": "7360a695",
   "metadata": {},
   "outputs": [
    {
     "data": {
      "application/javascript": [
       "\n",
       "        if (window._pyforest_update_imports_cell) { window._pyforest_update_imports_cell('import numpy as np'); }\n",
       "    "
      ],
      "text/plain": [
       "<IPython.core.display.Javascript object>"
      ]
     },
     "metadata": {},
     "output_type": "display_data"
    },
    {
     "data": {
      "text/plain": [
       "array([1.  , 1.25, 1.5 , 1.75, 2.  ])"
      ]
     },
     "execution_count": 12,
     "metadata": {},
     "output_type": "execute_result"
    }
   ],
   "source": [
    "np.linspace(1,2,5)"
   ]
  },
  {
   "cell_type": "code",
   "execution_count": 16,
   "id": "402826fa",
   "metadata": {},
   "outputs": [
    {
     "data": {
      "application/javascript": [
       "\n",
       "        if (window._pyforest_update_imports_cell) { window._pyforest_update_imports_cell('import numpy as np'); }\n",
       "    "
      ],
      "text/plain": [
       "<IPython.core.display.Javascript object>"
      ]
     },
     "metadata": {},
     "output_type": "display_data"
    },
    {
     "data": {
      "text/plain": [
       "array([0., 0., 0., 0., 0.])"
      ]
     },
     "execution_count": 16,
     "metadata": {},
     "output_type": "execute_result"
    }
   ],
   "source": [
    "np.zeros(5)"
   ]
  },
  {
   "cell_type": "code",
   "execution_count": 17,
   "id": "ede0b9bb",
   "metadata": {},
   "outputs": [
    {
     "data": {
      "application/javascript": [
       "\n",
       "        if (window._pyforest_update_imports_cell) { window._pyforest_update_imports_cell('import numpy as np'); }\n",
       "    "
      ],
      "text/plain": [
       "<IPython.core.display.Javascript object>"
      ]
     },
     "metadata": {},
     "output_type": "display_data"
    },
    {
     "data": {
      "text/plain": [
       "array([[0., 0., 0., 0.],\n",
       "       [0., 0., 0., 0.],\n",
       "       [0., 0., 0., 0.],\n",
       "       [0., 0., 0., 0.],\n",
       "       [0., 0., 0., 0.]])"
      ]
     },
     "execution_count": 17,
     "metadata": {},
     "output_type": "execute_result"
    }
   ],
   "source": [
    "np.zeros((5,4))"
   ]
  },
  {
   "cell_type": "code",
   "execution_count": 18,
   "id": "1c5808a7",
   "metadata": {},
   "outputs": [
    {
     "data": {
      "application/javascript": [
       "\n",
       "        if (window._pyforest_update_imports_cell) { window._pyforest_update_imports_cell('import numpy as np'); }\n",
       "    "
      ],
      "text/plain": [
       "<IPython.core.display.Javascript object>"
      ]
     },
     "metadata": {},
     "output_type": "display_data"
    },
    {
     "data": {
      "text/plain": [
       "array([[[0., 0., 0., 0.],\n",
       "        [0., 0., 0., 0.],\n",
       "        [0., 0., 0., 0.],\n",
       "        [0., 0., 0., 0.],\n",
       "        [0., 0., 0., 0.]],\n",
       "\n",
       "       [[0., 0., 0., 0.],\n",
       "        [0., 0., 0., 0.],\n",
       "        [0., 0., 0., 0.],\n",
       "        [0., 0., 0., 0.],\n",
       "        [0., 0., 0., 0.]]])"
      ]
     },
     "execution_count": 18,
     "metadata": {},
     "output_type": "execute_result"
    }
   ],
   "source": [
    "np.zeros((2,5,4))"
   ]
  },
  {
   "cell_type": "code",
   "execution_count": 19,
   "id": "5f9fe7dc",
   "metadata": {},
   "outputs": [
    {
     "data": {
      "application/javascript": [
       "\n",
       "        if (window._pyforest_update_imports_cell) { window._pyforest_update_imports_cell('import numpy as np'); }\n",
       "    "
      ],
      "text/plain": [
       "<IPython.core.display.Javascript object>"
      ]
     },
     "metadata": {},
     "output_type": "display_data"
    },
    {
     "data": {
      "text/plain": [
       "array([[[[0.],\n",
       "         [0.],\n",
       "         [0.],\n",
       "         [0.]],\n",
       "\n",
       "        [[0.],\n",
       "         [0.],\n",
       "         [0.],\n",
       "         [0.]],\n",
       "\n",
       "        [[0.],\n",
       "         [0.],\n",
       "         [0.],\n",
       "         [0.]],\n",
       "\n",
       "        [[0.],\n",
       "         [0.],\n",
       "         [0.],\n",
       "         [0.]],\n",
       "\n",
       "        [[0.],\n",
       "         [0.],\n",
       "         [0.],\n",
       "         [0.]]],\n",
       "\n",
       "\n",
       "       [[[0.],\n",
       "         [0.],\n",
       "         [0.],\n",
       "         [0.]],\n",
       "\n",
       "        [[0.],\n",
       "         [0.],\n",
       "         [0.],\n",
       "         [0.]],\n",
       "\n",
       "        [[0.],\n",
       "         [0.],\n",
       "         [0.],\n",
       "         [0.]],\n",
       "\n",
       "        [[0.],\n",
       "         [0.],\n",
       "         [0.],\n",
       "         [0.]],\n",
       "\n",
       "        [[0.],\n",
       "         [0.],\n",
       "         [0.],\n",
       "         [0.]]]])"
      ]
     },
     "execution_count": 19,
     "metadata": {},
     "output_type": "execute_result"
    }
   ],
   "source": [
    "np.zeros((2,5,4,1))"
   ]
  },
  {
   "cell_type": "code",
   "execution_count": 20,
   "id": "eb9bca51",
   "metadata": {},
   "outputs": [
    {
     "data": {
      "application/javascript": [
       "\n",
       "        if (window._pyforest_update_imports_cell) { window._pyforest_update_imports_cell('import numpy as np'); }\n",
       "    "
      ],
      "text/plain": [
       "<IPython.core.display.Javascript object>"
      ]
     },
     "metadata": {},
     "output_type": "display_data"
    },
    {
     "data": {
      "text/plain": [
       "array([1., 1., 1., 1.])"
      ]
     },
     "execution_count": 20,
     "metadata": {},
     "output_type": "execute_result"
    }
   ],
   "source": [
    "np.ones(4)"
   ]
  },
  {
   "cell_type": "code",
   "execution_count": 22,
   "id": "c5852e1b",
   "metadata": {
    "scrolled": true
   },
   "outputs": [
    {
     "data": {
      "application/javascript": [
       "\n",
       "        if (window._pyforest_update_imports_cell) { window._pyforest_update_imports_cell('import numpy as np'); }\n",
       "    "
      ],
      "text/plain": [
       "<IPython.core.display.Javascript object>"
      ]
     },
     "metadata": {},
     "output_type": "display_data"
    },
    {
     "data": {
      "text/plain": [
       "array([[[6., 6., 6., 6.],\n",
       "        [6., 6., 6., 6.],\n",
       "        [6., 6., 6., 6.],\n",
       "        [6., 6., 6., 6.],\n",
       "        [6., 6., 6., 6.]],\n",
       "\n",
       "       [[6., 6., 6., 6.],\n",
       "        [6., 6., 6., 6.],\n",
       "        [6., 6., 6., 6.],\n",
       "        [6., 6., 6., 6.],\n",
       "        [6., 6., 6., 6.]]])"
      ]
     },
     "execution_count": 22,
     "metadata": {},
     "output_type": "execute_result"
    }
   ],
   "source": [
    "np.ones((2,5,4))+5"
   ]
  },
  {
   "cell_type": "code",
   "execution_count": 24,
   "id": "48e3cf94",
   "metadata": {},
   "outputs": [
    {
     "data": {
      "application/javascript": [
       "\n",
       "        if (window._pyforest_update_imports_cell) { window._pyforest_update_imports_cell('import numpy as np'); }\n",
       "    "
      ],
      "text/plain": [
       "<IPython.core.display.Javascript object>"
      ]
     },
     "metadata": {},
     "output_type": "display_data"
    },
    {
     "data": {
      "text/plain": [
       "array([7.74860419e-304, 7.74860419e-304, 7.74860419e-304, 7.74860419e-304,\n",
       "       7.74860419e-304])"
      ]
     },
     "execution_count": 24,
     "metadata": {},
     "output_type": "execute_result"
    }
   ],
   "source": [
    "np.empty(5)"
   ]
  },
  {
   "cell_type": "code",
   "execution_count": 23,
   "id": "8afd2c33",
   "metadata": {},
   "outputs": [
    {
     "data": {
      "application/javascript": [
       "\n",
       "        if (window._pyforest_update_imports_cell) { window._pyforest_update_imports_cell('import numpy as np'); }\n",
       "    "
      ],
      "text/plain": [
       "<IPython.core.display.Javascript object>"
      ]
     },
     "metadata": {},
     "output_type": "display_data"
    },
    {
     "data": {
      "text/plain": [
       "array([[1.11950156e-311, 3.16202013e-322, 0.00000000e+000,\n",
       "        0.00000000e+000],\n",
       "       [0.00000000e+000, 5.93280795e-038, 6.95657770e-042,\n",
       "        1.03176206e+166],\n",
       "       [4.31016816e-033, 1.47835206e+185, 2.14753996e+184,\n",
       "        5.19908191e+170]])"
      ]
     },
     "execution_count": 23,
     "metadata": {},
     "output_type": "execute_result"
    }
   ],
   "source": [
    "np.empty((3,4))"
   ]
  },
  {
   "cell_type": "code",
   "execution_count": 27,
   "id": "626eeeda",
   "metadata": {},
   "outputs": [
    {
     "data": {
      "application/javascript": [
       "\n",
       "        if (window._pyforest_update_imports_cell) { window._pyforest_update_imports_cell('import numpy as np'); }\n",
       "    "
      ],
      "text/plain": [
       "<IPython.core.display.Javascript object>"
      ]
     },
     "metadata": {},
     "output_type": "display_data"
    },
    {
     "data": {
      "text/plain": [
       "array([[1., 0., 0., 0.],\n",
       "       [0., 1., 0., 0.],\n",
       "       [0., 0., 1., 0.],\n",
       "       [0., 0., 0., 1.]])"
      ]
     },
     "execution_count": 27,
     "metadata": {},
     "output_type": "execute_result"
    }
   ],
   "source": [
    "np.eye(4) #identity matrix"
   ]
  },
  {
   "cell_type": "code",
   "execution_count": 32,
   "id": "9f472e6a",
   "metadata": {},
   "outputs": [
    {
     "data": {
      "application/javascript": [
       "\n",
       "        if (window._pyforest_update_imports_cell) { window._pyforest_update_imports_cell('import numpy as np'); }\n",
       "    "
      ],
      "text/plain": [
       "<IPython.core.display.Javascript object>"
      ]
     },
     "metadata": {},
     "output_type": "display_data"
    },
    {
     "data": {
      "text/plain": [
       "array([[2.  , 2.04, 2.08, 2.12, 2.16, 2.2 , 2.24, 2.28, 2.32, 2.36, 2.4 ,\n",
       "        2.44, 2.48, 2.52, 2.56, 2.6 , 2.64, 2.68, 2.72, 2.76, 2.8 , 2.84,\n",
       "        2.88, 2.92, 2.96, 3.  , 3.04, 3.08, 3.12, 3.16, 3.2 , 3.24, 3.28,\n",
       "        3.32, 3.36, 3.4 , 3.44, 3.48, 3.52, 3.56, 3.6 , 3.64, 3.68, 3.72,\n",
       "        3.76, 3.8 , 3.84, 3.88, 3.92, 3.96],\n",
       "       [4.  , 4.  , 4.  , 4.  , 4.  , 4.  , 4.  , 4.  , 4.  , 4.  , 4.  ,\n",
       "        4.  , 4.  , 4.  , 4.  , 4.  , 4.  , 4.  , 4.  , 4.  , 4.  , 4.  ,\n",
       "        4.  , 4.  , 4.  , 4.  , 4.  , 4.  , 4.  , 4.  , 4.  , 4.  , 4.  ,\n",
       "        4.  , 4.  , 4.  , 4.  , 4.  , 4.  , 4.  , 4.  , 4.  , 4.  , 4.  ,\n",
       "        4.  , 4.  , 4.  , 4.  , 4.  , 4.  ]])"
      ]
     },
     "execution_count": 32,
     "metadata": {},
     "output_type": "execute_result"
    }
   ],
   "source": [
    "np.linspace([2,4],4,endpoint=False,axis=1)"
   ]
  },
  {
   "cell_type": "code",
   "execution_count": 36,
   "id": "e4aefa11",
   "metadata": {},
   "outputs": [
    {
     "data": {
      "application/javascript": [
       "\n",
       "        if (window._pyforest_update_imports_cell) { window._pyforest_update_imports_cell('import numpy as np'); }\n",
       "    "
      ],
      "text/plain": [
       "<IPython.core.display.Javascript object>"
      ]
     },
     "metadata": {},
     "output_type": "display_data"
    },
    {
     "data": {
      "text/plain": [
       "array([[   100.        ,    115.13953993,    132.57113656,\n",
       "           152.64179672,    175.75106249,    202.35896477,\n",
       "           232.99518105,    268.26957953,    308.88435965,\n",
       "           355.64803062,    409.49150624,    471.48663635,\n",
       "           542.86754393,    625.05519253,    719.685673  ,\n",
       "           828.64277285,    954.09547635,   1098.54114199,\n",
       "          1264.85521686,   1456.3484775 ,   1676.83293681,\n",
       "          1930.69772888,   2222.99648253,   2559.5479227 ,\n",
       "          2947.05170255,   3393.2217719 ,   3906.93993705,\n",
       "          4498.43266897,   5179.47467923,   5963.62331659,\n",
       "          6866.48845004,   7906.04321091,   9102.98177992,\n",
       "         10481.13134155,  12067.92640639,  13894.95494373,\n",
       "         15998.58719606,  18420.69969327,  21209.5088792 ,\n",
       "         24420.53094549,  28117.68697974,  32374.57542818,\n",
       "         37275.93720315,  42919.34260129,  49417.13361324,\n",
       "         56898.66029018,  65512.85568596,  75431.20063355,\n",
       "         86851.13737514, 100000.        ],\n",
       "       [  1000.        ,   1098.54114199,   1206.79264064,\n",
       "          1325.71136559,   1456.3484775 ,   1599.85871961,\n",
       "          1757.51062485,   1930.69772888,   2120.95088792,\n",
       "          2329.95181052,   2559.5479227 ,   2811.76869797,\n",
       "          3088.84359648,   3393.2217719 ,   3727.59372031,\n",
       "          4094.91506238,   4498.43266897,   4941.71336132,\n",
       "          5428.67543932,   5963.62331659,   6551.2855686 ,\n",
       "          7196.85673001,   7906.04321091,   8685.11373751,\n",
       "          9540.9547635 ,  10481.13134155,  11513.95399326,\n",
       "         12648.55216855,  13894.95494373,  15264.17967175,\n",
       "         16768.32936811,  18420.69969327,  20235.89647725,\n",
       "         22229.96482526,  24420.53094549,  26826.9579528 ,\n",
       "         29470.51702552,  32374.57542818,  35564.80306223,\n",
       "         39069.39937055,  42919.34260129,  47148.66363457,\n",
       "         51794.74679231,  56898.66029018,  62505.51925274,\n",
       "         68664.88450043,  75431.20063355,  82864.27728547,\n",
       "         91029.81779915, 100000.        ]])"
      ]
     },
     "execution_count": 36,
     "metadata": {},
     "output_type": "execute_result"
    }
   ],
   "source": [
    "np.logspace([2,3],5,axis=1)"
   ]
  },
  {
   "cell_type": "code",
   "execution_count": 38,
   "id": "06536e1d",
   "metadata": {},
   "outputs": [
    {
     "data": {
      "application/javascript": [
       "\n",
       "        if (window._pyforest_update_imports_cell) { window._pyforest_update_imports_cell('import numpy as np'); }\n",
       "    "
      ],
      "text/plain": [
       "<IPython.core.display.Javascript object>"
      ]
     },
     "metadata": {},
     "output_type": "display_data"
    },
    {
     "data": {
      "text/plain": [
       "array([4.        , 4.07692308, 4.15384615, 4.23076923, 4.30769231,\n",
       "       4.38461538, 4.46153846, 4.53846154, 4.61538462, 4.69230769,\n",
       "       4.76923077, 4.84615385, 4.92307692, 5.        , 5.07692308,\n",
       "       5.15384615, 5.23076923, 5.30769231, 5.38461538, 5.46153846,\n",
       "       5.53846154, 5.61538462, 5.69230769, 5.76923077, 5.84615385,\n",
       "       5.92307692, 6.        , 6.07692308, 6.15384615, 6.23076923,\n",
       "       6.30769231, 6.38461538, 6.46153846, 6.53846154, 6.61538462,\n",
       "       6.69230769, 6.76923077, 6.84615385, 6.92307692, 7.        ])"
      ]
     },
     "execution_count": 38,
     "metadata": {},
     "output_type": "execute_result"
    }
   ],
   "source": [
    "d=np.linspace(4,7,40)\n",
    "d"
   ]
  },
  {
   "cell_type": "code",
   "execution_count": 39,
   "id": "3b30305c",
   "metadata": {},
   "outputs": [
    {
     "data": {
      "text/plain": [
       "1"
      ]
     },
     "execution_count": 39,
     "metadata": {},
     "output_type": "execute_result"
    }
   ],
   "source": [
    "d.ndim"
   ]
  },
  {
   "cell_type": "code",
   "execution_count": 40,
   "id": "12e6f3bf",
   "metadata": {},
   "outputs": [
    {
     "data": {
      "text/plain": [
       "(40,)"
      ]
     },
     "execution_count": 40,
     "metadata": {},
     "output_type": "execute_result"
    }
   ],
   "source": [
    "d.shape"
   ]
  },
  {
   "cell_type": "code",
   "execution_count": 42,
   "id": "bd206111",
   "metadata": {},
   "outputs": [
    {
     "data": {
      "text/plain": [
       "array([[4.        ],\n",
       "       [4.07692308],\n",
       "       [4.15384615],\n",
       "       [4.23076923],\n",
       "       [4.30769231],\n",
       "       [4.38461538],\n",
       "       [4.46153846],\n",
       "       [4.53846154],\n",
       "       [4.61538462],\n",
       "       [4.69230769],\n",
       "       [4.76923077],\n",
       "       [4.84615385],\n",
       "       [4.92307692],\n",
       "       [5.        ],\n",
       "       [5.07692308],\n",
       "       [5.15384615],\n",
       "       [5.23076923],\n",
       "       [5.30769231],\n",
       "       [5.38461538],\n",
       "       [5.46153846],\n",
       "       [5.53846154],\n",
       "       [5.61538462],\n",
       "       [5.69230769],\n",
       "       [5.76923077],\n",
       "       [5.84615385],\n",
       "       [5.92307692],\n",
       "       [6.        ],\n",
       "       [6.07692308],\n",
       "       [6.15384615],\n",
       "       [6.23076923],\n",
       "       [6.30769231],\n",
       "       [6.38461538],\n",
       "       [6.46153846],\n",
       "       [6.53846154],\n",
       "       [6.61538462],\n",
       "       [6.69230769],\n",
       "       [6.76923077],\n",
       "       [6.84615385],\n",
       "       [6.92307692],\n",
       "       [7.        ]])"
      ]
     },
     "execution_count": 42,
     "metadata": {},
     "output_type": "execute_result"
    }
   ],
   "source": [
    "d.reshape(40,1)"
   ]
  },
  {
   "cell_type": "code",
   "execution_count": 45,
   "id": "20613bd1",
   "metadata": {},
   "outputs": [
    {
     "ename": "ValueError",
     "evalue": "cannot reshape array of size 40 into shape (3,2,1,20)",
     "output_type": "error",
     "traceback": [
      "\u001b[1;31m---------------------------------------------------------------------------\u001b[0m",
      "\u001b[1;31mValueError\u001b[0m                                Traceback (most recent call last)",
      "\u001b[1;32m<ipython-input-45-1a904ca59e03>\u001b[0m in \u001b[0;36m<module>\u001b[1;34m\u001b[0m\n\u001b[1;32m----> 1\u001b[1;33m \u001b[0md\u001b[0m\u001b[1;33m.\u001b[0m\u001b[0mreshape\u001b[0m\u001b[1;33m(\u001b[0m\u001b[1;36m3\u001b[0m\u001b[1;33m,\u001b[0m\u001b[1;36m2\u001b[0m\u001b[1;33m,\u001b[0m\u001b[1;36m1\u001b[0m\u001b[1;33m,\u001b[0m\u001b[1;36m20\u001b[0m\u001b[1;33m)\u001b[0m\u001b[1;33m\u001b[0m\u001b[1;33m\u001b[0m\u001b[0m\n\u001b[0m",
      "\u001b[1;31mValueError\u001b[0m: cannot reshape array of size 40 into shape (3,2,1,20)"
     ]
    }
   ],
   "source": [
    "d.reshape(3,2,1,20)"
   ]
  },
  {
   "cell_type": "code",
   "execution_count": 47,
   "id": "097c2a01",
   "metadata": {},
   "outputs": [
    {
     "data": {
      "text/plain": [
       "array([[[4.        , 4.07692308, 4.15384615, 4.23076923, 4.30769231,\n",
       "         4.38461538, 4.46153846, 4.53846154, 4.61538462, 4.69230769],\n",
       "        [4.76923077, 4.84615385, 4.92307692, 5.        , 5.07692308,\n",
       "         5.15384615, 5.23076923, 5.30769231, 5.38461538, 5.46153846],\n",
       "        [5.53846154, 5.61538462, 5.69230769, 5.76923077, 5.84615385,\n",
       "         5.92307692, 6.        , 6.07692308, 6.15384615, 6.23076923],\n",
       "        [6.30769231, 6.38461538, 6.46153846, 6.53846154, 6.61538462,\n",
       "         6.69230769, 6.76923077, 6.84615385, 6.92307692, 7.        ]]])"
      ]
     },
     "execution_count": 47,
     "metadata": {},
     "output_type": "execute_result"
    }
   ],
   "source": [
    "d.reshape(1,4,10)"
   ]
  },
  {
   "cell_type": "code",
   "execution_count": 48,
   "id": "8b269c4a",
   "metadata": {},
   "outputs": [
    {
     "data": {
      "application/javascript": [
       "\n",
       "        if (window._pyforest_update_imports_cell) { window._pyforest_update_imports_cell('import numpy as np'); }\n",
       "    "
      ],
      "text/plain": [
       "<IPython.core.display.Javascript object>"
      ]
     },
     "metadata": {},
     "output_type": "display_data"
    },
    {
     "data": {
      "text/plain": [
       "array([0.35220924, 0.71334364, 0.49094134])"
      ]
     },
     "execution_count": 48,
     "metadata": {},
     "output_type": "execute_result"
    }
   ],
   "source": [
    "np.random.rand(3)"
   ]
  },
  {
   "cell_type": "code",
   "execution_count": 50,
   "id": "2b42574d",
   "metadata": {},
   "outputs": [
    {
     "data": {
      "application/javascript": [
       "\n",
       "        if (window._pyforest_update_imports_cell) { window._pyforest_update_imports_cell('import numpy as np'); }\n",
       "    "
      ],
      "text/plain": [
       "<IPython.core.display.Javascript object>"
      ]
     },
     "metadata": {},
     "output_type": "display_data"
    },
    {
     "data": {
      "text/plain": [
       "array([[[ 1.13238685,  0.00863861,  0.66729634],\n",
       "        [ 0.61589774, -0.10946501,  1.32862777]],\n",
       "\n",
       "       [[ 0.19344705, -1.22989844,  0.36156401],\n",
       "        [ 1.59593181,  0.72791078,  1.6194762 ]]])"
      ]
     },
     "execution_count": 50,
     "metadata": {},
     "output_type": "execute_result"
    }
   ],
   "source": [
    "np.random.randn(2,2,3)"
   ]
  },
  {
   "cell_type": "code",
   "execution_count": 58,
   "id": "b3f38f72",
   "metadata": {},
   "outputs": [
    {
     "data": {
      "application/javascript": [
       "\n",
       "        if (window._pyforest_update_imports_cell) { window._pyforest_update_imports_cell('import numpy as np'); }\n",
       "    "
      ],
      "text/plain": [
       "<IPython.core.display.Javascript object>"
      ]
     },
     "metadata": {},
     "output_type": "display_data"
    },
    {
     "data": {
      "text/plain": [
       "array([[6, 7, 6, 6],\n",
       "       [7, 5, 3, 8],\n",
       "       [1, 9, 4, 4],\n",
       "       [5, 9, 3, 3]])"
      ]
     },
     "execution_count": 58,
     "metadata": {},
     "output_type": "execute_result"
    }
   ],
   "source": [
    "np.random.randint(1,10,(4,4))"
   ]
  },
  {
   "cell_type": "code",
   "execution_count": 59,
   "id": "53dc5471",
   "metadata": {},
   "outputs": [
    {
     "data": {
      "application/javascript": [
       "\n",
       "        if (window._pyforest_update_imports_cell) { window._pyforest_update_imports_cell('import numpy as np'); }\n",
       "    "
      ],
      "text/plain": [
       "<IPython.core.display.Javascript object>"
      ]
     },
     "metadata": {},
     "output_type": "display_data"
    }
   ],
   "source": [
    "arr=np.random.randint(3,9,(3,3))"
   ]
  },
  {
   "cell_type": "code",
   "execution_count": 60,
   "id": "af14b974",
   "metadata": {},
   "outputs": [
    {
     "data": {
      "text/plain": [
       "array([[8, 7, 5],\n",
       "       [6, 6, 5],\n",
       "       [7, 4, 5]])"
      ]
     },
     "execution_count": 60,
     "metadata": {},
     "output_type": "execute_result"
    }
   ],
   "source": [
    "arr"
   ]
  },
  {
   "cell_type": "code",
   "execution_count": 63,
   "id": "1022203d",
   "metadata": {},
   "outputs": [
    {
     "data": {
      "text/plain": [
       "array([[8],\n",
       "       [7],\n",
       "       [5],\n",
       "       [6],\n",
       "       [6],\n",
       "       [5],\n",
       "       [7],\n",
       "       [4],\n",
       "       [5]])"
      ]
     },
     "execution_count": 63,
     "metadata": {},
     "output_type": "execute_result"
    }
   ],
   "source": [
    "arr.reshape(9,1)"
   ]
  },
  {
   "cell_type": "code",
   "execution_count": 62,
   "id": "c4dbb3ec",
   "metadata": {},
   "outputs": [
    {
     "data": {
      "text/plain": [
       "array([[[8, 7, 5, 6, 6, 5, 7, 4, 5]]])"
      ]
     },
     "execution_count": 62,
     "metadata": {},
     "output_type": "execute_result"
    }
   ],
   "source": [
    "arr.reshape(1,1,9)"
   ]
  },
  {
   "cell_type": "code",
   "execution_count": 64,
   "id": "1d6dc02f",
   "metadata": {},
   "outputs": [
    {
     "data": {
      "text/plain": [
       "array([[[8],\n",
       "        [7],\n",
       "        [5]],\n",
       "\n",
       "       [[6],\n",
       "        [6],\n",
       "        [5]],\n",
       "\n",
       "       [[7],\n",
       "        [4],\n",
       "        [5]]])"
      ]
     },
     "execution_count": 64,
     "metadata": {},
     "output_type": "execute_result"
    }
   ],
   "source": [
    "arr.reshape(3,3,1)"
   ]
  },
  {
   "cell_type": "code",
   "execution_count": 69,
   "id": "38a15cda",
   "metadata": {},
   "outputs": [
    {
     "data": {
      "text/plain": [
       "array([[8, 7, 5],\n",
       "       [6, 6, 5],\n",
       "       [7, 4, 5]])"
      ]
     },
     "execution_count": 69,
     "metadata": {},
     "output_type": "execute_result"
    }
   ],
   "source": [
    "arr.reshape(3,-189724398)"
   ]
  },
  {
   "cell_type": "code",
   "execution_count": 67,
   "id": "e37a2629",
   "metadata": {},
   "outputs": [
    {
     "data": {
      "text/plain": [
       "array([[8, 7, 5, 6, 6, 5, 7, 4, 5]])"
      ]
     },
     "execution_count": 67,
     "metadata": {},
     "output_type": "execute_result"
    }
   ],
   "source": [
    "arr.reshape(1,-1)"
   ]
  },
  {
   "cell_type": "code",
   "execution_count": 70,
   "id": "77632c3a",
   "metadata": {},
   "outputs": [
    {
     "data": {
      "text/plain": [
       "8"
      ]
     },
     "execution_count": 70,
     "metadata": {},
     "output_type": "execute_result"
    }
   ],
   "source": [
    "arr.max()"
   ]
  },
  {
   "cell_type": "code",
   "execution_count": 71,
   "id": "db59b1df",
   "metadata": {},
   "outputs": [
    {
     "data": {
      "text/plain": [
       "4"
      ]
     },
     "execution_count": 71,
     "metadata": {},
     "output_type": "execute_result"
    }
   ],
   "source": [
    "arr.min()"
   ]
  },
  {
   "cell_type": "code",
   "execution_count": 76,
   "id": "fa3a0be3",
   "metadata": {},
   "outputs": [
    {
     "data": {
      "application/javascript": [
       "\n",
       "        if (window._pyforest_update_imports_cell) { window._pyforest_update_imports_cell('import numpy as np'); }\n",
       "    "
      ],
      "text/plain": [
       "<IPython.core.display.Javascript object>"
      ]
     },
     "metadata": {},
     "output_type": "display_data"
    },
    {
     "data": {
      "application/javascript": [
       "\n",
       "        if (window._pyforest_update_imports_cell) { window._pyforest_update_imports_cell('import numpy as np'); }\n",
       "    "
      ],
      "text/plain": [
       "<IPython.core.display.Javascript object>"
      ]
     },
     "metadata": {},
     "output_type": "display_data"
    }
   ],
   "source": [
    "np.random.seed(1)\n",
    "arr=np.random.randint(4,100,(5,5))"
   ]
  },
  {
   "cell_type": "code",
   "execution_count": 77,
   "id": "b242cec0",
   "metadata": {},
   "outputs": [
    {
     "data": {
      "text/plain": [
       "array([[41, 16, 76, 13, 79],\n",
       "       [ 9, 83, 68, 20,  5],\n",
       "       [80, 75, 10, 29, 54],\n",
       "       [24, 22, 88, 15, 32],\n",
       "       [33, 18, 54, 72, 91]])"
      ]
     },
     "execution_count": 77,
     "metadata": {},
     "output_type": "execute_result"
    }
   ],
   "source": [
    "arr"
   ]
  },
  {
   "cell_type": "code",
   "execution_count": 92,
   "id": "e0cc4763",
   "metadata": {},
   "outputs": [
    {
     "data": {
      "text/plain": [
       "array([[16, 13],\n",
       "       [83, 20],\n",
       "       [75, 29],\n",
       "       [22, 15],\n",
       "       [18, 72]])"
      ]
     },
     "execution_count": 92,
     "metadata": {},
     "output_type": "execute_result"
    }
   ],
   "source": [
    "arr[0:,[1,3]]"
   ]
  },
  {
   "cell_type": "code",
   "execution_count": 94,
   "id": "51d0607e",
   "metadata": {},
   "outputs": [
    {
     "data": {
      "text/plain": [
       "array([41, 16, 76, 13, 79, 83, 68, 20, 80, 75, 29, 54, 24, 22, 88, 15, 32,\n",
       "       33, 18, 54, 72, 91])"
      ]
     },
     "execution_count": 94,
     "metadata": {},
     "output_type": "execute_result"
    }
   ],
   "source": [
    "arr[arr>10]"
   ]
  },
  {
   "cell_type": "code",
   "execution_count": 95,
   "id": "70f66be8",
   "metadata": {},
   "outputs": [
    {
     "data": {
      "application/javascript": [
       "\n",
       "        if (window._pyforest_update_imports_cell) { window._pyforest_update_imports_cell('import numpy as np'); }\n",
       "    "
      ],
      "text/plain": [
       "<IPython.core.display.Javascript object>"
      ]
     },
     "metadata": {},
     "output_type": "display_data"
    }
   ],
   "source": [
    "arr1=np.random.randint(2,4,(3,3))"
   ]
  },
  {
   "cell_type": "code",
   "execution_count": 96,
   "id": "e3b4db3e",
   "metadata": {},
   "outputs": [
    {
     "data": {
      "application/javascript": [
       "\n",
       "        if (window._pyforest_update_imports_cell) { window._pyforest_update_imports_cell('import numpy as np'); }\n",
       "    "
      ],
      "text/plain": [
       "<IPython.core.display.Javascript object>"
      ]
     },
     "metadata": {},
     "output_type": "display_data"
    }
   ],
   "source": [
    "arr2=np.random.randint(2,4,(3,3))"
   ]
  },
  {
   "cell_type": "code",
   "execution_count": 97,
   "id": "02e11e34",
   "metadata": {},
   "outputs": [
    {
     "data": {
      "text/plain": [
       "array([[3, 3, 3],\n",
       "       [3, 2, 2],\n",
       "       [2, 3, 3]])"
      ]
     },
     "execution_count": 97,
     "metadata": {},
     "output_type": "execute_result"
    }
   ],
   "source": [
    "arr1"
   ]
  },
  {
   "cell_type": "code",
   "execution_count": 98,
   "id": "8c35cbfb",
   "metadata": {},
   "outputs": [
    {
     "data": {
      "text/plain": [
       "array([[3, 3, 3],\n",
       "       [3, 2, 3],\n",
       "       [3, 2, 2]])"
      ]
     },
     "execution_count": 98,
     "metadata": {},
     "output_type": "execute_result"
    }
   ],
   "source": [
    "arr2"
   ]
  },
  {
   "cell_type": "code",
   "execution_count": 99,
   "id": "b65279e1",
   "metadata": {},
   "outputs": [
    {
     "data": {
      "text/plain": [
       "array([[6, 6, 6],\n",
       "       [6, 4, 5],\n",
       "       [5, 5, 5]])"
      ]
     },
     "execution_count": 99,
     "metadata": {},
     "output_type": "execute_result"
    }
   ],
   "source": [
    "arr1+arr2"
   ]
  },
  {
   "cell_type": "code",
   "execution_count": 100,
   "id": "5aedc8d6",
   "metadata": {},
   "outputs": [
    {
     "data": {
      "text/plain": [
       "array([[9, 9, 9],\n",
       "       [9, 4, 6],\n",
       "       [6, 6, 6]])"
      ]
     },
     "execution_count": 100,
     "metadata": {},
     "output_type": "execute_result"
    }
   ],
   "source": [
    "arr1*arr2"
   ]
  },
  {
   "cell_type": "code",
   "execution_count": 101,
   "id": "d4e21f3a",
   "metadata": {},
   "outputs": [
    {
     "data": {
      "text/plain": [
       "array([[27, 21, 24],\n",
       "       [21, 17, 19],\n",
       "       [24, 18, 21]])"
      ]
     },
     "execution_count": 101,
     "metadata": {},
     "output_type": "execute_result"
    }
   ],
   "source": [
    "arr1@arr2"
   ]
  },
  {
   "cell_type": "code",
   "execution_count": 102,
   "id": "c18d6f4f",
   "metadata": {},
   "outputs": [
    {
     "name": "stderr",
     "output_type": "stream",
     "text": [
      "<ipython-input-102-2e1dc0d9289f>:1: RuntimeWarning: divide by zero encountered in true_divide\n",
      "  arr1/0\n"
     ]
    },
    {
     "data": {
      "text/plain": [
       "array([[inf, inf, inf],\n",
       "       [inf, inf, inf],\n",
       "       [inf, inf, inf]])"
      ]
     },
     "execution_count": 102,
     "metadata": {},
     "output_type": "execute_result"
    }
   ],
   "source": [
    "arr1/0"
   ]
  },
  {
   "cell_type": "code",
   "execution_count": 103,
   "id": "f899ef6f",
   "metadata": {},
   "outputs": [
    {
     "data": {
      "text/plain": [
       "array([[1681,  256, 5776,  169, 6241],\n",
       "       [  81, 6889, 4624,  400,   25],\n",
       "       [6400, 5625,  100,  841, 2916],\n",
       "       [ 576,  484, 7744,  225, 1024],\n",
       "       [1089,  324, 2916, 5184, 8281]], dtype=int32)"
      ]
     },
     "execution_count": 103,
     "metadata": {},
     "output_type": "execute_result"
    }
   ],
   "source": [
    "arr**2"
   ]
  },
  {
   "cell_type": "code",
   "execution_count": 105,
   "id": "03fd52ad",
   "metadata": {},
   "outputs": [
    {
     "data": {
      "application/javascript": [
       "\n",
       "        if (window._pyforest_update_imports_cell) { window._pyforest_update_imports_cell('import numpy as np'); }\n",
       "    "
      ],
      "text/plain": [
       "<IPython.core.display.Javascript object>"
      ]
     },
     "metadata": {},
     "output_type": "display_data"
    }
   ],
   "source": [
    "# Broadcasting\n",
    "arr=np.zeros((3,4))"
   ]
  },
  {
   "cell_type": "code",
   "execution_count": 106,
   "id": "c1b01903",
   "metadata": {},
   "outputs": [
    {
     "data": {
      "text/plain": [
       "array([[0., 0., 0., 0.],\n",
       "       [0., 0., 0., 0.],\n",
       "       [0., 0., 0., 0.]])"
      ]
     },
     "execution_count": 106,
     "metadata": {},
     "output_type": "execute_result"
    }
   ],
   "source": [
    "arr"
   ]
  },
  {
   "cell_type": "code",
   "execution_count": 114,
   "id": "9b42b291",
   "metadata": {},
   "outputs": [
    {
     "data": {
      "application/javascript": [
       "\n",
       "        if (window._pyforest_update_imports_cell) { window._pyforest_update_imports_cell('import numpy as np'); }\n",
       "    "
      ],
      "text/plain": [
       "<IPython.core.display.Javascript object>"
      ]
     },
     "metadata": {},
     "output_type": "display_data"
    }
   ],
   "source": [
    "a=np.array([1,2,3,5])"
   ]
  },
  {
   "cell_type": "code",
   "execution_count": 115,
   "id": "50b175d0",
   "metadata": {},
   "outputs": [
    {
     "data": {
      "text/plain": [
       "array([1, 2, 3, 5])"
      ]
     },
     "execution_count": 115,
     "metadata": {},
     "output_type": "execute_result"
    }
   ],
   "source": [
    "a"
   ]
  },
  {
   "cell_type": "code",
   "execution_count": 116,
   "id": "fbdf1f91",
   "metadata": {},
   "outputs": [
    {
     "data": {
      "text/plain": [
       "array([[1., 2., 3., 5.],\n",
       "       [1., 2., 3., 5.],\n",
       "       [1., 2., 3., 5.]])"
      ]
     },
     "execution_count": 116,
     "metadata": {},
     "output_type": "execute_result"
    }
   ],
   "source": [
    "arr+a"
   ]
  },
  {
   "cell_type": "code",
   "execution_count": 110,
   "id": "d358668f",
   "metadata": {},
   "outputs": [
    {
     "data": {
      "text/plain": [
       "array([[5., 5., 5., 5.],\n",
       "       [5., 5., 5., 5.],\n",
       "       [5., 5., 5., 5.]])"
      ]
     },
     "execution_count": 110,
     "metadata": {},
     "output_type": "execute_result"
    }
   ],
   "source": [
    "arr+5"
   ]
  },
  {
   "cell_type": "code",
   "execution_count": 120,
   "id": "1c3913f2",
   "metadata": {},
   "outputs": [
    {
     "data": {
      "application/javascript": [
       "\n",
       "        if (window._pyforest_update_imports_cell) { window._pyforest_update_imports_cell('import numpy as np'); }\n",
       "    "
      ],
      "text/plain": [
       "<IPython.core.display.Javascript object>"
      ]
     },
     "metadata": {},
     "output_type": "display_data"
    }
   ],
   "source": [
    "b=np.array([5,6,7]).reshape(3,1)"
   ]
  },
  {
   "cell_type": "code",
   "execution_count": 118,
   "id": "a3a78644",
   "metadata": {},
   "outputs": [
    {
     "data": {
      "text/plain": [
       "array([[5],\n",
       "       [6],\n",
       "       [7]])"
      ]
     },
     "execution_count": 118,
     "metadata": {},
     "output_type": "execute_result"
    }
   ],
   "source": [
    "b.reshape(3,1)"
   ]
  },
  {
   "cell_type": "code",
   "execution_count": 121,
   "id": "76224b2c",
   "metadata": {},
   "outputs": [
    {
     "data": {
      "text/plain": [
       "array([[5., 5., 5., 5.],\n",
       "       [6., 6., 6., 6.],\n",
       "       [7., 7., 7., 7.]])"
      ]
     },
     "execution_count": 121,
     "metadata": {},
     "output_type": "execute_result"
    }
   ],
   "source": [
    "arr+b"
   ]
  },
  {
   "cell_type": "code",
   "execution_count": 124,
   "id": "e112095d",
   "metadata": {},
   "outputs": [
    {
     "data": {
      "application/javascript": [
       "\n",
       "        if (window._pyforest_update_imports_cell) { window._pyforest_update_imports_cell('import numpy as np'); }\n",
       "    "
      ],
      "text/plain": [
       "<IPython.core.display.Javascript object>"
      ]
     },
     "metadata": {},
     "output_type": "display_data"
    }
   ],
   "source": [
    "b=np.array([[5,6,7]])"
   ]
  },
  {
   "cell_type": "code",
   "execution_count": 126,
   "id": "6f495bf8",
   "metadata": {},
   "outputs": [
    {
     "data": {
      "text/plain": [
       "array([[5., 5., 5., 5.],\n",
       "       [6., 6., 6., 6.],\n",
       "       [7., 7., 7., 7.]])"
      ]
     },
     "execution_count": 126,
     "metadata": {},
     "output_type": "execute_result"
    }
   ],
   "source": [
    "b.T+arr"
   ]
  },
  {
   "cell_type": "code",
   "execution_count": 130,
   "id": "c912fc95",
   "metadata": {},
   "outputs": [
    {
     "data": {
      "application/javascript": [
       "\n",
       "        if (window._pyforest_update_imports_cell) { window._pyforest_update_imports_cell('import numpy as np'); }\n",
       "    "
      ],
      "text/plain": [
       "<IPython.core.display.Javascript object>"
      ]
     },
     "metadata": {},
     "output_type": "display_data"
    }
   ],
   "source": [
    "arr=np.random.rand(5,4)"
   ]
  },
  {
   "cell_type": "code",
   "execution_count": 131,
   "id": "a00e76fa",
   "metadata": {},
   "outputs": [
    {
     "data": {
      "text/plain": [
       "array([[0.82914691, 0.82960336, 0.27304997, 0.0592432 ],\n",
       "       [0.67052804, 0.59306552, 0.6716541 , 0.41178788],\n",
       "       [0.1975509 , 0.28962964, 0.14212014, 0.78331447],\n",
       "       [0.41253884, 0.03417131, 0.62402999, 0.66063573],\n",
       "       [0.29849529, 0.44613451, 0.22212455, 0.07336417]])"
      ]
     },
     "execution_count": 131,
     "metadata": {},
     "output_type": "execute_result"
    }
   ],
   "source": [
    "arr"
   ]
  },
  {
   "cell_type": "code",
   "execution_count": 132,
   "id": "2799290f",
   "metadata": {},
   "outputs": [
    {
     "data": {
      "application/javascript": [
       "\n",
       "        if (window._pyforest_update_imports_cell) { window._pyforest_update_imports_cell('import numpy as np'); }\n",
       "    "
      ],
      "text/plain": [
       "<IPython.core.display.Javascript object>"
      ]
     },
     "metadata": {},
     "output_type": "display_data"
    },
    {
     "data": {
      "text/plain": [
       "array([[0.91057504, 0.91082565, 0.52254184, 0.24339926],\n",
       "       [0.81885777, 0.77010747, 0.81954506, 0.641707  ],\n",
       "       [0.44446698, 0.5381725 , 0.37698824, 0.88505055],\n",
       "       [0.64229187, 0.18485484, 0.78995569, 0.81279501],\n",
       "       [0.54634723, 0.66793301, 0.47130091, 0.27085821]])"
      ]
     },
     "execution_count": 132,
     "metadata": {},
     "output_type": "execute_result"
    }
   ],
   "source": [
    "np.sqrt(arr)"
   ]
  },
  {
   "cell_type": "code",
   "execution_count": 133,
   "id": "1fb02126",
   "metadata": {},
   "outputs": [
    {
     "data": {
      "application/javascript": [
       "\n",
       "        if (window._pyforest_update_imports_cell) { window._pyforest_update_imports_cell('import numpy as np'); }\n",
       "    "
      ],
      "text/plain": [
       "<IPython.core.display.Javascript object>"
      ]
     },
     "metadata": {},
     "output_type": "display_data"
    },
    {
     "data": {
      "text/plain": [
       "array([[2.29136316, 2.2924093 , 1.31396591, 1.06103325],\n",
       "       [1.95526951, 1.80952706, 1.95747249, 1.5095142 ],\n",
       "       [1.21841508, 1.33593262, 1.15271512, 2.18871469],\n",
       "       [1.51064822, 1.03476186, 1.86643461, 1.93602273],\n",
       "       [1.3478292 , 1.56226159, 1.24872689, 1.07612236]])"
      ]
     },
     "execution_count": 133,
     "metadata": {},
     "output_type": "execute_result"
    }
   ],
   "source": [
    "np.exp(arr)"
   ]
  },
  {
   "cell_type": "code",
   "execution_count": 134,
   "id": "ece51529",
   "metadata": {},
   "outputs": [
    {
     "data": {
      "application/javascript": [
       "\n",
       "        if (window._pyforest_update_imports_cell) { window._pyforest_update_imports_cell('import numpy as np'); }\n",
       "    "
      ],
      "text/plain": [
       "<IPython.core.display.Javascript object>"
      ]
     },
     "metadata": {},
     "output_type": "display_data"
    },
    {
     "data": {
      "text/plain": [
       "array([[-0.08136851, -0.0811295 , -0.56375786, -1.22736148],\n",
       "       [-0.17358306, -0.22689733, -0.17285433, -0.38532644],\n",
       "       [-0.70432099, -0.53815699, -0.84734439, -0.10606385],\n",
       "       [-0.38453516, -1.46633836, -0.20479454, -0.18003794],\n",
       "       [-0.52506251, -0.35053419, -0.65340344, -1.13451598]])"
      ]
     },
     "execution_count": 134,
     "metadata": {},
     "output_type": "execute_result"
    }
   ],
   "source": [
    "np.log10(arr)"
   ]
  },
  {
   "cell_type": "code",
   "execution_count": 135,
   "id": "56012d67",
   "metadata": {},
   "outputs": [
    {
     "data": {
      "application/javascript": [
       "\n",
       "        if (window._pyforest_update_imports_cell) { window._pyforest_update_imports_cell('import numpy as np'); }\n",
       "    "
      ],
      "text/plain": [
       "<IPython.core.display.Javascript object>"
      ]
     },
     "metadata": {},
     "output_type": "display_data"
    },
    {
     "data": {
      "text/plain": [
       "array([[4, 3, 4, 3, 2],\n",
       "       [3, 3, 4, 2, 2],\n",
       "       [4, 4, 3, 2, 4],\n",
       "       [4, 4, 2, 2, 3],\n",
       "       [3, 3, 2, 2, 3]])"
      ]
     },
     "execution_count": 135,
     "metadata": {},
     "output_type": "execute_result"
    }
   ],
   "source": [
    "np.random.randint(2,5,(5,5))"
   ]
  },
  {
   "cell_type": "code",
   "execution_count": 136,
   "id": "c4a4d0d5",
   "metadata": {},
   "outputs": [
    {
     "data": {
      "application/javascript": [
       "\n",
       "        if (window._pyforest_update_imports_cell) { window._pyforest_update_imports_cell('import numpy as np'); }\n",
       "    "
      ],
      "text/plain": [
       "<IPython.core.display.Javascript object>"
      ]
     },
     "metadata": {},
     "output_type": "display_data"
    },
    {
     "data": {
      "text/plain": [
       "array([[-0.08136851, -0.0811295 , -0.56375786, -1.22736148],\n",
       "       [-0.17358306, -0.22689733, -0.17285433, -0.38532644],\n",
       "       [-0.70432099, -0.53815699, -0.84734439, -0.10606385],\n",
       "       [-0.38453516, -1.46633836, -0.20479454, -0.18003794],\n",
       "       [-0.52506251, -0.35053419, -0.65340344, -1.13451598]])"
      ]
     },
     "execution_count": 136,
     "metadata": {},
     "output_type": "execute_result"
    }
   ],
   "source": [
    "np.log10(arr)"
   ]
  },
  {
   "cell_type": "code",
   "execution_count": 137,
   "id": "786706e8",
   "metadata": {},
   "outputs": [
    {
     "data": {
      "application/javascript": [
       "\n",
       "        if (window._pyforest_update_imports_cell) { window._pyforest_update_imports_cell('import numpy as np'); }\n",
       "    "
      ],
      "text/plain": [
       "<IPython.core.display.Javascript object>"
      ]
     },
     "metadata": {},
     "output_type": "display_data"
    },
    {
     "data": {
      "text/plain": [
       "array([[-0.27030036, -0.26950636, -1.87276307, -4.07720659],\n",
       "       [-0.57663043, -0.7537366 , -0.57420966, -1.28002673],\n",
       "       [-2.33970369, -1.78771884, -2.81481713, -0.35233648],\n",
       "       [-1.27739814, -4.87107058, -0.68031274, -0.5980731 ],\n",
       "       [-1.7442199 , -1.16444936, -2.17055926, -3.76878051]])"
      ]
     },
     "execution_count": 137,
     "metadata": {},
     "output_type": "execute_result"
    }
   ],
   "source": [
    "np.log2(arr)"
   ]
  },
  {
   "cell_type": "code",
   "execution_count": 139,
   "id": "60db0de6",
   "metadata": {},
   "outputs": [
    {
     "data": {
      "application/javascript": [
       "\n",
       "        if (window._pyforest_update_imports_cell) { window._pyforest_update_imports_cell('import numpy as np'); }\n",
       "    "
      ],
      "text/plain": [
       "<IPython.core.display.Javascript object>"
      ]
     },
     "metadata": {},
     "output_type": "display_data"
    },
    {
     "data": {
      "application/javascript": [
       "\n",
       "        if (window._pyforest_update_imports_cell) { window._pyforest_update_imports_cell('import numpy as np'); }\n",
       "    "
      ],
      "text/plain": [
       "<IPython.core.display.Javascript object>"
      ]
     },
     "metadata": {},
     "output_type": "display_data"
    },
    {
     "data": {
      "text/plain": [
       "array([[0.64414354, 0.38074849, 0.66304791, 0.16365073],\n",
       "       [0.96260781, 0.34666184, 0.99175099, 0.2350579 ]])"
      ]
     },
     "execution_count": 139,
     "metadata": {},
     "output_type": "execute_result"
    }
   ],
   "source": [
    "np.random.seed(30)\n",
    "np.random.rand(2,4)"
   ]
  },
  {
   "cell_type": "code",
   "execution_count": null,
   "id": "3d11d74a",
   "metadata": {},
   "outputs": [],
   "source": []
  }
 ],
 "metadata": {
  "kernelspec": {
   "display_name": "Python 3",
   "language": "python",
   "name": "python3"
  },
  "language_info": {
   "codemirror_mode": {
    "name": "ipython",
    "version": 3
   },
   "file_extension": ".py",
   "mimetype": "text/x-python",
   "name": "python",
   "nbconvert_exporter": "python",
   "pygments_lexer": "ipython3",
   "version": "3.8.8"
  }
 },
 "nbformat": 4,
 "nbformat_minor": 5
}
