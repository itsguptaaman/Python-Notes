{
 "cells": [
  {
   "cell_type": "code",
   "execution_count": 1,
   "id": "f9595284",
   "metadata": {},
   "outputs": [],
   "source": [
    "t=()"
   ]
  },
  {
   "cell_type": "code",
   "execution_count": 2,
   "id": "3b08b8d3",
   "metadata": {},
   "outputs": [
    {
     "data": {
      "text/plain": [
       "tuple"
      ]
     },
     "execution_count": 2,
     "metadata": {},
     "output_type": "execute_result"
    }
   ],
   "source": [
    "type(t)"
   ]
  },
  {
   "cell_type": "code",
   "execution_count": 3,
   "id": "24d83ea5",
   "metadata": {},
   "outputs": [],
   "source": [
    "t1=(134,34,'aman',3.45,True)\n",
    "l1=[134,34,'aman',3.45,True]"
   ]
  },
  {
   "cell_type": "code",
   "execution_count": 4,
   "id": "4590e2f5",
   "metadata": {},
   "outputs": [
    {
     "data": {
      "text/plain": [
       "(134, 34, 'aman', 3.45)"
      ]
     },
     "execution_count": 4,
     "metadata": {},
     "output_type": "execute_result"
    }
   ],
   "source": [
    "t1[0:4]"
   ]
  },
  {
   "cell_type": "code",
   "execution_count": 5,
   "id": "aad6eb64",
   "metadata": {},
   "outputs": [
    {
     "data": {
      "text/plain": [
       "(True, 3.45, 'aman', 34, 134)"
      ]
     },
     "execution_count": 5,
     "metadata": {},
     "output_type": "execute_result"
    }
   ],
   "source": [
    "t1[::-1]"
   ]
  },
  {
   "cell_type": "code",
   "execution_count": 6,
   "id": "02db1806",
   "metadata": {},
   "outputs": [],
   "source": [
    "t1=[-1]"
   ]
  },
  {
   "cell_type": "code",
   "execution_count": 7,
   "id": "d5cb74b9",
   "metadata": {},
   "outputs": [
    {
     "data": {
      "text/plain": [
       "134"
      ]
     },
     "execution_count": 7,
     "metadata": {},
     "output_type": "execute_result"
    }
   ],
   "source": [
    "l1[0]"
   ]
  },
  {
   "cell_type": "code",
   "execution_count": 8,
   "id": "aef61ee3",
   "metadata": {},
   "outputs": [],
   "source": [
    "l1[0]=234"
   ]
  },
  {
   "cell_type": "code",
   "execution_count": 9,
   "id": "fd9aa206",
   "metadata": {},
   "outputs": [
    {
     "data": {
      "text/plain": [
       "[-1]"
      ]
     },
     "execution_count": 9,
     "metadata": {},
     "output_type": "execute_result"
    }
   ],
   "source": [
    "t1"
   ]
  },
  {
   "cell_type": "code",
   "execution_count": 10,
   "id": "859fe7f4",
   "metadata": {},
   "outputs": [],
   "source": [
    "t1[0]=\"aman\""
   ]
  },
  {
   "cell_type": "code",
   "execution_count": 11,
   "id": "18f6bee2",
   "metadata": {},
   "outputs": [],
   "source": [
    "t2=(1,2,3)"
   ]
  },
  {
   "cell_type": "code",
   "execution_count": 12,
   "id": "77711306",
   "metadata": {},
   "outputs": [
    {
     "ename": "TypeError",
     "evalue": "can only concatenate list (not \"tuple\") to list",
     "output_type": "error",
     "traceback": [
      "\u001b[1;31m---------------------------------------------------------------------------\u001b[0m",
      "\u001b[1;31mTypeError\u001b[0m                                 Traceback (most recent call last)",
      "\u001b[1;32m<ipython-input-12-5260db44d29f>\u001b[0m in \u001b[0;36m<module>\u001b[1;34m\u001b[0m\n\u001b[1;32m----> 1\u001b[1;33m \u001b[0mt1\u001b[0m\u001b[1;33m+\u001b[0m\u001b[0mt2\u001b[0m\u001b[1;33m\u001b[0m\u001b[1;33m\u001b[0m\u001b[0m\n\u001b[0m",
      "\u001b[1;31mTypeError\u001b[0m: can only concatenate list (not \"tuple\") to list"
     ]
    }
   ],
   "source": [
    "t1+t2"
   ]
  },
  {
   "cell_type": "code",
   "execution_count": 13,
   "id": "3c2f7ab9",
   "metadata": {},
   "outputs": [
    {
     "data": {
      "text/plain": [
       "(1, 2, 3, 1, 2, 3, 1, 2, 3, 1, 2, 3, 1, 2, 3, 1, 2, 3)"
      ]
     },
     "execution_count": 13,
     "metadata": {},
     "output_type": "execute_result"
    }
   ],
   "source": [
    "t2*6"
   ]
  },
  {
   "cell_type": "code",
   "execution_count": 14,
   "id": "9c6d3970",
   "metadata": {},
   "outputs": [
    {
     "data": {
      "text/plain": [
       "False"
      ]
     },
     "execution_count": 14,
     "metadata": {},
     "output_type": "execute_result"
    }
   ],
   "source": [
    "\"name\" in t1"
   ]
  },
  {
   "cell_type": "code",
   "execution_count": 15,
   "id": "8766a8ca",
   "metadata": {},
   "outputs": [
    {
     "data": {
      "text/plain": [
       "['aman']"
      ]
     },
     "execution_count": 15,
     "metadata": {},
     "output_type": "execute_result"
    }
   ],
   "source": [
    "t1"
   ]
  },
  {
   "cell_type": "code",
   "execution_count": 16,
   "id": "55acfc4e",
   "metadata": {},
   "outputs": [
    {
     "data": {
      "text/plain": [
       "'aman'"
      ]
     },
     "execution_count": 16,
     "metadata": {},
     "output_type": "execute_result"
    }
   ],
   "source": [
    "max(t1)"
   ]
  },
  {
   "cell_type": "code",
   "execution_count": 17,
   "id": "9ca2ee9a",
   "metadata": {},
   "outputs": [
    {
     "ename": "ValueError",
     "evalue": "34 is not in list",
     "output_type": "error",
     "traceback": [
      "\u001b[1;31m---------------------------------------------------------------------------\u001b[0m",
      "\u001b[1;31mValueError\u001b[0m                                Traceback (most recent call last)",
      "\u001b[1;32m<ipython-input-17-a19c2845977d>\u001b[0m in \u001b[0;36m<module>\u001b[1;34m\u001b[0m\n\u001b[1;32m----> 1\u001b[1;33m \u001b[0mt1\u001b[0m\u001b[1;33m.\u001b[0m\u001b[0mindex\u001b[0m\u001b[1;33m(\u001b[0m\u001b[1;36m34\u001b[0m\u001b[1;33m)\u001b[0m\u001b[1;33m\u001b[0m\u001b[1;33m\u001b[0m\u001b[0m\n\u001b[0m",
      "\u001b[1;31mValueError\u001b[0m: 34 is not in list"
     ]
    }
   ],
   "source": [
    "t1.index(34)"
   ]
  },
  {
   "cell_type": "code",
   "execution_count": 20,
   "id": "69fb4d2f",
   "metadata": {},
   "outputs": [
    {
     "data": {
      "text/plain": [
       "(134, 34, 'aman', 3.45, True)"
      ]
     },
     "execution_count": 20,
     "metadata": {},
     "output_type": "execute_result"
    }
   ],
   "source": [
    "t1=(134,34,'aman',3.45,True)\n",
    "t1"
   ]
  },
  {
   "cell_type": "code",
   "execution_count": 27,
   "id": "6bb7c52b",
   "metadata": {},
   "outputs": [],
   "source": [
    "t2=(20,23)"
   ]
  },
  {
   "cell_type": "code",
   "execution_count": 28,
   "id": "4f011b2e",
   "metadata": {},
   "outputs": [
    {
     "data": {
      "text/plain": [
       "(134, 34, 'aman', 3.45, True, 20, 23)"
      ]
     },
     "execution_count": 28,
     "metadata": {},
     "output_type": "execute_result"
    }
   ],
   "source": [
    "t1+t2"
   ]
  },
  {
   "cell_type": "code",
   "execution_count": 29,
   "id": "d592176f",
   "metadata": {},
   "outputs": [],
   "source": [
    "li=list(t1)"
   ]
  },
  {
   "cell_type": "code",
   "execution_count": 30,
   "id": "2411680c",
   "metadata": {},
   "outputs": [
    {
     "data": {
      "text/plain": [
       "[134, 34, 'aman', 3.45, True]"
      ]
     },
     "execution_count": 30,
     "metadata": {},
     "output_type": "execute_result"
    }
   ],
   "source": [
    "li"
   ]
  },
  {
   "cell_type": "code",
   "execution_count": 31,
   "id": "64640580",
   "metadata": {},
   "outputs": [],
   "source": [
    "li.insert(3,24)"
   ]
  },
  {
   "cell_type": "code",
   "execution_count": 32,
   "id": "82ad6a2a",
   "metadata": {},
   "outputs": [
    {
     "data": {
      "text/plain": [
       "[134, 34, 'aman', 24, 3.45, True]"
      ]
     },
     "execution_count": 32,
     "metadata": {},
     "output_type": "execute_result"
    }
   ],
   "source": [
    "li"
   ]
  },
  {
   "cell_type": "code",
   "execution_count": 33,
   "id": "e4f24c0b",
   "metadata": {},
   "outputs": [],
   "source": [
    "t1=tuple(li)"
   ]
  },
  {
   "cell_type": "code",
   "execution_count": 34,
   "id": "54a7d0bb",
   "metadata": {},
   "outputs": [
    {
     "data": {
      "text/plain": [
       "(134, 34, 'aman', 24, 3.45, True)"
      ]
     },
     "execution_count": 34,
     "metadata": {},
     "output_type": "execute_result"
    }
   ],
   "source": [
    "t1"
   ]
  },
  {
   "cell_type": "code",
   "execution_count": 35,
   "id": "b7e56021",
   "metadata": {},
   "outputs": [],
   "source": [
    "t2=((1,2,3,4),('a','m','a','n'),(21,32),(True,False),23.3,43.5,[4,5,6,7,7])"
   ]
  },
  {
   "cell_type": "code",
   "execution_count": 40,
   "id": "78de902e",
   "metadata": {},
   "outputs": [
    {
     "data": {
      "text/plain": [
       "[5, 6, 7]"
      ]
     },
     "execution_count": 40,
     "metadata": {},
     "output_type": "execute_result"
    }
   ],
   "source": [
    "t2[6][1:4]"
   ]
  },
  {
   "cell_type": "code",
   "execution_count": 47,
   "id": "c3e490dd",
   "metadata": {},
   "outputs": [
    {
     "data": {
      "text/plain": [
       "'m'"
      ]
     },
     "execution_count": 47,
     "metadata": {},
     "output_type": "execute_result"
    }
   ],
   "source": [
    "t2[1][1]"
   ]
  },
  {
   "cell_type": "code",
   "execution_count": 48,
   "id": "d47f4946",
   "metadata": {},
   "outputs": [
    {
     "name": "stdout",
     "output_type": "stream",
     "text": [
      "(1, 2, 3, 4)\n",
      "('a', 'm', 'a', 'n')\n",
      "(21, 32)\n",
      "(True, False)\n",
      "23.3\n",
      "43.5\n",
      "[4, 5, 6, 7, 7]\n"
     ]
    }
   ],
   "source": [
    "for i in t2:\n",
    "    print(i)"
   ]
  },
  {
   "cell_type": "code",
   "execution_count": 49,
   "id": "d66c747a",
   "metadata": {},
   "outputs": [
    {
     "name": "stdout",
     "output_type": "stream",
     "text": [
      "1\n",
      "a\n",
      "21\n",
      "True\n"
     ]
    }
   ],
   "source": [
    "for i in t2:\n",
    "    if type(i)==tuple:\n",
    "        print(i[0])"
   ]
  },
  {
   "cell_type": "code",
   "execution_count": 50,
   "id": "2e7aeff2",
   "metadata": {},
   "outputs": [],
   "source": []
  },
  {
   "cell_type": "code",
   "execution_count": 54,
   "id": "4615f6b6",
   "metadata": {},
   "outputs": [
    {
     "name": "stdout",
     "output_type": "stream",
     "text": [
      "Enter the number :34\n",
      "No this element is not avaliable.\n"
     ]
    }
   ],
   "source": [
    "t=(234,34,\"sudh\",3.45,34,34,34,True,'kumar')\n",
    "x=input(\"Enter the number :\")\n",
    "if x in t:\n",
    "    print(\"Yes this element is avaliable.\")\n",
    "else:\n",
    "    print(\"No this element is not avaliable.\")    "
   ]
  },
  {
   "cell_type": "code",
   "execution_count": 55,
   "id": "623f9f16",
   "metadata": {},
   "outputs": [
    {
     "data": {
      "text/plain": [
       "((1, 2, 3, 4),\n",
       " ('a', 'm', 'a', 'n'),\n",
       " (21, 32),\n",
       " (True, False),\n",
       " 23.3,\n",
       " 43.5,\n",
       " [4, 5, 6, 7, 7])"
      ]
     },
     "execution_count": 55,
     "metadata": {},
     "output_type": "execute_result"
    }
   ],
   "source": [
    "t2"
   ]
  },
  {
   "cell_type": "code",
   "execution_count": 56,
   "id": "702bbc08",
   "metadata": {},
   "outputs": [],
   "source": [
    "del(t2)"
   ]
  },
  {
   "cell_type": "code",
   "execution_count": 57,
   "id": "d914081a",
   "metadata": {},
   "outputs": [
    {
     "ename": "NameError",
     "evalue": "name 't2' is not defined",
     "output_type": "error",
     "traceback": [
      "\u001b[1;31m---------------------------------------------------------------------------\u001b[0m",
      "\u001b[1;31mNameError\u001b[0m                                 Traceback (most recent call last)",
      "\u001b[1;32m<ipython-input-57-be5b813c2dd9>\u001b[0m in \u001b[0;36m<module>\u001b[1;34m\u001b[0m\n\u001b[1;32m----> 1\u001b[1;33m \u001b[0mt2\u001b[0m\u001b[1;33m\u001b[0m\u001b[1;33m\u001b[0m\u001b[0m\n\u001b[0m",
      "\u001b[1;31mNameError\u001b[0m: name 't2' is not defined"
     ]
    }
   ],
   "source": [
    "t2"
   ]
  },
  {
   "cell_type": "markdown",
   "id": "78c6f3f3",
   "metadata": {},
   "source": [
    "<!-- Set -->"
   ]
  },
  {
   "cell_type": "code",
   "execution_count": 58,
   "id": "d4107cdd",
   "metadata": {},
   "outputs": [],
   "source": [
    "x=set()"
   ]
  },
  {
   "cell_type": "code",
   "execution_count": 59,
   "id": "f3145262",
   "metadata": {},
   "outputs": [
    {
     "data": {
      "text/plain": [
       "set"
      ]
     },
     "execution_count": 59,
     "metadata": {},
     "output_type": "execute_result"
    }
   ],
   "source": [
    "type(x)"
   ]
  },
  {
   "cell_type": "code",
   "execution_count": 64,
   "id": "cac420d8",
   "metadata": {},
   "outputs": [],
   "source": [
    "l=(3,3,4,4,5,23,5,\"aman\",\"Aman\",\"aman\",4,'s')"
   ]
  },
  {
   "cell_type": "code",
   "execution_count": 66,
   "id": "60e8d0d0",
   "metadata": {},
   "outputs": [
    {
     "name": "stdout",
     "output_type": "stream",
     "text": [
      "3\n",
      "4\n",
      "5\n",
      "s\n",
      "Aman\n",
      "23\n",
      "aman\n"
     ]
    }
   ],
   "source": [
    "x=set(l)\n",
    "for i in x:\n",
    "    print(i)"
   ]
  },
  {
   "cell_type": "code",
   "execution_count": 68,
   "id": "7ef0e248",
   "metadata": {},
   "outputs": [
    {
     "data": {
      "text/plain": [
       "True"
      ]
     },
     "execution_count": 68,
     "metadata": {},
     "output_type": "execute_result"
    }
   ],
   "source": [
    "4 in x"
   ]
  },
  {
   "cell_type": "code",
   "execution_count": 67,
   "id": "60fe7ad0",
   "metadata": {},
   "outputs": [
    {
     "ename": "TypeError",
     "evalue": "'set' object is not subscriptable",
     "output_type": "error",
     "traceback": [
      "\u001b[1;31m---------------------------------------------------------------------------\u001b[0m",
      "\u001b[1;31mTypeError\u001b[0m                                 Traceback (most recent call last)",
      "\u001b[1;32m<ipython-input-67-2f755f117ac9>\u001b[0m in \u001b[0;36m<module>\u001b[1;34m\u001b[0m\n\u001b[1;32m----> 1\u001b[1;33m \u001b[0mx\u001b[0m\u001b[1;33m[\u001b[0m\u001b[1;36m0\u001b[0m\u001b[1;33m]\u001b[0m\u001b[1;33m\u001b[0m\u001b[1;33m\u001b[0m\u001b[0m\n\u001b[0m",
      "\u001b[1;31mTypeError\u001b[0m: 'set' object is not subscriptable"
     ]
    }
   ],
   "source": [
    "x[0]"
   ]
  },
  {
   "cell_type": "code",
   "execution_count": 69,
   "id": "03d394d7",
   "metadata": {},
   "outputs": [
    {
     "ename": "TypeError",
     "evalue": "'set' object is not callable",
     "output_type": "error",
     "traceback": [
      "\u001b[1;31m---------------------------------------------------------------------------\u001b[0m",
      "\u001b[1;31mTypeError\u001b[0m                                 Traceback (most recent call last)",
      "\u001b[1;32m<ipython-input-69-5471647fe012>\u001b[0m in \u001b[0;36m<module>\u001b[1;34m\u001b[0m\n\u001b[1;32m----> 1\u001b[1;33m \u001b[0mx\u001b[0m\u001b[1;33m(\u001b[0m\u001b[1;36m0\u001b[0m\u001b[1;33m)\u001b[0m\u001b[1;33m\u001b[0m\u001b[1;33m\u001b[0m\u001b[0m\n\u001b[0m",
      "\u001b[1;31mTypeError\u001b[0m: 'set' object is not callable"
     ]
    }
   ],
   "source": [
    "x(0)"
   ]
  },
  {
   "cell_type": "code",
   "execution_count": 70,
   "id": "d5ca68e0",
   "metadata": {},
   "outputs": [
    {
     "data": {
      "text/plain": [
       "set()"
      ]
     },
     "execution_count": 70,
     "metadata": {},
     "output_type": "execute_result"
    }
   ],
   "source": [
    "s=set()\n",
    "s"
   ]
  },
  {
   "cell_type": "code",
   "execution_count": 72,
   "id": "786d8521",
   "metadata": {},
   "outputs": [
    {
     "data": {
      "text/plain": [
       "{45}"
      ]
     },
     "execution_count": 72,
     "metadata": {},
     "output_type": "execute_result"
    }
   ],
   "source": [
    "s.add(45)\n",
    "s"
   ]
  },
  {
   "cell_type": "code",
   "execution_count": 73,
   "id": "5e852af7",
   "metadata": {},
   "outputs": [
    {
     "data": {
      "text/plain": [
       "{45, 'Aman'}"
      ]
     },
     "execution_count": 73,
     "metadata": {},
     "output_type": "execute_result"
    }
   ],
   "source": [
    "s.add('Aman')\n",
    "s"
   ]
  },
  {
   "cell_type": "code",
   "execution_count": 74,
   "id": "c255b7af",
   "metadata": {},
   "outputs": [
    {
     "ename": "TypeError",
     "evalue": "unhashable type: 'list'",
     "output_type": "error",
     "traceback": [
      "\u001b[1;31m---------------------------------------------------------------------------\u001b[0m",
      "\u001b[1;31mTypeError\u001b[0m                                 Traceback (most recent call last)",
      "\u001b[1;32m<ipython-input-74-96bf9eddf6f8>\u001b[0m in \u001b[0;36m<module>\u001b[1;34m\u001b[0m\n\u001b[1;32m----> 1\u001b[1;33m \u001b[0ms\u001b[0m\u001b[1;33m.\u001b[0m\u001b[0madd\u001b[0m\u001b[1;33m(\u001b[0m\u001b[1;33m[\u001b[0m\u001b[1;36m123\u001b[0m\u001b[1;33m,\u001b[0m\u001b[1;36m342\u001b[0m\u001b[1;33m]\u001b[0m\u001b[1;33m)\u001b[0m\u001b[1;33m\u001b[0m\u001b[1;33m\u001b[0m\u001b[0m\n\u001b[0m\u001b[0;32m      2\u001b[0m \u001b[0ms\u001b[0m\u001b[1;33m\u001b[0m\u001b[1;33m\u001b[0m\u001b[0m\n",
      "\u001b[1;31mTypeError\u001b[0m: unhashable type: 'list'"
     ]
    }
   ],
   "source": [
    "s.add([123,342])\n",
    "s"
   ]
  },
  {
   "cell_type": "code",
   "execution_count": 75,
   "id": "15b8204d",
   "metadata": {},
   "outputs": [
    {
     "data": {
      "text/plain": [
       "{45, 'Aman'}"
      ]
     },
     "execution_count": 75,
     "metadata": {},
     "output_type": "execute_result"
    }
   ],
   "source": [
    "s"
   ]
  },
  {
   "cell_type": "code",
   "execution_count": 79,
   "id": "9709c461",
   "metadata": {},
   "outputs": [
    {
     "data": {
      "text/plain": [
       "set()"
      ]
     },
     "execution_count": 79,
     "metadata": {},
     "output_type": "execute_result"
    }
   ],
   "source": [
    "s.clear()\n",
    "s"
   ]
  },
  {
   "cell_type": "code",
   "execution_count": 82,
   "id": "aaa8a9bb",
   "metadata": {},
   "outputs": [],
   "source": [
    "s={234,345,'sdfsd','wer'}"
   ]
  },
  {
   "cell_type": "code",
   "execution_count": 84,
   "id": "1f084a55",
   "metadata": {},
   "outputs": [
    {
     "data": {
      "text/plain": [
       "set"
      ]
     },
     "execution_count": 84,
     "metadata": {},
     "output_type": "execute_result"
    }
   ],
   "source": [
    "type(s)"
   ]
  },
  {
   "cell_type": "code",
   "execution_count": 85,
   "id": "de5faaf2",
   "metadata": {},
   "outputs": [
    {
     "data": {
      "text/plain": [
       "{234, 345, 'sdfsd', 'wer'}"
      ]
     },
     "execution_count": 85,
     "metadata": {},
     "output_type": "execute_result"
    }
   ],
   "source": [
    "s"
   ]
  },
  {
   "cell_type": "code",
   "execution_count": 88,
   "id": "5c9c243e",
   "metadata": {},
   "outputs": [],
   "source": [
    "li=[34,324,3,253,56,36,]\n",
    "s1=set(li)"
   ]
  },
  {
   "cell_type": "code",
   "execution_count": 90,
   "id": "1cee6a1f",
   "metadata": {},
   "outputs": [
    {
     "ename": "TypeError",
     "evalue": "unsupported operand type(s) for +: 'set' and 'set'",
     "output_type": "error",
     "traceback": [
      "\u001b[1;31m---------------------------------------------------------------------------\u001b[0m",
      "\u001b[1;31mTypeError\u001b[0m                                 Traceback (most recent call last)",
      "\u001b[1;32m<ipython-input-90-d4a57f000bc9>\u001b[0m in \u001b[0;36m<module>\u001b[1;34m\u001b[0m\n\u001b[1;32m----> 1\u001b[1;33m \u001b[0ms\u001b[0m\u001b[1;33m+\u001b[0m\u001b[0ms1\u001b[0m\u001b[1;33m\u001b[0m\u001b[1;33m\u001b[0m\u001b[0m\n\u001b[0m",
      "\u001b[1;31mTypeError\u001b[0m: unsupported operand type(s) for +: 'set' and 'set'"
     ]
    }
   ],
   "source": [
    "s+s1"
   ]
  },
  {
   "cell_type": "code",
   "execution_count": 91,
   "id": "6f1104a8",
   "metadata": {},
   "outputs": [],
   "source": [
    "l4=list(s)"
   ]
  },
  {
   "cell_type": "code",
   "execution_count": 92,
   "id": "41b828db",
   "metadata": {},
   "outputs": [
    {
     "data": {
      "text/plain": [
       "[345, 234, 'sdfsd', 'wer']"
      ]
     },
     "execution_count": 92,
     "metadata": {},
     "output_type": "execute_result"
    }
   ],
   "source": [
    "l4"
   ]
  },
  {
   "cell_type": "code",
   "execution_count": 93,
   "id": "88e61292",
   "metadata": {},
   "outputs": [],
   "source": [
    "t4=tuple(s)"
   ]
  },
  {
   "cell_type": "code",
   "execution_count": 94,
   "id": "d2551349",
   "metadata": {},
   "outputs": [
    {
     "data": {
      "text/plain": [
       "(345, 234, 'sdfsd', 'wer')"
      ]
     },
     "execution_count": 94,
     "metadata": {},
     "output_type": "execute_result"
    }
   ],
   "source": [
    "t4"
   ]
  },
  {
   "cell_type": "code",
   "execution_count": 95,
   "id": "24557a13",
   "metadata": {},
   "outputs": [
    {
     "data": {
      "text/plain": [
       "dict"
      ]
     },
     "execution_count": 95,
     "metadata": {},
     "output_type": "execute_result"
    }
   ],
   "source": [
    "x={}\n",
    "type(x)"
   ]
  },
  {
   "cell_type": "code",
   "execution_count": 96,
   "id": "7f297605",
   "metadata": {},
   "outputs": [],
   "source": [
    "x={12,34}"
   ]
  },
  {
   "cell_type": "code",
   "execution_count": 97,
   "id": "0aa3e1ab",
   "metadata": {},
   "outputs": [
    {
     "data": {
      "text/plain": [
       "set"
      ]
     },
     "execution_count": 97,
     "metadata": {},
     "output_type": "execute_result"
    }
   ],
   "source": [
    "type(x)"
   ]
  },
  {
   "cell_type": "code",
   "execution_count": 99,
   "id": "c286ab3b",
   "metadata": {},
   "outputs": [
    {
     "data": {
      "text/plain": [
       "dict"
      ]
     },
     "execution_count": 99,
     "metadata": {},
     "output_type": "execute_result"
    }
   ],
   "source": [
    "x={\"name\":\"Aman\",\"age\":22}\n",
    "type(x)"
   ]
  },
  {
   "cell_type": "code",
   "execution_count": 103,
   "id": "71b3329a",
   "metadata": {},
   "outputs": [],
   "source": [
    "x1={'name':'Aman','age':1232, True:'Yes',False:'No','T1':(1,2,3,4),'L1':[5,6,7,8]}"
   ]
  },
  {
   "cell_type": "code",
   "execution_count": 104,
   "id": "8c551617",
   "metadata": {},
   "outputs": [
    {
     "data": {
      "text/plain": [
       "{'name': 'Aman',\n",
       " 'age': 1232,\n",
       " True: 'Yes',\n",
       " False: 'No',\n",
       " 'T1': (1, 2, 3, 4),\n",
       " 'L1': [5, 6, 7, 8]}"
      ]
     },
     "execution_count": 104,
     "metadata": {},
     "output_type": "execute_result"
    }
   ],
   "source": [
    "x1"
   ]
  },
  {
   "cell_type": "code",
   "execution_count": 105,
   "id": "47eecd15",
   "metadata": {},
   "outputs": [],
   "source": [
    "x2={'name':{\"k1\":'sdj',\"k2\":123,\"k3\":(1,34,5)},'age':1232, True:'Yes',False:'No','T1':(1,2,3,4),'L1':[5,6,7,8]}"
   ]
  },
  {
   "cell_type": "code",
   "execution_count": 106,
   "id": "6f631e4f",
   "metadata": {},
   "outputs": [
    {
     "data": {
      "text/plain": [
       "{'name': {'k1': 'sdj', 'k2': 123, 'k3': (1, 34, 5)},\n",
       " 'age': 1232,\n",
       " True: 'Yes',\n",
       " False: 'No',\n",
       " 'T1': (1, 2, 3, 4),\n",
       " 'L1': [5, 6, 7, 8]}"
      ]
     },
     "execution_count": 106,
     "metadata": {},
     "output_type": "execute_result"
    }
   ],
   "source": [
    "x2"
   ]
  },
  {
   "cell_type": "code",
   "execution_count": 108,
   "id": "3e5c3fcb",
   "metadata": {},
   "outputs": [
    {
     "data": {
      "text/plain": [
       "'Yes'"
      ]
     },
     "execution_count": 108,
     "metadata": {},
     "output_type": "execute_result"
    }
   ],
   "source": [
    "x2[True]"
   ]
  },
  {
   "cell_type": "code",
   "execution_count": 109,
   "id": "a739acb5",
   "metadata": {},
   "outputs": [
    {
     "data": {
      "text/plain": [
       "123"
      ]
     },
     "execution_count": 109,
     "metadata": {},
     "output_type": "execute_result"
    }
   ],
   "source": [
    "x2['name']['k2']"
   ]
  },
  {
   "cell_type": "code",
   "execution_count": 110,
   "id": "c19e37dd",
   "metadata": {},
   "outputs": [],
   "source": [
    "x3={\"name\":\"Aman\",\"age\":22}\n",
    "x4={'fruit':'Apple'}"
   ]
  },
  {
   "cell_type": "code",
   "execution_count": 111,
   "id": "26bc5434",
   "metadata": {},
   "outputs": [
    {
     "ename": "TypeError",
     "evalue": "unsupported operand type(s) for +: 'dict' and 'dict'",
     "output_type": "error",
     "traceback": [
      "\u001b[1;31m---------------------------------------------------------------------------\u001b[0m",
      "\u001b[1;31mTypeError\u001b[0m                                 Traceback (most recent call last)",
      "\u001b[1;32m<ipython-input-111-6b27f76da613>\u001b[0m in \u001b[0;36m<module>\u001b[1;34m\u001b[0m\n\u001b[1;32m----> 1\u001b[1;33m \u001b[0mx3\u001b[0m\u001b[1;33m+\u001b[0m\u001b[0mx4\u001b[0m\u001b[1;33m\u001b[0m\u001b[1;33m\u001b[0m\u001b[0m\n\u001b[0m",
      "\u001b[1;31mTypeError\u001b[0m: unsupported operand type(s) for +: 'dict' and 'dict'"
     ]
    }
   ],
   "source": [
    "x3+x4"
   ]
  },
  {
   "cell_type": "code",
   "execution_count": 112,
   "id": "b2ffeea8",
   "metadata": {},
   "outputs": [
    {
     "ename": "TypeError",
     "evalue": "unsupported operand type(s) for *: 'dict' and 'int'",
     "output_type": "error",
     "traceback": [
      "\u001b[1;31m---------------------------------------------------------------------------\u001b[0m",
      "\u001b[1;31mTypeError\u001b[0m                                 Traceback (most recent call last)",
      "\u001b[1;32m<ipython-input-112-3a42545c4868>\u001b[0m in \u001b[0;36m<module>\u001b[1;34m\u001b[0m\n\u001b[1;32m----> 1\u001b[1;33m \u001b[0mx3\u001b[0m\u001b[1;33m*\u001b[0m\u001b[1;36m3\u001b[0m\u001b[1;33m\u001b[0m\u001b[1;33m\u001b[0m\u001b[0m\n\u001b[0m",
      "\u001b[1;31mTypeError\u001b[0m: unsupported operand type(s) for *: 'dict' and 'int'"
     ]
    }
   ],
   "source": [
    "x3*3"
   ]
  },
  {
   "cell_type": "code",
   "execution_count": 113,
   "id": "f8d85360",
   "metadata": {},
   "outputs": [
    {
     "data": {
      "text/plain": [
       "{'name': 'Aman', 'age': 22}"
      ]
     },
     "execution_count": 113,
     "metadata": {},
     "output_type": "execute_result"
    }
   ],
   "source": [
    "x3"
   ]
  },
  {
   "cell_type": "code",
   "execution_count": 117,
   "id": "70dfb2d8",
   "metadata": {},
   "outputs": [],
   "source": [
    "x3['name']='aman'"
   ]
  },
  {
   "cell_type": "code",
   "execution_count": 118,
   "id": "0482f681",
   "metadata": {},
   "outputs": [
    {
     "data": {
      "text/plain": [
       "{'name': 'aman', 'age': 22}"
      ]
     },
     "execution_count": 118,
     "metadata": {},
     "output_type": "execute_result"
    }
   ],
   "source": [
    "x3"
   ]
  },
  {
   "cell_type": "code",
   "execution_count": 119,
   "id": "18559693",
   "metadata": {},
   "outputs": [
    {
     "data": {
      "text/plain": [
       "dict_keys(['name', 'age'])"
      ]
     },
     "execution_count": 119,
     "metadata": {},
     "output_type": "execute_result"
    }
   ],
   "source": [
    "x3.keys()"
   ]
  },
  {
   "cell_type": "code",
   "execution_count": 122,
   "id": "f23f7bb7",
   "metadata": {},
   "outputs": [
    {
     "data": {
      "text/plain": [
       "True"
      ]
     },
     "execution_count": 122,
     "metadata": {},
     "output_type": "execute_result"
    }
   ],
   "source": [
    "'name' in x3.keys()"
   ]
  },
  {
   "cell_type": "code",
   "execution_count": 131,
   "id": "3bb4e0b2",
   "metadata": {},
   "outputs": [
    {
     "data": {
      "text/plain": [
       "['name', 'age']"
      ]
     },
     "execution_count": 131,
     "metadata": {},
     "output_type": "execute_result"
    }
   ],
   "source": [
    "[i for i in x3]"
   ]
  },
  {
   "cell_type": "code",
   "execution_count": 134,
   "id": "307d5343",
   "metadata": {},
   "outputs": [
    {
     "data": {
      "text/plain": [
       "[{'k1': 'sdj', 'k2': 123, 'k3': (1, 34, 5)},\n",
       " 1232,\n",
       " 'Yes',\n",
       " 'No',\n",
       " (1, 2, 3, 4),\n",
       " [5, 6, 7, 8]]"
      ]
     },
     "execution_count": 134,
     "metadata": {},
     "output_type": "execute_result"
    }
   ],
   "source": [
    "x2={'name':{\"k1\":'sdj',\"k2\":123,\"k3\":(1,34,5)},'age':1232, True:'Yes',False:'No','T1':(1,2,3,4),'L1':[5,6,7,8]}\n",
    "[ x2[i] for i in x2.keys()]"
   ]
  },
  {
   "cell_type": "code",
   "execution_count": 135,
   "id": "48284aef",
   "metadata": {},
   "outputs": [
    {
     "data": {
      "text/plain": [
       "dict_items([('name', {'k1': 'sdj', 'k2': 123, 'k3': (1, 34, 5)}), ('age', 1232), (True, 'Yes'), (False, 'No'), ('T1', (1, 2, 3, 4)), ('L1', [5, 6, 7, 8])])"
      ]
     },
     "execution_count": 135,
     "metadata": {},
     "output_type": "execute_result"
    }
   ],
   "source": [
    "x2.items()"
   ]
  },
  {
   "cell_type": "code",
   "execution_count": 138,
   "id": "7ecc1aca",
   "metadata": {},
   "outputs": [
    {
     "name": "stdout",
     "output_type": "stream",
     "text": [
      "name\n",
      "age\n",
      "True\n",
      "False\n",
      "T1\n",
      "L1\n"
     ]
    }
   ],
   "source": [
    "for i in x2.items():\n",
    "    print(i[0])"
   ]
  },
  {
   "cell_type": "code",
   "execution_count": 139,
   "id": "604a8d68",
   "metadata": {},
   "outputs": [],
   "source": [
    "x5={(1,2):\"jnzvd\"}"
   ]
  },
  {
   "cell_type": "code",
   "execution_count": 140,
   "id": "92745ad9",
   "metadata": {},
   "outputs": [
    {
     "data": {
      "text/plain": [
       "'jnzvd'"
      ]
     },
     "execution_count": 140,
     "metadata": {},
     "output_type": "execute_result"
    }
   ],
   "source": [
    "x5[(1,2)]"
   ]
  },
  {
   "cell_type": "code",
   "execution_count": 141,
   "id": "ae1508df",
   "metadata": {},
   "outputs": [
    {
     "data": {
      "text/plain": [
       "6"
      ]
     },
     "execution_count": 141,
     "metadata": {},
     "output_type": "execute_result"
    }
   ],
   "source": [
    "len(x2)"
   ]
  },
  {
   "cell_type": "code",
   "execution_count": 1,
   "id": "fcbdbc9c",
   "metadata": {},
   "outputs": [
    {
     "data": {
      "text/plain": [
       "{56: {5, 53, 54}}"
      ]
     },
     "execution_count": 1,
     "metadata": {},
     "output_type": "execute_result"
    }
   ],
   "source": [
    "e={56:{54,5,53}}\n",
    "e"
   ]
  },
  {
   "cell_type": "code",
   "execution_count": 5,
   "id": "3aa27e10",
   "metadata": {},
   "outputs": [
    {
     "data": {
      "text/plain": [
       "53"
      ]
     },
     "execution_count": 5,
     "metadata": {},
     "output_type": "execute_result"
    }
   ],
   "source": [
    "list(e[56])[0]"
   ]
  },
  {
   "cell_type": "code",
   "execution_count": 11,
   "id": "8793dc5e",
   "metadata": {},
   "outputs": [
    {
     "name": "stdout",
     "output_type": "stream",
     "text": [
      "Enter the paragraph :Please don't scroll past this. This Friday, we request you to sustain Wikipedia's independence. 98% of our readers don't donate; they simply keep reading. If you are an exceptional reader who has already donated, we sincerely thank you. If you donate just ₹ 25 today, Wikipedia could keep growing for years. We request you: please don’t close this window. If Wikipedia has given you ₹ 25 worth of knowledge, kindly take a minute to donate. Show the world that access to reliable, neutral information matters to you. Thank you.\n"
     ]
    }
   ],
   "source": [
    "para=input(\"Enter the paragraph :\")\n",
    "para=para.split()\n",
    "para=list(para)"
   ]
  },
  {
   "cell_type": "code",
   "execution_count": 12,
   "id": "4eba495a",
   "metadata": {},
   "outputs": [],
   "source": [
    "copy_para=set(para)"
   ]
  },
  {
   "cell_type": "code",
   "execution_count": 13,
   "id": "c7dc52ef",
   "metadata": {},
   "outputs": [
    {
     "data": {
      "text/plain": [
       "{'could': 'aman',\n",
       " 'of': 'aman',\n",
       " 'Wikipedia': 'aman',\n",
       " 'to': 'aman',\n",
       " 'simply': 'aman',\n",
       " 'readers': 'aman',\n",
       " 'who': 'aman',\n",
       " 'We': 'aman',\n",
       " 'reliable,': 'aman',\n",
       " 'an': 'aman',\n",
       " 'given': 'aman',\n",
       " 'knowledge,': 'aman',\n",
       " 'kindly': 'aman',\n",
       " 'this': 'aman',\n",
       " 'you': 'aman',\n",
       " \"don't\": 'aman',\n",
       " 'donate.': 'aman',\n",
       " 'world': 'aman',\n",
       " 'donated,': 'aman',\n",
       " 'you:': 'aman',\n",
       " 'that': 'aman',\n",
       " 'reader': 'aman',\n",
       " 'sincerely': 'aman',\n",
       " 'a': 'aman',\n",
       " 'thank': 'aman',\n",
       " 'take': 'aman',\n",
       " 'independence.': 'aman',\n",
       " 'request': 'aman',\n",
       " 'keep': 'aman',\n",
       " 'minute': 'aman',\n",
       " 'Thank': 'aman',\n",
       " 'This': 'aman',\n",
       " 'our': 'aman',\n",
       " 'window.': 'aman',\n",
       " 'you.': 'aman',\n",
       " 'Show': 'aman',\n",
       " 'this.': 'aman',\n",
       " 'worth': 'aman',\n",
       " 'access': 'aman',\n",
       " 'for': 'aman',\n",
       " 'information': 'aman',\n",
       " 'past': 'aman',\n",
       " 'they': 'aman',\n",
       " 'reading.': 'aman',\n",
       " 'are': 'aman',\n",
       " 'has': 'aman',\n",
       " 'growing': 'aman',\n",
       " 'don’t': 'aman',\n",
       " '₹': 'aman',\n",
       " 'already': 'aman',\n",
       " 'close': 'aman',\n",
       " 'matters': 'aman',\n",
       " 'scroll': 'aman',\n",
       " 'sustain': 'aman',\n",
       " 'neutral': 'aman',\n",
       " 'today,': 'aman',\n",
       " 'donate;': 'aman',\n",
       " '25': 'aman',\n",
       " 'donate': 'aman',\n",
       " 'the': 'aman',\n",
       " 'years.': 'aman',\n",
       " 'Please': 'aman',\n",
       " 'we': 'aman',\n",
       " '98%': 'aman',\n",
       " 'If': 'aman',\n",
       " 'please': 'aman',\n",
       " 'just': 'aman',\n",
       " \"Wikipedia's\": 'aman',\n",
       " 'exceptional': 'aman',\n",
       " 'Friday,': 'aman'}"
      ]
     },
     "execution_count": 13,
     "metadata": {},
     "output_type": "execute_result"
    }
   ],
   "source": [
    "# dit={}\n",
    "# for i in copy_para:\n",
    "#     dit[i]='Aman'\n",
    "# dit\n",
    "{i:'aman' for i in copy_para}"
   ]
  },
  {
   "cell_type": "code",
   "execution_count": 14,
   "id": "7bdf79fa",
   "metadata": {},
   "outputs": [
    {
     "data": {
      "text/plain": [
       "{'could': 'Aman',\n",
       " 'of': 'Aman',\n",
       " 'Wikipedia': 'Aman',\n",
       " 'to': 'Aman',\n",
       " 'simply': 'Aman',\n",
       " 'readers': 'Aman',\n",
       " 'who': 'Aman',\n",
       " 'We': 'Aman',\n",
       " 'reliable,': 'Aman',\n",
       " 'an': 'Aman',\n",
       " 'given': 'Aman',\n",
       " 'knowledge,': 'Aman',\n",
       " 'kindly': 'Aman',\n",
       " 'this': 'Aman',\n",
       " 'you': 'Aman',\n",
       " \"don't\": 'Aman',\n",
       " 'donate.': 'Aman',\n",
       " 'world': 'Aman',\n",
       " 'donated,': 'Aman',\n",
       " 'you:': 'Aman',\n",
       " 'that': 'Aman',\n",
       " 'reader': 'Aman',\n",
       " 'sincerely': 'Aman',\n",
       " 'a': 'Aman',\n",
       " 'thank': 'Aman',\n",
       " 'take': 'Aman',\n",
       " 'independence.': 'Aman',\n",
       " 'request': 'Aman',\n",
       " 'keep': 'Aman',\n",
       " 'minute': 'Aman',\n",
       " 'Thank': 'Aman',\n",
       " 'This': 'Aman',\n",
       " 'our': 'Aman',\n",
       " 'window.': 'Aman',\n",
       " 'you.': 'Aman',\n",
       " 'Show': 'Aman',\n",
       " 'this.': 'Aman',\n",
       " 'worth': 'Aman',\n",
       " 'access': 'Aman',\n",
       " 'for': 'Aman',\n",
       " 'information': 'Aman',\n",
       " 'past': 'Aman',\n",
       " 'they': 'Aman',\n",
       " 'reading.': 'Aman',\n",
       " 'are': 'Aman',\n",
       " 'has': 'Aman',\n",
       " 'growing': 'Aman',\n",
       " 'don’t': 'Aman',\n",
       " '₹': 'Aman',\n",
       " 'already': 'Aman',\n",
       " 'close': 'Aman',\n",
       " 'matters': 'Aman',\n",
       " 'scroll': 'Aman',\n",
       " 'sustain': 'Aman',\n",
       " 'neutral': 'Aman',\n",
       " 'today,': 'Aman',\n",
       " 'donate;': 'Aman',\n",
       " '25': 'Aman',\n",
       " 'donate': 'Aman',\n",
       " 'the': 'Aman',\n",
       " 'years.': 'Aman',\n",
       " 'Please': 'Aman',\n",
       " 'we': 'Aman',\n",
       " '98%': 'Aman',\n",
       " 'If': 'Aman',\n",
       " 'please': 'Aman',\n",
       " 'just': 'Aman',\n",
       " \"Wikipedia's\": 'Aman',\n",
       " 'exceptional': 'Aman',\n",
       " 'Friday,': 'Aman'}"
      ]
     },
     "execution_count": 14,
     "metadata": {},
     "output_type": "execute_result"
    }
   ],
   "source": [
    "copy_para=dict.fromkeys(copy_para,\"Aman\")\n",
    "copy_para"
   ]
  },
  {
   "cell_type": "code",
   "execution_count": 12,
   "id": "9c85eaef",
   "metadata": {},
   "outputs": [
    {
     "data": {
      "text/plain": [
       "dict"
      ]
     },
     "execution_count": 12,
     "metadata": {},
     "output_type": "execute_result"
    }
   ],
   "source": [
    "type(copy_para)"
   ]
  },
  {
   "cell_type": "code",
   "execution_count": 13,
   "id": "ea61df13",
   "metadata": {},
   "outputs": [
    {
     "data": {
      "text/plain": [
       "('Aman',\n",
       " 'Aman',\n",
       " 'Aman',\n",
       " 'Aman',\n",
       " 'Aman',\n",
       " 'Aman',\n",
       " 'Aman',\n",
       " 'Aman',\n",
       " 'Aman',\n",
       " 'Aman',\n",
       " 'Aman',\n",
       " 'Aman',\n",
       " 'Aman',\n",
       " 'Aman',\n",
       " 'Aman',\n",
       " 'Aman',\n",
       " 'Aman',\n",
       " 'Aman',\n",
       " 'Aman',\n",
       " 'Aman',\n",
       " 'Aman',\n",
       " 'Aman',\n",
       " 'Aman',\n",
       " 'Aman',\n",
       " 'Aman',\n",
       " 'Aman',\n",
       " 'Aman',\n",
       " 'Aman',\n",
       " 'Aman',\n",
       " 'Aman',\n",
       " 'Aman',\n",
       " 'Aman',\n",
       " 'Aman',\n",
       " 'Aman',\n",
       " 'Aman',\n",
       " 'Aman',\n",
       " 'Aman',\n",
       " 'Aman',\n",
       " 'Aman',\n",
       " 'Aman',\n",
       " 'Aman',\n",
       " 'Aman',\n",
       " 'Aman',\n",
       " 'Aman',\n",
       " 'Aman',\n",
       " 'Aman',\n",
       " 'Aman',\n",
       " 'Aman',\n",
       " 'Aman',\n",
       " 'Aman',\n",
       " 'Aman',\n",
       " 'Aman',\n",
       " 'Aman',\n",
       " 'Aman',\n",
       " 'Aman',\n",
       " 'Aman',\n",
       " 'Aman',\n",
       " 'Aman',\n",
       " 'Aman',\n",
       " 'Aman',\n",
       " 'Aman',\n",
       " 'Aman',\n",
       " 'Aman',\n",
       " 'Aman',\n",
       " 'Aman',\n",
       " 'Aman',\n",
       " 'Aman',\n",
       " 'Aman',\n",
       " 'Aman',\n",
       " 'Aman')"
      ]
     },
     "execution_count": 13,
     "metadata": {},
     "output_type": "execute_result"
    }
   ],
   "source": [
    "tuple(copy_para.values())"
   ]
  },
  {
   "cell_type": "code",
   "execution_count": 14,
   "id": "6938844d",
   "metadata": {},
   "outputs": [
    {
     "data": {
      "text/plain": [
       "['already',\n",
       " 'donate.',\n",
       " 'past',\n",
       " 'neutral',\n",
       " 'growing',\n",
       " 'Friday,',\n",
       " 'window.',\n",
       " 'a',\n",
       " 'Wikipedia',\n",
       " 'years.',\n",
       " 'Please',\n",
       " 'Show',\n",
       " 'are',\n",
       " 'could',\n",
       " 'you',\n",
       " 'exceptional',\n",
       " 'We',\n",
       " 'you:',\n",
       " 'kindly',\n",
       " 'they',\n",
       " 'reading.',\n",
       " 'of',\n",
       " 'simply',\n",
       " 'readers',\n",
       " 'an',\n",
       " 'don’t',\n",
       " 'If',\n",
       " 'take',\n",
       " 'we',\n",
       " 'knowledge,',\n",
       " 'given',\n",
       " 'reliable,',\n",
       " 'has',\n",
       " 'just',\n",
       " 'Thank',\n",
       " 'sustain',\n",
       " 'this.',\n",
       " 'please',\n",
       " 'access',\n",
       " 'matters',\n",
       " 'for',\n",
       " \"don't\",\n",
       " 'independence.',\n",
       " 'you.',\n",
       " 'the',\n",
       " 'information',\n",
       " 'that',\n",
       " 'our',\n",
       " 'minute',\n",
       " 'donated,',\n",
       " 'close',\n",
       " 'this',\n",
       " 'donate;',\n",
       " 'thank',\n",
       " '₹',\n",
       " 'donate',\n",
       " '98%',\n",
       " 'sincerely',\n",
       " 'scroll',\n",
       " 'request',\n",
       " 'to',\n",
       " 'reader',\n",
       " 'who',\n",
       " 'This',\n",
       " \"Wikipedia's\",\n",
       " 'today,',\n",
       " '25',\n",
       " 'world',\n",
       " 'keep',\n",
       " 'worth']"
      ]
     },
     "execution_count": 14,
     "metadata": {},
     "output_type": "execute_result"
    }
   ],
   "source": [
    "list(copy_para.keys())"
   ]
  },
  {
   "cell_type": "markdown",
   "id": "9fcd6fee",
   "metadata": {},
   "source": [
    "<!-- Dictionary comphrension -->"
   ]
  },
  {
   "cell_type": "code",
   "execution_count": 1,
   "id": "57a7761e",
   "metadata": {},
   "outputs": [],
   "source": [
    "d={'company':'Ineuron','course':'FSDST','year':2021}"
   ]
  },
  {
   "cell_type": "code",
   "execution_count": 2,
   "id": "c496b698",
   "metadata": {},
   "outputs": [
    {
     "name": "stdout",
     "output_type": "stream",
     "text": [
      "Key of  company value wise is Ineuron\n",
      "Key of  course value wise is FSDST\n",
      "Key of  year value wise is 2021\n"
     ]
    }
   ],
   "source": [
    "for i in d:\n",
    "    print(\"Key of \",i,\"value wise is\",d[i])"
   ]
  },
  {
   "cell_type": "code",
   "execution_count": 7,
   "id": "6aa9b1f2",
   "metadata": {},
   "outputs": [
    {
     "name": "stdout",
     "output_type": "stream",
     "text": [
      "Year is fine.\n"
     ]
    }
   ],
   "source": [
    "for i in d:\n",
    "    if i=='year':\n",
    "        if d[i]>2021:\n",
    "            print(\"Year is fine.\")\n",
    "        else:\n",
    "            d[i]=2022"
   ]
  },
  {
   "cell_type": "code",
   "execution_count": 6,
   "id": "9f5f7527",
   "metadata": {},
   "outputs": [
    {
     "data": {
      "text/plain": [
       "{'company': 'Ineuron', 'course': 'FSDST', 'year': 2022}"
      ]
     },
     "execution_count": 6,
     "metadata": {},
     "output_type": "execute_result"
    }
   ],
   "source": [
    "d"
   ]
  },
  {
   "cell_type": "code",
   "execution_count": 9,
   "id": "8d4d886e",
   "metadata": {},
   "outputs": [
    {
     "data": {
      "text/plain": [
       "{0: 0, 1: 1, 2: 4, 3: 9, 4: 16, 5: 25, 6: 36, 7: 49, 8: 64, 9: 81}"
      ]
     },
     "execution_count": 9,
     "metadata": {},
     "output_type": "execute_result"
    }
   ],
   "source": [
    "dic={}\n",
    "for i in range(10):\n",
    "    dic[i]=i*i\n",
    "dic"
   ]
  },
  {
   "cell_type": "code",
   "execution_count": 10,
   "id": "678d14b0",
   "metadata": {},
   "outputs": [
    {
     "data": {
      "text/plain": [
       "{0: 0, 1: 1, 2: 4, 3: 9, 4: 16, 5: 25, 6: 36, 7: 49, 8: 64, 9: 81}"
      ]
     },
     "execution_count": 10,
     "metadata": {},
     "output_type": "execute_result"
    }
   ],
   "source": [
    "{i:i*i for i in range(10)}"
   ]
  },
  {
   "cell_type": "code",
   "execution_count": null,
   "id": "d870e009",
   "metadata": {},
   "outputs": [],
   "source": [
    "d={}\n"
   ]
  },
  {
   "cell_type": "code",
   "execution_count": null,
   "id": "b6c3a2e1",
   "metadata": {},
   "outputs": [],
   "source": []
  },
  {
   "cell_type": "code",
   "execution_count": null,
   "id": "9bd381c0",
   "metadata": {},
   "outputs": [],
   "source": []
  },
  {
   "cell_type": "code",
   "execution_count": null,
   "id": "8b4d4237",
   "metadata": {},
   "outputs": [],
   "source": []
  },
  {
   "cell_type": "code",
   "execution_count": null,
   "id": "e302679e",
   "metadata": {},
   "outputs": [],
   "source": []
  },
  {
   "cell_type": "code",
   "execution_count": null,
   "id": "08f73906",
   "metadata": {},
   "outputs": [],
   "source": []
  },
  {
   "cell_type": "code",
   "execution_count": null,
   "id": "6d439086",
   "metadata": {},
   "outputs": [],
   "source": []
  },
  {
   "cell_type": "code",
   "execution_count": null,
   "id": "cbba7e1d",
   "metadata": {},
   "outputs": [],
   "source": []
  },
  {
   "cell_type": "code",
   "execution_count": null,
   "id": "6366568e",
   "metadata": {},
   "outputs": [],
   "source": []
  },
  {
   "cell_type": "code",
   "execution_count": null,
   "id": "400a2b3c",
   "metadata": {},
   "outputs": [],
   "source": []
  },
  {
   "cell_type": "code",
   "execution_count": null,
   "id": "ef4cad9e",
   "metadata": {},
   "outputs": [],
   "source": []
  },
  {
   "cell_type": "code",
   "execution_count": null,
   "id": "c64a9ccb",
   "metadata": {},
   "outputs": [],
   "source": []
  },
  {
   "cell_type": "code",
   "execution_count": null,
   "id": "b15b3f4b",
   "metadata": {},
   "outputs": [],
   "source": []
  },
  {
   "cell_type": "code",
   "execution_count": null,
   "id": "59e4354e",
   "metadata": {},
   "outputs": [],
   "source": []
  },
  {
   "cell_type": "code",
   "execution_count": null,
   "id": "34db5b00",
   "metadata": {},
   "outputs": [],
   "source": []
  },
  {
   "cell_type": "code",
   "execution_count": null,
   "id": "9144ac91",
   "metadata": {},
   "outputs": [],
   "source": []
  },
  {
   "cell_type": "code",
   "execution_count": null,
   "id": "d9544627",
   "metadata": {},
   "outputs": [],
   "source": []
  },
  {
   "cell_type": "code",
   "execution_count": null,
   "id": "1dacd8bc",
   "metadata": {},
   "outputs": [],
   "source": []
  },
  {
   "cell_type": "code",
   "execution_count": null,
   "id": "0a9a4f07",
   "metadata": {},
   "outputs": [],
   "source": []
  },
  {
   "cell_type": "code",
   "execution_count": null,
   "id": "a69632e1",
   "metadata": {},
   "outputs": [],
   "source": []
  },
  {
   "cell_type": "code",
   "execution_count": null,
   "id": "9a2fe17e",
   "metadata": {},
   "outputs": [],
   "source": []
  },
  {
   "cell_type": "code",
   "execution_count": null,
   "id": "9e56df43",
   "metadata": {},
   "outputs": [],
   "source": []
  },
  {
   "cell_type": "code",
   "execution_count": null,
   "id": "0967c845",
   "metadata": {},
   "outputs": [],
   "source": []
  },
  {
   "cell_type": "code",
   "execution_count": null,
   "id": "3bec296d",
   "metadata": {},
   "outputs": [],
   "source": []
  }
 ],
 "metadata": {
  "kernelspec": {
   "display_name": "Python 3",
   "language": "python",
   "name": "python3"
  },
  "language_info": {
   "codemirror_mode": {
    "name": "ipython",
    "version": 3
   },
   "file_extension": ".py",
   "mimetype": "text/x-python",
   "name": "python",
   "nbconvert_exporter": "python",
   "pygments_lexer": "ipython3",
   "version": "3.8.8"
  }
 },
 "nbformat": 4,
 "nbformat_minor": 5
}
