{
 "cells": [
  {
   "cell_type": "code",
   "execution_count": 2,
   "id": "d399c375",
   "metadata": {},
   "outputs": [],
   "source": [
    "import time as ti"
   ]
  },
  {
   "cell_type": "code",
   "execution_count": 7,
   "id": "f06170f3",
   "metadata": {},
   "outputs": [
    {
     "name": "stdout",
     "output_type": "stream",
     "text": [
      "Aman bro!\n",
      "Aman bro!\n",
      "Aman bro!\n",
      "Aman bro!\n",
      "Aman bro!\n",
      "Aman bro!\n",
      "Aman bro!\n",
      "Aman bro!\n",
      "Aman bro!\n",
      "Aman bro!\n",
      "Aman bro!\n",
      "Aman bro!\n",
      "Aman bro!\n",
      "Aman bro!\n",
      "Aman bro!\n",
      "Aman bro!\n",
      "Aman bro!\n",
      "Aman bro!\n",
      "Aman bro!\n",
      "Aman bro!\n",
      "Aman bro!\n",
      "Aman bro!\n",
      "Aman bro!\n",
      "Aman bro!\n",
      "Aman bro!\n",
      "Aman bro!\n",
      "Aman bro!\n",
      "Aman bro!\n",
      "Aman bro!\n",
      "Aman bro!\n",
      "Aman bro!\n",
      "Aman bro!\n",
      "Aman bro!\n",
      "Aman bro!\n",
      "Aman bro!\n",
      "Aman bro!\n",
      "Aman bro!\n",
      "Aman bro!\n",
      "Aman bro!\n",
      "Aman bro!\n",
      "Aman bro!\n",
      "Aman bro!\n",
      "Aman bro!\n",
      "Aman bro!\n",
      "Aman bro!\n",
      "Aman bro!\n",
      "Aman bro!\n",
      "Aman bro!\n",
      "Aman bro!\n",
      "Aman bro!\n",
      "For loop time is  0.0030014514923095703\n"
     ]
    }
   ],
   "source": [
    "# Find out exicution time of the program\n",
    "initial=ti.time()\n",
    "for i in range(50):\n",
    "    print(\"Aman bro!\")\n",
    "print(\"For loop time is \",(ti.time()-initial))"
   ]
  },
  {
   "cell_type": "code",
   "execution_count": 13,
   "id": "5309ee2f",
   "metadata": {},
   "outputs": [
    {
     "name": "stdout",
     "output_type": "stream",
     "text": [
      "Aman bro!\n",
      "Aman bro!\n",
      "Aman bro!\n",
      "Aman bro!\n",
      "Aman bro!\n",
      "Aman bro!\n",
      "Aman bro!\n",
      "Aman bro!\n",
      "Aman bro!\n",
      "Aman bro!\n",
      "Aman bro!\n",
      "Aman bro!\n",
      "Aman bro!\n",
      "Aman bro!\n",
      "Aman bro!\n",
      "Aman bro!\n",
      "Aman bro!\n",
      "Aman bro!\n",
      "Aman bro!\n",
      "Aman bro!\n",
      "Aman bro!\n",
      "Aman bro!\n",
      "Aman bro!\n",
      "Aman bro!\n",
      "Aman bro!\n",
      "Aman bro!\n",
      "Aman bro!\n",
      "Aman bro!\n",
      "Aman bro!\n",
      "Aman bro!\n",
      "Aman bro!\n",
      "Aman bro!\n",
      "Aman bro!\n",
      "Aman bro!\n",
      "Aman bro!\n",
      "Aman bro!\n",
      "Aman bro!\n",
      "Aman bro!\n",
      "Aman bro!\n",
      "Aman bro!\n",
      "Aman bro!\n",
      "Aman bro!\n",
      "Aman bro!\n",
      "Aman bro!\n",
      "Aman bro!\n",
      "Aman bro!\n",
      "Aman bro!\n",
      "Aman bro!\n",
      "Aman bro!\n",
      "Aman bro!\n",
      "while loop time is  50.378297328948975\n"
     ]
    }
   ],
   "source": [
    "initial=ti.time()\n",
    "i=0\n",
    "while i<50:\n",
    "    print(\"Aman bro!\")\n",
    "    ti.sleep(1)\n",
    "    i+=1\n",
    "print(\"while loop time is \",(ti.time()-initial))"
   ]
  },
  {
   "cell_type": "code",
   "execution_count": 12,
   "id": "d1dab914",
   "metadata": {},
   "outputs": [
    {
     "data": {
      "text/plain": [
       "'Fri Jul 22 11:28:28 2022'"
      ]
     },
     "execution_count": 12,
     "metadata": {},
     "output_type": "execute_result"
    }
   ],
   "source": [
    "localtime=ti.asctime(time.localtime(time.time()))\n",
    "localtime"
   ]
  },
  {
   "cell_type": "code",
   "execution_count": 20,
   "id": "b501de4a",
   "metadata": {},
   "outputs": [
    {
     "name": "stdout",
     "output_type": "stream",
     "text": [
      "0\n",
      "Jarvis buy Aloo,0\n",
      "1\n",
      "2\n",
      "Jarvis buy bhindi,2\n",
      "3\n"
     ]
    }
   ],
   "source": [
    "l=['Aloo','Tamatar','bhindi','ghobi']\n",
    "for index,i in enumerate(l):\n",
    "    print(index)\n",
    "    if index%2==0:\n",
    "        print(f\"Jarvis buy {i},{index}\")"
   ]
  },
  {
   "cell_type": "code",
   "execution_count": null,
   "id": "7538f7e7",
   "metadata": {},
   "outputs": [],
   "source": []
  }
 ],
 "metadata": {
  "kernelspec": {
   "display_name": "Python 3 (ipykernel)",
   "language": "python",
   "name": "python3"
  },
  "language_info": {
   "codemirror_mode": {
    "name": "ipython",
    "version": 3
   },
   "file_extension": ".py",
   "mimetype": "text/x-python",
   "name": "python",
   "nbconvert_exporter": "python",
   "pygments_lexer": "ipython3",
   "version": "3.8.13"
  }
 },
 "nbformat": 4,
 "nbformat_minor": 5
}
