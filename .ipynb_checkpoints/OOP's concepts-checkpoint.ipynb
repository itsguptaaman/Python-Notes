{
 "cells": [
  {
   "cell_type": "code",
   "execution_count": 1,
   "id": "39cb667b",
   "metadata": {},
   "outputs": [],
   "source": [
    "class car:\n",
    "    pass"
   ]
  },
  {
   "cell_type": "code",
   "execution_count": 2,
   "id": "e64ff9eb",
   "metadata": {},
   "outputs": [],
   "source": [
    "audiq7=car()"
   ]
  },
  {
   "cell_type": "code",
   "execution_count": 4,
   "id": "d08f5c94",
   "metadata": {},
   "outputs": [],
   "source": [
    "audiq7.milage=20\n",
    "audiq7.year=2020\n",
    "audiq7.make=345\n",
    "audiq7.model=\"jana\""
   ]
  },
  {
   "cell_type": "code",
   "execution_count": 5,
   "id": "f3ff7dd3",
   "metadata": {},
   "outputs": [
    {
     "data": {
      "text/plain": [
       "20"
      ]
     },
     "execution_count": 5,
     "metadata": {},
     "output_type": "execute_result"
    }
   ],
   "source": [
    "audiq7.milage"
   ]
  },
  {
   "cell_type": "code",
   "execution_count": 6,
   "id": "d1ae83a1",
   "metadata": {},
   "outputs": [
    {
     "data": {
      "text/plain": [
       "345"
      ]
     },
     "execution_count": 6,
     "metadata": {},
     "output_type": "execute_result"
    }
   ],
   "source": [
    "audiq7.make"
   ]
  },
  {
   "cell_type": "code",
   "execution_count": 8,
   "id": "d06a0788",
   "metadata": {},
   "outputs": [],
   "source": [
    "nano=car()"
   ]
  },
  {
   "cell_type": "code",
   "execution_count": 11,
   "id": "03b9bff2",
   "metadata": {},
   "outputs": [],
   "source": [
    "nano.milage=22\n",
    "nano.year=2021\n",
    "nano.make=132\n",
    "nano.model=\"jndjf\"\n",
    "nano.enigineno=2424"
   ]
  },
  {
   "cell_type": "code",
   "execution_count": 12,
   "id": "ffd14a29",
   "metadata": {},
   "outputs": [
    {
     "data": {
      "text/plain": [
       "'jndjf'"
      ]
     },
     "execution_count": 12,
     "metadata": {},
     "output_type": "execute_result"
    }
   ],
   "source": [
    "nano.model"
   ]
  },
  {
   "cell_type": "code",
   "execution_count": 13,
   "id": "a0203e06",
   "metadata": {},
   "outputs": [
    {
     "name": "stdout",
     "output_type": "stream",
     "text": [
      "22 20\n"
     ]
    }
   ],
   "source": [
    "print(nano.milage,audiq7.milage)"
   ]
  },
  {
   "cell_type": "code",
   "execution_count": 14,
   "id": "2832e0d5",
   "metadata": {},
   "outputs": [],
   "source": [
    "class car:\n",
    "    def __init__(self,milage,year,make,model):\n",
    "        self.milage=milage\n",
    "        self.year=year\n",
    "        self.make=make\n",
    "        self.model=model"
   ]
  },
  {
   "cell_type": "code",
   "execution_count": 16,
   "id": "644acea3",
   "metadata": {},
   "outputs": [],
   "source": [
    "nano1=car(20,2020,321,\"jjsiw\")"
   ]
  },
  {
   "cell_type": "code",
   "execution_count": 17,
   "id": "c69ac993",
   "metadata": {},
   "outputs": [],
   "source": [
    "audiq71=(22,2020,4533,\"mfkkmg\")"
   ]
  },
  {
   "cell_type": "code",
   "execution_count": 18,
   "id": "caa9db73",
   "metadata": {},
   "outputs": [
    {
     "data": {
      "text/plain": [
       "321"
      ]
     },
     "execution_count": 18,
     "metadata": {},
     "output_type": "execute_result"
    }
   ],
   "source": [
    "nano1.make"
   ]
  },
  {
   "cell_type": "code",
   "execution_count": 67,
   "id": "29242e7c",
   "metadata": {},
   "outputs": [],
   "source": [
    "class car:\n",
    "    def __init__(aman,mi,y,ma,mo):\n",
    "        aman.milage=mi\n",
    "        aman.year=y\n",
    "        aman.make=ma\n",
    "        aman.model=mo\n",
    "    def age(self,current_year):\n",
    "        return current_year-self.year\n",
    "    def millage(self):\n",
    "        print(\"milage of a car is \",self.milage)\n",
    "    def __str__(c):\n",
    "        return(\"This is my car class\")"
   ]
  },
  {
   "cell_type": "code",
   "execution_count": 68,
   "id": "dec9a4db",
   "metadata": {},
   "outputs": [],
   "source": [
    "nano12=car(20,2020,321,\"jjsiw\")"
   ]
  },
  {
   "cell_type": "code",
   "execution_count": 69,
   "id": "cbbfff4c",
   "metadata": {},
   "outputs": [
    {
     "data": {
      "text/plain": [
       "2"
      ]
     },
     "execution_count": 69,
     "metadata": {},
     "output_type": "execute_result"
    }
   ],
   "source": [
    "nano12.age(2022)"
   ]
  },
  {
   "cell_type": "code",
   "execution_count": 70,
   "id": "6efd9244",
   "metadata": {},
   "outputs": [
    {
     "name": "stdout",
     "output_type": "stream",
     "text": [
      "milage of a car is  20\n"
     ]
    }
   ],
   "source": [
    "nano12.millage()"
   ]
  },
  {
   "cell_type": "code",
   "execution_count": 61,
   "id": "457ff752",
   "metadata": {},
   "outputs": [
    {
     "name": "stdout",
     "output_type": "stream",
     "text": [
      "<__main__.car object at 0x0000017D17914310>\n"
     ]
    }
   ],
   "source": [
    "print(nano12)"
   ]
  },
  {
   "cell_type": "code",
   "execution_count": 71,
   "id": "cfb29e8c",
   "metadata": {},
   "outputs": [
    {
     "name": "stdout",
     "output_type": "stream",
     "text": [
      "This is my car class\n"
     ]
    }
   ],
   "source": [
    "print(nano12)"
   ]
  },
  {
   "cell_type": "code",
   "execution_count": 89,
   "id": "8bc8f0ba",
   "metadata": {},
   "outputs": [],
   "source": [
    "class student:\n",
    "    def __init__(self,name, rollno, joining_date, current_topic):\n",
    "        self.name=name\n",
    "        self.rollno=rollno\n",
    "        self.joining_date=joining_date\n",
    "        self.current_topic=current_topic\n",
    "    \n",
    "    def name_parse(self):\n",
    "        if type(self.name)==list:\n",
    "            for i in self.name:\n",
    "                print(\"The name is {}\".format(i))\n",
    "        else:\n",
    "            print(\"provided name is not in the form of list\")\n",
    "        \n",
    "    \n",
    "    def currenTopic(self):\n",
    "        print(\"Current topic we are discussing is\",self.current_topic)\n",
    "    \n",
    "    def str_roll_no(self):\n",
    "        if type(self.rollno)==str:\n",
    "            print(\"do nothing\")\n",
    "        else:\n",
    "            return str(self.rollno)\n",
    "    \n",
    "    def duration(self,current_date):\n",
    "        print(\"Duration of student in my class is\",current_date-self.joining_date)\n",
    "    \n",
    "    def __str__(self):\n",
    "        return(\"This is Student class where they can enter their own data\")"
   ]
  },
  {
   "cell_type": "code",
   "execution_count": 90,
   "id": "04c62d12",
   "metadata": {},
   "outputs": [],
   "source": [
    "Aman=student(\"Aman\",345,2021,\"OOPs\")"
   ]
  },
  {
   "cell_type": "code",
   "execution_count": 91,
   "id": "1d637b57",
   "metadata": {},
   "outputs": [
    {
     "name": "stdout",
     "output_type": "stream",
     "text": [
      "Duration of student in my class is 1\n"
     ]
    }
   ],
   "source": [
    "Aman.duration(2022)"
   ]
  },
  {
   "cell_type": "code",
   "execution_count": 92,
   "id": "3b47c356",
   "metadata": {},
   "outputs": [
    {
     "data": {
      "text/plain": [
       "'345'"
      ]
     },
     "execution_count": 92,
     "metadata": {},
     "output_type": "execute_result"
    }
   ],
   "source": [
    "Aman.str_roll_no()"
   ]
  },
  {
   "cell_type": "code",
   "execution_count": 93,
   "id": "bf55f20b",
   "metadata": {},
   "outputs": [
    {
     "name": "stdout",
     "output_type": "stream",
     "text": [
      "This is Student class where they can enter their own data\n"
     ]
    }
   ],
   "source": [
    "print(Aman)"
   ]
  },
  {
   "cell_type": "code",
   "execution_count": 94,
   "id": "bec283ab",
   "metadata": {},
   "outputs": [
    {
     "name": "stdout",
     "output_type": "stream",
     "text": [
      "provided name is not in the form of list\n"
     ]
    }
   ],
   "source": [
    "Aman.name_parse()"
   ]
  },
  {
   "cell_type": "code",
   "execution_count": 95,
   "id": "ab927e07",
   "metadata": {},
   "outputs": [],
   "source": [
    "stud=student(['Aman','Kutti','Neha','Harshu'],[241,242,243,245],2021,\"OOPs\")"
   ]
  },
  {
   "cell_type": "code",
   "execution_count": 96,
   "id": "54136c62",
   "metadata": {},
   "outputs": [
    {
     "name": "stdout",
     "output_type": "stream",
     "text": [
      "The name is Aman\n",
      "The name is Kutti\n",
      "The name is Neha\n",
      "The name is Harshu\n"
     ]
    }
   ],
   "source": [
    "stud.name_parse()"
   ]
  },
  {
   "cell_type": "code",
   "execution_count": 10,
   "id": "93ffe79a",
   "metadata": {},
   "outputs": [],
   "source": [
    "class data:\n",
    "    \n",
    "    def __init__(self,filename,filetype,date,size):\n",
    "        self.filename=filename\n",
    "        self.filetype=filetype\n",
    "        self.date=date\n",
    "        self.size=size\n",
    "    \n",
    "    def file_open(self):\n",
    "#         try:\n",
    "#             f=open(self.filename+self.filetype,'w')\n",
    "#             f.write(\"This is Object Oriented Programming in Python\")\n",
    "#             f.close()\n",
    "#         except Exception as e:\n",
    "#             print(\"There is an error\",e)\n",
    "        \n",
    "        try:\n",
    "            with open(self.filename+self.filetype,'w') as file:\n",
    "                file.write(\"This is Object Oriented Programming in Python\")\n",
    "                file.close()\n",
    "        except Exception as e:\n",
    "            print(\"There is an error\",e)\n",
    "            \n",
    "    def file_read(self):\n",
    "#         try:\n",
    "#             f=open(self.filename+self.filetype,'r')\n",
    "#             print(f.read())\n",
    "#             f.close()\n",
    "#         except Exception as e:\n",
    "#             print(\"There is an error\",e)\n",
    "\n",
    "        try:\n",
    "            with open(self.filename+self.filetype,'r') as file:\n",
    "                print(file.read())\n",
    "        except Exception as e:\n",
    "            print(\"There is an error\",e)\n",
    "    \n",
    "    def file_append(self):\n",
    "#         try:\n",
    "#             f=open(self.filename+self.filetype,'a')\n",
    "#             f.write(\"\\nThis is new line\")\n",
    "#             f.close()\n",
    "#         except Exception as e:\n",
    "#             print(\"There is an error\",e)\n",
    "        \n",
    "        try:\n",
    "            with open(self.filename+self.filetype,'a') as file:\n",
    "                file.write(\"\\nThis is new line\")\n",
    "                file.close()\n",
    "        except Exception as e:\n",
    "            print(\"There is an error\",e)\n",
    "    \n",
    "    def logger(self):\n",
    "        import logging as lg\n",
    "        lg.basicConfig(filename=\"tryme.log\",level=lg.INFO,format='%(asctime)s %(message)s')\n",
    "        st=input(\"Enter the info you want to enter\")\n",
    "        lg.info(st)\n",
    "        \n",
    "    def read_log(self):\n",
    "        f=open(\"tryme.log\",'r')\n",
    "        print(f.read())\n",
    "        f.close()\n",
    "    \n",
    "    def __str__(self):\n",
    "        return(\"This task was given in oops class\")"
   ]
  },
  {
   "cell_type": "code",
   "execution_count": 11,
   "id": "ffbbf2cc",
   "metadata": {},
   "outputs": [],
   "source": [
    "x1=data(\"tryme\",\".txt\",26,10)"
   ]
  },
  {
   "cell_type": "code",
   "execution_count": 12,
   "id": "284f6013",
   "metadata": {},
   "outputs": [],
   "source": [
    "x1.file_open()"
   ]
  },
  {
   "cell_type": "code",
   "execution_count": 13,
   "id": "9ae0ce92",
   "metadata": {},
   "outputs": [
    {
     "name": "stdout",
     "output_type": "stream",
     "text": [
      "This is Object Oriented Programming in Python\n"
     ]
    }
   ],
   "source": [
    "x1.file_read()"
   ]
  },
  {
   "cell_type": "code",
   "execution_count": 14,
   "id": "baacd909",
   "metadata": {},
   "outputs": [],
   "source": [
    "x1.file_append()"
   ]
  },
  {
   "cell_type": "code",
   "execution_count": 15,
   "id": "0a473783",
   "metadata": {},
   "outputs": [
    {
     "name": "stdout",
     "output_type": "stream",
     "text": [
      "This is Object Oriented Programming in Python\n",
      "This is new line\n"
     ]
    }
   ],
   "source": [
    "x1.file_read()"
   ]
  },
  {
   "cell_type": "code",
   "execution_count": 16,
   "id": "0ee34789",
   "metadata": {},
   "outputs": [
    {
     "name": "stdout",
     "output_type": "stream",
     "text": [
      "Enter the info you want to enterThis is with keyword\n"
     ]
    }
   ],
   "source": [
    "x1.logger()"
   ]
  },
  {
   "cell_type": "code",
   "execution_count": 17,
   "id": "5da05ece",
   "metadata": {},
   "outputs": [
    {
     "name": "stdout",
     "output_type": "stream",
     "text": [
      "2022-06-26 21:42:06,178 Code exicuted successfully\n",
      "2022-06-26 21:42:59,938 Code exicuted successfully\n",
      "2022-06-26 21:54:38,499 This is with keyword\n",
      "\n"
     ]
    }
   ],
   "source": [
    "x1.read_log()"
   ]
  },
  {
   "cell_type": "markdown",
   "id": "d7301532",
   "metadata": {},
   "source": [
    "### Abstraction in Python"
   ]
  },
  {
   "cell_type": "code",
   "execution_count": null,
   "id": "a35d1024",
   "metadata": {},
   "outputs": [],
   "source": [
    "no underscore means it is public\n",
    "__a this means variable is private\n",
    "_a means the variable is protected"
   ]
  },
  {
   "cell_type": "code",
   "execution_count": 10,
   "id": "ade37039",
   "metadata": {},
   "outputs": [],
   "source": [
    "class test:\n",
    "    def __init__(self,a,b,c,d):\n",
    "        self.__a=a\n",
    "        self.b=b\n",
    "        self.c=c\n",
    "        self.d=d\n",
    "    \n",
    "    def test_custom(self,y):\n",
    "        return y-self.__a \n",
    "    \n",
    "    def __str__(self):\n",
    "        return(\"This is my test code for absraction\")"
   ]
  },
  {
   "cell_type": "code",
   "execution_count": 11,
   "id": "51f6c49a",
   "metadata": {},
   "outputs": [],
   "source": [
    "o=test(4,5,6,7)"
   ]
  },
  {
   "cell_type": "code",
   "execution_count": 12,
   "id": "361ebc79",
   "metadata": {},
   "outputs": [
    {
     "ename": "AttributeError",
     "evalue": "'test' object has no attribute '_a'",
     "output_type": "error",
     "traceback": [
      "\u001b[1;31m---------------------------------------------------------------------------\u001b[0m",
      "\u001b[1;31mAttributeError\u001b[0m                            Traceback (most recent call last)",
      "\u001b[1;32m<ipython-input-12-6dc53d5d25f2>\u001b[0m in \u001b[0;36m<module>\u001b[1;34m\u001b[0m\n\u001b[1;32m----> 1\u001b[1;33m \u001b[0mo\u001b[0m\u001b[1;33m.\u001b[0m\u001b[0m_a\u001b[0m\u001b[1;33m\u001b[0m\u001b[1;33m\u001b[0m\u001b[0m\n\u001b[0m",
      "\u001b[1;31mAttributeError\u001b[0m: 'test' object has no attribute '_a'"
     ]
    }
   ],
   "source": [
    "o._a"
   ]
  },
  {
   "cell_type": "code",
   "execution_count": 13,
   "id": "65cff76c",
   "metadata": {},
   "outputs": [
    {
     "data": {
      "text/plain": [
       "4"
      ]
     },
     "execution_count": 13,
     "metadata": {},
     "output_type": "execute_result"
    }
   ],
   "source": [
    "# There is a way to call private varible in python\n",
    "o._test__a"
   ]
  },
  {
   "cell_type": "markdown",
   "id": "deec44a6",
   "metadata": {},
   "source": [
    "### Inheritance in Python"
   ]
  },
  {
   "cell_type": "code",
   "execution_count": 14,
   "id": "de40a18c",
   "metadata": {},
   "outputs": [],
   "source": [
    "class test1(test):\n",
    "    def __init__(self,j,*args):\n",
    "        super(test1,self).__init__(*args)\n",
    "        self.j=j"
   ]
  },
  {
   "cell_type": "code",
   "execution_count": 15,
   "id": "fc4c227f",
   "metadata": {},
   "outputs": [],
   "source": [
    "m=test1(4,5,6,7,8)"
   ]
  },
  {
   "cell_type": "code",
   "execution_count": 18,
   "id": "ab81eaa4",
   "metadata": {},
   "outputs": [
    {
     "data": {
      "text/plain": [
       "4"
      ]
     },
     "execution_count": 18,
     "metadata": {},
     "output_type": "execute_result"
    }
   ],
   "source": [
    "m.test_custom(9)"
   ]
  },
  {
   "cell_type": "code",
   "execution_count": 20,
   "id": "88639dee",
   "metadata": {},
   "outputs": [
    {
     "data": {
      "text/plain": [
       "6"
      ]
     },
     "execution_count": 20,
     "metadata": {},
     "output_type": "execute_result"
    }
   ],
   "source": [
    "m.b"
   ]
  },
  {
   "cell_type": "code",
   "execution_count": 21,
   "id": "f03e0572",
   "metadata": {},
   "outputs": [
    {
     "data": {
      "text/plain": [
       "7"
      ]
     },
     "execution_count": 21,
     "metadata": {},
     "output_type": "execute_result"
    }
   ],
   "source": [
    "m.c"
   ]
  },
  {
   "cell_type": "code",
   "execution_count": 51,
   "id": "21d4f678",
   "metadata": {},
   "outputs": [],
   "source": [
    "class test:\n",
    "    def __init__(self):\n",
    "        pass\n",
    "    def a(self):\n",
    "        print(\"This is a from Test\")\n",
    "    \n",
    "    def __str__(self):\n",
    "        print(\"This is from test\")\n",
    "\n",
    "class test1:\n",
    "    def __init__(self):\n",
    "        pass \n",
    "    \n",
    "    def a(self):\n",
    "        print(\"This is a from Test1\")\n",
    "    \n",
    "    def __str__(self):\n",
    "        print(\"This is from test1\")"
   ]
  },
  {
   "cell_type": "code",
   "execution_count": 54,
   "id": "e3f828bf",
   "metadata": {},
   "outputs": [
    {
     "ename": "TypeError",
     "evalue": "duplicate base class test1",
     "output_type": "error",
     "traceback": [
      "\u001b[1;31m---------------------------------------------------------------------------\u001b[0m",
      "\u001b[1;31mTypeError\u001b[0m                                 Traceback (most recent call last)",
      "\u001b[1;32m<ipython-input-54-414d1f5f7e83>\u001b[0m in \u001b[0;36m<module>\u001b[1;34m\u001b[0m\n\u001b[1;32m----> 1\u001b[1;33m \u001b[1;32mclass\u001b[0m \u001b[0mtest2\u001b[0m\u001b[1;33m(\u001b[0m\u001b[0mtest1\u001b[0m\u001b[1;33m,\u001b[0m\u001b[0mtest1\u001b[0m\u001b[1;33m)\u001b[0m\u001b[1;33m:\u001b[0m\u001b[1;33m\u001b[0m\u001b[1;33m\u001b[0m\u001b[0m\n\u001b[0m\u001b[0;32m      2\u001b[0m     \u001b[1;32mdef\u001b[0m \u001b[0m__init__\u001b[0m\u001b[1;33m(\u001b[0m\u001b[0mself\u001b[0m\u001b[1;33m)\u001b[0m\u001b[1;33m:\u001b[0m\u001b[1;33m\u001b[0m\u001b[1;33m\u001b[0m\u001b[0m\n\u001b[0;32m      3\u001b[0m         \u001b[0msuper\u001b[0m\u001b[1;33m(\u001b[0m\u001b[0mtest\u001b[0m\u001b[1;33m,\u001b[0m\u001b[0mself\u001b[0m\u001b[1;33m)\u001b[0m\u001b[1;33m\u001b[0m\u001b[1;33m\u001b[0m\u001b[0m\n\u001b[0;32m      4\u001b[0m         \u001b[0msuper\u001b[0m\u001b[1;33m(\u001b[0m\u001b[0mtest1\u001b[0m\u001b[1;33m,\u001b[0m\u001b[0mself\u001b[0m\u001b[1;33m)\u001b[0m\u001b[1;33m\u001b[0m\u001b[1;33m\u001b[0m\u001b[0m\n",
      "\u001b[1;31mTypeError\u001b[0m: duplicate base class test1"
     ]
    }
   ],
   "source": [
    "class test2(test1,test1):\n",
    "    def __init__(self):\n",
    "        super(test,self)\n",
    "        super(test1,self)"
   ]
  },
  {
   "cell_type": "code",
   "execution_count": 55,
   "id": "6f8f953c",
   "metadata": {},
   "outputs": [
    {
     "ename": "TypeError",
     "evalue": "super(type, obj): obj must be an instance or subtype of type",
     "output_type": "error",
     "traceback": [
      "\u001b[1;31m---------------------------------------------------------------------------\u001b[0m",
      "\u001b[1;31mTypeError\u001b[0m                                 Traceback (most recent call last)",
      "\u001b[1;32m<ipython-input-55-492a063fbb49>\u001b[0m in \u001b[0;36m<module>\u001b[1;34m\u001b[0m\n\u001b[1;32m----> 1\u001b[1;33m \u001b[0mt\u001b[0m\u001b[1;33m=\u001b[0m\u001b[0mtest2\u001b[0m\u001b[1;33m(\u001b[0m\u001b[1;33m)\u001b[0m\u001b[1;33m\u001b[0m\u001b[1;33m\u001b[0m\u001b[0m\n\u001b[0m\u001b[0;32m      2\u001b[0m \u001b[0mt\u001b[0m\u001b[1;33m.\u001b[0m\u001b[0ma\u001b[0m\u001b[1;33m(\u001b[0m\u001b[1;33m)\u001b[0m\u001b[1;33m\u001b[0m\u001b[1;33m\u001b[0m\u001b[0m\n",
      "\u001b[1;32m<ipython-input-47-5f6cd42571fb>\u001b[0m in \u001b[0;36m__init__\u001b[1;34m(self)\u001b[0m\n\u001b[0;32m      1\u001b[0m \u001b[1;32mclass\u001b[0m \u001b[0mtest2\u001b[0m\u001b[1;33m(\u001b[0m\u001b[1;33m)\u001b[0m\u001b[1;33m:\u001b[0m\u001b[1;33m\u001b[0m\u001b[1;33m\u001b[0m\u001b[0m\n\u001b[0;32m      2\u001b[0m     \u001b[1;32mdef\u001b[0m \u001b[0m__init__\u001b[0m\u001b[1;33m(\u001b[0m\u001b[0mself\u001b[0m\u001b[1;33m)\u001b[0m\u001b[1;33m:\u001b[0m\u001b[1;33m\u001b[0m\u001b[1;33m\u001b[0m\u001b[0m\n\u001b[1;32m----> 3\u001b[1;33m         \u001b[0msuper\u001b[0m\u001b[1;33m(\u001b[0m\u001b[0mtest\u001b[0m\u001b[1;33m,\u001b[0m\u001b[0mself\u001b[0m\u001b[1;33m)\u001b[0m\u001b[1;33m\u001b[0m\u001b[1;33m\u001b[0m\u001b[0m\n\u001b[0m\u001b[0;32m      4\u001b[0m         \u001b[0msuper\u001b[0m\u001b[1;33m(\u001b[0m\u001b[0mtest1\u001b[0m\u001b[1;33m,\u001b[0m\u001b[0mself\u001b[0m\u001b[1;33m)\u001b[0m\u001b[1;33m\u001b[0m\u001b[1;33m\u001b[0m\u001b[0m\n",
      "\u001b[1;31mTypeError\u001b[0m: super(type, obj): obj must be an instance or subtype of type"
     ]
    }
   ],
   "source": [
    "t=test2()\n",
    "t.a()"
   ]
  },
  {
   "cell_type": "markdown",
   "id": "3b4d4f3e",
   "metadata": {},
   "source": [
    "### Encapsulation"
   ]
  },
  {
   "cell_type": "code",
   "execution_count": 56,
   "id": "20497c6a",
   "metadata": {},
   "outputs": [],
   "source": [
    "class test:\n",
    "    def __init__(self,a,b,c):\n",
    "        self.a=a\n",
    "        self.b=b\n",
    "        self.c=c\n",
    "        \n",
    "    def __str__(self):\n",
    "        return \"This is from test\"\n",
    "\n",
    "class test1:\n",
    "    def __init__(self,a,b,c):\n",
    "        self.a=a\n",
    "        self.b=b\n",
    "        self.c=c\n",
    "        \n",
    "    def __str__(self):\n",
    "        return \"This is from test1\"\n",
    "\n",
    "class test2:\n",
    "    def __init__(self,a,b,c):\n",
    "        self.a=a\n",
    "        self.b=b\n",
    "        self.c=c\n",
    "        \n",
    "    def __str__(self):\n",
    "        return \"This is from test2\"\n",
    "\n",
    "class final:\n",
    "    def __init__(self,x,y,z):\n",
    "        self.x=x\n",
    "        self.y=y\n",
    "        self.z=z\n",
    "        \n",
    "    def __str__(self):\n",
    "        return str(self.x)+ \" \" + str(self.y)+ \" \" + str(self.z)\n"
   ]
  },
  {
   "cell_type": "code",
   "execution_count": 57,
   "id": "a1f9bb69",
   "metadata": {},
   "outputs": [],
   "source": [
    "t=test(4,5,6)\n",
    "t1=test1(3,4,5)\n",
    "t2=test2(5,6,7)\n",
    "f=final(t,t1,t2)"
   ]
  },
  {
   "cell_type": "markdown",
   "id": "0a7e69d4",
   "metadata": {},
   "source": [
    "### Polymorphism :-Multiple forms "
   ]
  },
  {
   "cell_type": "code",
   "execution_count": 83,
   "id": "58500912",
   "metadata": {},
   "outputs": [],
   "source": [
    "def test(a,b):\n",
    "    return a+b"
   ]
  },
  {
   "cell_type": "code",
   "execution_count": 87,
   "id": "6bacd86e",
   "metadata": {},
   "outputs": [
    {
     "name": "stdout",
     "output_type": "stream",
     "text": [
      "11\n",
      "Aman Gupta\n",
      "[1, 2, 3, 4, 5] [6, 7, 8, 9]\n"
     ]
    }
   ],
   "source": [
    "print(5+6)\n",
    "print(\"Aman\",\"Gupta\")\n",
    "print([1,2,3,4,5],[6,7,8,9])"
   ]
  },
  {
   "cell_type": "code",
   "execution_count": null,
   "id": "36d76c28",
   "metadata": {},
   "outputs": [],
   "source": []
  },
  {
   "cell_type": "code",
   "execution_count": 21,
   "id": "f88461b3",
   "metadata": {},
   "outputs": [
    {
     "ename": "NameError",
     "evalue": "name 'index' is not defined",
     "output_type": "error",
     "traceback": [
      "\u001b[1;31m---------------------------------------------------------------------------\u001b[0m",
      "\u001b[1;31mNameError\u001b[0m                                 Traceback (most recent call last)",
      "\u001b[1;32m<ipython-input-21-3a3ead16ff0b>\u001b[0m in \u001b[0;36m<module>\u001b[1;34m\u001b[0m\n\u001b[0;32m      2\u001b[0m     \u001b[1;32mreturn\u001b[0m \u001b[0mindex\u001b[0m\u001b[1;33m(\u001b[0m\u001b[0ms\u001b[0m\u001b[1;33m)\u001b[0m\u001b[1;33m\u001b[0m\u001b[1;33m\u001b[0m\u001b[0m\n\u001b[0;32m      3\u001b[0m \u001b[0ms\u001b[0m\u001b[1;33m=\u001b[0m\u001b[1;34m\"This is a String\"\u001b[0m\u001b[1;33m\u001b[0m\u001b[1;33m\u001b[0m\u001b[0m\n\u001b[1;32m----> 4\u001b[1;33m \u001b[0mstring_return\u001b[0m\u001b[1;33m(\u001b[0m\u001b[0ms\u001b[0m\u001b[1;33m)\u001b[0m\u001b[1;33m\u001b[0m\u001b[1;33m\u001b[0m\u001b[0m\n\u001b[0m",
      "\u001b[1;32m<ipython-input-21-3a3ead16ff0b>\u001b[0m in \u001b[0;36mstring_return\u001b[1;34m(s)\u001b[0m\n\u001b[0;32m      1\u001b[0m \u001b[1;32mdef\u001b[0m \u001b[0mstring_return\u001b[0m\u001b[1;33m(\u001b[0m\u001b[0ms\u001b[0m\u001b[1;33m)\u001b[0m\u001b[1;33m:\u001b[0m\u001b[1;33m\u001b[0m\u001b[1;33m\u001b[0m\u001b[0m\n\u001b[1;32m----> 2\u001b[1;33m     \u001b[1;32mreturn\u001b[0m \u001b[0mindex\u001b[0m\u001b[1;33m(\u001b[0m\u001b[0ms\u001b[0m\u001b[1;33m)\u001b[0m\u001b[1;33m\u001b[0m\u001b[1;33m\u001b[0m\u001b[0m\n\u001b[0m\u001b[0;32m      3\u001b[0m \u001b[0ms\u001b[0m\u001b[1;33m=\u001b[0m\u001b[1;34m\"This is a String\"\u001b[0m\u001b[1;33m\u001b[0m\u001b[1;33m\u001b[0m\u001b[0m\n\u001b[0;32m      4\u001b[0m \u001b[0mstring_return\u001b[0m\u001b[1;33m(\u001b[0m\u001b[0ms\u001b[0m\u001b[1;33m)\u001b[0m\u001b[1;33m\u001b[0m\u001b[1;33m\u001b[0m\u001b[0m\n",
      "\u001b[1;31mNameError\u001b[0m: name 'index' is not defined"
     ]
    }
   ],
   "source": [
    "def string_return(s):\n",
    "    return s.\n",
    "s=\"This is a String\"\n",
    "s\n",
    "string_return(s)"
   ]
  },
  {
   "cell_type": "code",
   "execution_count": 17,
   "id": "72d85793",
   "metadata": {},
   "outputs": [
    {
     "name": "stdout",
     "output_type": "stream",
     "text": [
      "This is a String"
     ]
    }
   ],
   "source": [
    "i=0\n",
    "while(i<=len(s)):\n",
    "    if i<len(s):\n",
    "        print(next(x), end=\"\")\n",
    "    i+=1"
   ]
  },
  {
   "cell_type": "code",
   "execution_count": null,
   "id": "57361e7f",
   "metadata": {},
   "outputs": [],
   "source": []
  }
 ],
 "metadata": {
  "kernelspec": {
   "display_name": "Python 3",
   "language": "python",
   "name": "python3"
  },
  "language_info": {
   "codemirror_mode": {
    "name": "ipython",
    "version": 3
   },
   "file_extension": ".py",
   "mimetype": "text/x-python",
   "name": "python",
   "nbconvert_exporter": "python",
   "pygments_lexer": "ipython3",
   "version": "3.8.8"
  }
 },
 "nbformat": 4,
 "nbformat_minor": 5
}
