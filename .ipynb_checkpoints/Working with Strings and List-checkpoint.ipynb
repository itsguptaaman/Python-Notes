{
 "cells": [
  {
   "cell_type": "code",
   "execution_count": 1,
   "id": "c1806bfb",
   "metadata": {},
   "outputs": [],
   "source": [
    "s=\"This is my first class to full stack data science that's why i have joined\""
   ]
  },
  {
   "cell_type": "code",
   "execution_count": 3,
   "id": "35758eaf",
   "metadata": {},
   "outputs": [
    {
     "data": {
      "text/plain": [
       "'T'"
      ]
     },
     "execution_count": 3,
     "metadata": {},
     "output_type": "execute_result"
    }
   ],
   "source": [
    "s[0]"
   ]
  },
  {
   "cell_type": "code",
   "execution_count": 4,
   "id": "fa9968ee",
   "metadata": {},
   "outputs": [
    {
     "data": {
      "text/plain": [
       "74"
      ]
     },
     "execution_count": 4,
     "metadata": {},
     "output_type": "execute_result"
    }
   ],
   "source": [
    "len(s)"
   ]
  },
  {
   "cell_type": "code",
   "execution_count": 11,
   "id": "ea87c4c7",
   "metadata": {},
   "outputs": [
    {
     "data": {
      "text/plain": [
       "\"denioj evah i yhw s'taht ecneics atad kcats lluf ot ssalc tsrif ym si sihT\""
      ]
     },
     "execution_count": 11,
     "metadata": {},
     "output_type": "execute_result"
    }
   ],
   "source": [
    "s[::-1]"
   ]
  },
  {
   "cell_type": "code",
   "execution_count": 13,
   "id": "daba1707",
   "metadata": {},
   "outputs": [],
   "source": [
    "# for i in range(len(s)):\n",
    "#     print(s[-i])"
   ]
  },
  {
   "cell_type": "code",
   "execution_count": 14,
   "id": "50b64334",
   "metadata": {},
   "outputs": [
    {
     "ename": "TypeError",
     "evalue": "'str' object does not support item assignment",
     "output_type": "error",
     "traceback": [
      "\u001b[1;31m---------------------------------------------------------------------------\u001b[0m",
      "\u001b[1;31mTypeError\u001b[0m                                 Traceback (most recent call last)",
      "\u001b[1;32m<ipython-input-14-e50119e04be2>\u001b[0m in \u001b[0;36m<module>\u001b[1;34m\u001b[0m\n\u001b[1;32m----> 1\u001b[1;33m \u001b[0ms\u001b[0m\u001b[1;33m[\u001b[0m\u001b[1;36m0\u001b[0m\u001b[1;33m]\u001b[0m\u001b[1;33m=\u001b[0m\u001b[1;34m't'\u001b[0m\u001b[1;33m\u001b[0m\u001b[1;33m\u001b[0m\u001b[0m\n\u001b[0m",
      "\u001b[1;31mTypeError\u001b[0m: 'str' object does not support item assignment"
     ]
    }
   ],
   "source": [
    "s[0]='t'"
   ]
  },
  {
   "cell_type": "code",
   "execution_count": 15,
   "id": "41481d25",
   "metadata": {},
   "outputs": [
    {
     "data": {
      "text/plain": [
       "['aman', 12, 13.5, True]"
      ]
     },
     "execution_count": 15,
     "metadata": {},
     "output_type": "execute_result"
    }
   ],
   "source": [
    "l=['aman',12,13.5,True]\n",
    "l"
   ]
  },
  {
   "cell_type": "code",
   "execution_count": 16,
   "id": "7246740e",
   "metadata": {},
   "outputs": [],
   "source": [
    "l[0]='Aman'"
   ]
  },
  {
   "cell_type": "code",
   "execution_count": 17,
   "id": "21991c7e",
   "metadata": {},
   "outputs": [
    {
     "data": {
      "text/plain": [
       "['Aman', 12, 13.5, True]"
      ]
     },
     "execution_count": 17,
     "metadata": {},
     "output_type": "execute_result"
    }
   ],
   "source": [
    "l"
   ]
  },
  {
   "cell_type": "code",
   "execution_count": 18,
   "id": "5937b5eb",
   "metadata": {},
   "outputs": [
    {
     "data": {
      "text/plain": [
       "'amangupta'"
      ]
     },
     "execution_count": 18,
     "metadata": {},
     "output_type": "execute_result"
    }
   ],
   "source": [
    "\"aman\"+\"gupta\""
   ]
  },
  {
   "cell_type": "code",
   "execution_count": 20,
   "id": "a7a29256",
   "metadata": {},
   "outputs": [
    {
     "data": {
      "text/plain": [
       "'aman20'"
      ]
     },
     "execution_count": 20,
     "metadata": {},
     "output_type": "execute_result"
    }
   ],
   "source": [
    "\"aman\"+str(20)"
   ]
  },
  {
   "cell_type": "code",
   "execution_count": 21,
   "id": "2901b6f7",
   "metadata": {},
   "outputs": [
    {
     "ename": "TypeError",
     "evalue": "can only concatenate str (not \"list\") to str",
     "output_type": "error",
     "traceback": [
      "\u001b[1;31m---------------------------------------------------------------------------\u001b[0m",
      "\u001b[1;31mTypeError\u001b[0m                                 Traceback (most recent call last)",
      "\u001b[1;32m<ipython-input-21-ea5fdc083ab5>\u001b[0m in \u001b[0;36m<module>\u001b[1;34m\u001b[0m\n\u001b[1;32m----> 1\u001b[1;33m \u001b[1;34m\"aman\"\u001b[0m\u001b[1;33m+\u001b[0m\u001b[1;33m[\u001b[0m\u001b[1;34m\"gupta\"\u001b[0m\u001b[1;33m,\u001b[0m\u001b[1;36m12\u001b[0m\u001b[1;33m,\u001b[0m\u001b[1;36m3\u001b[0m\u001b[1;33m]\u001b[0m\u001b[1;33m\u001b[0m\u001b[1;33m\u001b[0m\u001b[0m\n\u001b[0m",
      "\u001b[1;31mTypeError\u001b[0m: can only concatenate str (not \"list\") to str"
     ]
    }
   ],
   "source": [
    "\"aman\"+[\"gupta\",12,3]"
   ]
  },
  {
   "cell_type": "code",
   "execution_count": 22,
   "id": "d7c8dc79",
   "metadata": {},
   "outputs": [
    {
     "data": {
      "text/plain": [
       "'amanamanaman'"
      ]
     },
     "execution_count": 22,
     "metadata": {},
     "output_type": "execute_result"
    }
   ],
   "source": [
    "\"aman\"*3"
   ]
  },
  {
   "cell_type": "code",
   "execution_count": 38,
   "id": "465374d2",
   "metadata": {},
   "outputs": [],
   "source": [
    "s=\"my name is aman, and i am 22 yr old\""
   ]
  },
  {
   "cell_type": "code",
   "execution_count": 37,
   "id": "e879b4f3",
   "metadata": {},
   "outputs": [
    {
     "name": "stdout",
     "output_type": "stream",
     "text": [
      "3\n",
      "4\n",
      "5\n",
      "6\n"
     ]
    }
   ],
   "source": [
    "x=s.find('name')\n",
    "for i in range(len('name')):\n",
    "    print(x+i)"
   ]
  },
  {
   "cell_type": "code",
   "execution_count": 39,
   "id": "e350bce8",
   "metadata": {},
   "outputs": [
    {
     "data": {
      "text/plain": [
       "['my name is aman', ' and i am 22 yr old']"
      ]
     },
     "execution_count": 39,
     "metadata": {},
     "output_type": "execute_result"
    }
   ],
   "source": [
    "s.split(',')"
   ]
  },
  {
   "cell_type": "code",
   "execution_count": 40,
   "id": "3c6049b1",
   "metadata": {},
   "outputs": [
    {
     "data": {
      "text/plain": [
       "'MY NAME IS AMAN, AND I AM 22 YR OLD'"
      ]
     },
     "execution_count": 40,
     "metadata": {},
     "output_type": "execute_result"
    }
   ],
   "source": [
    "s.upper()"
   ]
  },
  {
   "cell_type": "code",
   "execution_count": 41,
   "id": "6085bbf0",
   "metadata": {},
   "outputs": [
    {
     "data": {
      "text/plain": [
       "'my name is aman, and i am 22 yr old'"
      ]
     },
     "execution_count": 41,
     "metadata": {},
     "output_type": "execute_result"
    }
   ],
   "source": [
    "s.lower()"
   ]
  },
  {
   "cell_type": "code",
   "execution_count": 42,
   "id": "834542e1",
   "metadata": {},
   "outputs": [
    {
     "data": {
      "text/plain": [
       "'My Name Is Aman, And I Am 22 Yr Old'"
      ]
     },
     "execution_count": 42,
     "metadata": {},
     "output_type": "execute_result"
    }
   ],
   "source": [
    "s.title()"
   ]
  },
  {
   "cell_type": "code",
   "execution_count": 43,
   "id": "85e77652",
   "metadata": {},
   "outputs": [
    {
     "data": {
      "text/plain": [
       "'MY NAME IS AMAN, AND I AM 22 YR OLD'"
      ]
     },
     "execution_count": 43,
     "metadata": {},
     "output_type": "execute_result"
    }
   ],
   "source": [
    "s.swapcase()"
   ]
  },
  {
   "cell_type": "code",
   "execution_count": 45,
   "id": "34a685a7",
   "metadata": {},
   "outputs": [
    {
     "data": {
      "text/plain": [
       "'maya anaaamaea aiasa aaamaaana,a aaanada aia aaama a2a2a ayara aoalad'"
      ]
     },
     "execution_count": 45,
     "metadata": {},
     "output_type": "execute_result"
    }
   ],
   "source": [
    "\"a\".join(s)"
   ]
  },
  {
   "cell_type": "code",
   "execution_count": 49,
   "id": "e87dcedf",
   "metadata": {},
   "outputs": [
    {
     "data": {
      "text/plain": [
       "['d',\n",
       " 'l',\n",
       " 'o',\n",
       " ' ',\n",
       " 'r',\n",
       " 'y',\n",
       " ' ',\n",
       " '2',\n",
       " '2',\n",
       " ' ',\n",
       " 'm',\n",
       " 'a',\n",
       " ' ',\n",
       " 'i',\n",
       " ' ',\n",
       " 'd',\n",
       " 'n',\n",
       " 'a',\n",
       " ' ',\n",
       " ',',\n",
       " 'n',\n",
       " 'a',\n",
       " 'm',\n",
       " 'a',\n",
       " ' ',\n",
       " 's',\n",
       " 'i',\n",
       " ' ',\n",
       " 'e',\n",
       " 'm',\n",
       " 'a',\n",
       " 'n',\n",
       " ' ',\n",
       " 'y',\n",
       " 'm']"
      ]
     },
     "execution_count": 49,
     "metadata": {},
     "output_type": "execute_result"
    }
   ],
   "source": [
    "list(reversed(s))"
   ]
  },
  {
   "cell_type": "code",
   "execution_count": 51,
   "id": "5346302e",
   "metadata": {},
   "outputs": [
    {
     "name": "stdout",
     "output_type": "stream",
     "text": [
      "d\n",
      "l\n",
      "o\n",
      " \n",
      "r\n",
      "y\n",
      " \n",
      "2\n",
      "2\n",
      " \n",
      "m\n",
      "a\n",
      " \n",
      "i\n",
      " \n",
      "d\n",
      "n\n",
      "a\n",
      " \n",
      ",\n",
      "n\n",
      "a\n",
      "m\n",
      "a\n",
      " \n",
      "s\n",
      "i\n",
      " \n",
      "e\n",
      "m\n",
      "a\n",
      "n\n",
      " \n",
      "y\n",
      "m\n"
     ]
    }
   ],
   "source": [
    "for i in reversed(s):\n",
    "    print(i)"
   ]
  },
  {
   "cell_type": "code",
   "execution_count": 52,
   "id": "49fa3744",
   "metadata": {},
   "outputs": [],
   "source": [
    "name=\"    ama n     \""
   ]
  },
  {
   "cell_type": "code",
   "execution_count": 53,
   "id": "9fc6b8f9",
   "metadata": {},
   "outputs": [
    {
     "data": {
      "text/plain": [
       "'ama n'"
      ]
     },
     "execution_count": 53,
     "metadata": {},
     "output_type": "execute_result"
    }
   ],
   "source": [
    "name.strip()"
   ]
  },
  {
   "cell_type": "code",
   "execution_count": 54,
   "id": "f370fdba",
   "metadata": {},
   "outputs": [
    {
     "data": {
      "text/plain": [
       "'ama n     '"
      ]
     },
     "execution_count": 54,
     "metadata": {},
     "output_type": "execute_result"
    }
   ],
   "source": [
    "name.lstrip()"
   ]
  },
  {
   "cell_type": "code",
   "execution_count": 55,
   "id": "3b133265",
   "metadata": {},
   "outputs": [
    {
     "data": {
      "text/plain": [
       "'    ama n'"
      ]
     },
     "execution_count": 55,
     "metadata": {},
     "output_type": "execute_result"
    }
   ],
   "source": [
    "name.rstrip()"
   ]
  },
  {
   "cell_type": "code",
   "execution_count": 56,
   "id": "200779a2",
   "metadata": {},
   "outputs": [
    {
     "data": {
      "text/plain": [
       "'Greetings from me'"
      ]
     },
     "execution_count": 56,
     "metadata": {},
     "output_type": "execute_result"
    }
   ],
   "source": [
    "n=\"Greetings from me\"\n",
    "n"
   ]
  },
  {
   "cell_type": "code",
   "execution_count": 60,
   "id": "77042ec9",
   "metadata": {},
   "outputs": [
    {
     "data": {
      "text/plain": [
       "'Gxretings from me'"
      ]
     },
     "execution_count": 60,
     "metadata": {},
     "output_type": "execute_result"
    }
   ],
   "source": [
    "n=n.replace('re','xr')\n",
    "n"
   ]
  },
  {
   "cell_type": "code",
   "execution_count": 61,
   "id": "247da0f8",
   "metadata": {},
   "outputs": [],
   "source": [
    "s=\"aman\""
   ]
  },
  {
   "cell_type": "code",
   "execution_count": 63,
   "id": "34fd35ee",
   "metadata": {},
   "outputs": [
    {
     "data": {
      "text/plain": [
       "'********aman********'"
      ]
     },
     "execution_count": 63,
     "metadata": {},
     "output_type": "execute_result"
    }
   ],
   "source": [
    "s.center(20,'*')"
   ]
  },
  {
   "cell_type": "code",
   "execution_count": 65,
   "id": "c2241fb1",
   "metadata": {},
   "outputs": [
    {
     "data": {
      "text/plain": [
       "'aman\\tgupta'"
      ]
     },
     "execution_count": 65,
     "metadata": {},
     "output_type": "execute_result"
    }
   ],
   "source": [
    "s=\"aman\\tgupta\"\n",
    "s"
   ]
  },
  {
   "cell_type": "code",
   "execution_count": 66,
   "id": "1b45549f",
   "metadata": {},
   "outputs": [
    {
     "data": {
      "text/plain": [
       "'aman    gupta'"
      ]
     },
     "execution_count": 66,
     "metadata": {},
     "output_type": "execute_result"
    }
   ],
   "source": [
    "s.expandtabs()"
   ]
  },
  {
   "cell_type": "code",
   "execution_count": 67,
   "id": "99c1eb4b",
   "metadata": {},
   "outputs": [
    {
     "data": {
      "text/plain": [
       "'We are all part of full stack developer'"
      ]
     },
     "execution_count": 67,
     "metadata": {},
     "output_type": "execute_result"
    }
   ],
   "source": [
    "a=\"We are all part of full stack developer\"\n",
    "a"
   ]
  },
  {
   "cell_type": "code",
   "execution_count": 68,
   "id": "132dd048",
   "metadata": {},
   "outputs": [
    {
     "data": {
      "text/plain": [
       "'we are all part of full stack developer'"
      ]
     },
     "execution_count": 68,
     "metadata": {},
     "output_type": "execute_result"
    }
   ],
   "source": [
    "a.lower()"
   ]
  },
  {
   "cell_type": "code",
   "execution_count": 70,
   "id": "4b7767ef",
   "metadata": {},
   "outputs": [
    {
     "data": {
      "text/plain": [
       "4"
      ]
     },
     "execution_count": 70,
     "metadata": {},
     "output_type": "execute_result"
    }
   ],
   "source": [
    "a.count('a')"
   ]
  },
  {
   "cell_type": "code",
   "execution_count": 74,
   "id": "219b3e31",
   "metadata": {},
   "outputs": [
    {
     "data": {
      "text/plain": [
       "3"
      ]
     },
     "execution_count": 74,
     "metadata": {},
     "output_type": "execute_result"
    }
   ],
   "source": [
    "x=a.find('a')\n",
    "x"
   ]
  },
  {
   "cell_type": "code",
   "execution_count": 77,
   "id": "98181d4a",
   "metadata": {},
   "outputs": [
    {
     "data": {
      "text/plain": [
       "39"
      ]
     },
     "execution_count": 77,
     "metadata": {},
     "output_type": "execute_result"
    }
   ],
   "source": [
    "len(a)"
   ]
  },
  {
   "cell_type": "code",
   "execution_count": 87,
   "id": "5c5ddb24",
   "metadata": {},
   "outputs": [
    {
     "name": "stdout",
     "output_type": "stream",
     "text": [
      "3\n",
      "7\n",
      "12\n",
      "26\n"
     ]
    }
   ],
   "source": [
    "for i in range(len(a)):\n",
    "    if a[i]=='a':\n",
    "        print(i)"
   ]
  },
  {
   "cell_type": "code",
   "execution_count": 83,
   "id": "22231fc2",
   "metadata": {},
   "outputs": [
    {
     "data": {
      "text/plain": [
       "'We iNeuronre iNeuronll piNeuronrt of full stiNeuronck developer'"
      ]
     },
     "execution_count": 83,
     "metadata": {},
     "output_type": "execute_result"
    }
   ],
   "source": [
    "a.replace(\"a\",\"iNeuron\")"
   ]
  },
  {
   "cell_type": "code",
   "execution_count": 88,
   "id": "521bc204",
   "metadata": {},
   "outputs": [
    {
     "data": {
      "text/plain": [
       "['We', 'are', 'all', 'part', 'of', 'full', 'stack', 'developer']"
      ]
     },
     "execution_count": 88,
     "metadata": {},
     "output_type": "execute_result"
    }
   ],
   "source": [
    "a.split()"
   ]
  },
  {
   "cell_type": "code",
   "execution_count": 101,
   "id": "ddc27553",
   "metadata": {},
   "outputs": [
    {
     "data": {
      "text/plain": [
       "'1'"
      ]
     },
     "execution_count": 101,
     "metadata": {},
     "output_type": "execute_result"
    }
   ],
   "source": [
    "s=\"1\"\n",
    "s"
   ]
  },
  {
   "cell_type": "code",
   "execution_count": 94,
   "id": "7f2f3869",
   "metadata": {},
   "outputs": [
    {
     "data": {
      "text/plain": [
       "False"
      ]
     },
     "execution_count": 94,
     "metadata": {},
     "output_type": "execute_result"
    }
   ],
   "source": [
    "s.isupper()"
   ]
  },
  {
   "cell_type": "code",
   "execution_count": 98,
   "id": "a93bc3ec",
   "metadata": {},
   "outputs": [
    {
     "data": {
      "text/plain": [
       "True"
      ]
     },
     "execution_count": 98,
     "metadata": {},
     "output_type": "execute_result"
    }
   ],
   "source": [
    "s.islower()"
   ]
  },
  {
   "cell_type": "code",
   "execution_count": 99,
   "id": "064c7da5",
   "metadata": {},
   "outputs": [
    {
     "data": {
      "text/plain": [
       "False"
      ]
     },
     "execution_count": 99,
     "metadata": {},
     "output_type": "execute_result"
    }
   ],
   "source": [
    "s.isspace()"
   ]
  },
  {
   "cell_type": "code",
   "execution_count": 102,
   "id": "a7bbb6f2",
   "metadata": {},
   "outputs": [
    {
     "data": {
      "text/plain": [
       "True"
      ]
     },
     "execution_count": 102,
     "metadata": {},
     "output_type": "execute_result"
    }
   ],
   "source": [
    "s.isdigit()"
   ]
  },
  {
   "cell_type": "code",
   "execution_count": 104,
   "id": "9da85726",
   "metadata": {},
   "outputs": [
    {
     "data": {
      "text/plain": [
       "True"
      ]
     },
     "execution_count": 104,
     "metadata": {},
     "output_type": "execute_result"
    }
   ],
   "source": [
    "s.endswith('1')"
   ]
  },
  {
   "cell_type": "code",
   "execution_count": 105,
   "id": "756b8f3d",
   "metadata": {},
   "outputs": [
    {
     "data": {
      "text/plain": [
       "True"
      ]
     },
     "execution_count": 105,
     "metadata": {},
     "output_type": "execute_result"
    }
   ],
   "source": [
    "s.startswith('1')"
   ]
  },
  {
   "cell_type": "code",
   "execution_count": 106,
   "id": "268c29d4",
   "metadata": {},
   "outputs": [
    {
     "data": {
      "text/plain": [
       "True"
      ]
     },
     "execution_count": 106,
     "metadata": {},
     "output_type": "execute_result"
    }
   ],
   "source": [
    "s.isalnum()"
   ]
  },
  {
   "cell_type": "code",
   "execution_count": 108,
   "id": "f84d32f4",
   "metadata": {},
   "outputs": [
    {
     "data": {
      "text/plain": [
       "False"
      ]
     },
     "execution_count": 108,
     "metadata": {},
     "output_type": "execute_result"
    }
   ],
   "source": [
    "s.isalpha()"
   ]
  },
  {
   "cell_type": "code",
   "execution_count": null,
   "id": "fae2365c",
   "metadata": {},
   "outputs": [],
   "source": []
  }
 ],
 "metadata": {
  "kernelspec": {
   "display_name": "Python 3",
   "language": "python",
   "name": "python3"
  },
  "language_info": {
   "codemirror_mode": {
    "name": "ipython",
    "version": 3
   },
   "file_extension": ".py",
   "mimetype": "text/x-python",
   "name": "python",
   "nbconvert_exporter": "python",
   "pygments_lexer": "ipython3",
   "version": "3.8.8"
  }
 },
 "nbformat": 4,
 "nbformat_minor": 5
}
