{
 "cells": [
  {
   "cell_type": "code",
   "execution_count": 2,
   "id": "a5435463",
   "metadata": {},
   "outputs": [
    {
     "data": {
      "text/plain": [
       "['aman', 1, 2, 3, 4, [2, 3], True]"
      ]
     },
     "execution_count": 2,
     "metadata": {},
     "output_type": "execute_result"
    }
   ],
   "source": [
    "l=['aman',1,2,3,4,[2,3],True]\n",
    "l"
   ]
  },
  {
   "cell_type": "code",
   "execution_count": 4,
   "id": "75837bf4",
   "metadata": {},
   "outputs": [
    {
     "name": "stdout",
     "output_type": "stream",
     "text": [
      "aman\n",
      "1\n",
      "2\n",
      "3\n",
      "4\n",
      "[2, 3]\n",
      "True\n"
     ]
    }
   ],
   "source": [
    "for i in l:\n",
    "    print(i)"
   ]
  },
  {
   "cell_type": "code",
   "execution_count": 5,
   "id": "d733661a",
   "metadata": {},
   "outputs": [
    {
     "data": {
      "text/plain": [
       "[True, [2, 3], 4, 3, 2, 1, 'aman']"
      ]
     },
     "execution_count": 5,
     "metadata": {},
     "output_type": "execute_result"
    }
   ],
   "source": [
    "l[::-1]"
   ]
  },
  {
   "cell_type": "code",
   "execution_count": 7,
   "id": "96036513",
   "metadata": {},
   "outputs": [
    {
     "name": "stdout",
     "output_type": "stream",
     "text": [
      "[2, 3]\n"
     ]
    }
   ],
   "source": [
    "for i in l:\n",
    "    if type(i)==list:\n",
    "        print(i)"
   ]
  },
  {
   "cell_type": "code",
   "execution_count": 8,
   "id": "947abe68",
   "metadata": {},
   "outputs": [],
   "source": [
    "l1=[121,324,\"ineuron\",\"course\"]"
   ]
  },
  {
   "cell_type": "code",
   "execution_count": 9,
   "id": "17242386",
   "metadata": {},
   "outputs": [
    {
     "data": {
      "text/plain": [
       "['aman', 1, 2, 3, 4, [2, 3], True, 121, 324, 'ineuron', 'course']"
      ]
     },
     "execution_count": 9,
     "metadata": {},
     "output_type": "execute_result"
    }
   ],
   "source": [
    "l+l1"
   ]
  },
  {
   "cell_type": "code",
   "execution_count": 10,
   "id": "788137ac",
   "metadata": {},
   "outputs": [
    {
     "data": {
      "text/plain": [
       "['aman', 1, 2, 3, 4, [2, 3], True, 'aman', 1, 2, 3, 4, [2, 3], True]"
      ]
     },
     "execution_count": 10,
     "metadata": {},
     "output_type": "execute_result"
    }
   ],
   "source": [
    "l*2"
   ]
  },
  {
   "cell_type": "code",
   "execution_count": 11,
   "id": "aba97e7f",
   "metadata": {},
   "outputs": [
    {
     "data": {
      "text/plain": [
       "7"
      ]
     },
     "execution_count": 11,
     "metadata": {},
     "output_type": "execute_result"
    }
   ],
   "source": [
    "len(l)"
   ]
  },
  {
   "cell_type": "code",
   "execution_count": 12,
   "id": "fb65f611",
   "metadata": {},
   "outputs": [
    {
     "data": {
      "text/plain": [
       "True"
      ]
     },
     "execution_count": 12,
     "metadata": {},
     "output_type": "execute_result"
    }
   ],
   "source": [
    "True in l"
   ]
  },
  {
   "cell_type": "code",
   "execution_count": 13,
   "id": "46dee413",
   "metadata": {},
   "outputs": [
    {
     "data": {
      "text/plain": [
       "True"
      ]
     },
     "execution_count": 13,
     "metadata": {},
     "output_type": "execute_result"
    }
   ],
   "source": [
    "4 in l"
   ]
  },
  {
   "cell_type": "code",
   "execution_count": 14,
   "id": "9062c8a5",
   "metadata": {},
   "outputs": [
    {
     "data": {
      "text/plain": [
       "False"
      ]
     },
     "execution_count": 14,
     "metadata": {},
     "output_type": "execute_result"
    }
   ],
   "source": [
    "10 in l"
   ]
  },
  {
   "cell_type": "code",
   "execution_count": 16,
   "id": "67b5bbc0",
   "metadata": {},
   "outputs": [
    {
     "data": {
      "text/plain": [
       "56"
      ]
     },
     "execution_count": 16,
     "metadata": {},
     "output_type": "execute_result"
    }
   ],
   "source": [
    "max([2,3,4,56,7])"
   ]
  },
  {
   "cell_type": "code",
   "execution_count": 17,
   "id": "a3bd568a",
   "metadata": {},
   "outputs": [
    {
     "data": {
      "text/plain": [
       "'kutti'"
      ]
     },
     "execution_count": 17,
     "metadata": {},
     "output_type": "execute_result"
    }
   ],
   "source": [
    "max([\"Aman\",\"gupta\",\"kutti\"])"
   ]
  },
  {
   "cell_type": "code",
   "execution_count": 18,
   "id": "cab242be",
   "metadata": {},
   "outputs": [
    {
     "data": {
      "text/plain": [
       "'Aman'"
      ]
     },
     "execution_count": 18,
     "metadata": {},
     "output_type": "execute_result"
    }
   ],
   "source": [
    "min([\"Aman\",\"gupta\",\"kutti\"])"
   ]
  },
  {
   "cell_type": "code",
   "execution_count": 19,
   "id": "bca4521c",
   "metadata": {},
   "outputs": [
    {
     "data": {
      "text/plain": [
       "0"
      ]
     },
     "execution_count": 19,
     "metadata": {},
     "output_type": "execute_result"
    }
   ],
   "source": [
    "min([0,1,2,3,5])"
   ]
  },
  {
   "cell_type": "code",
   "execution_count": 20,
   "id": "9b4ae3be",
   "metadata": {},
   "outputs": [
    {
     "ename": "TypeError",
     "evalue": "'<' not supported between instances of 'int' and 'str'",
     "output_type": "error",
     "traceback": [
      "\u001b[1;31m---------------------------------------------------------------------------\u001b[0m",
      "\u001b[1;31mTypeError\u001b[0m                                 Traceback (most recent call last)",
      "\u001b[1;32m<ipython-input-20-18219df263c6>\u001b[0m in \u001b[0;36m<module>\u001b[1;34m\u001b[0m\n\u001b[1;32m----> 1\u001b[1;33m \u001b[0mmin\u001b[0m\u001b[1;33m(\u001b[0m\u001b[1;33m[\u001b[0m\u001b[1;34m\"Aman\"\u001b[0m\u001b[1;33m,\u001b[0m\u001b[1;34m\"gupta\"\u001b[0m\u001b[1;33m,\u001b[0m\u001b[1;34m\"kutti\"\u001b[0m\u001b[1;33m,\u001b[0m\u001b[1;36m0\u001b[0m\u001b[1;33m,\u001b[0m\u001b[1;36m1\u001b[0m\u001b[1;33m,\u001b[0m\u001b[1;36m2\u001b[0m\u001b[1;33m,\u001b[0m\u001b[1;36m3\u001b[0m\u001b[1;33m,\u001b[0m\u001b[1;36m5\u001b[0m\u001b[1;33m]\u001b[0m\u001b[1;33m)\u001b[0m\u001b[1;33m\u001b[0m\u001b[1;33m\u001b[0m\u001b[0m\n\u001b[0m",
      "\u001b[1;31mTypeError\u001b[0m: '<' not supported between instances of 'int' and 'str'"
     ]
    }
   ],
   "source": [
    "min([\"Aman\",\"gupta\",\"kutti\",0,1,2,3,5])"
   ]
  },
  {
   "cell_type": "code",
   "execution_count": 21,
   "id": "01980632",
   "metadata": {},
   "outputs": [
    {
     "data": {
      "text/plain": [
       "[1, 2, 34, 4]"
      ]
     },
     "execution_count": 21,
     "metadata": {},
     "output_type": "execute_result"
    }
   ],
   "source": [
    "l=[1,2,34,4]\n",
    "l"
   ]
  },
  {
   "cell_type": "code",
   "execution_count": 22,
   "id": "a5734d1d",
   "metadata": {},
   "outputs": [],
   "source": [
    "l.append('Aman')"
   ]
  },
  {
   "cell_type": "code",
   "execution_count": 23,
   "id": "36e576c5",
   "metadata": {},
   "outputs": [
    {
     "data": {
      "text/plain": [
       "[1, 2, 34, 4, 'Aman']"
      ]
     },
     "execution_count": 23,
     "metadata": {},
     "output_type": "execute_result"
    }
   ],
   "source": [
    "l"
   ]
  },
  {
   "cell_type": "code",
   "execution_count": 24,
   "id": "ebc1b512",
   "metadata": {},
   "outputs": [],
   "source": [
    "l.append([1,2,3])"
   ]
  },
  {
   "cell_type": "code",
   "execution_count": 25,
   "id": "734ad581",
   "metadata": {},
   "outputs": [
    {
     "data": {
      "text/plain": [
       "[1, 2, 34, 4, 'Aman', [1, 2, 3]]"
      ]
     },
     "execution_count": 25,
     "metadata": {},
     "output_type": "execute_result"
    }
   ],
   "source": [
    "l"
   ]
  },
  {
   "cell_type": "code",
   "execution_count": 26,
   "id": "cc682f0b",
   "metadata": {},
   "outputs": [],
   "source": [
    "l.insert(3,\"ineuron\")"
   ]
  },
  {
   "cell_type": "code",
   "execution_count": 27,
   "id": "b2dba3d1",
   "metadata": {},
   "outputs": [
    {
     "data": {
      "text/plain": [
       "[1, 2, 34, 'ineuron', 4, 'Aman', [1, 2, 3]]"
      ]
     },
     "execution_count": 27,
     "metadata": {},
     "output_type": "execute_result"
    }
   ],
   "source": [
    "l"
   ]
  },
  {
   "cell_type": "code",
   "execution_count": 28,
   "id": "44726cb6",
   "metadata": {},
   "outputs": [],
   "source": [
    "l.insert(-1,\"text\")"
   ]
  },
  {
   "cell_type": "code",
   "execution_count": 29,
   "id": "2bb4fb8d",
   "metadata": {},
   "outputs": [
    {
     "data": {
      "text/plain": [
       "[1, 2, 34, 'ineuron', 4, 'Aman', 'text', [1, 2, 3]]"
      ]
     },
     "execution_count": 29,
     "metadata": {},
     "output_type": "execute_result"
    }
   ],
   "source": [
    "l"
   ]
  },
  {
   "cell_type": "code",
   "execution_count": 31,
   "id": "4f0cf4eb",
   "metadata": {},
   "outputs": [
    {
     "data": {
      "text/plain": [
       "1"
      ]
     },
     "execution_count": 31,
     "metadata": {},
     "output_type": "execute_result"
    }
   ],
   "source": [
    "l.count('text')"
   ]
  },
  {
   "cell_type": "code",
   "execution_count": 32,
   "id": "8841d617",
   "metadata": {},
   "outputs": [
    {
     "data": {
      "text/plain": [
       "[1, 2, 3, 4]"
      ]
     },
     "execution_count": 32,
     "metadata": {},
     "output_type": "execute_result"
    }
   ],
   "source": [
    "l=[1,2,3,4]\n",
    "l"
   ]
  },
  {
   "cell_type": "code",
   "execution_count": 33,
   "id": "abba5a5b",
   "metadata": {},
   "outputs": [
    {
     "data": {
      "text/plain": [
       "[1, 2, 3, 4, 't', 'e', 'x', 't']"
      ]
     },
     "execution_count": 33,
     "metadata": {},
     "output_type": "execute_result"
    }
   ],
   "source": [
    "l.extend(\"text\")\n",
    "l"
   ]
  },
  {
   "cell_type": "code",
   "execution_count": 34,
   "id": "e76e848c",
   "metadata": {},
   "outputs": [
    {
     "data": {
      "text/plain": [
       "['t', 'e', 'x', 't']"
      ]
     },
     "execution_count": 34,
     "metadata": {},
     "output_type": "execute_result"
    }
   ],
   "source": [
    "s=\"text\"\n",
    "list(s)"
   ]
  },
  {
   "cell_type": "code",
   "execution_count": 39,
   "id": "d80af4a9",
   "metadata": {},
   "outputs": [
    {
     "data": {
      "text/plain": [
       "[1,\n",
       " 2,\n",
       " 3,\n",
       " 4,\n",
       " 't',\n",
       " 'e',\n",
       " 'x',\n",
       " 't',\n",
       " 12,\n",
       " 23,\n",
       " 4,\n",
       " 5,\n",
       " 6,\n",
       " 12,\n",
       " 23,\n",
       " 4,\n",
       " 5,\n",
       " 6,\n",
       " 12,\n",
       " 23,\n",
       " 4,\n",
       " 5,\n",
       " 6,\n",
       " ['aman', 324, 43]]"
      ]
     },
     "execution_count": 39,
     "metadata": {},
     "output_type": "execute_result"
    }
   ],
   "source": [
    "l.extend([12,23,4,5,6,[\"aman\",324,43]])\n",
    "l"
   ]
  },
  {
   "cell_type": "code",
   "execution_count": 41,
   "id": "bfe9c651",
   "metadata": {},
   "outputs": [
    {
     "data": {
      "text/plain": [
       "2"
      ]
     },
     "execution_count": 41,
     "metadata": {},
     "output_type": "execute_result"
    }
   ],
   "source": [
    "l.index(3)"
   ]
  },
  {
   "cell_type": "code",
   "execution_count": 47,
   "id": "399f6f89",
   "metadata": {},
   "outputs": [
    {
     "data": {
      "text/plain": [
       "[1, 2, 3, 4, 't', 'e', 12, 23, 4, 5, 6, 12, 23, 4, 5, 6, 12, 23]"
      ]
     },
     "execution_count": 47,
     "metadata": {},
     "output_type": "execute_result"
    }
   ],
   "source": [
    "l.pop(6)\n",
    "l"
   ]
  },
  {
   "cell_type": "code",
   "execution_count": 49,
   "id": "09b65178",
   "metadata": {},
   "outputs": [
    {
     "data": {
      "text/plain": [
       "[1, 2, 3, 4, 't', 'e', 12, 23, 4, 5, 12, 23, 4, 5, 12, 23]"
      ]
     },
     "execution_count": 49,
     "metadata": {},
     "output_type": "execute_result"
    }
   ],
   "source": [
    "l.remove(6)\n",
    "l"
   ]
  },
  {
   "cell_type": "code",
   "execution_count": 50,
   "id": "0a72794e",
   "metadata": {},
   "outputs": [
    {
     "data": {
      "text/plain": [
       "[23, 12, 5, 4, 23, 12, 5, 4, 23, 12, 'e', 't', 4, 3, 2, 1]"
      ]
     },
     "execution_count": 50,
     "metadata": {},
     "output_type": "execute_result"
    }
   ],
   "source": [
    "l.reverse()\n",
    "l"
   ]
  },
  {
   "cell_type": "code",
   "execution_count": 53,
   "id": "40add873",
   "metadata": {},
   "outputs": [
    {
     "data": {
      "text/plain": [
       "[1, 23, 24, 53, 434, 576]"
      ]
     },
     "execution_count": 53,
     "metadata": {},
     "output_type": "execute_result"
    }
   ],
   "source": [
    "l=[1,24,53,576,434,23]\n",
    "l.sort()\n",
    "l"
   ]
  },
  {
   "cell_type": "code",
   "execution_count": 4,
   "id": "ee940ba0",
   "metadata": {},
   "outputs": [
    {
     "name": "stdout",
     "output_type": "stream",
     "text": [
      "[[1, 2, 3, 4], ['A', 'M', 'A', 'N'], ['g', 'u', 'p', 't', 'a'], [5, 6, 7, 8], [12.3, 21.4, 3.14, 5.87], [(2+7j)], [True, False, False, True]]\n"
     ]
    }
   ],
   "source": [
    "l=[[1,2,3,4],['A','M','A','N'],[12.3,21.4,3.14,5.87],[True,False,False,True]]\n",
    "l.insert(2,['g','u','p','t','a'])\n",
    "l.insert(3,[5,6,7,8])\n",
    "l.insert(5,[2+7j])\n",
    "print(l)\n"
   ]
  },
  {
   "cell_type": "code",
   "execution_count": 5,
   "id": "c2a49561",
   "metadata": {},
   "outputs": [
    {
     "name": "stdout",
     "output_type": "stream",
     "text": [
      "Index of 'A'' is 0\n",
      "Index of 'M'' is 1\n",
      "Index of 'A'' is 2\n",
      "Index of 'N'' is 3\n",
      "String in the nested list is A\n",
      "String in the nested list is M\n",
      "String in the nested list is A\n",
      "String in the nested list is N\n",
      "Index of 'g'' is 0\n",
      "Index of 'u'' is 1\n",
      "Index of 'p'' is 2\n",
      "Index of 't'' is 3\n",
      "Index of 'a'' is 4\n",
      "String in the nested list is g\n",
      "String in the nested list is u\n",
      "String in the nested list is p\n",
      "String in the nested list is t\n",
      "String in the nested list is a\n",
      "List after removal of nested list is  [[1, 2, 3, 4], [], [], [5, 6, 7, 8], [12.3, 21.4, 3.14, 5.87], [(2+7j)], [True, False, False, True]]\n"
     ]
    }
   ],
   "source": [
    "for i in l:\n",
    "    if type(i)==list:\n",
    "        j=0\n",
    "        while j<len(i):\n",
    "            if type(i[j])==str:\n",
    "                print(\"Index of '{}'' is\".format(i[j]),j)\n",
    "            j+=1\n",
    "        j=0\n",
    "        while j<len(i):\n",
    "            if type(i[j])==str:\n",
    "                print('String in the nested list is {}'.format(i[j]))\n",
    "                i.remove(i[j])\n",
    "                continue\n",
    "            j+=1\n",
    "print(\"List after removal of nested list is \",l)"
   ]
  },
  {
   "cell_type": "code",
   "execution_count": 6,
   "id": "b5152bfb",
   "metadata": {},
   "outputs": [
    {
     "name": "stdout",
     "output_type": "stream",
     "text": [
      "3\n"
     ]
    },
    {
     "ename": "IndexError",
     "evalue": "pop from empty list",
     "output_type": "error",
     "traceback": [
      "\u001b[1;31m---------------------------------------------------------------------------\u001b[0m",
      "\u001b[1;31mIndexError\u001b[0m                                Traceback (most recent call last)",
      "\u001b[1;32m<ipython-input-6-941830c39933>\u001b[0m in \u001b[0;36m<module>\u001b[1;34m\u001b[0m\n\u001b[0;32m      1\u001b[0m \u001b[1;32mfor\u001b[0m \u001b[0mi\u001b[0m \u001b[1;32min\u001b[0m \u001b[0ml\u001b[0m\u001b[1;33m:\u001b[0m\u001b[1;33m\u001b[0m\u001b[1;33m\u001b[0m\u001b[0m\n\u001b[0;32m      2\u001b[0m     \u001b[1;32mif\u001b[0m \u001b[0mtype\u001b[0m\u001b[1;33m(\u001b[0m\u001b[0mi\u001b[0m\u001b[1;33m)\u001b[0m\u001b[1;33m==\u001b[0m\u001b[0mlist\u001b[0m\u001b[1;33m:\u001b[0m\u001b[1;33m\u001b[0m\u001b[1;33m\u001b[0m\u001b[0m\n\u001b[1;32m----> 3\u001b[1;33m         \u001b[0mprint\u001b[0m\u001b[1;33m(\u001b[0m\u001b[0mi\u001b[0m\u001b[1;33m.\u001b[0m\u001b[0mpop\u001b[0m\u001b[1;33m(\u001b[0m\u001b[1;36m2\u001b[0m\u001b[1;33m)\u001b[0m\u001b[1;33m)\u001b[0m\u001b[1;33m\u001b[0m\u001b[1;33m\u001b[0m\u001b[0m\n\u001b[0m",
      "\u001b[1;31mIndexError\u001b[0m: pop from empty list"
     ]
    }
   ],
   "source": [
    "for i in l:\n",
    "    if type(i)==list:\n",
    "        print(i.pop(2))"
   ]
  },
  {
   "cell_type": "code",
   "execution_count": 122,
   "id": "44cf2dd0",
   "metadata": {},
   "outputs": [
    {
     "data": {
      "text/plain": [
       "7"
      ]
     },
     "execution_count": 122,
     "metadata": {},
     "output_type": "execute_result"
    }
   ],
   "source": [
    "len(l)"
   ]
  },
  {
   "cell_type": "code",
   "execution_count": 1,
   "id": "98e208f4",
   "metadata": {},
   "outputs": [],
   "source": [
    "l=[[1,2,3],\n",
    "[11,12,'b','b','b'],\n",
    "[21,'t',223,44],\n",
    "[4,5,6],\n",
    "[7,8,9],\n",
    "'demo',\n",
    "12.5]"
   ]
  },
  {
   "cell_type": "code",
   "execution_count": null,
   "id": "a95594f2",
   "metadata": {},
   "outputs": [],
   "source": [
    "for i in l:\n",
    "    if type(i)==list:\n",
    "        j=0\n",
    "        while j<len(i):\n",
    "            if type(i[j]) is str:\n",
    "                print(\"Index of string {} is :\".format(i[j]),j)\n",
    "                j=j+1\n",
    "        j=0\n",
    "        while j<len(i):\n",
    "            if type(i[j]) is str:\n",
    "                print(\"The string in the nested list is '{}' :\".format(i[j]))\n",
    "                i.remove(i[j])\n",
    "                continue\n",
    "            j=j+1\n",
    "print(\"List after removal of string from nested list is\",l)"
   ]
  },
  {
   "cell_type": "code",
   "execution_count": 121,
   "id": "9033db3e",
   "metadata": {},
   "outputs": [
    {
     "name": "stdout",
     "output_type": "stream",
     "text": [
      "Enter a list 5 values12\n",
      "Enter a list 5 values123\n",
      "Enter a list 5 values34\n",
      "Enter a list 5 values5\n",
      "Enter a list 5 values3\n"
     ]
    },
    {
     "data": {
      "text/plain": [
       "[12, 123, 34, 5, 3]"
      ]
     },
     "execution_count": 121,
     "metadata": {},
     "output_type": "execute_result"
    }
   ],
   "source": [
    "l1=[]\n",
    "for i in range(5):\n",
    "    l1.append(int(input(\"Enter a list 5 values\")))\n",
    "l1"
   ]
  },
  {
   "cell_type": "code",
   "execution_count": null,
   "id": "1b9fc032",
   "metadata": {},
   "outputs": [],
   "source": [
    "# List comprension"
   ]
  },
  {
   "cell_type": "code",
   "execution_count": 9,
   "id": "46158f4a",
   "metadata": {},
   "outputs": [
    {
     "data": {
      "text/plain": [
       "['A', 'm', 'a', 'n']"
      ]
     },
     "execution_count": 9,
     "metadata": {},
     "output_type": "execute_result"
    }
   ],
   "source": [
    "l=[1,2,3,4,5]\n",
    "l1=[]\n",
    "for i in 'Aman':\n",
    "    l1.append(i)\n",
    "l1"
   ]
  },
  {
   "cell_type": "code",
   "execution_count": 11,
   "id": "82c5cc87",
   "metadata": {},
   "outputs": [
    {
     "data": {
      "text/plain": [
       "[['A'], ['m'], ['a'], ['n']]"
      ]
     },
     "execution_count": 11,
     "metadata": {},
     "output_type": "execute_result"
    }
   ],
   "source": [
    "[[i] for i in 'Aman']"
   ]
  },
  {
   "cell_type": "code",
   "execution_count": 12,
   "id": "d8f43985",
   "metadata": {},
   "outputs": [],
   "source": [
    "li=[]\n",
    "for i in range(10):\n",
    "    if i%2==0:\n",
    "        li.append(i)"
   ]
  },
  {
   "cell_type": "code",
   "execution_count": 13,
   "id": "eacad4a8",
   "metadata": {},
   "outputs": [
    {
     "data": {
      "text/plain": [
       "[0, 2, 4, 6, 8]"
      ]
     },
     "execution_count": 13,
     "metadata": {},
     "output_type": "execute_result"
    }
   ],
   "source": [
    "li"
   ]
  },
  {
   "cell_type": "code",
   "execution_count": 20,
   "id": "3350de85",
   "metadata": {},
   "outputs": [
    {
     "data": {
      "text/plain": [
       "[0, 2, 4, 6, 8]"
      ]
     },
     "execution_count": 20,
     "metadata": {},
     "output_type": "execute_result"
    }
   ],
   "source": [
    "[i for i in range(10) if i%2==0]"
   ]
  },
  {
   "cell_type": "code",
   "execution_count": 23,
   "id": "94d81baf",
   "metadata": {},
   "outputs": [
    {
     "data": {
      "text/plain": [
       "['even', 'odd', 'even', 'odd', 'even', 'odd', 'even', 'odd', 'even', 'odd']"
      ]
     },
     "execution_count": 23,
     "metadata": {},
     "output_type": "execute_result"
    }
   ],
   "source": [
    "l=[]\n",
    "for i in range(10):\n",
    "    if i%2==0:\n",
    "        l.append(\"even\")\n",
    "    else:\n",
    "        l.append(\"odd\")\n",
    "l"
   ]
  },
  {
   "cell_type": "code",
   "execution_count": 24,
   "id": "4cccd73d",
   "metadata": {},
   "outputs": [
    {
     "data": {
      "text/plain": [
       "['even', 'odd', 'even', 'odd', 'even', 'odd', 'even', 'odd', 'even', 'odd']"
      ]
     },
     "execution_count": 24,
     "metadata": {},
     "output_type": "execute_result"
    }
   ],
   "source": [
    "[\"even\" if i%2==0 else \"odd\" for i in range(10) ]"
   ]
  },
  {
   "cell_type": "code",
   "execution_count": null,
   "id": "188138a6",
   "metadata": {},
   "outputs": [],
   "source": []
  },
  {
   "cell_type": "code",
   "execution_count": null,
   "id": "ef79b2ed",
   "metadata": {},
   "outputs": [],
   "source": []
  }
 ],
 "metadata": {
  "kernelspec": {
   "display_name": "Python 3",
   "language": "python",
   "name": "python3"
  },
  "language_info": {
   "codemirror_mode": {
    "name": "ipython",
    "version": 3
   },
   "file_extension": ".py",
   "mimetype": "text/x-python",
   "name": "python",
   "nbconvert_exporter": "python",
   "pygments_lexer": "ipython3",
   "version": "3.8.8"
  }
 },
 "nbformat": 4,
 "nbformat_minor": 5
}
