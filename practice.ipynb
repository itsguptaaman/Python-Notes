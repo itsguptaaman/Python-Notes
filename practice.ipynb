{
 "cells": [
  {
   "cell_type": "code",
   "execution_count": 2,
   "id": "dea81518",
   "metadata": {},
   "outputs": [
    {
     "name": "stdout",
     "output_type": "stream",
     "text": [
      "After calling aman 20\n",
      "90\n"
     ]
    }
   ],
   "source": [
    "x=89\n",
    "def harry():\n",
    "    x=20\n",
    "    def aman():\n",
    "        global x\n",
    "        x=90\n",
    "    aman()\n",
    "    print(\"After calling aman\",x)\n",
    "harry()\n",
    "print(x)"
   ]
  },
  {
   "cell_type": "code",
   "execution_count": 7,
   "id": "ff1050fe",
   "metadata": {},
   "outputs": [
    {
     "name": "stdout",
     "output_type": "stream",
     "text": [
      "Enter the number :5\n"
     ]
    },
    {
     "data": {
      "text/plain": [
       "120"
      ]
     },
     "execution_count": 7,
     "metadata": {},
     "output_type": "execute_result"
    }
   ],
   "source": [
    "def fact_iterative(no):\n",
    "    fact=1\n",
    "    for i in range(no):\n",
    "        fact=fact * (i+1)\n",
    "    print(fact)\n",
    "    \n",
    "def fact_recursive(no):\n",
    "    if no==1:\n",
    "        return 1\n",
    "    else:\n",
    "        return no * fact_recursive(no-1)\n",
    "    \n",
    "no=int(input(\"Enter the number :\"))\n",
    "fact_recursive(no)"
   ]
  },
  {
   "cell_type": "code",
   "execution_count": 11,
   "id": "7d945477",
   "metadata": {},
   "outputs": [
    {
     "name": "stdout",
     "output_type": "stream",
     "text": [
      "Enter the number :9\n",
      "0 1 1 2 3 5 8 13 21 "
     ]
    }
   ],
   "source": [
    "def fibo(no):\n",
    "    if no==1:\n",
    "        return 0\n",
    "    elif no==2:\n",
    "        return 1\n",
    "    else:\n",
    "        return fibo(no-1)+fibo(no-2)\n",
    "\n",
    "no=int(input(\"Enter the number :\"))\n",
    "for i in range(no):\n",
    "        print(fibo(i+1),end=\" \")\n"
   ]
  },
  {
   "cell_type": "code",
   "execution_count": 12,
   "id": "5569fc49",
   "metadata": {},
   "outputs": [
    {
     "name": "stdout",
     "output_type": "stream",
     "text": [
      "What activity do you want to do...\n",
      "\n",
      "1 for exercise and 2 for diet :2\n",
      "Enter 1 for log and 2 for retrive :1\n",
      "Enter 1 for Harry, 2 for Rohan and 3 for Hammad :2\n"
     ]
    },
    {
     "ename": "TypeError",
     "evalue": "foodAte() missing 1 required positional argument: 'name'",
     "output_type": "error",
     "traceback": [
      "\u001b[1;31m---------------------------------------------------------------------------\u001b[0m",
      "\u001b[1;31mTypeError\u001b[0m                                 Traceback (most recent call last)",
      "Input \u001b[1;32mIn [12]\u001b[0m, in \u001b[0;36m<cell line: 120>\u001b[1;34m()\u001b[0m\n\u001b[0;32m    118\u001b[0m         \u001b[38;5;28mprint\u001b[39m(\u001b[38;5;124m\"\u001b[39m\u001b[38;5;124mInvalid option\u001b[39m\u001b[38;5;124m\"\u001b[39m)\n\u001b[0;32m    120\u001b[0m \u001b[38;5;28;01mif\u001b[39;00m \u001b[38;5;18m__name__\u001b[39m\u001b[38;5;241m==\u001b[39m\u001b[38;5;124m'\u001b[39m\u001b[38;5;124m__main__\u001b[39m\u001b[38;5;124m'\u001b[39m:\n\u001b[1;32m--> 121\u001b[0m     \u001b[43mmain\u001b[49m\u001b[43m(\u001b[49m\u001b[43m)\u001b[49m\n",
      "Input \u001b[1;32mIn [12]\u001b[0m, in \u001b[0;36mmain\u001b[1;34m()\u001b[0m\n\u001b[0;32m    112\u001b[0m     obj1\u001b[38;5;241m.\u001b[39mforExercise()\n\u001b[0;32m    114\u001b[0m \u001b[38;5;28;01melif\u001b[39;00m x\u001b[38;5;241m==\u001b[39m\u001b[38;5;241m2\u001b[39m:\n\u001b[1;32m--> 115\u001b[0m     \u001b[43mobj1\u001b[49m\u001b[38;5;241;43m.\u001b[39;49m\u001b[43mforDiet\u001b[49m\u001b[43m(\u001b[49m\u001b[43m)\u001b[49m\n\u001b[0;32m    117\u001b[0m \u001b[38;5;28;01melse\u001b[39;00m:\n\u001b[0;32m    118\u001b[0m     \u001b[38;5;28mprint\u001b[39m(\u001b[38;5;124m\"\u001b[39m\u001b[38;5;124mInvalid option\u001b[39m\u001b[38;5;124m\"\u001b[39m)\n",
      "Input \u001b[1;32mIn [12]\u001b[0m, in \u001b[0;36mHealthManagementSystem.forDiet\u001b[1;34m(self)\u001b[0m\n\u001b[0;32m     46\u001b[0m     HealthManagementSystem\u001b[38;5;241m.\u001b[39mfoodAte(\u001b[38;5;124m\"\u001b[39m\u001b[38;5;124mHarry\u001b[39m\u001b[38;5;124m\"\u001b[39m)\n\u001b[0;32m     48\u001b[0m \u001b[38;5;28;01melif\u001b[39;00m name\u001b[38;5;241m==\u001b[39m\u001b[38;5;241m2\u001b[39m:\n\u001b[1;32m---> 49\u001b[0m     \u001b[43mHealthManagementSystem\u001b[49m\u001b[38;5;241;43m.\u001b[39;49m\u001b[43mfoodAte\u001b[49m\u001b[43m(\u001b[49m\u001b[38;5;124;43m\"\u001b[39;49m\u001b[38;5;124;43mRohan\u001b[39;49m\u001b[38;5;124;43m\"\u001b[39;49m\u001b[43m)\u001b[49m\n\u001b[0;32m     51\u001b[0m \u001b[38;5;28;01melif\u001b[39;00m name\u001b[38;5;241m==\u001b[39m\u001b[38;5;241m3\u001b[39m:\n\u001b[0;32m     52\u001b[0m     HealthManagementSystem\u001b[38;5;241m.\u001b[39mfoodAte(\u001b[38;5;124m\"\u001b[39m\u001b[38;5;124mHammad\u001b[39m\u001b[38;5;124m\"\u001b[39m)\n",
      "\u001b[1;31mTypeError\u001b[0m: foodAte() missing 1 required positional argument: 'name'"
     ]
    }
   ],
   "source": [
    "# Health management system\n",
    "\n",
    "class HealthManagementSystem():\n",
    "    \n",
    "    def getDate():\n",
    "        import datetime\n",
    "        return datetime.datetime.now()\n",
    "    \n",
    "    def exerciseDiet(self):\n",
    "        print(\"What activity do you want to do...\")\n",
    "        print()\n",
    "        x=int(input(\"1 for exercise and 2 for diet :\"))\n",
    "        return x\n",
    "\n",
    "    def foodAte(self,name):\n",
    "        with open(f\"{name}.txt\",\"a\") as file:\n",
    "            a=input(\"Enter the food you ate :\")\n",
    "            file.write(str(getDate()))\n",
    "            file.write(\" \")\n",
    "            file.write(a)\n",
    "            file.write(\"\\n\")\n",
    "            print(\"Logging succefull.\")\n",
    "    \n",
    "    def foodAteRetrive(self,name):\n",
    "        with open(f\"{name}.txt\",\"r\") as file:\n",
    "            print(file.read())\n",
    "\n",
    "    def exerciseType(self,name):\n",
    "        with open(f\"{name}.txt\",\"a\") as file:\n",
    "            a=input(\"Enter the exercise you did :\")\n",
    "            file.write(str(getDate()))\n",
    "            file.write(\" \")\n",
    "            file.write(a)\n",
    "            file.write(\"\\n\")\n",
    "            print(\"Logging succefull.\")\n",
    "\n",
    "    def exerciseTypeRetrive(self,name):\n",
    "        with open(f\"{name}.txt\",\"r\") as file:\n",
    "            print(file.read())\n",
    "\n",
    "    def forDiet(self):\n",
    "        log_retrive=int(input(\"Enter 1 for log and 2 for retrive :\"))\n",
    "        if log_retrive==1: #for logging\n",
    "            name=int(input(\"Enter 1 for Harry, 2 for Rohan and 3 for Hammad :\"))\n",
    "            if name==1:\n",
    "                HealthManagementSystem.foodAte(\"Harry\")\n",
    "                    \n",
    "            elif name==2:\n",
    "                HealthManagementSystem.foodAte(\"Rohan\")\n",
    "                    \n",
    "            elif name==3:\n",
    "                HealthManagementSystem.foodAte(\"Hammad\")\n",
    "    \n",
    "            else:\n",
    "                print(\"Invalid option\")\n",
    "            \n",
    "        elif log_retrive==2:\n",
    "            name=int(input(\"Enter 1 for Harry, 2 for Rohan and 3 for Hammad :\"))\n",
    "            if name==1:\n",
    "                HealthManagementSystem.foodAteRetrive(\"Harry\")\n",
    "                    \n",
    "            elif name==2:\n",
    "                HealthManagementSystem.foodAteRetrive(\"Rohan\")\n",
    "                    \n",
    "            elif name==3:\n",
    "                HealthManagementSystem.foodAteRetrive(\"Harry\")\n",
    "    \n",
    "            else:\n",
    "                print(\"Invalid option\")\n",
    "\n",
    "        else:\n",
    "            print(\"Invalid option\")\n",
    "\n",
    "    def forExercise(self):\n",
    "        log_retrive=int(input(\"Enter 1 for log and 2 for retrive :\"))\n",
    "        if log_retrive==1: #for logging\n",
    "            name=int(input(\"Enter 1 for Harry, 2 for Rohan and 3 for Hammad :\"))\n",
    "            if name==1:\n",
    "                HealthManagementSystem.exerciseType(\"Harry\")\n",
    "\n",
    "            elif name==2:\n",
    "                HealthManagementSystem.exerciseType(\"Rohan\")\n",
    "\n",
    "            elif name==3:\n",
    "                HealthManagementSystem.exerciseType(\"Hammad\")\n",
    "\n",
    "            else:\n",
    "                print(\"Invalid option\")\n",
    "\n",
    "        elif log_retrive==2:\n",
    "            name=int(input(\"Enter 1 for Harry, 2 for Rohan and 3 for Hammad :\"))\n",
    "            if name==1:\n",
    "                HealthManagementSystem.exerciseTypeRetrive(\"Harry\")\n",
    "\n",
    "            elif name==2:\n",
    "                HealthManagementSystem.exerciseTypeRetrive(\"Rohan\")\n",
    "\n",
    "            elif name==3:\n",
    "                HealthManagementSystem.exerciseTypeRetrive(\"Harry\")\n",
    "\n",
    "            else:\n",
    "                print(\"Invalid option\")\n",
    "\n",
    "        else:\n",
    "            print(\"Invalid option\")\n",
    "\n",
    "def main():\n",
    "    obj1=HealthManagementSystem()\n",
    "    x=obj1.exerciseDiet()\n",
    "    \n",
    "    if x==1:\n",
    "        obj1.forExercise()\n",
    "    \n",
    "    elif x==2:\n",
    "        obj1.forDiet()\n",
    "    \n",
    "    else:\n",
    "        print(\"Invalid option\")\n",
    "\n",
    "if __name__=='__main__':\n",
    "    main()"
   ]
  },
  {
   "cell_type": "code",
   "execution_count": 10,
   "id": "5df72fce",
   "metadata": {},
   "outputs": [],
   "source": [
    "class Solution():\n",
    "    \n",
    "    def getDate():\n",
    "        import datetime\n",
    "        return datetime.datetime.now()\n",
    "\n",
    "    \n",
    "    def foodAte(self,name):\n",
    "        with open(f\"{name}.txt\",\"a\") as file:\n",
    "            a=input(\"Enter the food you ate :\")\n",
    "            file.write(str(Solution.getDate()))\n",
    "            file.write(\" \")\n",
    "            file.write(a)\n",
    "            file.write(\"\\n\")\n",
    "            print(\"Logging succefull.\")\n",
    "    \n",
    "    def forDiet(self):\n",
    "        log_retrive=int(input(\"Enter 1 for log and 2 for retrive :\"))\n",
    "        if log_retrive==1: #for logging\n",
    "            name=int(input(\"Enter 1 for Harry, 2 for Rohan and 3 for Hammad :\"))\n",
    "            if name==1:\n",
    "                Solution.foodAte(\"Harry\")\n",
    "                    \n",
    "            elif name==2:\n",
    "                Solution.Solution.foodAte(\"Rohan\")\n",
    "                    \n",
    "            elif name==3:\n",
    "                Solution.foodAte(\"Hammad\")\n",
    "    \n",
    "            else:\n",
    "                print(\"Invalid option\")\n",
    "            \n",
    "        elif log_retrive==2:\n",
    "            name=int(input(\"Enter 1 for Harry, 2 for Rohan and 3 for Hammad :\"))\n",
    "            if name==1:\n",
    "                Solution.foodAteRetrive(\"Harry\")\n",
    "                    \n",
    "            elif name==2:\n",
    "                Solution.foodAteRetrive(\"Rohan\")\n",
    "                    \n",
    "            elif name==3:\n",
    "                Solution.foodAteRetrive(\"Harry\")\n",
    "    \n",
    "            else:\n",
    "                print(\"Invalid option\")\n",
    "\n",
    "        else:\n",
    "            print(\"Invalid option\")\n"
   ]
  },
  {
   "cell_type": "code",
   "execution_count": 9,
   "id": "f19507a1",
   "metadata": {},
   "outputs": [
    {
     "name": "stdout",
     "output_type": "stream",
     "text": [
      "sdjn\n",
      "Aman\n",
      "Manish\n",
      "Mehul\n",
      "Akash\n",
      "Amar\n"
     ]
    }
   ],
   "source": [
    "l=[\"sdjn\",'Aman',\"Manish\",\"Mehul\",\"Akash\",\"Amar\"]\n",
    "def test(normal,*args):\n",
    "    print(normal)\n",
    "    for i in args:\n",
    "        print(i)\n",
    "\n",
    "test(*l)"
   ]
  },
  {
   "cell_type": "code",
   "execution_count": 13,
   "id": "9e237817",
   "metadata": {},
   "outputs": [
    {
     "name": "stdout",
     "output_type": "stream",
     "text": [
      "Hello Aman\n",
      "Hello Aman\n",
      "Hello Aman\n",
      "Hello Aman\n",
      "Hello Aman\n",
      "Hello Aman\n",
      "Hello Aman\n",
      "Hello Aman\n",
      "Hello Aman\n",
      "Hello Aman\n",
      "Hello Aman\n",
      "Hello Aman\n",
      "Hello Aman\n",
      "Hello Aman\n",
      "Hello Aman\n",
      "Hello Aman\n",
      "Hello Aman\n",
      "Hello Aman\n",
      "Hello Aman\n",
      "Hello Aman\n",
      "Hello Aman\n",
      "Hello Aman\n",
      "Hello Aman\n",
      "Hello Aman\n",
      "Hello Aman\n",
      "Hello Aman\n",
      "Hello Aman\n",
      "Hello Aman\n",
      "Hello Aman\n",
      "Hello Aman\n",
      "Hello Aman\n",
      "Hello Aman\n",
      "Hello Aman\n",
      "Hello Aman\n",
      "Hello Aman\n",
      "Hello Aman\n",
      "Hello Aman\n",
      "Hello Aman\n",
      "Hello Aman\n",
      "Hello Aman\n",
      "Hello Aman\n",
      "Hello Aman\n",
      "Hello Aman\n",
      "Hello Aman\n",
      "Hello Aman\n",
      "Hello Aman\n",
      "Hello Aman\n",
      "Hello Aman\n",
      "Hello Aman\n",
      "Hello Aman\n",
      "Hello Aman\n",
      "Hello Aman\n",
      "Hello Aman\n",
      "Hello Aman\n",
      "Hello Aman\n",
      "Hello Aman\n",
      "Hello Aman\n",
      "Hello Aman\n",
      "Hello Aman\n",
      "Hello Aman\n",
      "Hello Aman\n",
      "Hello Aman\n",
      "Hello Aman\n",
      "Hello Aman\n",
      "Hello Aman\n",
      "Hello Aman\n",
      "Hello Aman\n",
      "Hello Aman\n",
      "Hello Aman\n",
      "Hello Aman\n",
      "Hello Aman\n",
      "Hello Aman\n",
      "Hello Aman\n",
      "Hello Aman\n",
      "Hello Aman\n",
      "Hello Aman\n",
      "Hello Aman\n",
      "Hello Aman\n",
      "Hello Aman\n",
      "Hello Aman\n",
      "Hello Aman\n",
      "Hello Aman\n",
      "Hello Aman\n",
      "Hello Aman\n",
      "Hello Aman\n",
      "Hello Aman\n",
      "Hello Aman\n",
      "Hello Aman\n",
      "Hello Aman\n",
      "Hello Aman\n",
      "Hello Aman\n",
      "Hello Aman\n",
      "Hello Aman\n",
      "Hello Aman\n",
      "Hello Aman\n",
      "Hello Aman\n",
      "Hello Aman\n",
      "Hello Aman\n",
      "Hello Aman\n",
      "Hello Aman\n",
      "For loop run time taken is  0.00600123405456543\n",
      "Hello Aman\n",
      "Hello Aman\n",
      "Hello Aman\n",
      "Hello Aman\n",
      "Hello Aman\n",
      "Hello Aman\n",
      "Hello Aman\n",
      "Hello Aman\n",
      "Hello Aman\n",
      "Hello Aman\n",
      "Hello Aman\n",
      "Hello Aman\n",
      "Hello Aman\n",
      "Hello Aman\n",
      "Hello Aman\n",
      "Hello Aman\n",
      "Hello Aman\n",
      "Hello Aman\n",
      "Hello Aman\n",
      "Hello Aman\n",
      "Hello Aman\n",
      "Hello Aman\n",
      "Hello Aman\n",
      "Hello Aman\n",
      "Hello Aman\n",
      "Hello Aman\n",
      "Hello Aman\n",
      "Hello Aman\n",
      "Hello Aman\n",
      "Hello Aman\n",
      "Hello Aman\n",
      "Hello Aman\n",
      "Hello Aman\n",
      "Hello Aman\n",
      "Hello Aman\n",
      "Hello Aman\n",
      "Hello Aman\n",
      "Hello Aman\n",
      "Hello Aman\n",
      "Hello Aman\n",
      "Hello Aman\n",
      "Hello Aman\n",
      "Hello Aman\n",
      "Hello Aman\n",
      "Hello Aman\n",
      "Hello Aman\n",
      "Hello Aman\n",
      "Hello Aman\n",
      "Hello Aman\n",
      "Hello Aman\n",
      "Hello Aman\n",
      "Hello Aman\n",
      "Hello Aman\n",
      "Hello Aman\n",
      "Hello Aman\n",
      "Hello Aman\n",
      "Hello Aman\n",
      "Hello Aman\n",
      "Hello Aman\n",
      "Hello Aman\n",
      "Hello Aman\n",
      "Hello Aman\n",
      "Hello Aman\n",
      "Hello Aman\n",
      "Hello Aman\n",
      "Hello Aman\n",
      "Hello Aman\n",
      "Hello Aman\n",
      "Hello Aman\n",
      "Hello Aman\n",
      "Hello Aman\n",
      "Hello Aman\n",
      "Hello Aman\n",
      "Hello Aman\n",
      "Hello Aman\n",
      "Hello Aman\n",
      "Hello Aman\n",
      "Hello Aman\n",
      "Hello Aman\n",
      "Hello Aman\n",
      "Hello Aman\n",
      "Hello Aman\n",
      "Hello Aman\n",
      "Hello Aman\n",
      "Hello Aman\n",
      "Hello Aman\n",
      "Hello Aman\n",
      "Hello Aman\n",
      "Hello Aman\n",
      "Hello Aman\n",
      "Hello Aman\n",
      "Hello Aman\n",
      "Hello Aman\n",
      "Hello Aman\n",
      "Hello Aman\n",
      "Hello Aman\n",
      "Hello Aman\n",
      "Hello Aman\n",
      "Hello Aman\n",
      "Hello Aman\n",
      "Hello Aman\n",
      "While loop run time taken is  0.0010008811950683594\n"
     ]
    }
   ],
   "source": [
    "import time\n",
    "\n",
    "initial1=time.time()\n",
    "for i in range(100):\n",
    "    print(\"Hello Aman\")\n",
    "print(\"For loop run time taken is \",time.time()-initial1)\n",
    "initial2=time.time()   \n",
    "n=0\n",
    "while(n<=100):\n",
    "    print(\"Hello Aman\")\n",
    "    n+=1\n",
    "    \n",
    "print(\"While loop run time taken is \",time.time()-initial2)\n"
   ]
  },
  {
   "cell_type": "code",
   "execution_count": 17,
   "id": "8ed3e7dc",
   "metadata": {},
   "outputs": [
    {
     "name": "stdout",
     "output_type": "stream",
     "text": [
      "sdjn\n",
      "Manish\n",
      "Akash\n"
     ]
    }
   ],
   "source": [
    "l=[\"sdjn\",'Aman',\"Manish\",\"Mehul\",\"Akash\",\"Amar\"]\n",
    "for index,i in enumerate(l):\n",
    "    if index%2==0:\n",
    "        print(i)"
   ]
  },
  {
   "cell_type": "code",
   "execution_count": 19,
   "id": "55686d4d",
   "metadata": {},
   "outputs": [
    {
     "data": {
      "text/plain": [
       "['C:\\\\Users\\\\Aman\\\\Data science course\\\\Python',\n",
       " 'C:\\\\Users\\\\Aman\\\\anaconda3\\\\python39.zip',\n",
       " 'C:\\\\Users\\\\Aman\\\\anaconda3\\\\DLLs',\n",
       " 'C:\\\\Users\\\\Aman\\\\anaconda3\\\\lib',\n",
       " 'C:\\\\Users\\\\Aman\\\\anaconda3',\n",
       " '',\n",
       " 'C:\\\\Users\\\\Aman\\\\anaconda3\\\\lib\\\\site-packages',\n",
       " 'C:\\\\Users\\\\Aman\\\\anaconda3\\\\lib\\\\site-packages\\\\win32',\n",
       " 'C:\\\\Users\\\\Aman\\\\anaconda3\\\\lib\\\\site-packages\\\\win32\\\\lib',\n",
       " 'C:\\\\Users\\\\Aman\\\\anaconda3\\\\lib\\\\site-packages\\\\Pythonwin']"
      ]
     },
     "execution_count": 19,
     "metadata": {},
     "output_type": "execute_result"
    }
   ],
   "source": [
    "import sys \n",
    "sys.path"
   ]
  },
  {
   "cell_type": "code",
   "execution_count": 22,
   "id": "2e586425",
   "metadata": {},
   "outputs": [
    {
     "data": {
      "text/plain": [
       "'sdjn and Aman and Manish and Mehul and Akash and Amar'"
      ]
     },
     "execution_count": 22,
     "metadata": {},
     "output_type": "execute_result"
    }
   ],
   "source": [
    "l=[\"sdjn\",'Aman',\"Manish\",\"Mehul\",\"Akash\",\"Amar\"]\n",
    "l1=\" and \".join(l)\n",
    "l1"
   ]
  },
  {
   "cell_type": "code",
   "execution_count": 58,
   "id": "18464b45",
   "metadata": {},
   "outputs": [],
   "source": [
    "# Rock paper Sissor Game\n",
    "\n",
    "def startInterface():\n",
    "    print(\"----------------------------------------\")\n",
    "    print(\"Lets Play Rock Paper Sissors game...\")\n",
    "    print(\"The game will have 5 rounds.\")\n",
    "    print(\"Lets start..\")\n",
    "    print(\"----------------------------------------\")\n",
    "\n",
    "def endInterface():\n",
    "    print(\"----------------------------------------\")\n",
    "    \n",
    "def computerChoise():\n",
    "    try:\n",
    "        from random import choice\n",
    "        l=[\"R\",\"P\",\"S\"]\n",
    "        return choice(l)\n",
    "    \n",
    "    except Exception as e:\n",
    "\n",
    "def returnChoise(comInput):\n",
    "    if comInput==\"R\":\n",
    "        return \"Rock\"\n",
    "    elif comInput==\"P\":\n",
    "        return \"Paper\"\n",
    "    elif comInput==\"S\":\n",
    "        return \"Sissors\"\n",
    "\n",
    "def gameResults(player,computer):\n",
    "    if player>computer:\n",
    "        return f\"Player won the game your point is {player}\"\n",
    "    elif player<computer:\n",
    "        return f\"Computer won the game his point is {computer} and your point is {player}\"\n",
    "    else:\n",
    "        return f\"The game is a draw Computer point is {computer} and your point is {player}\"\n",
    "    \n",
    "\n",
    "    \n",
    "def game():\n",
    "    player=0\n",
    "    computer=0\n",
    "    for i in range(5):\n",
    "        userInput=input(\"Enter R for Rock P for  Paper and S for Sissors :\")\n",
    "        comInput=computerChoise()\n",
    "        result=returnChoise(comInput)\n",
    "        if (userInput==\"R\" and comInput==\"R\") or (userInput==\"P\" and comInput==\"P\") or (userInput==\"S\" and comInput==\"S\"):\n",
    "            print(f\"It is a Draw, He thew {result}\")\n",
    "\n",
    "        elif (userInput==\"R\" and comInput=='S') or (userInput==\"P\" and comInput==\"R\") or (userInput==\"S\" and comInput==\"P\"):\n",
    "            print(f\"You Won the round, He thew {result}\")\n",
    "            player+=1\n",
    "        \n",
    "        else:\n",
    "            print(f\"Copmuter won the round, He thew {result}\")\n",
    "            computer+=1\n",
    "    \n",
    "        "
   ]
  },
  {
   "cell_type": "code",
   "execution_count": 59,
   "id": "21109ab4",
   "metadata": {},
   "outputs": [
    {
     "name": "stdout",
     "output_type": "stream",
     "text": [
      "Enter R for Rock P for  Paper and S for Sissors :R\n",
      "You Won the round, He thew Sissors\n",
      "Enter R for Rock P for  Paper and S for Sissors :R\n",
      "Copmuter won the round, He thew Paper\n",
      "Enter R for Rock P for  Paper and S for Sissors :R\n",
      "You Won the round, He thew Sissors\n",
      "Enter R for Rock P for  Paper and S for Sissors :R\n",
      "You Won the round, He thew Sissors\n",
      "Enter R for Rock P for  Paper and S for Sissors :R\n",
      "Copmuter won the round, He thew Paper\n",
      "Player won the game your point is 3\n"
     ]
    }
   ],
   "source": [
    "game()"
   ]
  },
  {
   "cell_type": "code",
   "execution_count": 1,
   "id": "657cb7b8",
   "metadata": {},
   "outputs": [
    {
     "data": {
      "text/plain": [
       "[0,\n",
       " 3,\n",
       " 6,\n",
       " 9,\n",
       " 12,\n",
       " 15,\n",
       " 18,\n",
       " 21,\n",
       " 24,\n",
       " 27,\n",
       " 30,\n",
       " 33,\n",
       " 36,\n",
       " 39,\n",
       " 42,\n",
       " 45,\n",
       " 48,\n",
       " 51,\n",
       " 54,\n",
       " 57,\n",
       " 60,\n",
       " 63,\n",
       " 66,\n",
       " 69,\n",
       " 72,\n",
       " 75,\n",
       " 78,\n",
       " 81,\n",
       " 84,\n",
       " 87,\n",
       " 90,\n",
       " 93,\n",
       " 96,\n",
       " 99]"
      ]
     },
     "execution_count": 1,
     "metadata": {},
     "output_type": "execute_result"
    }
   ],
   "source": [
    "ls=[i for i in range(100) if i%3==0]\n",
    "ls"
   ]
  },
  {
   "cell_type": "code",
   "execution_count": 9,
   "id": "65f7cc61",
   "metadata": {},
   "outputs": [
    {
     "name": "stdout",
     "output_type": "stream",
     "text": [
      "{0: 'item 0', 2: 'item 2', 4: 'item 4', 6: 'item 6', 8: 'item 8'}\n"
     ]
    },
    {
     "data": {
      "text/plain": [
       "{'item 0': 0, 'item 2': 2, 'item 4': 4, 'item 6': 6, 'item 8': 8}"
      ]
     },
     "execution_count": 9,
     "metadata": {},
     "output_type": "execute_result"
    }
   ],
   "source": [
    "dt={i:f\"item {i}\" for i in range(10) if i%2==0}\n",
    "print(dt)\n",
    "dt1={value:key for key,value in dt.items()}\n",
    "dt1\n"
   ]
  },
  {
   "cell_type": "code",
   "execution_count": 12,
   "id": "3c8ce174",
   "metadata": {},
   "outputs": [
    {
     "name": "stdout",
     "output_type": "stream",
     "text": [
      "12\n",
      "3\n",
      "4\n"
     ]
    }
   ],
   "source": [
    "x=[12,3,4,5]\n",
    "for i in x:\n",
    "    print(i)\n",
    "    if i==4:\n",
    "        break\n",
    "else:\n",
    "    print(\"This loop ended properly\")"
   ]
  },
  {
   "cell_type": "markdown",
   "id": "24798f5e",
   "metadata": {},
   "source": [
    "Function Caching"
   ]
  },
  {
   "cell_type": "code",
   "execution_count": 19,
   "id": "7f62ca6c",
   "metadata": {},
   "outputs": [],
   "source": [
    "import time\n",
    "from functools import lru_cache\n",
    "\n",
    "@lru_cache(maxsize=3)\n",
    "def some_work(n):\n",
    "    time.sleep(n)\n",
    "    return n"
   ]
  },
  {
   "cell_type": "code",
   "execution_count": 20,
   "id": "06cf22c8",
   "metadata": {},
   "outputs": [
    {
     "name": "stdout",
     "output_type": "stream",
     "text": [
      "Now running some work\n",
      "Done... calling again\n",
      "Done... \n"
     ]
    }
   ],
   "source": [
    "print(\"Now running some work\")\n",
    "some_work(3)\n",
    "print(\"Done... calling again\")\n",
    "some_work(3)\n",
    "print(\"Done... \")\n"
   ]
  },
  {
   "cell_type": "markdown",
   "id": "0036e6f4",
   "metadata": {},
   "source": [
    "Coroutine in python"
   ]
  },
  {
   "cell_type": "code",
   "execution_count": 21,
   "id": "dfc87354",
   "metadata": {},
   "outputs": [
    {
     "name": "stdout",
     "output_type": "stream",
     "text": [
      "Searcher Started\n",
      "Next Method run\n",
      "Your text is in the book\n"
     ]
    }
   ],
   "source": [
    "def searcher():\n",
    "    import time\n",
    "    book=\"This is a book on Harrya and code with harry and good one\"\n",
    "    time.sleep(4)\n",
    "    \n",
    "    \n",
    "    while True:\n",
    "        text=(yield)\n",
    "        if text not in book:\n",
    "            print(\"Your text is not in the book\")\n",
    "        else:\n",
    "            print(\"Your text is in the book\")\n",
    "\n",
    "search=searcher()\n",
    "print(\"Searcher Started\")\n",
    "next(search)\n",
    "print(\"Next Method run\")\n",
    "search.send(\"harry\")\n"
   ]
  },
  {
   "cell_type": "code",
   "execution_count": 23,
   "id": "9da75fd7",
   "metadata": {},
   "outputs": [],
   "source": [
    "import pickle\n",
    "\n",
    "colours=['Red','Blue','green','yellow','pink']\n",
    "file='colours.pkl'\n",
    "fileobj=open(file,'wb') #writebinary\n",
    "pickle.dump(colours,fileobj)\n",
    "fileobj.close()"
   ]
  },
  {
   "cell_type": "code",
   "execution_count": 24,
   "id": "206c4786",
   "metadata": {},
   "outputs": [
    {
     "name": "stdout",
     "output_type": "stream",
     "text": [
      "Enter the number :5\n"
     ]
    },
    {
     "data": {
      "text/plain": [
       "[1, 2, 3, 4, 5]"
      ]
     },
     "execution_count": 24,
     "metadata": {},
     "output_type": "execute_result"
    }
   ],
   "source": [
    "x=int(input(\"Enter the number :\"))\n",
    "res=[i for i in range(1,x+1)]\n",
    "res"
   ]
  },
  {
   "cell_type": "code",
   "execution_count": 22,
   "id": "ff19643a",
   "metadata": {},
   "outputs": [
    {
     "name": "stdout",
     "output_type": "stream",
     "text": [
      "Enter your age or year :22\n",
      "You will be 100 in 78 and your birth year is 2000\n"
     ]
    }
   ],
   "source": [
    "# \n",
    "age=int(input(\"Enter your age or year :\"))\n",
    "if age>100 or age>=1900:\n",
    "    x=2022-age\n",
    "    y=100-x\n",
    "    print(f\"You will be 100 in {y} years and your age is {x}\")    \n",
    "else:\n",
    "    x=100-age\n",
    "    y=2022-age\n",
    "    print(f\"You will be 100 in {x} and your birth year is {y}\")"
   ]
  },
  {
   "cell_type": "code",
   "execution_count": 44,
   "id": "fea22a2c",
   "metadata": {},
   "outputs": [],
   "source": [
    "A=B=[1,2,3,4]\n",
    "C=A[:]\n",
    "A.append(5)"
   ]
  },
  {
   "cell_type": "code",
   "execution_count": 45,
   "id": "94b9f762",
   "metadata": {},
   "outputs": [
    {
     "name": "stdout",
     "output_type": "stream",
     "text": [
      "[1, 2, 3, 4, 5]\n",
      "[1, 2, 3, 4, 5]\n"
     ]
    }
   ],
   "source": [
    "print(A)\n",
    "print(B)"
   ]
  },
  {
   "cell_type": "code",
   "execution_count": 46,
   "id": "61c486ce",
   "metadata": {},
   "outputs": [
    {
     "data": {
      "text/plain": [
       "False"
      ]
     },
     "execution_count": 46,
     "metadata": {},
     "output_type": "execute_result"
    }
   ],
   "source": [
    "A == C"
   ]
  },
  {
   "cell_type": "code",
   "execution_count": null,
   "id": "afae5bba",
   "metadata": {},
   "outputs": [],
   "source": [
    "C"
   ]
  },
  {
   "cell_type": "code",
   "execution_count": 78,
   "id": "b36af123",
   "metadata": {},
   "outputs": [
    {
     "name": "stdout",
     "output_type": "stream",
     "text": [
      "Enter the number of apples :10\n",
      "Enter the minimum number to check :2\n",
      "Enter the minimum number to check :4\n",
      "2 is a divisor of 10\n",
      "3 is not a divisor of 10\n",
      "4 is not a divisor of 10\n"
     ]
    }
   ],
   "source": [
    "apples=int(input(\"Enter the number of apples :\"))\n",
    "mx=int(input(\"Enter the minimum number to check :\"))\n",
    "mn=int(input(\"Enter the minimum number to check :\"))\n",
    "for i in range(mx,mn+1):\n",
    "    if apples%i==0:\n",
    "        print(f\"{i} is a divisor of {apples}\")\n",
    "    else:\n",
    "        print(f\"{i} is not a divisor of {apples}\")        "
   ]
  },
  {
   "cell_type": "code",
   "execution_count": 106,
   "id": "979c86bb",
   "metadata": {},
   "outputs": [
    {
     "name": "stdout",
     "output_type": "stream",
     "text": [
      "Enter a positive number :121\n",
      "121 is a palindrome number\n"
     ]
    }
   ],
   "source": [
    "no=input(\"Enter a positive number :\")\n",
    "try:\n",
    "    try:\n",
    "        no_copy=no[::-1]\n",
    "        no=int(no)\n",
    "        no_copy=int(no_copy)\n",
    "        if no==no_copy:\n",
    "            print(f\"{no} is a palindrome number\")\n",
    "        else:\n",
    "            print(f\"{no} is not a palindrome number\")\n",
    "\n",
    "    except Exception as e:\n",
    "        no=no*-1\n",
    "        no=str(no)\n",
    "        no_copy=no[::-1]\n",
    "        no=int(no)\n",
    "        no_copy=int(no_copy)\n",
    "        if no==no_copy:\n",
    "            print(f\"{no*-1} is a palindrome number\")\n",
    "        else:\n",
    "            print(f\"{no*-1} is not a palindrome number\")\n",
    "except Exception as e:\n",
    "    print(f\"There was an error in the code {e}\")"
   ]
  },
  {
   "cell_type": "code",
   "execution_count": 79,
   "id": "c06e53cf",
   "metadata": {},
   "outputs": [
    {
     "name": "stdout",
     "output_type": "stream",
     "text": [
      "Enter a number :3\n",
      "It is a palindrome number\n"
     ]
    }
   ],
   "source": [
    "no=int(input(\"Enter a number :\"))\n",
    "temp=no\n",
    "reverse=0\n",
    "while(no>0):\n",
    "    digit=no%10\n",
    "    reverse=reverse*10+digit\n",
    "    no=no//10\n",
    "if temp==reverse:\n",
    "    print(\"It is a palindrome number\")\n",
    "else:\n",
    "    print(\"It is not a palindrome number\")"
   ]
  },
  {
   "cell_type": "code",
   "execution_count": 84,
   "id": "0da99202",
   "metadata": {},
   "outputs": [
    {
     "ename": "AttributeError",
     "evalue": "'list' object has no attribute 'split'",
     "output_type": "error",
     "traceback": [
      "\u001b[1;31m---------------------------------------------------------------------------\u001b[0m",
      "\u001b[1;31mAttributeError\u001b[0m                            Traceback (most recent call last)",
      "Input \u001b[1;32mIn [84]\u001b[0m, in \u001b[0;36m<cell line: 2>\u001b[1;34m()\u001b[0m\n\u001b[0;32m      1\u001b[0m sentence\u001b[38;5;241m=\u001b[39m[\u001b[38;5;124m\"\u001b[39m\u001b[38;5;124mThis is good\u001b[39m\u001b[38;5;124m\"\u001b[39m,\u001b[38;5;124m\"\u001b[39m\u001b[38;5;124mPython is good\u001b[39m\u001b[38;5;124m\"\u001b[39m,\u001b[38;5;124m\"\u001b[39m\u001b[38;5;124mPython is not a snake\u001b[39m\u001b[38;5;124m\"\u001b[39m]\n\u001b[1;32m----> 2\u001b[0m sentence\u001b[38;5;241m=\u001b[39m\u001b[43msentence\u001b[49m\u001b[38;5;241;43m.\u001b[39;49m\u001b[43msplit\u001b[49m(\u001b[38;5;124m\"\u001b[39m\u001b[38;5;124m \u001b[39m\u001b[38;5;124m\"\u001b[39m)\n\u001b[0;32m      3\u001b[0m sentence\n",
      "\u001b[1;31mAttributeError\u001b[0m: 'list' object has no attribute 'split'"
     ]
    }
   ],
   "source": [
    " sentence=[\"This is good\",\"Python is good\",\"Python is not a snake\"]\n",
    "sentence=sentence.split(\" \")\n",
    "sentence"
   ]
  },
  {
   "cell_type": "code",
   "execution_count": 94,
   "id": "39d7e5ee",
   "metadata": {},
   "outputs": [
    {
     "data": {
      "text/plain": [
       "[(1, 5), (2, 6), (3, 7), (4, 8), (5, 9)]"
      ]
     },
     "execution_count": 94,
     "metadata": {},
     "output_type": "execute_result"
    }
   ],
   "source": [
    "l1=[1,2,3,4,5]\n",
    "l2=[5,6,7,8,9,10]\n",
    "map=zip(l1,l2)\n",
    "list(map)"
   ]
  },
  {
   "cell_type": "code",
   "execution_count": 98,
   "id": "f0bad1c0",
   "metadata": {},
   "outputs": [
    {
     "name": "stdout",
     "output_type": "stream",
     "text": [
      "*****\n",
      "****\n",
      "***\n",
      "**\n",
      "*\n"
     ]
    }
   ],
   "source": [
    "for i in range(5,0,-1):\n",
    "    for j in range(i):\n",
    "        print(\"*\",end=\"\")\n",
    "    print(\"\")"
   ]
  },
  {
   "cell_type": "code",
   "execution_count": 114,
   "id": "36dcd3ca",
   "metadata": {},
   "outputs": [
    {
     "name": "stdout",
     "output_type": "stream",
     "text": [
      "Enter the number of friends :3\n",
      "Enter their Names :Aman Gupta\n",
      "Enter their Names :Gaurav Gurav\n",
      "Enter their Names :Manish Tiwari\n"
     ]
    }
   ],
   "source": [
    "no_of_friends=int(input(\"Enter the number of friends :\"))\n",
    "friends=[]\n",
    "for i in range(no_of_friends):\n",
    "    x=input(\"Enter their Names :\")\n",
    "    friends.append(x)"
   ]
  },
  {
   "cell_type": "code",
   "execution_count": 117,
   "id": "6752e091",
   "metadata": {},
   "outputs": [
    {
     "data": {
      "text/plain": [
       "['Aman Gupta', 'Gaurav Gurav', 'Manish Tiwari']"
      ]
     },
     "execution_count": 117,
     "metadata": {},
     "output_type": "execute_result"
    }
   ],
   "source": [
    "friends"
   ]
  },
  {
   "cell_type": "code",
   "execution_count": 127,
   "id": "4db319e4",
   "metadata": {},
   "outputs": [
    {
     "ename": "NameError",
     "evalue": "name 'random' is not defined",
     "output_type": "error",
     "traceback": [
      "\u001b[1;31m---------------------------------------------------------------------------\u001b[0m",
      "\u001b[1;31mNameError\u001b[0m                                 Traceback (most recent call last)",
      "Input \u001b[1;32mIn [127]\u001b[0m, in \u001b[0;36m<cell line: 15>\u001b[1;34m()\u001b[0m\n\u001b[0;32m     12\u001b[0m     \u001b[38;5;28mprint\u001b[39m(f_name,l_name)\n\u001b[0;32m     14\u001b[0m namesSplit(friends)\n\u001b[1;32m---> 15\u001b[0m \u001b[43mfunnyNames\u001b[49m\u001b[43m(\u001b[49m\u001b[43m)\u001b[49m\n",
      "Input \u001b[1;32mIn [127]\u001b[0m, in \u001b[0;36mfunnyNames\u001b[1;34m()\u001b[0m\n\u001b[0;32m      8\u001b[0m \u001b[38;5;28;01mdef\u001b[39;00m \u001b[38;5;21mfunnyNames\u001b[39m():\n\u001b[0;32m      9\u001b[0m     \u001b[38;5;28;01mfrom\u001b[39;00m \u001b[38;5;21;01mrandom\u001b[39;00m \u001b[38;5;28;01mimport\u001b[39;00m choice\n\u001b[1;32m---> 10\u001b[0m     f_name\u001b[38;5;241m=\u001b[39m\u001b[43mrandom\u001b[49m\u001b[38;5;241m.\u001b[39mchoice(first_name)\n\u001b[0;32m     11\u001b[0m     l_name\u001b[38;5;241m=\u001b[39mrandom\u001b[38;5;241m.\u001b[39mchoice(last_name)\n\u001b[0;32m     12\u001b[0m     \u001b[38;5;28mprint\u001b[39m(f_name,l_name)\n",
      "\u001b[1;31mNameError\u001b[0m: name 'random' is not defined"
     ]
    }
   ],
   "source": [
    "def namesSplit(list_friend):\n",
    "    first_name=[]\n",
    "    last_name=[]\n",
    "    for i in list_friend:\n",
    "        first_name.append(i.split()[0])\n",
    "        last_name.append(i.split()[1])\n",
    "    \n",
    "def funnyNames():\n",
    "    from random import choice\n",
    "    f_name=random.choice(first_name)\n",
    "    l_name=random.choice(last_name)\n",
    "    print(f_name,l_name)\n",
    "\n",
    "namesSplit(friends)\n",
    "funnyNames()"
   ]
  },
  {
   "cell_type": "code",
   "execution_count": null,
   "id": "1d9a3f06",
   "metadata": {},
   "outputs": [],
   "source": []
  }
 ],
 "metadata": {
  "kernelspec": {
   "display_name": "Python 3 (ipykernel)",
   "language": "python",
   "name": "python3"
  },
  "language_info": {
   "codemirror_mode": {
    "name": "ipython",
    "version": 3
   },
   "file_extension": ".py",
   "mimetype": "text/x-python",
   "name": "python",
   "nbconvert_exporter": "python",
   "pygments_lexer": "ipython3",
   "version": "3.9.12"
  }
 },
 "nbformat": 4,
 "nbformat_minor": 5
}
