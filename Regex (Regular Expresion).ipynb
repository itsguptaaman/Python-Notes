{
 "cells": [
  {
   "cell_type": "markdown",
   "id": "94b1e69d",
   "metadata": {},
   "source": [
    "Regular expressions are used to perform search-related tasks in Python. In this tutorial, our primary focus should be on understanding because we are going to cover a concept that has a wide range of uses. To work with regular expressions, we have to import a built-in module in Python called ‘re’. \n",
    "\n",
    "import re\n",
    "\n",
    "The module defines several functions and constants to work with RegEx. The “re” module is composed of five functions known as:\n",
    "\n",
    "    findall: It finds all searches for matches and prints resultant in the form of a list.\n",
    "    search: It works the same as a findall, but the resultant is a matched object if any is found.\n",
    "    split: The split function splits the string from every matched into two new strings.\n",
    "    sub: The sub-function works exactly like a replace function in notepad or MS Word. It replaces the original word with a word of our choice.\n",
    "    finditer: The finditer yields an iterator as a resultant with all the objects that match the one we sent it) finditer supports more attributes than any other function defined above. It also provides more details related to the matched object. So, most of the examples we are going to see next will contain a finditer function in them.\n",
    "\n",
    "So, you must be wondering that all of the searchings can easily be done using a simple loop with some conditions so, what is the purpose of the “re” module. Well “re” module is used for complex searching, using Metacharacters and special sequences. \n",
    "\n",
    "Metacharacters have special meaning in Python, and they are used with “re” modules to search for keywords and objects more technically and efficiently. We will see the working of a few Meta Characters in this tutorial so you can get an idea. I will provide you with a list of these characters and their working at the end of this tutorial. \n",
    "Use of “^”:-\n",
    "\n",
    "We use the” ^” symbol to check whether the string is starting from the keyword we wrote after ^ or not. For example, if a string starts from CodeWithHarry and we are searching the keyword using ^CodeWithHarry with finditer, it will return us whether our string is starting from the searched keyword or not. The same is the case for $ sign. It will check whether our string is ending with the specific keyword or not.\n",
    "Use of “|”:-\n",
    "\n",
    "We can also use a unique character “|” to use more than one condition, so if we use it for the above case, then it will check whether the string starts or ends with CodeWithHarry.Now we will move on to special sequences. We will see a few special sequences in this tutorial, and you can have a look at the list of these sequences at the end of the tutorial description for further practice. \n",
    "\n",
    "    \\A:         the resultant is a match if the input characters are at the beginning of the string                \n",
    "    \\b          the resultant is a match whether the input characters are at the beginning or the end of a word                               \n",
    "    \\d          the resultant is a match if the string contains any digits  \n",
    "    \\s           the resultant is a match if the string contains a white space character\n",
    "\n",
    "There are many metacharacters supported by the re module. Some characters with their working are the following:\n",
    "\n",
    "    ‘.’: Matches any single character except newline\n",
    "    ‘$’: Anchors a match at the end of a string\n",
    "    ‘*’: Matches zero or more repetitions\n",
    "    ‘+':Matches one or more repetitions\n",
    "    ‘{}’: Matches an explicitly specified number of repetitions\n",
    "    ‘[]’: Specifies a character class\n",
    "\n",
    "To explore more about the re module, check the https://docs.python.org/3/library/re.html python documentation.\n",
    " \n",
    "Re.txt file as described in the video!\n",
    "\n",
    "\n",
    "Meta Characters\n",
    "\n",
    "[] A set of characters\n",
    "\n",
    "\\ Signals a special sequence (can also be used to escape special characters)\n",
    "\n",
    ". Any character (except newline character)\n",
    "\n",
    "^ Starts with\n",
    "\n",
    "$ Ends with\n",
    "\n",
    "* Zero or more occurrences\n",
    "\n",
    "+ One or more occurrences\n",
    "\n",
    "{} Exactly the specified number of occurrences\n",
    "\n",
    "| Either or\n",
    "\n",
    "() Capture and group\n",
    "\n",
    "Special Sequences\n",
    "\n",
    "\\A Returns a match if the specified characters are at the beginning of the string\n",
    "\n",
    "\\b Returns a match where the specified characters are at the beginning or at the end of a word r” \n",
    "ain\\b.”\n",
    "\n",
    "\\B Returns a match where the specified characters are present, but NOT at the beginning (or at the end) of a word\n",
    "\n",
    "\\d Returns a match where the string contains digits (numbers from 0-9)\n",
    "\n",
    "\\D Returns a match where the string DOES NOT contain digits\n",
    "\n",
    "\\s Returns a match where the string contains a white space character\n",
    "\n",
    "\\S Returns a match where the string DOES NOT contain a white space character\n",
    "\n",
    "\\w Returns a match where the string contains any word characters (characters from a to Z, digits from 0-9, and the underscore _ character)\n",
    "\n",
    "\\W Returns a match where the string DOES NOT contain any word characters\n",
    "\n",
    "\\Z Returns a match if the specified characters are at the end of the string"
   ]
  },
  {
   "cell_type": "code",
   "execution_count": null,
   "id": "51de4e9d",
   "metadata": {},
   "outputs": [],
   "source": [
    "import re #re is the package for regular expression\n",
    "# There are 5 function regex \n",
    "# findall, search, split, sub, finditer"
   ]
  },
  {
   "cell_type": "code",
   "execution_count": 1,
   "id": "f132f446",
   "metadata": {},
   "outputs": [],
   "source": [
    "mystr='''When the American Civil War caused a boom in the Bombay cotton market, Tata and his father joined the Asiatic Banking Corporation. When the tide ebbed, Tata's credit was left desolate. Fortunately, the firm’s credit was re-established during the next three years. A share in the lucrative contract for the commissariat of Napier’s expedition to Abyssinia in 1868 restored the family fortune.” In 1870 with Rs.21,000 capital, he founded a trading company.[13] Further, he bought a bankrupt oil mill at Chinchpokli and converted it into a cotton mill, under the name Alexandra Mill which he sold for a profit after two years. In 1874, he set up another cotton mill at Nagpur named Empress Mill. He dreamed of achieving four goals, setting up an iron and steel company, a unique hotel, a world-class learning institution, and a hydroelectric plant. During his lifetime, in 1903, the Taj Mahal Hotel at Colaba waterfront was opened making it the first hotel with electricity in India.'''"
   ]
  },
  {
   "cell_type": "code",
   "execution_count": 12,
   "id": "2b8c597b",
   "metadata": {},
   "outputs": [
    {
     "data": {
      "application/javascript": [
       "\n",
       "        if (window._pyforest_update_imports_cell) { window._pyforest_update_imports_cell('import re'); }\n",
       "    "
      ],
      "text/plain": [
       "<IPython.core.display.Javascript object>"
      ]
     },
     "metadata": {},
     "output_type": "display_data"
    },
    {
     "name": "stdout",
     "output_type": "stream",
     "text": [
      "<re.Match object; span=(494, 497), match='ill'>\n",
      "<re.Match object; span=(545, 548), match='ill'>\n",
      "<re.Match object; span=(576, 579), match='ill'>\n",
      "<re.Match object; span=(659, 662), match='ill'>\n",
      "<re.Match object; span=(688, 691), match='ill'>\n"
     ]
    }
   ],
   "source": [
    "alex=re.compile(r'il{2}')\n",
    "matches=alex.finditer(mystr)\n",
    "for i in matches:\n",
    "    print(i)"
   ]
  },
  {
   "cell_type": "code",
   "execution_count": 5,
   "id": "76029155",
   "metadata": {},
   "outputs": [
    {
     "data": {
      "text/plain": [
       "'Alexandra'"
      ]
     },
     "execution_count": 5,
     "metadata": {},
     "output_type": "execute_result"
    }
   ],
   "source": [
    "mystr[565:574]"
   ]
  },
  {
   "cell_type": "code",
   "execution_count": 1,
   "id": "3a6e9c32",
   "metadata": {},
   "outputs": [],
   "source": [
    "import re\n",
    "re.search('n','\\n')"
   ]
  },
  {
   "cell_type": "code",
   "execution_count": 2,
   "id": "17e25488",
   "metadata": {},
   "outputs": [
    {
     "data": {
      "text/plain": [
       "<re.Match object; span=(1, 2), match='n'>"
      ]
     },
     "execution_count": 2,
     "metadata": {},
     "output_type": "execute_result"
    }
   ],
   "source": [
    "re.search('n','\\\\n')"
   ]
  },
  {
   "cell_type": "code",
   "execution_count": 3,
   "id": "85b4fb71",
   "metadata": {},
   "outputs": [
    {
     "data": {
      "text/plain": [
       "<re.Match object; span=(1, 2), match='n'>"
      ]
     },
     "execution_count": 3,
     "metadata": {},
     "output_type": "execute_result"
    }
   ],
   "source": [
    "re.search('n',r'\\n\\n\\n\\n\\n\\n\\n\\n\\n\\n\\n\\n\\n\\n\\n')"
   ]
  },
  {
   "cell_type": "code",
   "execution_count": 4,
   "id": "e51c10b6",
   "metadata": {},
   "outputs": [
    {
     "data": {
      "text/plain": [
       "<re.Match object; span=(0, 1), match='\\n'>"
      ]
     },
     "execution_count": 4,
     "metadata": {},
     "output_type": "execute_result"
    }
   ],
   "source": [
    "re.search('\\n','\\n\\n\\n\\n\\n\\n\\n\\n\\n\\n\\n\\n\\n\\n\\n')"
   ]
  },
  {
   "cell_type": "code",
   "execution_count": 5,
   "id": "1653856c",
   "metadata": {},
   "outputs": [
    {
     "data": {
      "text/plain": [
       "<re.Match object; span=(0, 1), match='\\n'>"
      ]
     },
     "execution_count": 5,
     "metadata": {},
     "output_type": "execute_result"
    }
   ],
   "source": [
    "re.search(r'\\n','\\n\\n\\n\\n\\n\\n\\n\\n\\n\\n\\n\\n\\n\\n\\n')"
   ]
  },
  {
   "cell_type": "code",
   "execution_count": 6,
   "id": "ba215357",
   "metadata": {},
   "outputs": [],
   "source": [
    "re.search(r'\\n',r'\\n\\n\\n\\n\\n\\n\\n\\n\\n\\n\\n\\n\\n\\n\\n')"
   ]
  },
  {
   "cell_type": "code",
   "execution_count": null,
   "id": "2106b307",
   "metadata": {},
   "outputs": [],
   "source": [
    "# Match and Search"
   ]
  },
  {
   "cell_type": "code",
   "execution_count": 7,
   "id": "2f1cafa6",
   "metadata": {},
   "outputs": [],
   "source": [
    "re.match('c','abcde')"
   ]
  },
  {
   "cell_type": "code",
   "execution_count": 8,
   "id": "34fe480e",
   "metadata": {},
   "outputs": [
    {
     "data": {
      "text/plain": [
       "<re.Match object; span=(0, 1), match='a'>"
      ]
     },
     "execution_count": 8,
     "metadata": {},
     "output_type": "execute_result"
    }
   ],
   "source": [
    "re.match('a','abcde') #It only find the Object from begining"
   ]
  },
  {
   "cell_type": "code",
   "execution_count": 10,
   "id": "f933ab3a",
   "metadata": {},
   "outputs": [
    {
     "data": {
      "text/plain": [
       "<re.Match object; span=(2, 3), match='c'>"
      ]
     },
     "execution_count": 10,
     "metadata": {},
     "output_type": "execute_result"
    }
   ],
   "source": [
    "re.search('c','abcde') #It serches anywhere but ionly first instance"
   ]
  },
  {
   "cell_type": "code",
   "execution_count": 11,
   "id": "de797f65",
   "metadata": {},
   "outputs": [
    {
     "data": {
      "text/plain": [
       "True"
      ]
     },
     "execution_count": 11,
     "metadata": {},
     "output_type": "execute_result"
    }
   ],
   "source": [
    "bool(re.search('c','abcde'))"
   ]
  },
  {
   "cell_type": "code",
   "execution_count": 12,
   "id": "7b33dc2c",
   "metadata": {},
   "outputs": [
    {
     "data": {
      "text/plain": [
       "False"
      ]
     },
     "execution_count": 12,
     "metadata": {},
     "output_type": "execute_result"
    }
   ],
   "source": [
    "bool(re.search('x','abcde'))"
   ]
  },
  {
   "cell_type": "code",
   "execution_count": 14,
   "id": "e3b4186e",
   "metadata": {},
   "outputs": [
    {
     "data": {
      "text/plain": [
       "<re.Match object; span=(1, 2), match='c'>"
      ]
     },
     "execution_count": 14,
     "metadata": {},
     "output_type": "execute_result"
    }
   ],
   "source": [
    "re.search('c','acbcdec')"
   ]
  },
  {
   "cell_type": "code",
   "execution_count": 16,
   "id": "5da7d480",
   "metadata": {},
   "outputs": [
    {
     "data": {
      "text/plain": [
       "<re.Match object; span=(4, 5), match='c'>"
      ]
     },
     "execution_count": 16,
     "metadata": {},
     "output_type": "execute_result"
    }
   ],
   "source": [
    "re.search('c','abdec\\nc') #It works in the new line"
   ]
  },
  {
   "cell_type": "code",
   "execution_count": 17,
   "id": "8f401569",
   "metadata": {},
   "outputs": [],
   "source": [
    "re.match('c','abdec\\nc') #It doesnot work for the second line"
   ]
  },
  {
   "cell_type": "code",
   "execution_count": 19,
   "id": "bcbad83b",
   "metadata": {},
   "outputs": [
    {
     "data": {
      "text/plain": [
       "'a'"
      ]
     },
     "execution_count": 19,
     "metadata": {},
     "output_type": "execute_result"
    }
   ],
   "source": [
    "re.match('a','abcdef').group()"
   ]
  },
  {
   "cell_type": "code",
   "execution_count": 21,
   "id": "07b0a3d8",
   "metadata": {},
   "outputs": [
    {
     "data": {
      "text/plain": [
       "'a'"
      ]
     },
     "execution_count": 21,
     "metadata": {},
     "output_type": "execute_result"
    }
   ],
   "source": [
    "re.match('a','abcdef  aaa').group(0)"
   ]
  },
  {
   "cell_type": "code",
   "execution_count": 23,
   "id": "4eb9435a",
   "metadata": {},
   "outputs": [
    {
     "data": {
      "text/plain": [
       "2"
      ]
     },
     "execution_count": 23,
     "metadata": {},
     "output_type": "execute_result"
    }
   ],
   "source": [
    "re.search('c','abcde \\nccc').start() "
   ]
  },
  {
   "cell_type": "code",
   "execution_count": 24,
   "id": "51135e16",
   "metadata": {},
   "outputs": [
    {
     "data": {
      "text/plain": [
       "3"
      ]
     },
     "execution_count": 24,
     "metadata": {},
     "output_type": "execute_result"
    }
   ],
   "source": [
    "re.search('c','abcde \\nccc').end() "
   ]
  },
  {
   "cell_type": "code",
   "execution_count": 25,
   "id": "f96cc910",
   "metadata": {},
   "outputs": [],
   "source": [
    "# Literal matching"
   ]
  },
  {
   "cell_type": "code",
   "execution_count": 26,
   "id": "16ebdba6",
   "metadata": {},
   "outputs": [],
   "source": [
    "re.search('na','asdfdg n da sa bn') #It wont work because they are ordered"
   ]
  },
  {
   "cell_type": "code",
   "execution_count": 28,
   "id": "d6d0036b",
   "metadata": {},
   "outputs": [
    {
     "data": {
      "text/plain": [
       "<re.Match object; span=(0, 1), match='a'>"
      ]
     },
     "execution_count": 28,
     "metadata": {},
     "output_type": "execute_result"
    }
   ],
   "source": [
    "re.search('n|a','asdfdg n da sa bn') #n or a"
   ]
  },
  {
   "cell_type": "code",
   "execution_count": 29,
   "id": "23fbe628",
   "metadata": {},
   "outputs": [
    {
     "data": {
      "text/plain": [
       "<re.Match object; span=(0, 1), match='a'>"
      ]
     },
     "execution_count": 29,
     "metadata": {},
     "output_type": "execute_result"
    }
   ],
   "source": [
    "re.search('n|a|b','asdfdg n da sa bn')"
   ]
  },
  {
   "cell_type": "code",
   "execution_count": null,
   "id": "db994a98",
   "metadata": {},
   "outputs": [],
   "source": [
    "# re.findall()"
   ]
  },
  {
   "cell_type": "code",
   "execution_count": 30,
   "id": "7fdbd3e4",
   "metadata": {},
   "outputs": [
    {
     "data": {
      "text/plain": [
       "['a', 'n', 'a', 'a', 'n']"
      ]
     },
     "execution_count": 30,
     "metadata": {},
     "output_type": "execute_result"
    }
   ],
   "source": [
    "re.findall('n|a','asdfdg n da sa bn')"
   ]
  },
  {
   "cell_type": "code",
   "execution_count": 31,
   "id": "f3dfd05e",
   "metadata": {},
   "outputs": [
    {
     "data": {
      "text/plain": [
       "<re.Match object; span=(0, 4), match='abcd'>"
      ]
     },
     "execution_count": 31,
     "metadata": {},
     "output_type": "execute_result"
    }
   ],
   "source": [
    "re.search('abcd','abcdefgh abcd')"
   ]
  },
  {
   "cell_type": "code",
   "execution_count": 32,
   "id": "9d21cade",
   "metadata": {},
   "outputs": [
    {
     "data": {
      "text/plain": [
       "['abcd', 'abcd']"
      ]
     },
     "execution_count": 32,
     "metadata": {},
     "output_type": "execute_result"
    }
   ],
   "source": [
    "re.findall('abcd','abcdefgh abcd')"
   ]
  },
  {
   "cell_type": "code",
   "execution_count": 33,
   "id": "a28972e1",
   "metadata": {},
   "outputs": [],
   "source": [
    "# Character Set"
   ]
  },
  {
   "cell_type": "code",
   "execution_count": 34,
   "id": "14b8b10e",
   "metadata": {},
   "outputs": [
    {
     "data": {
      "text/plain": [
       "<re.Match object; span=(0, 4), match='abcd'>"
      ]
     },
     "execution_count": 34,
     "metadata": {},
     "output_type": "execute_result"
    }
   ],
   "source": [
    "re.search('abcd','abcdefgh abcd')"
   ]
  },
  {
   "cell_type": "code",
   "execution_count": 35,
   "id": "1cc64346",
   "metadata": {},
   "outputs": [
    {
     "data": {
      "text/plain": [
       "<re.Match object; span=(0, 4), match='abcd'>"
      ]
     },
     "execution_count": 35,
     "metadata": {},
     "output_type": "execute_result"
    }
   ],
   "source": [
    "re.search(r'\\w\\w\\w\\w',\"abcdefnc abcd\")\n",
    "# \\w  matches alpha numeric characters [a-zA-Z0-9_]"
   ]
  },
  {
   "cell_type": "code",
   "execution_count": 36,
   "id": "48434dee",
   "metadata": {},
   "outputs": [
    {
     "data": {
      "text/plain": [
       "<re.Match object; span=(0, 4), match='ab_c'>"
      ]
     },
     "execution_count": 36,
     "metadata": {},
     "output_type": "execute_result"
    }
   ],
   "source": [
    "re.search(r'\\w\\w\\w\\w',\"ab_cdefnc abcd\")\n"
   ]
  },
  {
   "cell_type": "code",
   "execution_count": 37,
   "id": "d61c7479",
   "metadata": {},
   "outputs": [],
   "source": [
    "re.search(r'\\w\\w\\w',\"a3.!-!\")"
   ]
  },
  {
   "cell_type": "code",
   "execution_count": 39,
   "id": "906e6cf9",
   "metadata": {},
   "outputs": [
    {
     "data": {
      "text/plain": [
       "'a33'"
      ]
     },
     "execution_count": 39,
     "metadata": {},
     "output_type": "execute_result"
    }
   ],
   "source": [
    "re.search(r'\\w\\w\\w',\"a33!-!\").group()"
   ]
  },
  {
   "cell_type": "code",
   "execution_count": 40,
   "id": "38fcd58d",
   "metadata": {},
   "outputs": [],
   "source": [
    "# Things which are not included in \\w will be included in\\W"
   ]
  },
  {
   "cell_type": "code",
   "execution_count": 41,
   "id": "7e9bd5af",
   "metadata": {},
   "outputs": [
    {
     "data": {
      "text/plain": [
       "<re.Match object; span=(0, 3), match='a3.'>"
      ]
     },
     "execution_count": 41,
     "metadata": {},
     "output_type": "execute_result"
    }
   ],
   "source": [
    "re.search('\\w\\w\\W','a3.-_!')"
   ]
  },
  {
   "cell_type": "code",
   "execution_count": 43,
   "id": "b01b010f",
   "metadata": {},
   "outputs": [
    {
     "data": {
      "text/plain": [
       "<re.Match object; span=(0, 3), match='a3 '>"
      ]
     },
     "execution_count": 43,
     "metadata": {},
     "output_type": "execute_result"
    }
   ],
   "source": [
    "re.search('\\w\\w\\W','a3 .-_!')"
   ]
  },
  {
   "cell_type": "code",
   "execution_count": 44,
   "id": "d1fcbbd8",
   "metadata": {},
   "outputs": [],
   "source": [
    "# Quantifiers\n",
    "#\n",
    "'+'= 1 or more\n",
    "\"?\"= 0 or 1\n",
    "\"*\"= 0 or more\n",
    "'{n,m}' = n to m repitations {,3},{3,}'"
   ]
  },
  {
   "cell_type": "code",
   "execution_count": 46,
   "id": "a715f15e",
   "metadata": {},
   "outputs": [
    {
     "data": {
      "text/plain": [
       "<re.Match object; span=(0, 2), match='ab'>"
      ]
     },
     "execution_count": 46,
     "metadata": {},
     "output_type": "execute_result"
    }
   ],
   "source": [
    "re.search(r\"\\w\\w\", \"abcdefnc abcd\")"
   ]
  },
  {
   "cell_type": "code",
   "execution_count": 47,
   "id": "b715fc49",
   "metadata": {},
   "outputs": [
    {
     "data": {
      "text/plain": [
       "<re.Match object; span=(0, 8), match='abcdefnc'>"
      ]
     },
     "execution_count": 47,
     "metadata": {},
     "output_type": "execute_result"
    }
   ],
   "source": [
    "re.search(r\"\\w+\", \"abcdefnc abcd\")"
   ]
  },
  {
   "cell_type": "code",
   "execution_count": 50,
   "id": "7da6ffa2",
   "metadata": {},
   "outputs": [
    {
     "data": {
      "text/plain": [
       "'abcdefnc abcd'"
      ]
     },
     "execution_count": 50,
     "metadata": {},
     "output_type": "execute_result"
    }
   ],
   "source": [
    "re.search(r\"\\w+\\W+\\w+\", \"abcdefnc abcd\").group()"
   ]
  },
  {
   "cell_type": "code",
   "execution_count": 51,
   "id": "e71ce028",
   "metadata": {},
   "outputs": [
    {
     "data": {
      "text/plain": [
       "'abcdefnc    abcd'"
      ]
     },
     "execution_count": 51,
     "metadata": {},
     "output_type": "execute_result"
    }
   ],
   "source": [
    "re.search(r\"\\w+\\W+\\w+\", \"abcdefnc    abcd\").group()"
   ]
  },
  {
   "cell_type": "code",
   "execution_count": 52,
   "id": "42b6e878",
   "metadata": {},
   "outputs": [
    {
     "data": {
      "text/plain": [
       "'abcdefnc'"
      ]
     },
     "execution_count": 52,
     "metadata": {},
     "output_type": "execute_result"
    }
   ],
   "source": [
    "re.search(r\"\\w+\\W?\\w+\", \"abcdefnc\").group()"
   ]
  },
  {
   "cell_type": "code",
   "execution_count": 53,
   "id": "7b9dc40c",
   "metadata": {},
   "outputs": [
    {
     "data": {
      "text/plain": [
       "'abcdefnc fjksfk'"
      ]
     },
     "execution_count": 53,
     "metadata": {},
     "output_type": "execute_result"
    }
   ],
   "source": [
    "re.search(r\"\\w+\\W?\\w+\", \"abcdefnc fjksfk\").group()"
   ]
  },
  {
   "cell_type": "code",
   "execution_count": null,
   "id": "13cb1149",
   "metadata": {},
   "outputs": [],
   "source": []
  },
  {
   "cell_type": "code",
   "execution_count": null,
   "id": "14cbc9fc",
   "metadata": {},
   "outputs": [],
   "source": []
  },
  {
   "cell_type": "code",
   "execution_count": null,
   "id": "408aa608",
   "metadata": {},
   "outputs": [],
   "source": []
  },
  {
   "cell_type": "code",
   "execution_count": null,
   "id": "fc06c9e2",
   "metadata": {},
   "outputs": [],
   "source": []
  },
  {
   "cell_type": "code",
   "execution_count": null,
   "id": "9848d734",
   "metadata": {},
   "outputs": [],
   "source": []
  },
  {
   "cell_type": "code",
   "execution_count": null,
   "id": "bbf8a532",
   "metadata": {},
   "outputs": [],
   "source": []
  }
 ],
 "metadata": {
  "kernelspec": {
   "display_name": "Python 3 (ipykernel)",
   "language": "python",
   "name": "python3"
  },
  "language_info": {
   "codemirror_mode": {
    "name": "ipython",
    "version": 3
   },
   "file_extension": ".py",
   "mimetype": "text/x-python",
   "name": "python",
   "nbconvert_exporter": "python",
   "pygments_lexer": "ipython3",
   "version": "3.9.12"
  }
 },
 "nbformat": 4,
 "nbformat_minor": 5
}
