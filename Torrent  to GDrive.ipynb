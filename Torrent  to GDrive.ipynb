{
 "cells": [
  {
   "cell_type": "code",
   "execution_count": null,
   "id": "f3074f8b",
   "metadata": {},
   "outputs": [],
   "source": [
    "#Run This First\n",
    "!pip install qiskit ipywidgets\n",
    "!python -m pip install --upgrade pip setuptools wheel\n",
    "!python -m pip install lbry-libtorrent\n",
    "!pip install folium==0.2.1"
   ]
  },
  {
   "cell_type": "code",
   "execution_count": null,
   "id": "eb031039",
   "metadata": {},
   "outputs": [],
   "source": [
    "#@markdown <br><center><img src='https://upload.wikimedia.org/wikipedia/commons/thumb/d/da/Google_Drive_logo.png/600px-Google_Drive_logo.png' height=\"50\" alt=\"Gdrive logo\"/></center>\n",
    "#@markdown <center><h3>Mount Gdrive to /content/drive</h3></center><br>\n",
    "MODE = \"MOUNT\" #@param [\"MOUNT\", \"UNMOUNT\"]\n",
    "#Mount your Gdrive! \n",
    "from google.colab import drive\n",
    "drive.mount._DEBUG = False\n",
    "if MODE == \"MOUNT\":\n",
    "  drive.mount('/content/drive', force_remount=True)\n",
    "elif MODE == \"UNMOUNT\":\n",
    "  try:\n",
    "    drive.flush_and_unmount()\n",
    "  except ValueError:\n",
    "    pass\n",
    "  get_ipython().system_raw(\"rm -rf /root/.config/Google/DriveFS\")"
   ]
  },
  {
   "cell_type": "code",
   "execution_count": null,
   "id": "16abd511",
   "metadata": {},
   "outputs": [],
   "source": [
    "#@title\n",
    "#@markdown <h3>⬅️ Click Here to START server</h3>\n",
    "\n",
    "\n",
    "\n",
    "!apt install python3-libtorrent\n",
    "\n",
    "import libtorrent as lt\n",
    "\n",
    "ses = lt.session()\n",
    "ses.listen_on(6881, 6891)\n",
    "downloads = []\n",
    "\n",
    "from IPython.display import HTML, clear_output\n",
    "\n",
    "clear_output()\n",
    "\n",
    "print(\"Server Started Successfully\")"
   ]
  },
  {
   "cell_type": "code",
   "execution_count": null,
   "id": "f6fcde82",
   "metadata": {},
   "outputs": [],
   "source": [
    "#@title\n",
    "#@markdown <h3>⬅️ Click Here to </h3>\n",
    "#@markdown <h3>Upload torrent file</h3>\n",
    "#@markdown <h5>You can run this cell to add more files as many times as you want</h5>\n",
    "#@markdown <h5>No parallel downloading using .torrent files, use magnet for that</h5><br>\n",
    "\n",
    "\n",
    "from google.colab import files\n",
    "\n",
    "source = files.upload()\n",
    "params = {\n",
    "    \"save_path\": \"/content/drive/My Drive/Torrent\",\n",
    "    \"ti\": lt.torrent_info(list(source.keys())[0]),\n",
    "}\n",
    "downloads.append(ses.add_torrent(params))"
   ]
  },
  {
   "cell_type": "code",
   "execution_count": null,
   "id": "668cc263",
   "metadata": {},
   "outputs": [],
   "source": [
    "#@title\n",
    "#@markdown <h3>⬅️ Click Here to </h3>\n",
    "#@markdown <h3>Add From Magnet Link</h3>\n",
    "#@markdown <h5>You can run this cell to add more files as many times as you want</h5><br>\n",
    "\n",
    "\n",
    "params = {\"save_path\": \"/content/drive/My Drive/Torrent\"}\n",
    "\n",
    "while True:\n",
    "    magnet_link = input(\"Enter Magnet Link Or Type Exit: \")\n",
    "    if magnet_link.lower() == \"exit\":\n",
    "        break\n",
    "    downloads.append(\n",
    "        lt.add_magnet_uri(ses, magnet_link, params)\n",
    "    )\n"
   ]
  },
  {
   "cell_type": "code",
   "execution_count": null,
   "id": "6fd9c533",
   "metadata": {},
   "outputs": [],
   "source": []
  },
  {
   "cell_type": "code",
   "execution_count": null,
   "id": "a904e7a2",
   "metadata": {},
   "outputs": [],
   "source": []
  },
  {
   "cell_type": "code",
   "execution_count": null,
   "id": "f89686dd",
   "metadata": {},
   "outputs": [],
   "source": []
  },
  {
   "cell_type": "code",
   "execution_count": null,
   "id": "7e2c9b95",
   "metadata": {},
   "outputs": [],
   "source": []
  },
  {
   "cell_type": "code",
   "execution_count": null,
   "id": "24991d4a",
   "metadata": {},
   "outputs": [],
   "source": []
  }
 ],
 "metadata": {
  "kernelspec": {
   "display_name": "Python 3",
   "language": "python",
   "name": "python3"
  },
  "language_info": {
   "codemirror_mode": {
    "name": "ipython",
    "version": 3
   },
   "file_extension": ".py",
   "mimetype": "text/x-python",
   "name": "python",
   "nbconvert_exporter": "python",
   "pygments_lexer": "ipython3",
   "version": "3.8.8"
  }
 },
 "nbformat": 4,
 "nbformat_minor": 5
}
