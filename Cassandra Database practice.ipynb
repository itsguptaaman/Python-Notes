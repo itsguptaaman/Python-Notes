{
 "cells": [
  {
   "cell_type": "code",
   "execution_count": 1,
   "id": "d692a771",
   "metadata": {},
   "outputs": [
    {
     "name": "stdout",
     "output_type": "stream",
     "text": [
      "Collecting cassandra-driver\n",
      "  Downloading cassandra-driver-3.25.0.tar.gz (289 kB)\n",
      "Requirement already satisfied: six>=1.9 in c:\\users\\aman\\anaconda3\\lib\\site-packages (from cassandra-driver) (1.16.0)\n",
      "Collecting geomet<0.3,>=0.1\n",
      "  Downloading geomet-0.2.1.post1-py3-none-any.whl (18 kB)\n",
      "Requirement already satisfied: click in c:\\users\\aman\\anaconda3\\lib\\site-packages (from geomet<0.3,>=0.1->cassandra-driver) (8.0.4)\n",
      "Requirement already satisfied: colorama in c:\\users\\aman\\anaconda3\\lib\\site-packages (from click->geomet<0.3,>=0.1->cassandra-driver) (0.4.4)\n",
      "Building wheels for collected packages: cassandra-driver\n",
      "  Building wheel for cassandra-driver (setup.py): started\n",
      "  Building wheel for cassandra-driver (setup.py): finished with status 'done'\n",
      "  Created wheel for cassandra-driver: filename=cassandra_driver-3.25.0-cp39-cp39-win_amd64.whl size=329419 sha256=dac5c5e70aed709d5beb036a70f810f6a4177065b54dec4fa6c4d0a0f69adc71\n",
      "  Stored in directory: c:\\users\\aman\\appdata\\local\\pip\\cache\\wheels\\3d\\bd\\75\\12875d7c70c5b18e8738c9e06f2d3f5b752fa372917c663fcc\n",
      "Successfully built cassandra-driver\n",
      "Installing collected packages: geomet, cassandra-driver\n",
      "Successfully installed cassandra-driver-3.25.0 geomet-0.2.1.post1\n"
     ]
    }
   ],
   "source": [
    "!pip install cassandra-driver"
   ]
  },
  {
   "cell_type": "code",
   "execution_count": 1,
   "id": "3cb3e9bb",
   "metadata": {},
   "outputs": [
    {
     "name": "stdout",
     "output_type": "stream",
     "text": [
      "3.25.0\n"
     ]
    }
   ],
   "source": [
    "import cassandra\n",
    "print(cassandra.__version__)"
   ]
  },
  {
   "cell_type": "code",
   "execution_count": 2,
   "id": "6fb868e9",
   "metadata": {},
   "outputs": [
    {
     "name": "stdout",
     "output_type": "stream",
     "text": [
      "data_endpoint_auth\n"
     ]
    }
   ],
   "source": [
    "from cassandra.cluster import Cluster\n",
    "from cassandra.auth import PlainTextAuthProvider\n",
    "\n",
    "cloud_config= {\n",
    "        'secure_connect_bundle': r'C:\\Users\\Aman\\Downloads\\secure-connect-dataset-for-project.zip'\n",
    "}\n",
    "auth_provider = PlainTextAuthProvider('OIZlpBpNSOKMltxbyqZsYblP', 'j2kQD8r4Z,8qjWYWeQjhhKoDGwd0zb5F9ZwYzN6onS+ZlD-oAZRIsp_vs_HhElfslbDAB6s-_Ko884DE+662Ks4tvKuegZ8zyK2EniSZdh-,,q34mC.C7nd28tRiy5t8')\n",
    "cluster = Cluster(cloud=cloud_config, auth_provider=auth_provider)\n",
    "session = cluster.connect()\n",
    "\n",
    "row = session.execute(\"select * from system_schema.keyspaces\").one()\n",
    "if row:\n",
    "    print(row[0])\n",
    "else:\n",
    "    print(\"An error occurred.\")"
   ]
  },
  {
   "cell_type": "code",
   "execution_count": null,
   "id": "078767fd",
   "metadata": {},
   "outputs": [],
   "source": []
  },
  {
   "cell_type": "code",
   "execution_count": 5,
   "id": "df036160",
   "metadata": {},
   "outputs": [],
   "source": [
    "#query=\"create keyspace test with replication={'Name':'Aman','Age':22, 'Laptop':'Asus'}\""
   ]
  },
  {
   "cell_type": "code",
   "execution_count": 37,
   "id": "c32571ae",
   "metadata": {},
   "outputs": [],
   "source": [
    "query=\"\"\" create table if not exists dataset.phishing_dataset (\n",
    "Serial_no int PRIMARY KEY,\n",
    "qty_dot_url float , \n",
    "qty_hyphen_url float , \n",
    "qty_underline_url float , \n",
    "qty_slash_url float , \n",
    "qty_questionmark_url float , \n",
    "qty_equal_url float , \n",
    "qty_at_url float , \n",
    "qty_and_url float , \n",
    "qty_exclamation_url float , \n",
    "qty_space_url float , \n",
    "qty_tilde_url float , \n",
    "qty_comma_url float , \n",
    "qty_plus_url float , \n",
    "qty_asterisk_url float , \n",
    "qty_hashtag_url float , \n",
    "qty_dollar_url float , \n",
    "qty_percent_url float , \n",
    "qty_tld_url float , \n",
    "length_url float , \n",
    "qty_dot_domain float , \n",
    "qty_hyphen_domain float , \n",
    "qty_underline_domain float , \n",
    "qty_slash_domain boolean , \n",
    "qty_questionmark_domain boolean , \n",
    "qty_equal_domain boolean , \n",
    "qty_at_domain boolean , \n",
    "qty_and_domain boolean , \n",
    "qty_exclamation_domain boolean , \n",
    "qty_space_domain boolean , \n",
    "qty_tilde_domain boolean , \n",
    "qty_comma_domain boolean , \n",
    "qty_plus_domain boolean , \n",
    "qty_asterisk_domain boolean , \n",
    "qty_hashtag_domain boolean , \n",
    "qty_dollar_domain boolean , \n",
    "qty_percent_domain boolean , \n",
    "qty_vowels_domain float , \n",
    "domain_length float , \n",
    "domain_in_ip boolean , \n",
    "server_client_domain boolean , \n",
    "qty_dot_directory float , \n",
    "qty_hyphen_directory float , \n",
    "qty_underline_directory float , \n",
    "qty_slash_directory float , \n",
    "qty_questionmark_directory float , \n",
    "qty_equal_directory float , \n",
    "qty_at_directory float , \n",
    "qty_and_directory float , \n",
    "qty_exclamation_directory float , \n",
    "qty_space_directory float , \n",
    "qty_tilde_directory float , \n",
    "qty_comma_directory float , \n",
    "qty_plus_directory float , \n",
    "qty_asterisk_directory float , \n",
    "qty_hashtag_directory float , \n",
    "qty_dollar_directory float , \n",
    "qty_percent_directory float , \n",
    "directory_length float , \n",
    "qty_dot_file float , \n",
    "qty_hyphen_file float , \n",
    "qty_underline_file float , \n",
    "qty_slash_file float , \n",
    "qty_questionmark_file float , \n",
    "qty_equal_file float , \n",
    "qty_at_file float , \n",
    "qty_and_file float , \n",
    "qty_exclamation_file float , \n",
    "qty_space_file float , \n",
    "qty_tilde_file float , \n",
    "qty_comma_file float , \n",
    "qty_plus_file float , \n",
    "qty_asterisk_file float , \n",
    "qty_hashtag_file float , \n",
    "qty_dollar_file float , \n",
    "qty_percent_file float , \n",
    "file_length float , \n",
    "qty_dot_params float , \n",
    "qty_hyphen_params float , \n",
    "qty_underline_params float , \n",
    "qty_slash_params float , \n",
    "qty_questionmark_params float , \n",
    "qty_equal_params float , \n",
    "qty_at_params float , \n",
    "qty_and_params float , \n",
    "qty_exclamation_params float , \n",
    "qty_space_params float , \n",
    "qty_tilde_params float , \n",
    "qty_comma_params float , \n",
    "qty_plus_params float , \n",
    "qty_asterisk_params float , \n",
    "qty_hashtag_params float , \n",
    "qty_dollar_params float , \n",
    "qty_percent_params float , \n",
    "params_length float , \n",
    "tld_present_params float , \n",
    "qty_params float , \n",
    "email_in_url boolean , \n",
    "time_response float , \n",
    "domain_spf float , \n",
    "asn_ip float , \n",
    "time_domain_activation float , \n",
    "time_domain_expiration float , \n",
    "qty_ip_resolved float , \n",
    "qty_nameservers float , \n",
    "qty_mx_servers float , \n",
    "ttl_hostname float , \n",
    "tls_ssl_certificate boolean , \n",
    "qty_redirects float , \n",
    "url_google_index float , \n",
    "domain_google_index float , \n",
    "url_shortened boolean , \n",
    "phishing boolean\n",
    ")\"\"\""
   ]
  },
  {
   "cell_type": "code",
   "execution_count": 44,
   "id": "5d347843",
   "metadata": {},
   "outputs": [],
   "source": [
    "query=\"\"\" create table if not exists dataset.phishing_dataset (\n",
    "Serial_no int PRIMARY KEY,\n",
    "qty_dot_url float , \n",
    "qty_hyphen_url float , \n",
    "qty_underline_url float , \n",
    "qty_slash_url float , \n",
    "qty_questionmark_url float , \n",
    "qty_equal_url float , \n",
    "qty_at_url float , \n",
    "qty_and_url float , \n",
    "qty_exclamation_url float , \n",
    "qty_space_url float , \n",
    "qty_tilde_url float , \n",
    "qty_comma_url float , \n",
    "qty_plus_url float , \n",
    "qty_asterisk_url float , \n",
    "qty_hashtag_url float , \n",
    "qty_dollar_url float , \n",
    "qty_percent_url float , \n",
    "qty_tld_url float , \n",
    "length_url float , \n",
    "qty_dot_domain float , \n",
    "qty_hyphen_domain float , \n",
    "qty_underline_domain float , \n",
    "qty_slash_domain boolean , \n",
    "qty_questionmark_domain boolean , \n",
    "qty_equal_domain boolean , \n",
    "qty_at_domain boolean , \n",
    "qty_and_domain boolean , \n",
    "qty_exclamation_domain boolean , \n",
    "qty_space_domain boolean , \n",
    "qty_tilde_domain boolean , \n",
    "qty_comma_domain boolean , \n",
    "qty_plus_domain boolean , \n",
    "qty_asterisk_domain boolean , \n",
    "qty_hashtag_domain boolean , \n",
    "qty_dollar_domain boolean , \n",
    "qty_percent_domain boolean , \n",
    "qty_vowels_domain float , \n",
    "domain_length float , \n",
    "domain_in_ip boolean , \n",
    "server_client_domain boolean , \n",
    "qty_dot_directory float , \n",
    "qty_hyphen_directory float , \n",
    "qty_underline_directory float , \n",
    "qty_slash_directory float , \n",
    "qty_questionmark_directory float , \n",
    "qty_equal_directory float , \n",
    "qty_at_directory float , \n",
    "qty_and_directory float , \n",
    "qty_exclamation_directory float , \n",
    "qty_space_directory float , \n",
    "qty_tilde_directory float , \n",
    "qty_comma_directory float , \n",
    "qty_plus_directory float , \n",
    "qty_asterisk_directory float , \n",
    "qty_hashtag_directory float , \n",
    "qty_dollar_directory float , \n",
    "qty_percent_directory float , \n",
    "directory_length float , \n",
    "qty_dot_file float , \n",
    "qty_hyphen_file float , \n",
    "qty_underline_file float , \n",
    "qty_slash_file float\n",
    ")\"\"\""
   ]
  },
  {
   "cell_type": "code",
   "execution_count": 45,
   "id": "3b9c7004",
   "metadata": {},
   "outputs": [],
   "source": [
    "# query = \"create table if not exists dataset.website_dataset (qty_dot_url DECIMAL(38, 0) NOT NULL, qty_hyphen_url DECIMAL(38, 0) NOT NULL, qty_underline_url DECIMAL(38, 0) NOT NULL, qty_slash_url DECIMAL(38, 0) NOT NULL, qty_questionmark_url DECIMAL(38, 0) NOT NULL, qty_equal_url DECIMAL(38, 0) NOT NULL, qty_at_url DECIMAL(38, 0) NOT NULL, qty_and_url DECIMAL(38, 0) NOT NULL, qty_exclamation_url DECIMAL(38, 0) NOT NULL, qty_space_url DECIMAL(38, 0) NOT NULL, qty_tilde_url DECIMAL(38, 0) NOT NULL, qty_comma_url DECIMAL(38, 0) NOT NULL, qty_plus_url DECIMAL(38, 0) NOT NULL, qty_asterisk_url DECIMAL(38, 0) NOT NULL, qty_hashtag_url DECIMAL(38, 0) NOT NULL, qty_dollar_url DECIMAL(38, 0) NOT NULL, qty_percent_url DECIMAL(38, 0) NOT NULL, qty_tld_url DECIMAL(38, 0) NOT NULL, length_url DECIMAL(38, 0) NOT NULL, qty_dot_domain DECIMAL(38, 0) NOT NULL, qty_hyphen_domain DECIMAL(38, 0) NOT NULL, qty_underline_domain DECIMAL(38, 0) NOT NULL, qty_slash_domain BOOL NOT NULL, qty_questionmark_domain BOOL NOT NULL, qty_equal_domain BOOL NOT NULL, qty_at_domain BOOL NOT NULL, qty_and_domain BOOL NOT NULL, qty_exclamation_domain BOOL NOT NULL, qty_space_domain BOOL NOT NULL, qty_tilde_domain BOOL NOT NULL, qty_comma_domain BOOL NOT NULL, qty_plus_domain BOOL NOT NULL, qty_asterisk_domain BOOL NOT NULL, qty_hashtag_domain BOOL NOT NULL, qty_dollar_domain BOOL NOT NULL, qty_percent_domain BOOL NOT NULL, qty_vowels_domain DECIMAL(38, 0) NOT NULL, domain_length DECIMAL(38, 0) NOT NULL, domain_in_ip BOOL NOT NULL, server_client_domain BOOL NOT NULL, qty_dot_directory DECIMAL(38, 0) NOT NULL, qty_hyphen_directory DECIMAL(38, 0) NOT NULL, qty_underline_directory DECIMAL(38, 0) NOT NULL, qty_slash_directory DECIMAL(38, 0) NOT NULL, qty_questionmark_directory DECIMAL(38, 0) NOT NULL, qty_equal_directory DECIMAL(38, 0) NOT NULL, qty_at_directory DECIMAL(38, 0) NOT NULL, qty_and_directory DECIMAL(38, 0) NOT NULL, qty_exclamation_directory DECIMAL(38, 0) NOT NULL, qty_space_directory DECIMAL(38, 0) NOT NULL, qty_tilde_directory DECIMAL(38, 0) NOT NULL, qty_comma_directory DECIMAL(38, 0) NOT NULL, qty_plus_directory DECIMAL(38, 0) NOT NULL, qty_asterisk_directory DECIMAL(38, 0) NOT NULL, qty_hashtag_directory DECIMAL(38, 0) NOT NULL, qty_dollar_directory DECIMAL(38, 0) NOT NULL, qty_percent_directory DECIMAL(38, 0) NOT NULL, directory_length DECIMAL(38, 0) NOT NULL, qty_dot_file DECIMAL(38, 0) NOT NULL, qty_hyphen_file DECIMAL(38, 0) NOT NULL, qty_underline_file DECIMAL(38, 0) NOT NULL, qty_slash_file DECIMAL(38, 0) NOT NULL, qty_questionmark_file DECIMAL(38, 0) NOT NULL, qty_equal_file DECIMAL(38, 0) NOT NULL, qty_at_file DECIMAL(38, 0) NOT NULL, qty_and_file DECIMAL(38, 0) NOT NULL, qty_exclamation_file DECIMAL(38, 0) NOT NULL, qty_space_file DECIMAL(38, 0) NOT NULL, qty_tilde_file DECIMAL(38, 0) NOT NULL, qty_comma_file DECIMAL(38, 0) NOT NULL, qty_plus_file DECIMAL(38, 0) NOT NULL, qty_asterisk_file DECIMAL(38, 0) NOT NULL, qty_hashtag_file DECIMAL(38, 0) NOT NULL, qty_dollar_file DECIMAL(38, 0) NOT NULL, qty_percent_file DECIMAL(38, 0) NOT NULL, file_length DECIMAL(38, 0) NOT NULL, qty_dot_params DECIMAL(38, 0) NOT NULL, qty_hyphen_params DECIMAL(38, 0) NOT NULL, qty_underline_params DECIMAL(38, 0) NOT NULL, qty_slash_params DECIMAL(38, 0) NOT NULL, qty_questionmark_params DECIMAL(38, 0) NOT NULL, qty_equal_params DECIMAL(38, 0) NOT NULL, qty_at_params DECIMAL(38, 0) NOT NULL, qty_and_params DECIMAL(38, 0) NOT NULL, qty_exclamation_params DECIMAL(38, 0) NOT NULL, qty_space_params DECIMAL(38, 0) NOT NULL, qty_tilde_params DECIMAL(38, 0) NOT NULL, qty_comma_params DECIMAL(38, 0) NOT NULL, qty_plus_params DECIMAL(38, 0) NOT NULL, qty_asterisk_params DECIMAL(38, 0) NOT NULL, qty_hashtag_params DECIMAL(38, 0) NOT NULL, qty_dollar_params DECIMAL(38, 0) NOT NULL, qty_percent_params DECIMAL(38, 0) NOT NULL, params_length DECIMAL(38, 0) NOT NULL, tld_present_params DECIMAL(38, 0) NOT NULL, qty_params DECIMAL(38, 0) NOT NULL, email_in_url BOOL NOT NULL, time_response DECIMAL(38, 18) NOT NULL, domain_spf DECIMAL(38, 0) NOT NULL, asn_ip DECIMAL(38, 0) NOT NULL, time_domain_activation DECIMAL(38, 0) NOT NULL, time_domain_expiration DECIMAL(38, 0) NOT NULL, qty_ip_resolved DECIMAL(38, 0) NOT NULL, qty_nameservers DECIMAL(38, 0) NOT NULL, qty_mx_servers DECIMAL(38, 0) NOT NULL, ttl_hostname DECIMAL(38, 0) NOT NULL, tls_ssl_certificate BOOL NOT NULL, qty_redirects DECIMAL(38, 0) NOT NULL, url_google_index DECIMAL(38, 0) NOT NULL, domain_google_index DECIMAL(38, 0) NOT NULL, url_shortened BOOL NOT NULL, phishing BOOL NOT NULL)\"\n"
   ]
  },
  {
   "cell_type": "code",
   "execution_count": 46,
   "id": "836c319d",
   "metadata": {},
   "outputs": [],
   "source": [
    "# query = \"create table if not exists dataset.test_float (column1 float PRIMARY KEY, column2 float)\""
   ]
  },
  {
   "cell_type": "code",
   "execution_count": 47,
   "id": "6d4ad410",
   "metadata": {},
   "outputs": [],
   "source": [
    "# engine = create_engine(\"cassandra:///?Database=MyCassandraDB&Port=7000&Server=127.0.0.1&\")\n"
   ]
  },
  {
   "cell_type": "code",
   "execution_count": 48,
   "id": "22b1ffb0",
   "metadata": {},
   "outputs": [
    {
     "name": "stdout",
     "output_type": "stream",
     "text": [
      "An error occurred.\n"
     ]
    }
   ],
   "source": [
    "row = session.execute(query).one()\n",
    "if row:\n",
    "    print(row[0])\n",
    "else:\n",
    "    print(\"An error occurred.\")"
   ]
  },
  {
   "cell_type": "code",
   "execution_count": 15,
   "id": "9bda3167",
   "metadata": {},
   "outputs": [
    {
     "data": {
      "text/plain": [
       "Row(keyspace_name='data_endpoint_auth', durable_writes=True, graph_engine=None, replication=OrderedMapSerializedKey([('asia-south1', '3'), ('class', 'org.apache.cassandra.locator.NetworkTopologyStrategy')]))"
      ]
     },
     "execution_count": 15,
     "metadata": {},
     "output_type": "execute_result"
    }
   ],
   "source": [
    "row"
   ]
  },
  {
   "cell_type": "code",
   "execution_count": 16,
   "id": "62d681ce",
   "metadata": {},
   "outputs": [
    {
     "name": "stdout",
     "output_type": "stream",
     "text": [
      "Collecting database-connect\n",
      "  Downloading database_connect-0.1.6.1-py3-none-any.whl (9.8 kB)\n",
      "Collecting pymongo[srv]\n",
      "  Using cached pymongo-4.2.0-cp39-cp39-win_amd64.whl (374 kB)\n",
      "Collecting ensure\n",
      "  Downloading ensure-1.0.2-py2.py3-none-any.whl (15 kB)\n",
      "Collecting dnspython\n",
      "  Using cached dnspython-2.2.1-py3-none-any.whl (269 kB)\n",
      "Requirement already satisfied: cassandra-driver in c:\\users\\aman\\anaconda3\\lib\\site-packages (from database-connect) (3.25.0)\n",
      "Requirement already satisfied: numpy in c:\\users\\aman\\anaconda3\\lib\\site-packages (from database-connect) (1.21.5)\n",
      "Requirement already satisfied: pandas in c:\\users\\aman\\anaconda3\\lib\\site-packages (from database-connect) (1.4.2)\n",
      "Requirement already satisfied: geomet<0.3,>=0.1 in c:\\users\\aman\\anaconda3\\lib\\site-packages (from cassandra-driver->database-connect) (0.2.1.post1)\n",
      "Requirement already satisfied: six>=1.9 in c:\\users\\aman\\anaconda3\\lib\\site-packages (from cassandra-driver->database-connect) (1.16.0)\n",
      "Requirement already satisfied: click in c:\\users\\aman\\anaconda3\\lib\\site-packages (from geomet<0.3,>=0.1->cassandra-driver->database-connect) (8.0.4)\n",
      "Requirement already satisfied: colorama in c:\\users\\aman\\anaconda3\\lib\\site-packages (from click->geomet<0.3,>=0.1->cassandra-driver->database-connect) (0.4.4)\n",
      "Requirement already satisfied: pytz>=2020.1 in c:\\users\\aman\\anaconda3\\lib\\site-packages (from pandas->database-connect) (2021.3)\n",
      "Requirement already satisfied: python-dateutil>=2.8.1 in c:\\users\\aman\\anaconda3\\lib\\site-packages (from pandas->database-connect) (2.8.2)\n",
      "Installing collected packages: pymongo, dnspython, ensure, database-connect\n",
      "Successfully installed database-connect-0.1.6.1 dnspython-2.2.1 ensure-1.0.2 pymongo-4.2.0\n"
     ]
    }
   ],
   "source": [
    "!pip install database-connect"
   ]
  },
  {
   "cell_type": "code",
   "execution_count": 17,
   "id": "1a4c6013",
   "metadata": {},
   "outputs": [],
   "source": [
    " import database_connect as connection"
   ]
  },
  {
   "cell_type": "code",
   "execution_count": 28,
   "id": "8c9cca12",
   "metadata": {},
   "outputs": [],
   "source": [
    "zip_path = r'C:\\Users\\Aman\\Downloads\\secure-connect-dataset-for-project.zip' #should be a string\n",
    "client_id = 'OIZlpBpNSOKMltxbyqZsYblP' #should be a string\n",
    "client_secret = 'j2kQD8r4Z,8qjWYWeQjhhKoDGwd0zb5F9ZwYzN6onS+ZlD-oAZRIsp_vs_HhElfslbDAB6s-_Ko884DE+662Ks4tvKuegZ8zyK2EniSZdh-,,q34mC.C7nd28tRiy5t8' #should be a string\n",
    "keyspace = 'dataset' #should be a string #note: keyspace should be created manually in datastax cassandra. Keyspaces are not allowed to create from backend.\n",
    "table_name = 'phishing_dataset' \n",
    "\n",
    "cassandra = connection.cassandra_operations(zip_path,\n",
    "                                            client_id,\n",
    "                                            client_secret,\n",
    "                                            keyspace,\n",
    "                                            table_name)"
   ]
  },
  {
   "cell_type": "code",
   "execution_count": 29,
   "id": "7069eb1e",
   "metadata": {},
   "outputs": [],
   "source": [
    "import pandas as pd"
   ]
  },
  {
   "cell_type": "code",
   "execution_count": 30,
   "id": "af69e2ab",
   "metadata": {},
   "outputs": [],
   "source": [
    "bulk_data = pd.read_csv(r\"C:\\Users\\Aman\\Downloads\\dataset_full.csv\")"
   ]
  },
  {
   "cell_type": "code",
   "execution_count": 31,
   "id": "284d0537",
   "metadata": {},
   "outputs": [
    {
     "ename": "Exception",
     "evalue": " Error happend:\n            The table name which is assigned while calling the cassandra operations class \n            does not match the column names of the dataset. \n            You can set some parameters to handle the error.\n            set:\n                create_new_table = True\n                table_name = yourPreferredName ",
     "output_type": "error",
     "traceback": [
      "\u001b[1;31m---------------------------------------------------------------------------\u001b[0m",
      "\u001b[1;31mInvalidRequest\u001b[0m                            Traceback (most recent call last)",
      "File \u001b[1;32m~\\anaconda3\\lib\\site-packages\\database_connect\\__cassandra_utils\\cassandra_crud.py:375\u001b[0m, in \u001b[0;36mcassandra_operations.__upload\u001b[1;34m(self, input_data, create_new_table, table_name)\u001b[0m\n\u001b[0;32m    374\u001b[0m     query \u001b[38;5;241m=\u001b[39m \u001b[38;5;124mf\u001b[39m\u001b[38;5;124m\"\u001b[39m\u001b[38;5;124m insert into \u001b[39m\u001b[38;5;132;01m{\u001b[39;00mtable_name\u001b[38;5;132;01m}\u001b[39;00m\u001b[38;5;124m (\u001b[39m\u001b[38;5;132;01m{\u001b[39;00mdata_columns_to_upload\u001b[38;5;132;01m}\u001b[39;00m\u001b[38;5;124m) values(\u001b[39m\u001b[38;5;132;01m{\u001b[39;00mvalues_to_insert\u001b[38;5;132;01m}\u001b[39;00m\u001b[38;5;124m);\u001b[39m\u001b[38;5;124m\"\u001b[39m\n\u001b[1;32m--> 375\u001b[0m     \u001b[38;5;28;43mself\u001b[39;49m\u001b[38;5;241;43m.\u001b[39;49m\u001b[43msession\u001b[49m\u001b[38;5;241;43m.\u001b[39;49m\u001b[43mexecute\u001b[49m\u001b[43m(\u001b[49m\u001b[43mquery\u001b[49m\u001b[43m)\u001b[49m\u001b[38;5;241m.\u001b[39mone()\n\u001b[0;32m    376\u001b[0m \u001b[38;5;28mprint\u001b[39m(\u001b[38;5;124m\"\u001b[39m\u001b[38;5;124mdata uploaded successfully\u001b[39m\u001b[38;5;124m\"\u001b[39m)\n",
      "File \u001b[1;32m~\\anaconda3\\lib\\site-packages\\cassandra\\cluster.py:2618\u001b[0m, in \u001b[0;36mSession.execute\u001b[1;34m(self, query, parameters, timeout, trace, custom_payload, execution_profile, paging_state, host, execute_as)\u001b[0m\n\u001b[0;32m   2578\u001b[0m \u001b[38;5;124;03m\"\"\"\u001b[39;00m\n\u001b[0;32m   2579\u001b[0m \u001b[38;5;124;03mExecute the given query and synchronously wait for the response.\u001b[39;00m\n\u001b[0;32m   2580\u001b[0m \n\u001b[1;32m   (...)\u001b[0m\n\u001b[0;32m   2615\u001b[0m \u001b[38;5;124;03mon a DSE cluster.\u001b[39;00m\n\u001b[0;32m   2616\u001b[0m \u001b[38;5;124;03m\"\"\"\u001b[39;00m\n\u001b[1;32m-> 2618\u001b[0m \u001b[38;5;28;01mreturn\u001b[39;00m \u001b[38;5;28;43mself\u001b[39;49m\u001b[38;5;241;43m.\u001b[39;49m\u001b[43mexecute_async\u001b[49m\u001b[43m(\u001b[49m\u001b[43mquery\u001b[49m\u001b[43m,\u001b[49m\u001b[43m \u001b[49m\u001b[43mparameters\u001b[49m\u001b[43m,\u001b[49m\u001b[43m \u001b[49m\u001b[43mtrace\u001b[49m\u001b[43m,\u001b[49m\u001b[43m \u001b[49m\u001b[43mcustom_payload\u001b[49m\u001b[43m,\u001b[49m\u001b[43m \u001b[49m\u001b[43mtimeout\u001b[49m\u001b[43m,\u001b[49m\u001b[43m \u001b[49m\u001b[43mexecution_profile\u001b[49m\u001b[43m,\u001b[49m\u001b[43m \u001b[49m\u001b[43mpaging_state\u001b[49m\u001b[43m,\u001b[49m\u001b[43m \u001b[49m\u001b[43mhost\u001b[49m\u001b[43m,\u001b[49m\u001b[43m \u001b[49m\u001b[43mexecute_as\u001b[49m\u001b[43m)\u001b[49m\u001b[38;5;241;43m.\u001b[39;49m\u001b[43mresult\u001b[49m\u001b[43m(\u001b[49m\u001b[43m)\u001b[49m\n",
      "File \u001b[1;32m~\\anaconda3\\lib\\site-packages\\cassandra\\cluster.py:4894\u001b[0m, in \u001b[0;36mResponseFuture.result\u001b[1;34m(self)\u001b[0m\n\u001b[0;32m   4893\u001b[0m \u001b[38;5;28;01melse\u001b[39;00m:\n\u001b[1;32m-> 4894\u001b[0m     \u001b[38;5;28;01mraise\u001b[39;00m \u001b[38;5;28mself\u001b[39m\u001b[38;5;241m.\u001b[39m_final_exception\n",
      "\u001b[1;31mInvalidRequest\u001b[0m: Error from server: code=2200 [Invalid query] message=\"table dataset.phishing_dataset does not exist\"",
      "\nDuring handling of the above exception, another exception occurred:\n",
      "\u001b[1;31mException\u001b[0m                                 Traceback (most recent call last)",
      "Input \u001b[1;32mIn [31]\u001b[0m, in \u001b[0;36m<cell line: 2>\u001b[1;34m()\u001b[0m\n\u001b[0;32m      1\u001b[0m \u001b[38;5;66;03m#let's pass the dataframe object\u001b[39;00m\n\u001b[1;32m----> 2\u001b[0m \u001b[43mcassandra\u001b[49m\u001b[38;5;241;43m.\u001b[39;49m\u001b[43mbulk_upload\u001b[49m\u001b[43m(\u001b[49m\u001b[43mbulk_data\u001b[49m\u001b[43m)\u001b[49m\n\u001b[0;32m      3\u001b[0m \u001b[38;5;28mprint\u001b[39m(\u001b[38;5;124m\"\u001b[39m\u001b[38;5;124mbulk data inserted fro pandas dataframe object\u001b[39m\u001b[38;5;124m\"\u001b[39m)\n\u001b[0;32m      5\u001b[0m \u001b[38;5;66;03m#you can pass the url directly also or your local csv file path\u001b[39;00m\n",
      "File \u001b[1;32m~\\anaconda3\\lib\\site-packages\\database_connect\\__cassandra_utils\\cassandra_crud.py:409\u001b[0m, in \u001b[0;36mcassandra_operations.bulk_upload\u001b[1;34m(self, data, table_name, create_new_table)\u001b[0m\n\u001b[0;32m    406\u001b[0m \u001b[38;5;66;03m# inserting data from csv\u001b[39;00m\n\u001b[0;32m    408\u001b[0m \u001b[38;5;28;01mtry\u001b[39;00m:\n\u001b[1;32m--> 409\u001b[0m     \u001b[38;5;28;43mself\u001b[39;49m\u001b[38;5;241;43m.\u001b[39;49m\u001b[43m__upload\u001b[49m\u001b[43m(\u001b[49m\u001b[43minput_data\u001b[49m\u001b[38;5;241;43m=\u001b[39;49m\u001b[43mdata\u001b[49m\u001b[43m,\u001b[49m\n\u001b[0;32m    410\u001b[0m \u001b[43m                    \u001b[49m\u001b[43mtable_name\u001b[49m\u001b[38;5;241;43m=\u001b[39;49m\u001b[43mtable_name\u001b[49m\u001b[43m,\u001b[49m\n\u001b[0;32m    411\u001b[0m \u001b[43m                    \u001b[49m\u001b[43mcreate_new_table\u001b[49m\u001b[38;5;241;43m=\u001b[39;49m\u001b[43mcreate_new_table\u001b[49m\u001b[43m)\u001b[49m\n\u001b[0;32m    415\u001b[0m \u001b[38;5;28;01mexcept\u001b[39;00m AlreadyExists:\n\u001b[0;32m    416\u001b[0m     \u001b[38;5;28;01mraise\u001b[39;00m \u001b[38;5;167;01mException\u001b[39;00m(\u001b[38;5;124m\"\"\"\u001b[39m\u001b[38;5;124mThe table which is passed to the class instance, already exists. \u001b[39m\n\u001b[0;32m    417\u001b[0m \u001b[38;5;124m                        You need to create a new table. Just pass the parameter table_name with your new table name.\u001b[39m\n\u001b[0;32m    418\u001b[0m \u001b[38;5;124m                            \u001b[39m\n\u001b[0;32m    419\u001b[0m \u001b[38;5;124m                            \u001b[39m\u001b[38;5;124m\"\"\"\u001b[39m)\n",
      "File \u001b[1;32m~\\anaconda3\\lib\\site-packages\\database_connect\\__cassandra_utils\\cassandra_crud.py:385\u001b[0m, in \u001b[0;36mcassandra_operations.__upload\u001b[1;34m(self, input_data, create_new_table, table_name)\u001b[0m\n\u001b[0;32m    377\u001b[0m \u001b[38;5;28;01mexcept\u001b[39;00m InvalidRequest: \u001b[38;5;66;03m#EXCEPTION happens as the column of the data is not foudn in the given table name. \u001b[39;00m\n\u001b[0;32m    378\u001b[0m     error_message \u001b[38;5;241m=\u001b[39m \u001b[38;5;124m\"\"\"\u001b[39m\u001b[38;5;124m Error happend:\u001b[39m\n\u001b[0;32m    379\u001b[0m \u001b[38;5;124m    The table name which is assigned while calling the cassandra operations class \u001b[39m\n\u001b[0;32m    380\u001b[0m \u001b[38;5;124m    does not match the column names of the dataset. \u001b[39m\n\u001b[1;32m   (...)\u001b[0m\n\u001b[0;32m    383\u001b[0m \u001b[38;5;124m        create_new_table = True\u001b[39m\n\u001b[0;32m    384\u001b[0m \u001b[38;5;124m        table_name = yourPreferredName \u001b[39m\u001b[38;5;124m\"\"\"\u001b[39m \n\u001b[1;32m--> 385\u001b[0m     \u001b[38;5;28;01mraise\u001b[39;00m \u001b[38;5;167;01mException\u001b[39;00m(error_message)\n",
      "\u001b[1;31mException\u001b[0m:  Error happend:\n            The table name which is assigned while calling the cassandra operations class \n            does not match the column names of the dataset. \n            You can set some parameters to handle the error.\n            set:\n                create_new_table = True\n                table_name = yourPreferredName "
     ]
    }
   ],
   "source": [
    "\n",
    "\n",
    "#let's pass the dataframe object\n",
    "cassandra.bulk_upload(bulk_data)\n",
    "print(\"bulk data inserted fro pandas dataframe object\")\n",
    "\n",
    "#you can pass the url directly also or your local csv file path\n",
    "\n",
    "cassandra.bulk_upload(r\"C:\\Users\\Aman\\Downloads\\dataset_full.csv\")\n",
    "print(\"bulk data inserted from path/\")"
   ]
  },
  {
   "cell_type": "code",
   "execution_count": null,
   "id": "9343e8f0",
   "metadata": {},
   "outputs": [],
   "source": []
  }
 ],
 "metadata": {
  "kernelspec": {
   "display_name": "Python 3 (ipykernel)",
   "language": "python",
   "name": "python3"
  },
  "language_info": {
   "codemirror_mode": {
    "name": "ipython",
    "version": 3
   },
   "file_extension": ".py",
   "mimetype": "text/x-python",
   "name": "python",
   "nbconvert_exporter": "python",
   "pygments_lexer": "ipython3",
   "version": "3.9.12"
  }
 },
 "nbformat": 4,
 "nbformat_minor": 5
}
