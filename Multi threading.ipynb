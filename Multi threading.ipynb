{
 "cells": [
  {
   "cell_type": "code",
   "execution_count": null,
   "id": "aed62d4e",
   "metadata": {},
   "outputs": [],
   "source": []
  },
  {
   "cell_type": "code",
   "execution_count": 13,
   "id": "e3f04eee",
   "metadata": {},
   "outputs": [
    {
     "name": "stdout",
     "output_type": "stream",
     "text": [
      "Going to sleep ...0\n",
      "Going to sleep ...1\n",
      "Going to sleep ...2\n",
      "Going to sleep ...3\n",
      "Going to sleep ...4\n",
      "Going to sleep ...5\n",
      "Going to sleep ...6\n",
      "Going to sleep ...7\n",
      "Going to sleep ...8\n",
      "Going to sleep ...9\n",
      "Woken up.. 3Woken up.. 5\n",
      "Woken up.. 2\n",
      "Woken up.. 4\n",
      "Woken up.. 1\n",
      "\n",
      "Woken up.. 0\n",
      "Woken up.. 9Woken up.. 6\n",
      "\n",
      "Woken up.. 8Woken up.. 7\n",
      "\n",
      "Main thread ended in 1.0276257991790771 seconds\n"
     ]
    }
   ],
   "source": [
    "from time import sleep, time\n",
    "import threading\n",
    "\n",
    "start=time()\n",
    "\n",
    "def something(id):\n",
    "    print(f\"Going to sleep ...{id}\")\n",
    "    sleep(1)\n",
    "    print(f\"Woken up.. {id}\")\n",
    "    \n",
    "threads= [threading.Thread(target=something, args=[i]) for i in range(10)]\n",
    "# target is the function we want to run in a different thread\n",
    "# t1=threading.Thread(target=something,args=[0])\n",
    "# t2=threading.Thread(target=something,args=[1])\n",
    "# t1.start()\n",
    "# t2.start()\n",
    "# t1.join()\n",
    "# t2.join()\n",
    "\n",
    "for t in threads:\n",
    "    t.start() \n",
    "\n",
    "for t in threads:\n",
    "    t.join() \n",
    "    \n",
    "end=time()\n",
    "print(f\"Main thread ended in {end-start} seconds\")"
   ]
  },
  {
   "cell_type": "code",
   "execution_count": 28,
   "id": "63627c85",
   "metadata": {},
   "outputs": [
    {
     "name": "stderr",
     "output_type": "stream",
     "text": [
      "Exception in thread Thread-50:\n",
      "Traceback (most recent call last):\n",
      "  File \"C:\\Users\\Aman\\anaconda3\\lib\\threading.py\", line 973, in _bootstrap_inner\n",
      "Exception in thread Thread-51:\n",
      "Traceback (most recent call last):\n",
      "  File \"C:\\Users\\Aman\\anaconda3\\lib\\threading.py\", line 973, in _bootstrap_inner\n",
      "        self.run()\n",
      "  File \"C:\\Users\\Aman\\anaconda3\\lib\\threading.py\", line 910, in run\n",
      "self.run()\n",
      "  File \"C:\\Users\\Aman\\anaconda3\\lib\\threading.py\", line 910, in run\n",
      "    self._target(*self._args, **self._kwargs)\n",
      "  File \"C:\\Users\\Aman\\AppData\\Local\\Temp\\ipykernel_18632\\2798569229.py\", line 11, in deposit\n",
      "    self._target(*self._args, **self._kwargs)\n",
      "TypeError: withdrawl() takes 2 positional arguments but 3 were given\n",
      "TypeError: '_thread.lock' object cannot be interpreted as an integer\n"
     ]
    },
    {
     "name": "stdout",
     "output_type": "stream",
     "text": [
      "200\n"
     ]
    }
   ],
   "source": [
    "# Issues with threading\n",
    "import threading\n",
    "\n",
    "balance = 200\n",
    "\n",
    "lock = threading.Lock()\n",
    "\n",
    "def deposit(amount, times, lock):\n",
    "    global balance\n",
    "    \n",
    "    for _ in range(times, lock):\n",
    "        lock.acquire()\n",
    "        balance += amount\n",
    "        lock.release()\n",
    "\n",
    "def withdrawl(amount, times):\n",
    "    global balance\n",
    "    \n",
    "    for _ in range(times):\n",
    "        lock.acquire()\n",
    "        balance -= amount\n",
    "        lock.release()\n",
    "        \n",
    "        \n",
    "desposit_thread = threading.Thread(target=deposit, args=[1, 1000000, lock])\n",
    "withdrawl_thread = threading.Thread(target=withdrawl, args=[1, 1000000, lock])\n",
    "\n",
    "desposit_thread.start()\n",
    "withdrawl_thread.start()\n",
    "\n",
    "desposit_thread.join()\n",
    "withdrawl_thread.join()\n",
    "print(balance)"
   ]
  },
  {
   "cell_type": "code",
   "execution_count": null,
   "id": "ea4f1ec9",
   "metadata": {},
   "outputs": [],
   "source": [
    "# Problems with threadas\n",
    "# 1. Takes long time to create threads\n",
    "# 2. Number of threads slows the task exicution\n",
    "# 3. Threadas are non usable"
   ]
  },
  {
   "cell_type": "code",
   "execution_count": null,
   "id": "027035d0",
   "metadata": {},
   "outputs": [],
   "source": [
    "# Solutions\n",
    "# Thread pool Exectures"
   ]
  },
  {
   "cell_type": "code",
   "execution_count": 41,
   "id": "2992d11a",
   "metadata": {},
   "outputs": [
    {
     "name": "stdout",
     "output_type": "stream",
     "text": [
      "Going to sleep ...0\n",
      "Going to sleep ...1\n",
      "Going to sleep ...2\n",
      "Going to sleep ...3Woken up.. 0\n",
      "\n",
      "Going to sleep ...4Woken up.. 1\n",
      "\n",
      "Going to sleep ...5Woken up.. 2\n",
      "\n",
      "Woken up.. 3\n",
      "Woken up.. 4\n",
      "Woken up.. 5\n",
      "Main thread ended in 13.015828371047974 seconds\n"
     ]
    }
   ],
   "source": [
    "from time import sleep, time\n",
    "from concurrent.futures import ThreadPoolExecutor, as_completed\n",
    "\n",
    "start=time()\n",
    "\n",
    "def something(id,sleep_time):\n",
    "    print(f\"Going to sleep ...{id}\")\n",
    "    sleep(sleep_time)\n",
    "    return f\"Woken up.. {id}\"\n",
    "\n",
    "ids=[0,1,2,3,4,5]\n",
    "sleep_time=[5,6,7,8,4,2]\n",
    "with ThreadPoolExecutor(max_workers=3) as executor:\n",
    "#     task = executor.submit(something, 0)\n",
    "#     task=[executor.submit(something, i) for i in range(10)]\n",
    "#     print(task.result())\n",
    "#     for _ in as_completed(task):\n",
    "#         print(_.result())\n",
    "    result=executor.map(something, ids, sleep_time)\n",
    "    \n",
    "    for r in result:\n",
    "        print(r)\n",
    "end = time()\n",
    "print(f\"Main thread ended in {end-start} seconds\")"
   ]
  },
  {
   "cell_type": "code",
   "execution_count": null,
   "id": "55fc2298",
   "metadata": {},
   "outputs": [],
   "source": [
    "# Process and Multi-process"
   ]
  },
  {
   "cell_type": "code",
   "execution_count": 45,
   "id": "0d3ec1d8",
   "metadata": {},
   "outputs": [
    {
     "name": "stdout",
     "output_type": "stream",
     "text": [
      "Main thread ended in 0.981823205947876 seconds\n"
     ]
    }
   ],
   "source": [
    "from time import sleep, time\n",
    "import multiprocessing\n",
    "start=time()\n",
    "\n",
    "def something(id):\n",
    "    print(f\"Going to sleep ...{id}\")\n",
    "    sleep(1)\n",
    "    print(f\"Woken up.. {id}\")\n",
    "    \n",
    "prcesses = [multiprocessing.Process(target=something, args=(1,)) for i in range(10)]\n",
    "# ps = multiprocessing.Process(target=something, args=(0,))\n",
    "# ps.start()\n",
    "for p in prcesses:\n",
    "    p.start()\n",
    "    p.join()\n",
    "\n",
    "end = time()\n",
    "print(f\"Main thread ended in {end-start} seconds\")"
   ]
  },
  {
   "cell_type": "code",
   "execution_count": null,
   "id": "9546c3f7",
   "metadata": {},
   "outputs": [],
   "source": []
  },
  {
   "cell_type": "code",
   "execution_count": null,
   "id": "03b81847",
   "metadata": {},
   "outputs": [],
   "source": []
  },
  {
   "cell_type": "code",
   "execution_count": null,
   "id": "54d1113f",
   "metadata": {},
   "outputs": [],
   "source": []
  },
  {
   "cell_type": "code",
   "execution_count": null,
   "id": "88e1a53d",
   "metadata": {},
   "outputs": [],
   "source": []
  },
  {
   "cell_type": "code",
   "execution_count": null,
   "id": "63c66fba",
   "metadata": {},
   "outputs": [],
   "source": []
  }
 ],
 "metadata": {
  "kernelspec": {
   "display_name": "Python 3 (ipykernel)",
   "language": "python",
   "name": "python3"
  },
  "language_info": {
   "codemirror_mode": {
    "name": "ipython",
    "version": 3
   },
   "file_extension": ".py",
   "mimetype": "text/x-python",
   "name": "python",
   "nbconvert_exporter": "python",
   "pygments_lexer": "ipython3",
   "version": "3.9.12"
  }
 },
 "nbformat": 4,
 "nbformat_minor": 5
}
