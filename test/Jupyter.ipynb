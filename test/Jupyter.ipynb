{
 "cells": [
  {
   "cell_type": "code",
   "execution_count": 2,
   "id": "19277c4c",
   "metadata": {},
   "outputs": [],
   "source": [
    "import Module1 as m1"
   ]
  },
  {
   "cell_type": "code",
   "execution_count": 3,
   "id": "05e55b8d",
   "metadata": {},
   "outputs": [
    {
     "name": "stdout",
     "output_type": "stream",
     "text": [
      "This is Function 1 in module 1\n"
     ]
    }
   ],
   "source": [
    "m1.function1()"
   ]
  },
  {
   "cell_type": "code",
   "execution_count": 4,
   "id": "24389dd3",
   "metadata": {},
   "outputs": [
    {
     "name": "stdout",
     "output_type": "stream",
     "text": [
      "This is Function 2 in module 1\n"
     ]
    }
   ],
   "source": [
    "m1.function2()"
   ]
  },
  {
   "cell_type": "code",
   "execution_count": 5,
   "id": "b19706b3",
   "metadata": {},
   "outputs": [
    {
     "name": "stdout",
     "output_type": "stream",
     "text": [
      "This is Function 3 in module 1\n"
     ]
    }
   ],
   "source": [
    "m1.function3()"
   ]
  },
  {
   "cell_type": "code",
   "execution_count": 6,
   "id": "6ef78a3c",
   "metadata": {},
   "outputs": [],
   "source": [
    "import Module2 as m2"
   ]
  },
  {
   "cell_type": "code",
   "execution_count": 7,
   "id": "890f5973",
   "metadata": {},
   "outputs": [
    {
     "name": "stdout",
     "output_type": "stream",
     "text": [
      "This is Function 1 in module 1\n"
     ]
    }
   ],
   "source": [
    "m2.function21()"
   ]
  },
  {
   "cell_type": "code",
   "execution_count": 8,
   "id": "3f356093",
   "metadata": {},
   "outputs": [
    {
     "name": "stdout",
     "output_type": "stream",
     "text": [
      "This is Function 2 in module 1\n"
     ]
    }
   ],
   "source": [
    "m2.function22()"
   ]
  },
  {
   "cell_type": "code",
   "execution_count": 9,
   "id": "69b8db82",
   "metadata": {},
   "outputs": [
    {
     "name": "stdout",
     "output_type": "stream",
     "text": [
      "This is Function 3 in module 1\n"
     ]
    }
   ],
   "source": [
    "m2.function23()"
   ]
  },
  {
   "cell_type": "code",
   "execution_count": 10,
   "id": "52f8e157",
   "metadata": {},
   "outputs": [],
   "source": [
    "import Module3 as m3"
   ]
  },
  {
   "cell_type": "code",
   "execution_count": 11,
   "id": "255a6b1d",
   "metadata": {},
   "outputs": [
    {
     "name": "stdout",
     "output_type": "stream",
     "text": [
      "This is Function 1 in module 1\n"
     ]
    }
   ],
   "source": [
    "m3.function31()"
   ]
  },
  {
   "cell_type": "code",
   "execution_count": 12,
   "id": "6f2e48a8",
   "metadata": {},
   "outputs": [
    {
     "name": "stdout",
     "output_type": "stream",
     "text": [
      "This is Function 2 in module 1\n"
     ]
    }
   ],
   "source": [
    "m3.function32()"
   ]
  },
  {
   "cell_type": "code",
   "execution_count": 13,
   "id": "f9c78658",
   "metadata": {},
   "outputs": [
    {
     "name": "stdout",
     "output_type": "stream",
     "text": [
      "This is Function 3 in module 1\n"
     ]
    }
   ],
   "source": [
    "m3.function33()"
   ]
  },
  {
   "cell_type": "code",
   "execution_count": null,
   "id": "ecd8a0b9",
   "metadata": {},
   "outputs": [],
   "source": []
  }
 ],
 "metadata": {
  "kernelspec": {
   "display_name": "Python 3",
   "language": "python",
   "name": "python3"
  },
  "language_info": {
   "codemirror_mode": {
    "name": "ipython",
    "version": 3
   },
   "file_extension": ".py",
   "mimetype": "text/x-python",
   "name": "python",
   "nbconvert_exporter": "python",
   "pygments_lexer": "ipython3",
   "version": "3.8.8"
  }
 },
 "nbformat": 4,
 "nbformat_minor": 5
}
