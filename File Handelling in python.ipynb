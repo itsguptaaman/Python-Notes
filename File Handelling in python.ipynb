{
 "cells": [
  {
   "cell_type": "code",
   "execution_count": 48,
   "id": "770dc18e",
   "metadata": {},
   "outputs": [],
   "source": [
    "f=open(\"text.txt\",'w')"
   ]
  },
  {
   "cell_type": "code",
   "execution_count": 1,
   "id": "5ede121c",
   "metadata": {},
   "outputs": [],
   "source": [
    "with open(\"text.txt\",'w') as f:\n",
    "    f.write(\"This is a new way to write code\")"
   ]
  },
  {
   "cell_type": "code",
   "execution_count": 49,
   "id": "28951953",
   "metadata": {},
   "outputs": [
    {
     "data": {
      "text/plain": [
       "43"
      ]
     },
     "execution_count": 49,
     "metadata": {},
     "output_type": "execute_result"
    }
   ],
   "source": [
    "f.write(\"ncknk skjv ns v  vdlskdlkn kl  sdmgvksgv d \")"
   ]
  },
  {
   "cell_type": "code",
   "execution_count": 51,
   "id": "fd67e223",
   "metadata": {},
   "outputs": [],
   "source": [
    "f.close()"
   ]
  },
  {
   "cell_type": "code",
   "execution_count": 55,
   "id": "a273878b",
   "metadata": {},
   "outputs": [],
   "source": [
    "f=open('text.txt')"
   ]
  },
  {
   "cell_type": "code",
   "execution_count": 53,
   "id": "dbce27a1",
   "metadata": {},
   "outputs": [
    {
     "data": {
      "text/plain": [
       "'ncknk skjv ns v  vdlskdlkn kl  sdmgvksgv d '"
      ]
     },
     "execution_count": 53,
     "metadata": {},
     "output_type": "execute_result"
    }
   ],
   "source": [
    "f.read()"
   ]
  },
  {
   "cell_type": "code",
   "execution_count": 56,
   "id": "c66afc3f",
   "metadata": {
    "scrolled": true
   },
   "outputs": [
    {
     "data": {
      "text/plain": [
       "'ncknk skjv ns v  vdlskdlkn kl  sdmgvksgv d '"
      ]
     },
     "execution_count": 56,
     "metadata": {},
     "output_type": "execute_result"
    }
   ],
   "source": [
    "f.readline()"
   ]
  },
  {
   "cell_type": "code",
   "execution_count": 57,
   "id": "6c8d8500",
   "metadata": {},
   "outputs": [
    {
     "data": {
      "text/plain": [
       "''"
      ]
     },
     "execution_count": 57,
     "metadata": {},
     "output_type": "execute_result"
    }
   ],
   "source": [
    "f.readline(9)"
   ]
  },
  {
   "cell_type": "code",
   "execution_count": 16,
   "id": "db8f3ed3",
   "metadata": {},
   "outputs": [
    {
     "data": {
      "text/plain": [
       "10"
      ]
     },
     "execution_count": 16,
     "metadata": {},
     "output_type": "execute_result"
    }
   ],
   "source": [
    "f.seek(10)"
   ]
  },
  {
   "cell_type": "code",
   "execution_count": 17,
   "id": "b1add810",
   "metadata": {},
   "outputs": [
    {
     "data": {
      "text/plain": [
       "' ns v  vdlskdlkn kl  sdmgvksgv d \\nzmvkl;\\n;xl,v;\\nskgm;\\nsmgdvkl\\nl;v,xc;\\nmkxclkm\\nlvxc,;\\nmvlkm \\nlvzxl;\\n,vlx;\\n,cvx ;\\nssss'"
      ]
     },
     "execution_count": 17,
     "metadata": {},
     "output_type": "execute_result"
    }
   ],
   "source": [
    "f.read()"
   ]
  },
  {
   "cell_type": "code",
   "execution_count": 18,
   "id": "333d2f0b",
   "metadata": {},
   "outputs": [
    {
     "data": {
      "text/plain": [
       "''"
      ]
     },
     "execution_count": 18,
     "metadata": {},
     "output_type": "execute_result"
    }
   ],
   "source": [
    "f.read()"
   ]
  },
  {
   "cell_type": "code",
   "execution_count": 19,
   "id": "aa072618",
   "metadata": {},
   "outputs": [
    {
     "ename": "UnsupportedOperation",
     "evalue": "not writable",
     "output_type": "error",
     "traceback": [
      "\u001b[1;31m---------------------------------------------------------------------------\u001b[0m",
      "\u001b[1;31mUnsupportedOperation\u001b[0m                      Traceback (most recent call last)",
      "\u001b[1;32m<ipython-input-19-0586d98022a2>\u001b[0m in \u001b[0;36m<module>\u001b[1;34m\u001b[0m\n\u001b[1;32m----> 1\u001b[1;33m \u001b[0mf\u001b[0m\u001b[1;33m.\u001b[0m\u001b[0mwrite\u001b[0m\u001b[1;33m(\u001b[0m\u001b[1;34m\"kcmlz\"\u001b[0m\u001b[1;33m)\u001b[0m\u001b[1;33m\u001b[0m\u001b[1;33m\u001b[0m\u001b[0m\n\u001b[0m",
      "\u001b[1;31mUnsupportedOperation\u001b[0m: not writable"
     ]
    }
   ],
   "source": [
    "f.write(\"kcmlz\")"
   ]
  },
  {
   "cell_type": "code",
   "execution_count": 20,
   "id": "d6bc82c3",
   "metadata": {},
   "outputs": [
    {
     "data": {
      "text/plain": [
       "0"
      ]
     },
     "execution_count": 20,
     "metadata": {},
     "output_type": "execute_result"
    }
   ],
   "source": [
    "f.seek(0)"
   ]
  },
  {
   "cell_type": "code",
   "execution_count": 21,
   "id": "1da94abd",
   "metadata": {},
   "outputs": [
    {
     "data": {
      "text/plain": [
       "'ncknk skjv ns v  vdlskdlk'"
      ]
     },
     "execution_count": 21,
     "metadata": {},
     "output_type": "execute_result"
    }
   ],
   "source": [
    "f.read(25)"
   ]
  },
  {
   "cell_type": "code",
   "execution_count": 23,
   "id": "4a18e90e",
   "metadata": {},
   "outputs": [],
   "source": [
    "f.close()"
   ]
  },
  {
   "cell_type": "code",
   "execution_count": 24,
   "id": "9c0dbe28",
   "metadata": {},
   "outputs": [
    {
     "ename": "ValueError",
     "evalue": "I/O operation on closed file.",
     "output_type": "error",
     "traceback": [
      "\u001b[1;31m---------------------------------------------------------------------------\u001b[0m",
      "\u001b[1;31mValueError\u001b[0m                                Traceback (most recent call last)",
      "\u001b[1;32m<ipython-input-24-571e9fb02258>\u001b[0m in \u001b[0;36m<module>\u001b[1;34m\u001b[0m\n\u001b[1;32m----> 1\u001b[1;33m \u001b[0mf\u001b[0m\u001b[1;33m.\u001b[0m\u001b[0mread\u001b[0m\u001b[1;33m(\u001b[0m\u001b[1;33m)\u001b[0m\u001b[1;33m\u001b[0m\u001b[1;33m\u001b[0m\u001b[0m\n\u001b[0m",
      "\u001b[1;31mValueError\u001b[0m: I/O operation on closed file."
     ]
    }
   ],
   "source": [
    "f.read()"
   ]
  },
  {
   "cell_type": "code",
   "execution_count": 26,
   "id": "4793ec29",
   "metadata": {},
   "outputs": [],
   "source": [
    "f=open(\"text.txt\",'w')"
   ]
  },
  {
   "cell_type": "code",
   "execution_count": 27,
   "id": "cf5983d5",
   "metadata": {},
   "outputs": [
    {
     "data": {
      "text/plain": [
       "52"
      ]
     },
     "execution_count": 27,
     "metadata": {},
     "output_type": "execute_result"
    }
   ],
   "source": [
    "f.write(\"kdjcnksjn kj VKA k abadfnkjbn adnkevgdklfn jnakjnfjn\")"
   ]
  },
  {
   "cell_type": "code",
   "execution_count": 28,
   "id": "8e1f1b0f",
   "metadata": {},
   "outputs": [],
   "source": [
    "f.close()"
   ]
  },
  {
   "cell_type": "code",
   "execution_count": 29,
   "id": "05312254",
   "metadata": {},
   "outputs": [],
   "source": [
    "f=open(\"text.txt\",'a')"
   ]
  },
  {
   "cell_type": "code",
   "execution_count": 30,
   "id": "ee1f666e",
   "metadata": {},
   "outputs": [
    {
     "data": {
      "text/plain": [
       "55"
      ]
     },
     "execution_count": 30,
     "metadata": {},
     "output_type": "execute_result"
    }
   ],
   "source": [
    "f.write(\"cnkjn  dns snlnsngfv  gjjgejkgL  fpojpwf jemj pWPJNCJNA\")"
   ]
  },
  {
   "cell_type": "code",
   "execution_count": 31,
   "id": "f1ed0489",
   "metadata": {},
   "outputs": [],
   "source": [
    "f.close()"
   ]
  },
  {
   "cell_type": "code",
   "execution_count": 32,
   "id": "5d581574",
   "metadata": {},
   "outputs": [],
   "source": [
    "f=open(\"text.txt\",'wb')"
   ]
  },
  {
   "cell_type": "code",
   "execution_count": 34,
   "id": "2198b5df",
   "metadata": {},
   "outputs": [
    {
     "data": {
      "text/plain": [
       "15"
      ]
     },
     "execution_count": 34,
     "metadata": {},
     "output_type": "execute_result"
    }
   ],
   "source": [
    "f.write(b\"vjknklsnjklvsnz\")"
   ]
  },
  {
   "cell_type": "code",
   "execution_count": 35,
   "id": "39085f00",
   "metadata": {},
   "outputs": [],
   "source": [
    "f.close()"
   ]
  },
  {
   "cell_type": "code",
   "execution_count": 42,
   "id": "2ff741ad",
   "metadata": {},
   "outputs": [],
   "source": [
    "f=open(\"text.txt\",'rb')"
   ]
  },
  {
   "cell_type": "code",
   "execution_count": 43,
   "id": "7322f37b",
   "metadata": {},
   "outputs": [
    {
     "data": {
      "text/plain": [
       "b'vjknklsnjklvsnz'"
      ]
     },
     "execution_count": 43,
     "metadata": {},
     "output_type": "execute_result"
    }
   ],
   "source": [
    "f.read()"
   ]
  },
  {
   "cell_type": "code",
   "execution_count": 44,
   "id": "2267d375",
   "metadata": {},
   "outputs": [
    {
     "data": {
      "text/plain": [
       "2"
      ]
     },
     "execution_count": 44,
     "metadata": {},
     "output_type": "execute_result"
    }
   ],
   "source": [
    "f.seek(2)"
   ]
  },
  {
   "cell_type": "code",
   "execution_count": 45,
   "id": "b4f59032",
   "metadata": {},
   "outputs": [
    {
     "data": {
      "text/plain": [
       "b'k'"
      ]
     },
     "execution_count": 45,
     "metadata": {},
     "output_type": "execute_result"
    }
   ],
   "source": [
    "f.read(1)"
   ]
  },
  {
   "cell_type": "code",
   "execution_count": 47,
   "id": "ac5a5215",
   "metadata": {},
   "outputs": [
    {
     "data": {
      "text/plain": [
       "12"
      ]
     },
     "execution_count": 47,
     "metadata": {},
     "output_type": "execute_result"
    }
   ],
   "source": [
    "f.seek(-3,2)"
   ]
  },
  {
   "cell_type": "code",
   "execution_count": 59,
   "id": "4ee9d24a",
   "metadata": {},
   "outputs": [],
   "source": [
    "f=open(\"text.txt\",'r+')"
   ]
  },
  {
   "cell_type": "code",
   "execution_count": 60,
   "id": "4dcfb8bc",
   "metadata": {},
   "outputs": [
    {
     "data": {
      "text/plain": [
       "55"
      ]
     },
     "execution_count": 60,
     "metadata": {},
     "output_type": "execute_result"
    }
   ],
   "source": [
    "f.write(\"jnikajk cj FJSNNnfcsjvnsjn\\nbfbbibwsib\\nbajhhb hb\\nab\\nac\\na\")"
   ]
  },
  {
   "cell_type": "code",
   "execution_count": 62,
   "id": "42944fe8",
   "metadata": {},
   "outputs": [],
   "source": [
    "f.close()"
   ]
  },
  {
   "cell_type": "code",
   "execution_count": 63,
   "id": "af56492e",
   "metadata": {},
   "outputs": [],
   "source": [
    "f=open(\"text.txt\",'r+')"
   ]
  },
  {
   "cell_type": "code",
   "execution_count": 64,
   "id": "acdbc7ba",
   "metadata": {},
   "outputs": [],
   "source": [
    "f.writelines(\"jhbchb jcvk fa hjn\")"
   ]
  },
  {
   "cell_type": "code",
   "execution_count": 66,
   "id": "7d72fe54",
   "metadata": {},
   "outputs": [],
   "source": [
    "f.close()"
   ]
  },
  {
   "cell_type": "code",
   "execution_count": 67,
   "id": "586e20bd",
   "metadata": {},
   "outputs": [],
   "source": [
    "f=open(\"text.txt\",'r+')"
   ]
  },
  {
   "cell_type": "code",
   "execution_count": 68,
   "id": "f456ddfc",
   "metadata": {},
   "outputs": [
    {
     "data": {
      "text/plain": [
       "10"
      ]
     },
     "execution_count": 68,
     "metadata": {},
     "output_type": "execute_result"
    }
   ],
   "source": [
    "f.seek(10)"
   ]
  },
  {
   "cell_type": "code",
   "execution_count": 69,
   "id": "153d11cc",
   "metadata": {},
   "outputs": [],
   "source": [
    "f.writelines(\"b kbSGDVkjbjkbnkxk sjvkjnjn;mlkm f mfkcmk\")"
   ]
  },
  {
   "cell_type": "code",
   "execution_count": 92,
   "id": "883b6fc3",
   "metadata": {},
   "outputs": [],
   "source": [
    "f.close()"
   ]
  },
  {
   "cell_type": "code",
   "execution_count": 71,
   "id": "2cd3a0e6",
   "metadata": {},
   "outputs": [],
   "source": [
    "f=open(\"text.txt\",'r+')"
   ]
  },
  {
   "cell_type": "code",
   "execution_count": 72,
   "id": "27539c87",
   "metadata": {},
   "outputs": [
    {
     "data": {
      "text/plain": [
       "4"
      ]
     },
     "execution_count": 72,
     "metadata": {},
     "output_type": "execute_result"
    }
   ],
   "source": [
    "f.fileno()"
   ]
  },
  {
   "cell_type": "code",
   "execution_count": 73,
   "id": "c182ccaa",
   "metadata": {},
   "outputs": [
    {
     "name": "stdout",
     "output_type": "stream",
     "text": [
      "Overwriting text.txt\n"
     ]
    }
   ],
   "source": [
    "%%writefile text.txt\n",
    "My name is nncnfnfabhfhba\n",
    "jnzkjnjkn"
   ]
  },
  {
   "cell_type": "code",
   "execution_count": 74,
   "id": "ebe684c4",
   "metadata": {},
   "outputs": [],
   "source": [
    "import os"
   ]
  },
  {
   "cell_type": "code",
   "execution_count": 75,
   "id": "cce71df6",
   "metadata": {},
   "outputs": [
    {
     "data": {
      "text/plain": [
       "'C:\\\\Users\\\\Aman\\\\Data science course\\\\Python'"
      ]
     },
     "execution_count": 75,
     "metadata": {},
     "output_type": "execute_result"
    }
   ],
   "source": [
    "pwd"
   ]
  },
  {
   "cell_type": "code",
   "execution_count": 77,
   "id": "5059044b",
   "metadata": {},
   "outputs": [
    {
     "data": {
      "text/plain": [
       "'C:\\\\Users\\\\Aman\\\\Data science course\\\\Python'"
      ]
     },
     "execution_count": 77,
     "metadata": {},
     "output_type": "execute_result"
    }
   ],
   "source": [
    "os.getcwd()"
   ]
  },
  {
   "cell_type": "code",
   "execution_count": 81,
   "id": "c4985c02",
   "metadata": {},
   "outputs": [
    {
     "data": {
      "text/plain": [
       "['.android',\n",
       " '.bash_history',\n",
       " '.conda',\n",
       " '.condarc',\n",
       " '.continuum',\n",
       " '.cufflinks',\n",
       " '.dotnet',\n",
       " '.eclipse',\n",
       " '.emulator_console_auth_token',\n",
       " '.gitconfig',\n",
       " '.gradle',\n",
       " '.idlerc',\n",
       " '.ipynb_checkpoints',\n",
       " '.ipython',\n",
       " '.jmc',\n",
       " '.jupyter',\n",
       " '.matplotlib',\n",
       " '.nbi',\n",
       " '.openjfx',\n",
       " '.oracle_jre_usage',\n",
       " '.pyforest',\n",
       " '.spyder-py3',\n",
       " '.ssh',\n",
       " '.viminfo',\n",
       " '.VirtualBox',\n",
       " '.vscode',\n",
       " '1.txt',\n",
       " '204.ece.csv',\n",
       " '205.tips.csv',\n",
       " '214.agri.csv',\n",
       " '215.gdp.csv',\n",
       " '239.volcano.csv',\n",
       " '240.world.json',\n",
       " '241.us+cities+pop.csv',\n",
       " '3D Objects',\n",
       " 'Advertising Budget and Sales.csv',\n",
       " 'Aman',\n",
       " 'anaconda3',\n",
       " 'AndroidStudioProjects',\n",
       " 'AppData',\n",
       " 'Application Data',\n",
       " 'Assignment 01.ipynb',\n",
       " 'Assignment 01ML.ipynb',\n",
       " 'Assignment 02.ipynb',\n",
       " 'Assignment ML02.ipynb',\n",
       " 'Assignment_01.ipynb',\n",
       " 'Assignment_02.ipynb',\n",
       " 'battery-report.html',\n",
       " 'car.data',\n",
       " 'Contacts',\n",
       " 'Cookies',\n",
       " 'Countries with GDP.txt',\n",
       " 'Data science course',\n",
       " 'Desktop',\n",
       " 'df_excel',\n",
       " 'Documents',\n",
       " 'Downloads',\n",
       " 'faa_ai_prelim.csv',\n",
       " 'Favorites',\n",
       " 'FDNY.csv',\n",
       " 'Geoplot.ipynb',\n",
       " 'Jedi',\n",
       " 'K Means Clustering.ipynb',\n",
       " 'linearregression.ipynb',\n",
       " 'Links',\n",
       " 'Local Settings',\n",
       " 'logistic regression.ipynb',\n",
       " 'MachineLearning PCA(Principal Component Analysis).ipynb',\n",
       " 'Microsoft',\n",
       " 'MicrosoftEdgeBackups',\n",
       " 'ML Model Persistance.ipynb',\n",
       " 'ML pipelines.ipynb',\n",
       " 'Music',\n",
       " 'My Documents',\n",
       " 'NetHood',\n",
       " 'New.png',\n",
       " 'NLP Bag of words.ipynb',\n",
       " 'NLP Pipeline and Grid Search.ipynb',\n",
       " 'NLP.ipynb',\n",
       " 'NLP_Spam Detection.ipynb',\n",
       " 'NTUSER.DAT',\n",
       " 'ntuser.dat.LOG1',\n",
       " 'ntuser.dat.LOG2',\n",
       " 'NTUSER.DAT{53b39e88-18c4-11ea-a811-000d3aa4692b}.TM.blf',\n",
       " 'NTUSER.DAT{53b39e88-18c4-11ea-a811-000d3aa4692b}.TMContainer00000000000000000001.regtrans-ms',\n",
       " 'NTUSER.DAT{53b39e88-18c4-11ea-a811-000d3aa4692b}.TMContainer00000000000000000002.regtrans-ms',\n",
       " 'ntuser.ini',\n",
       " 'Olympic 2012 Medal Tally.xlsx',\n",
       " 'OneDrive',\n",
       " 'Pandas - Assignment 01.ipynb',\n",
       " 'Pandas - Assignment 02.ipynb',\n",
       " 'personal_domain',\n",
       " 'Pictures',\n",
       " 'pima-indians-diabetes.data',\n",
       " 'pima-indians-diabetes.names',\n",
       " 'Plotter.ipynb',\n",
       " 'Practice.ipynb',\n",
       " 'PrintHood',\n",
       " 'PyCharm Community Edition 2022.1.2',\n",
       " 'PycharmProjects',\n",
       " 'Python.ipynb',\n",
       " 'Recent',\n",
       " 'Regression.py',\n",
       " 'regressionfilename.pkl',\n",
       " 'sample_submission.csv',\n",
       " 'Saved Games',\n",
       " 'School  Donation analysis.ipynb',\n",
       " 'Searches',\n",
       " 'SendTo',\n",
       " 'source',\n",
       " 'SpamCollection',\n",
       " 'Start Menu',\n",
       " 'supervised learning.py',\n",
       " 'temp-plot.html',\n",
       " 'Templates',\n",
       " 'test.csv',\n",
       " 'titanic_train.csv',\n",
       " 'Tracing',\n",
       " 'train.csv',\n",
       " 'Untitled.ipynb',\n",
       " 'Untitled1.ipynb',\n",
       " 'Untitled8.ipynb',\n",
       " 'User_Define_data.xlsx',\n",
       " 'Videos',\n",
       " 'VirtualBox VMs',\n",
       " 'Web scraping.ipynb',\n",
       " 'wine.csv']"
      ]
     },
     "execution_count": 81,
     "metadata": {},
     "output_type": "execute_result"
    }
   ],
   "source": [
    "os.listdir(\"C:/Users/Aman/\")"
   ]
  },
  {
   "cell_type": "code",
   "execution_count": 82,
   "id": "9d2a246e",
   "metadata": {},
   "outputs": [
    {
     "data": {
      "text/plain": [
       "'C:\\\\Users\\\\Aman\\\\Data science course\\\\Python'"
      ]
     },
     "execution_count": 82,
     "metadata": {},
     "output_type": "execute_result"
    }
   ],
   "source": [
    "pwd()"
   ]
  },
  {
   "cell_type": "code",
   "execution_count": 83,
   "id": "43a5cb23",
   "metadata": {},
   "outputs": [
    {
     "data": {
      "text/plain": [
       "'C:\\\\Users\\\\Aman\\\\Data science course\\\\Python'"
      ]
     },
     "execution_count": 83,
     "metadata": {},
     "output_type": "execute_result"
    }
   ],
   "source": [
    "os.getcwd()"
   ]
  },
  {
   "cell_type": "code",
   "execution_count": 88,
   "id": "2e9898bc",
   "metadata": {},
   "outputs": [],
   "source": [
    "os.chdir(\"C:\\\\Users\\\\Aman\\\\Data science course\\\\Python\")"
   ]
  },
  {
   "cell_type": "code",
   "execution_count": 96,
   "id": "bba3a6ef",
   "metadata": {},
   "outputs": [
    {
     "ename": "FileExistsError",
     "evalue": "[WinError 183] Cannot create a file when that file already exists: 'Aman'",
     "output_type": "error",
     "traceback": [
      "\u001b[1;31m---------------------------------------------------------------------------\u001b[0m",
      "\u001b[1;31mFileExistsError\u001b[0m                           Traceback (most recent call last)",
      "\u001b[1;32m<ipython-input-96-063cf095fd4d>\u001b[0m in \u001b[0;36m<module>\u001b[1;34m\u001b[0m\n\u001b[1;32m----> 1\u001b[1;33m \u001b[0mos\u001b[0m\u001b[1;33m.\u001b[0m\u001b[0mmkdir\u001b[0m\u001b[1;33m(\u001b[0m\u001b[1;34m\"Aman\"\u001b[0m\u001b[1;33m)\u001b[0m\u001b[1;33m\u001b[0m\u001b[1;33m\u001b[0m\u001b[0m\n\u001b[0m",
      "\u001b[1;31mFileExistsError\u001b[0m: [WinError 183] Cannot create a file when that file already exists: 'Aman'"
     ]
    }
   ],
   "source": [
    "os.mkdir(\"Aman\")"
   ]
  },
  {
   "cell_type": "code",
   "execution_count": 87,
   "id": "a4dd17e1",
   "metadata": {},
   "outputs": [],
   "source": [
    "os.rmdir(\"Aman\")"
   ]
  },
  {
   "cell_type": "code",
   "execution_count": 90,
   "id": "3d8fa238",
   "metadata": {},
   "outputs": [
    {
     "data": {
      "text/plain": [
       "[' List manipulation.ipynb',\n",
       " ' Python Basics Conditionals and looping.ipynb',\n",
       " '.ipynb_checkpoints',\n",
       " 'Aman',\n",
       " 'File Handelling in python.ipynb',\n",
       " 'Python_Basic_Assignments',\n",
       " 'text.txt',\n",
       " 'Tuple, Set Dictionary.ipynb',\n",
       " 'Working with Strings and List.ipynb']"
      ]
     },
     "execution_count": 90,
     "metadata": {},
     "output_type": "execute_result"
    }
   ],
   "source": [
    "os.listdir()"
   ]
  },
  {
   "cell_type": "code",
   "execution_count": 95,
   "id": "ebb78347",
   "metadata": {},
   "outputs": [
    {
     "name": "stdout",
     "output_type": "stream",
     "text": [
      "My file is availabe in this directory\n",
      "My name is nncnfnfabhfhba\n",
      "\n",
      "jnzkjnjkn\n",
      "\n"
     ]
    }
   ],
   "source": [
    "if \"text.txt\" in os.listdir():\n",
    "    print(\"My file is availabe in this directory\")\n",
    "    f=open(\"text.txt\",'r+')\n",
    "    for i in f:\n",
    "        print(i)\n",
    "else:\n",
    "    print(\"No this file is not available in this directory\")"
   ]
  },
  {
   "cell_type": "code",
   "execution_count": 97,
   "id": "357e83fe",
   "metadata": {},
   "outputs": [],
   "source": [
    "if not os.path.isdir(\"Aman\"):\n",
    "    os.mkdir(\"Aman\")"
   ]
  },
  {
   "cell_type": "code",
   "execution_count": null,
   "id": "9fa2d105",
   "metadata": {},
   "outputs": [],
   "source": [
    "os.mkdir(\"Aman\")"
   ]
  },
  {
   "cell_type": "code",
   "execution_count": 100,
   "id": "f790e22b",
   "metadata": {},
   "outputs": [],
   "source": [
    "os.chdir(\"C:\\\\Users\\\\Aman\\\\Data science course\\\\Python\\\\Aman\")"
   ]
  },
  {
   "cell_type": "code",
   "execution_count": 101,
   "id": "7f28fa8f",
   "metadata": {},
   "outputs": [],
   "source": [
    "for i in range(10):\n",
    "    f=open(\"text{}.txt\".format(i),'w')\n",
    "    f.write(\"kjcn kjnksvkjks vkn\")\n",
    "    f.close()"
   ]
  },
  {
   "cell_type": "code",
   "execution_count": 113,
   "id": "98f961d2",
   "metadata": {},
   "outputs": [
    {
     "name": "stdout",
     "output_type": "stream",
     "text": [
      "This is from file 0 kjcn kjnksvkjks vkn\n",
      "This is from file 1 kjcn kjnksvkjks vkn\n",
      "This is from file 2 kjcn kjnksvkjks vkn\n",
      "This is from file 3 kjcn kjnksvkjks vkn\n",
      "This is from file 4 kjcn kjnksvkjks vkn\n",
      "This is from file 5 kjcn kjnksvkjks vkn\n",
      "This is from file 6 kjcn kjnksvkjks vkn\n",
      "This is from file 7 kjcn kjnksvkjks vkn\n",
      "This is from file 8 kjcn kjnksvkjks vkn\n",
      "This is from file 9 kjcn kjnksvkjks vkn\n"
     ]
    }
   ],
   "source": [
    "for i in range(10):\n",
    "    f=open(\"text{}.txt\".format(i),'r')\n",
    "    print(\"This is from file {}\".format(i),f.read())\n",
    "    f.close()"
   ]
  },
  {
   "cell_type": "code",
   "execution_count": 114,
   "id": "ea034121",
   "metadata": {},
   "outputs": [],
   "source": [
    "x=[]\n",
    "for i in range(10):\n",
    "    f=open(\"text{}.txt\".format(i),'r')\n",
    "    x.append(f.read())"
   ]
  },
  {
   "cell_type": "code",
   "execution_count": 115,
   "id": "1b42d74f",
   "metadata": {},
   "outputs": [
    {
     "data": {
      "text/plain": [
       "['kjcn kjnksvkjks vkn',\n",
       " 'kjcn kjnksvkjks vkn',\n",
       " 'kjcn kjnksvkjks vkn',\n",
       " 'kjcn kjnksvkjks vkn',\n",
       " 'kjcn kjnksvkjks vkn',\n",
       " 'kjcn kjnksvkjks vkn',\n",
       " 'kjcn kjnksvkjks vkn',\n",
       " 'kjcn kjnksvkjks vkn',\n",
       " 'kjcn kjnksvkjks vkn',\n",
       " 'kjcn kjnksvkjks vkn']"
      ]
     },
     "execution_count": 115,
     "metadata": {},
     "output_type": "execute_result"
    }
   ],
   "source": [
    "x"
   ]
  },
  {
   "cell_type": "code",
   "execution_count": 118,
   "id": "3f31ceaa",
   "metadata": {},
   "outputs": [],
   "source": [
    "f=open(\"text10.txt\",'w')\n",
    "f.write(str(x))\n",
    "f.close()"
   ]
  },
  {
   "cell_type": "code",
   "execution_count": null,
   "id": "fa65312e",
   "metadata": {},
   "outputs": [],
   "source": [
    "os."
   ]
  }
 ],
 "metadata": {
  "kernelspec": {
   "display_name": "Python 3 (ipykernel)",
   "language": "python",
   "name": "python3"
  },
  "language_info": {
   "codemirror_mode": {
    "name": "ipython",
    "version": 3
   },
   "file_extension": ".py",
   "mimetype": "text/x-python",
   "name": "python",
   "nbconvert_exporter": "python",
   "pygments_lexer": "ipython3",
   "version": "3.9.12"
  }
 },
 "nbformat": 4,
 "nbformat_minor": 5
}
