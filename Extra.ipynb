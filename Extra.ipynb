{
 "cells": [
  {
   "cell_type": "code",
   "execution_count": 1,
   "id": "49533142",
   "metadata": {},
   "outputs": [],
   "source": [
    "import sys"
   ]
  },
  {
   "cell_type": "code",
   "execution_count": 3,
   "id": "908c6393",
   "metadata": {},
   "outputs": [],
   "source": [
    "a=3\n",
    "b=a\n",
    "c=b"
   ]
  },
  {
   "cell_type": "code",
   "execution_count": 4,
   "id": "acb5407c",
   "metadata": {},
   "outputs": [
    {
     "data": {
      "text/plain": [
       "814"
      ]
     },
     "execution_count": 4,
     "metadata": {},
     "output_type": "execute_result"
    }
   ],
   "source": [
    "sys.getrefcount(a)"
   ]
  },
  {
   "cell_type": "code",
   "execution_count": 9,
   "id": "a7ab78d3",
   "metadata": {},
   "outputs": [
    {
     "data": {
      "text/plain": [
       "'0x26164b06970'"
      ]
     },
     "execution_count": 9,
     "metadata": {},
     "output_type": "execute_result"
    }
   ],
   "source": [
    "hex(id(a))"
   ]
  },
  {
   "cell_type": "code",
   "execution_count": null,
   "id": "ff5f62ef",
   "metadata": {},
   "outputs": [],
   "source": [
    "0     0   0 0 0 0   0         0         0 0 0 0\n",
    "0     0   0         0         0         0     0\n",
    "0 0 0 0   0 0 0 0   0         0         0     0\n",
    "0     0   0         0         0         0     0\n",
    "0     0   0 0 0 0   0 0 0 0   0 0 0 0   0 0 0 0"
   ]
  },
  {
   "cell_type": "code",
   "execution_count": null,
   "id": "4f48f756",
   "metadata": {},
   "outputs": [],
   "source": [
    "0     0   0 0 0 0   0     0   0 0 0 0 0   0     0   0 0 0 0\n",
    "0 0 0 0   0     0   0     0       0       0 0 0 0   0     0\n",
    "0  0  0   0 0 0 0   0 0 0 0       0       0  0  0   0 0 0 0\n",
    "0     0   0     0   0     0       0       0     0   0     0\n",
    "0     0   0     0   0     0   0 0 0 0 0   0     0   0     0 "
   ]
  },
  {
   "cell_type": "code",
   "execution_count": null,
   "id": "b9ffda85",
   "metadata": {},
   "outputs": [],
   "source": []
  },
  {
   "cell_type": "code",
   "execution_count": null,
   "id": "b2b83991",
   "metadata": {},
   "outputs": [],
   "source": []
  },
  {
   "cell_type": "code",
   "execution_count": null,
   "id": "f0448b29",
   "metadata": {},
   "outputs": [],
   "source": []
  },
  {
   "cell_type": "code",
   "execution_count": null,
   "id": "e6ca047a",
   "metadata": {},
   "outputs": [],
   "source": []
  },
  {
   "cell_type": "code",
   "execution_count": null,
   "id": "8ec3fec2",
   "metadata": {},
   "outputs": [],
   "source": []
  },
  {
   "cell_type": "code",
   "execution_count": null,
   "id": "57bd1ee7",
   "metadata": {},
   "outputs": [],
   "source": []
  },
  {
   "cell_type": "code",
   "execution_count": null,
   "id": "8f7bb898",
   "metadata": {},
   "outputs": [],
   "source": []
  }
 ],
 "metadata": {
  "kernelspec": {
   "display_name": "Python 3 (ipykernel)",
   "language": "python",
   "name": "python3"
  },
  "language_info": {
   "codemirror_mode": {
    "name": "ipython",
    "version": 3
   },
   "file_extension": ".py",
   "mimetype": "text/x-python",
   "name": "python",
   "nbconvert_exporter": "python",
   "pygments_lexer": "ipython3",
   "version": "3.9.12"
  }
 },
 "nbformat": 4,
 "nbformat_minor": 5
}
