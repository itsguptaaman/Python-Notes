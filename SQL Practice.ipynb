{
 "cells": [
  {
   "cell_type": "code",
   "execution_count": 1,
   "id": "17658bf0",
   "metadata": {},
   "outputs": [],
   "source": [
    "import mysql.connector as connection\n",
    "import csv"
   ]
  },
  {
   "cell_type": "code",
   "execution_count": 9,
   "id": "bd5e35f3",
   "metadata": {},
   "outputs": [],
   "source": [
    "file_in_list=[]\n",
    "with open('C:\\\\Users\\\\Aman\\\\Downloads\\\\carbon_nanotubes.csv','r') as data:\n",
    "    data_csv=csv.reader(data, delimiter=\"\\n\")\n",
    "    \n",
    "    for i in data:\n",
    "        file_in_list.append(i[0].split(';'))"
   ]
  },
  {
   "cell_type": "code",
   "execution_count": 11,
   "id": "65100341",
   "metadata": {},
   "outputs": [],
   "source": [
    "with open('C:\\\\Users\\\\Aman\\\\Downloads\\\\carbon_nanotubes.csv','w',newline='') as data:\n",
    "    writer=csv.writer(data)\n",
    "    writer.writerows(file_in_list)"
   ]
  },
  {
   "cell_type": "code",
   "execution_count": 16,
   "id": "530d1bda",
   "metadata": {},
   "outputs": [
    {
     "name": "stdout",
     "output_type": "stream",
     "text": [
      "Database Created!\n"
     ]
    }
   ],
   "source": [
    "try:\n",
    "    mydb=connection.connect(host=\"localhost\",user=\"root\", passwd=\"admin\")\n",
    "    query='create database carbonNanoTube'\n",
    "    cursor=mydb.cursor()\n",
    "    cursor.execute(query)\n",
    "    print(\"Database Created!\")\n",
    "\n",
    "except Exception as e:\n",
    "    print(e)\n",
    "    mydb.close()"
   ]
  },
  {
   "cell_type": "code",
   "execution_count": 14,
   "id": "f86ff1da",
   "metadata": {},
   "outputs": [],
   "source": [
    "try:\n",
    "    mydb=connection.connect(host=\"localhost\",database=\"carbonNanoTube\",user=\"root\", passwd=\"admin\")\n",
    "    query='create table carbonNanoTube'\n",
    "    cursor=mydb.cursor()\n",
    "    cursor.execute(query)"
   ]
  },
  {
   "cell_type": "code",
   "execution_count": 18,
   "id": "a0f112d4",
   "metadata": {},
   "outputs": [
    {
     "data": {
      "text/plain": [
       "'C:\\\\Users\\\\Aman\\\\Data science course\\\\Python'"
      ]
     },
     "execution_count": 18,
     "metadata": {},
     "output_type": "execute_result"
    }
   ],
   "source": [
    "import os \n",
    "os.getcwd()"
   ]
  },
  {
   "cell_type": "code",
   "execution_count": null,
   "id": "5b0f4329",
   "metadata": {},
   "outputs": [],
   "source": []
  }
 ],
 "metadata": {
  "kernelspec": {
   "display_name": "Python 3",
   "language": "python",
   "name": "python3"
  },
  "language_info": {
   "codemirror_mode": {
    "name": "ipython",
    "version": 3
   },
   "file_extension": ".py",
   "mimetype": "text/x-python",
   "name": "python",
   "nbconvert_exporter": "python",
   "pygments_lexer": "ipython3",
   "version": "3.8.8"
  }
 },
 "nbformat": 4,
 "nbformat_minor": 5
}
