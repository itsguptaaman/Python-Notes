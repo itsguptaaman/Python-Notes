{
 "cells": [
  {
   "cell_type": "code",
   "execution_count": 3,
   "id": "ed374646",
   "metadata": {},
   "outputs": [
    {
     "name": "stdout",
     "output_type": "stream",
     "text": [
      "This is my first python program\n"
     ]
    },
    {
     "data": {
      "text/plain": [
       "'\\nThis is a  multiline comment\\n\\n'"
      ]
     },
     "execution_count": 3,
     "metadata": {},
     "output_type": "execute_result"
    }
   ],
   "source": [
    "# This is a single line comment\n",
    "print(\"This is my first python program\")\n",
    "\"\"\"\n",
    "This is a  multiline comment\n",
    "\n",
    "\"\"\""
   ]
  },
  {
   "cell_type": "code",
   "execution_count": 5,
   "id": "d894095b",
   "metadata": {},
   "outputs": [
    {
     "data": {
      "text/plain": [
       "10"
      ]
     },
     "execution_count": 5,
     "metadata": {},
     "output_type": "execute_result"
    }
   ],
   "source": [
    "a=10\n",
    "a"
   ]
  },
  {
   "cell_type": "code",
   "execution_count": 6,
   "id": "b571ffc8",
   "metadata": {},
   "outputs": [
    {
     "data": {
      "text/plain": [
       "int"
      ]
     },
     "execution_count": 6,
     "metadata": {},
     "output_type": "execute_result"
    }
   ],
   "source": [
    "type(a)"
   ]
  },
  {
   "cell_type": "code",
   "execution_count": 7,
   "id": "80c7dde2",
   "metadata": {},
   "outputs": [
    {
     "name": "stdout",
     "output_type": "stream",
     "text": [
      "Aman\n"
     ]
    }
   ],
   "source": [
    "name=\"Aman\"\n",
    "print(name)"
   ]
  },
  {
   "cell_type": "code",
   "execution_count": 8,
   "id": "1e634bb1",
   "metadata": {},
   "outputs": [
    {
     "data": {
      "text/plain": [
       "str"
      ]
     },
     "execution_count": 8,
     "metadata": {},
     "output_type": "execute_result"
    }
   ],
   "source": [
    "type(name)"
   ]
  },
  {
   "cell_type": "code",
   "execution_count": 24,
   "id": "152d3488",
   "metadata": {},
   "outputs": [
    {
     "name": "stdout",
     "output_type": "stream",
     "text": [
      "Aman Gupta\n",
      "<class 'str'>\n",
      "22\n",
      "<class 'int'>\n",
      "24 may 2000\n",
      "<class 'str'>\n",
      "Aman Gupta 22 24 may 2000\n"
     ]
    },
    {
     "data": {
      "text/plain": [
       "'Aman Gupta24 may 2000'"
      ]
     },
     "execution_count": 24,
     "metadata": {},
     "output_type": "execute_result"
    }
   ],
   "source": [
    "# How to assign varables in single line\n",
    "name, age, DOB = \"Aman Gupta\", 22 ,'24 may 2000'\n",
    "print(name)\n",
    "print(type(name))\n",
    "print(age)\n",
    "print(type(age))\n",
    "print(DOB)\n",
    "print(type(DOB))\n",
    "print(name,age,DOB)\n",
    "name,age,DOB\n"
   ]
  },
  {
   "cell_type": "code",
   "execution_count": 20,
   "id": "1fa3f519",
   "metadata": {},
   "outputs": [
    {
     "data": {
      "text/plain": [
       "'\"Aman\"'"
      ]
     },
     "execution_count": 20,
     "metadata": {},
     "output_type": "execute_result"
    }
   ],
   "source": [
    "# to get double quote in output \n",
    "name='\"Aman\"'\n",
    "name"
   ]
  },
  {
   "cell_type": "code",
   "execution_count": 21,
   "id": "a20934d7",
   "metadata": {},
   "outputs": [
    {
     "ename": "SyntaxError",
     "evalue": "invalid syntax (<ipython-input-21-55bb2b85ec42>, line 1)",
     "output_type": "error",
     "traceback": [
      "\u001b[1;36m  File \u001b[1;32m\"<ipython-input-21-55bb2b85ec42>\"\u001b[1;36m, line \u001b[1;32m1\u001b[0m\n\u001b[1;33m    1b='sd'\u001b[0m\n\u001b[1;37m     ^\u001b[0m\n\u001b[1;31mSyntaxError\u001b[0m\u001b[1;31m:\u001b[0m invalid syntax\n"
     ]
    }
   ],
   "source": [
    "# Whenever we declare a variable it should start with a letter or underscore\n",
    "1b='sd'"
   ]
  },
  {
   "cell_type": "code",
   "execution_count": 23,
   "id": "c6bc94ac",
   "metadata": {},
   "outputs": [
    {
     "data": {
      "text/plain": [
       "'sd'"
      ]
     },
     "execution_count": 23,
     "metadata": {},
     "output_type": "execute_result"
    }
   ],
   "source": [
    "_1b='sd'\n",
    "_1b"
   ]
  },
  {
   "cell_type": "code",
   "execution_count": 25,
   "id": "c2fcae2d",
   "metadata": {},
   "outputs": [
    {
     "data": {
      "text/plain": [
       "'spamspamspam'"
      ]
     },
     "execution_count": 25,
     "metadata": {},
     "output_type": "execute_result"
    }
   ],
   "source": [
    "'spam'+'spamspam'"
   ]
  },
  {
   "cell_type": "code",
   "execution_count": 26,
   "id": "0ea7cb14",
   "metadata": {},
   "outputs": [
    {
     "data": {
      "text/plain": [
       "'spamspamspam'"
      ]
     },
     "execution_count": 26,
     "metadata": {},
     "output_type": "execute_result"
    }
   ],
   "source": [
    "'spam'*3"
   ]
  },
  {
   "cell_type": "code",
   "execution_count": 28,
   "id": "d8e5737f",
   "metadata": {},
   "outputs": [
    {
     "name": "stdout",
     "output_type": "stream",
     "text": [
      "<class 'bool'>\n"
     ]
    },
    {
     "data": {
      "text/plain": [
       "bool"
      ]
     },
     "execution_count": 28,
     "metadata": {},
     "output_type": "execute_result"
    }
   ],
   "source": [
    "# Boolean data type T should be capital\n",
    "a=True\n",
    "b=False\n",
    "print(type(a))\n",
    "type(b)"
   ]
  },
  {
   "cell_type": "code",
   "execution_count": 29,
   "id": "016ead65",
   "metadata": {},
   "outputs": [
    {
     "name": "stdout",
     "output_type": "stream",
     "text": [
      "4\n",
      "0\n"
     ]
    }
   ],
   "source": [
    "print(True+True+True+False+True)\n",
    "print(False-True+True)"
   ]
  },
  {
   "cell_type": "code",
   "execution_count": 35,
   "id": "c621c873",
   "metadata": {},
   "outputs": [
    {
     "name": "stdout",
     "output_type": "stream",
     "text": [
      "5.0\n",
      "12.0\n"
     ]
    }
   ],
   "source": [
    "# Complex data type\n",
    "x=5+10j\n",
    "y=9+12j\n",
    "type(x)\n",
    "x*y\n",
    "print(x.real)\n",
    "print(y.imag)"
   ]
  },
  {
   "cell_type": "code",
   "execution_count": 1,
   "id": "435e3708",
   "metadata": {},
   "outputs": [
    {
     "data": {
      "text/plain": [
       "'1Aman'"
      ]
     },
     "execution_count": 1,
     "metadata": {},
     "output_type": "execute_result"
    }
   ],
   "source": [
    "'1'+'Aman'"
   ]
  },
  {
   "cell_type": "code",
   "execution_count": 2,
   "id": "3a201da9",
   "metadata": {},
   "outputs": [
    {
     "data": {
      "text/plain": [
       "2.0"
      ]
     },
     "execution_count": 2,
     "metadata": {},
     "output_type": "execute_result"
    }
   ],
   "source": [
    "1+1.0"
   ]
  },
  {
   "cell_type": "code",
   "execution_count": 5,
   "id": "e46bf14f",
   "metadata": {},
   "outputs": [
    {
     "data": {
      "text/plain": [
       "'amanamanaman'"
      ]
     },
     "execution_count": 5,
     "metadata": {},
     "output_type": "execute_result"
    }
   ],
   "source": [
    "'aman'+'aman'+'aman'\n",
    "'aman'*3"
   ]
  },
  {
   "cell_type": "code",
   "execution_count": 7,
   "id": "d99033bd",
   "metadata": {},
   "outputs": [
    {
     "name": "stdout",
     "output_type": "stream",
     "text": [
      "Enter the number12\n",
      "12\n"
     ]
    },
    {
     "data": {
      "text/plain": [
       "str"
      ]
     },
     "execution_count": 7,
     "metadata": {},
     "output_type": "execute_result"
    }
   ],
   "source": [
    "a=input(\"Enter the number\")\n",
    "print(a)\n",
    "type(a)"
   ]
  },
  {
   "cell_type": "code",
   "execution_count": 16,
   "id": "1c371b4c",
   "metadata": {},
   "outputs": [
    {
     "name": "stdout",
     "output_type": "stream",
     "text": [
      "Enter the First number :12\n",
      "Enter the Second number :13\n",
      "Enter the Third number :2\n",
      "12.5 Aman\n"
     ]
    }
   ],
   "source": [
    "a=int(input(\"Enter the First number :\"))\n",
    "b=int(input(\"Enter the Second number :\"))\n",
    "c=int(input(\"Enter the Third number :\"))\n",
    "d=12+10j\n",
    "result=(a+b)/c\n",
    "result,d\n",
    "print(result,\"Aman\")"
   ]
  },
  {
   "cell_type": "code",
   "execution_count": 18,
   "id": "0dd3b0e3",
   "metadata": {},
   "outputs": [
    {
     "name": "stdout",
     "output_type": "stream",
     "text": [
      "Enter the number less than 34:100\n",
      "The number is not lesser than 34\n"
     ]
    }
   ],
   "source": [
    "x=int(input(\"Enter the number less than 34:\"))\n",
    "if x<34:\n",
    "    print(\"The number is less than 34\")\n",
    "else:\n",
    "    print(\"The number is not lesser than 34\")"
   ]
  },
  {
   "cell_type": "code",
   "execution_count": null,
   "id": "8e919204",
   "metadata": {},
   "outputs": [],
   "source": [
    "salary=int(input(\"Enter your salary\"))\n",
    "if salary<1000:\n",
    "    print(\"I will go for a car\")\n",
    "elif salary<500:\n",
    "    print(\"I will go for a bike\")\n",
    "else:\n",
    "    print(\"I will buy nothing\")    "
   ]
  },
  {
   "cell_type": "code",
   "execution_count": 22,
   "id": "24d06f35",
   "metadata": {},
   "outputs": [
    {
     "name": "stdout",
     "output_type": "stream",
     "text": [
      "This is valid inside elif\n"
     ]
    }
   ],
   "source": [
    "a=10\n",
    "b=20\n",
    "if a==10 and b>20:\n",
    "    print(\"This is valid\")\n",
    "elif a==10 and b>=20:\n",
    "    print(\"This is valid inside elif\")\n",
    "else:\n",
    "    print(\"Condition is not valid\")"
   ]
  },
  {
   "cell_type": "code",
   "execution_count": 24,
   "id": "1165c05a",
   "metadata": {},
   "outputs": [
    {
     "name": "stdout",
     "output_type": "stream",
     "text": [
      "Enter your name :Gupta\n",
      "Hello Gupta\n"
     ]
    }
   ],
   "source": [
    "name=input(\"Enter your name :\")\n",
    "if name=='Aman':\n",
    "    print(\"Hello Aman\")\n",
    "else:\n",
    "    print(\"Hello \"+name)"
   ]
  },
  {
   "cell_type": "code",
   "execution_count": 26,
   "id": "c09f0713",
   "metadata": {},
   "outputs": [
    {
     "name": "stdout",
     "output_type": "stream",
     "text": [
      "Speed is  0\n",
      "Speed is  1\n",
      "Speed is  2\n",
      "Speed is  3\n",
      "Speed is  4\n",
      "Speed is  5\n",
      "Speed is  6\n",
      "Speed is  7\n",
      "Speed is  8\n",
      "Speed is  9\n",
      "Speed is  10\n",
      "Speed is  11\n",
      "Speed is  12\n",
      "Speed is  13\n",
      "Speed is  14\n",
      "Speed is  15\n",
      "Speed is  16\n",
      "Speed is  17\n",
      "Speed is  18\n",
      "Speed is  19\n",
      "Speed is  20\n",
      "Speed is  21\n",
      "Speed is  22\n",
      "Speed is  23\n",
      "Speed is  24\n",
      "Speed is  25\n",
      "Speed is  26\n",
      "Speed is  27\n",
      "Speed is  28\n",
      "Speed is  29\n",
      "Speed is  30\n",
      "Speed is  31\n",
      "Speed is  32\n",
      "Speed is  33\n",
      "Speed is  34\n",
      "Speed is  35\n",
      "Speed is  36\n",
      "Speed is  37\n",
      "Speed is  38\n",
      "Speed is  39\n",
      "Speed is  40\n",
      "Speed is  41\n",
      "Speed is  42\n",
      "Speed is  43\n",
      "Speed is  44\n",
      "Speed is  45\n",
      "Speed is  46\n",
      "Speed is  47\n",
      "Speed is  48\n",
      "Speed is  49\n",
      "Speed is  50\n",
      "Speed is  51\n",
      "Speed is  52\n",
      "Speed is  53\n",
      "Speed is  54\n",
      "Speed is  55\n",
      "Speed is  56\n",
      "Speed is  57\n",
      "Speed is  58\n",
      "Speed is  59\n",
      "Speed is  60\n",
      "Speed is  61\n",
      "Speed is  62\n",
      "Speed is  63\n",
      "Speed is  64\n",
      "Speed is  65\n",
      "Speed is  66\n",
      "Speed is  67\n",
      "Speed is  68\n",
      "Speed is  69\n",
      "Speed is  70\n",
      "Speed is  71\n",
      "Speed is  72\n",
      "Speed is  73\n",
      "Speed is  74\n",
      "Speed is  75\n",
      "Speed is  76\n",
      "Speed is  77\n",
      "Speed is  78\n",
      "Speed is  79\n",
      "Speed is  80\n",
      "Speed is  81\n",
      "Speed is  82\n",
      "Speed is  83\n",
      "Speed is  84\n",
      "Speed is  85\n",
      "Speed is  86\n",
      "Speed is  87\n",
      "Speed is  88\n",
      "Speed is  89\n",
      "Speed is  90\n",
      "Speed is  91\n",
      "Speed is  92\n",
      "Speed is  93\n",
      "Speed is  94\n",
      "Speed is  95\n",
      "Speed is  96\n",
      "Speed is  97\n",
      "Speed is  98\n",
      "Speed is  99\n",
      "Speed is  100\n"
     ]
    }
   ],
   "source": [
    "initial_speed=0\n",
    "final_speed=100\n",
    "while(initial_speed<=final_speed):\n",
    "    print(\"Speed is \",initial_speed)\n",
    "    initial_speed+=1"
   ]
  },
  {
   "cell_type": "code",
   "execution_count": 3,
   "id": "2e3c2ef9",
   "metadata": {},
   "outputs": [
    {
     "name": "stdout",
     "output_type": "stream",
     "text": [
      "1\n",
      "2\n",
      "3\n",
      "4\n",
      "1\n",
      "no 10rs notes availabe\n"
     ]
    }
   ],
   "source": [
    "notes=5\n",
    "i=1\n",
    "while i<notes:\n",
    "    print(i)\n",
    "    i+=1\n",
    "else:\n",
    "    j=1\n",
    "    while j<2:\n",
    "        print(j)\n",
    "        j+=1\n",
    "    print(\"no 10rs notes availabe\")"
   ]
  },
  {
   "cell_type": "code",
   "execution_count": 19,
   "id": "dcd2e0bd",
   "metadata": {},
   "outputs": [],
   "source": [
    "name=\"My name is Aman\""
   ]
  },
  {
   "cell_type": "code",
   "execution_count": 12,
   "id": "d9b22a3d",
   "metadata": {},
   "outputs": [
    {
     "data": {
      "text/plain": [
       "'M aei m'"
      ]
     },
     "execution_count": 12,
     "metadata": {},
     "output_type": "execute_result"
    }
   ],
   "source": [
    "name[0:13:2]"
   ]
  },
  {
   "cell_type": "code",
   "execution_count": 16,
   "id": "1456f59b",
   "metadata": {},
   "outputs": [
    {
     "data": {
      "text/plain": [
       "'namA si eman yM'"
      ]
     },
     "execution_count": 16,
     "metadata": {},
     "output_type": "execute_result"
    }
   ],
   "source": [
    "name[::-1]"
   ]
  },
  {
   "cell_type": "code",
   "execution_count": 17,
   "id": "faed6fa1",
   "metadata": {},
   "outputs": [],
   "source": [
    "name=\"aman\""
   ]
  },
  {
   "cell_type": "code",
   "execution_count": 18,
   "id": "baba4fc2",
   "metadata": {},
   "outputs": [
    {
     "data": {
      "text/plain": [
       "'n'"
      ]
     },
     "execution_count": 18,
     "metadata": {},
     "output_type": "execute_result"
    }
   ],
   "source": [
    "name[-1]"
   ]
  },
  {
   "cell_type": "code",
   "execution_count": 20,
   "id": "5a0874ae",
   "metadata": {},
   "outputs": [
    {
     "name": "stdout",
     "output_type": "stream",
     "text": [
      "M\n",
      "y\n",
      " \n",
      "n\n",
      "a\n",
      "m\n",
      "e\n",
      " \n",
      "i\n",
      "s\n",
      " \n",
      "A\n",
      "m\n",
      "a\n",
      "n\n"
     ]
    }
   ],
   "source": [
    "for i in name:\n",
    "    print(i)"
   ]
  },
  {
   "cell_type": "code",
   "execution_count": 28,
   "id": "45a8d185",
   "metadata": {},
   "outputs": [
    {
     "name": "stdout",
     "output_type": "stream",
     "text": [
      "M\n",
      "y\n",
      " \n",
      "n\n",
      "m\n",
      "e\n",
      " \n",
      "i\n",
      "s\n",
      " \n",
      "A\n",
      "m\n",
      "n\n",
      "this is an else statement\n"
     ]
    }
   ],
   "source": [
    "for i in name:\n",
    "    if i=='a':\n",
    "        continue\n",
    "    print(i)\n",
    "else:\n",
    "    print(\"this is an else statement\")"
   ]
  },
  {
   "cell_type": "code",
   "execution_count": 30,
   "id": "3521d624",
   "metadata": {},
   "outputs": [],
   "source": [
    "name=\"aman\"\n",
    "myname=\"\"\n",
    "for i in range(len(name)):\n",
    "    if name[i]=='m':\n",
    "        continue\n",
    "    else:\n",
    "        myname = myname + name[i]"
   ]
  },
  {
   "cell_type": "code",
   "execution_count": 32,
   "id": "bfd7bc94",
   "metadata": {},
   "outputs": [
    {
     "data": {
      "text/plain": [
       "'aan'"
      ]
     },
     "execution_count": 32,
     "metadata": {},
     "output_type": "execute_result"
    }
   ],
   "source": [
    "myname"
   ]
  },
  {
   "cell_type": "code",
   "execution_count": 41,
   "id": "1f391715",
   "metadata": {},
   "outputs": [
    {
     "name": "stdout",
     "output_type": "stream",
     "text": [
      "+ \n",
      "+ + \n",
      "+ + + \n",
      "+ + + + \n",
      "+ + + + + \n",
      "+ + + + + + \n",
      "+ + + + + + + \n"
     ]
    }
   ],
   "source": [
    "for i in range(7):\n",
    "    for j in range(i+1):\n",
    "        print(\"+ \",end=\"\")\n",
    "    print(\"\")"
   ]
  },
  {
   "cell_type": "code",
   "execution_count": 68,
   "id": "9ff93588",
   "metadata": {},
   "outputs": [
    {
     "name": "stdout",
     "output_type": "stream",
     "text": [
      "*********\n",
      " *******\n",
      "  *****\n",
      "   ***\n",
      "    *\n"
     ]
    }
   ],
   "source": [
    "n=5\n",
    "for i in range(n,0,-1):\n",
    "    for j in range(n-i):\n",
    "        print(\" \",end=\"\")\n",
    "        \n",
    "    for k in range(2*i-1):\n",
    "        print('*',end='')\n",
    "    print()"
   ]
  },
  {
   "cell_type": "code",
   "execution_count": 95,
   "id": "c9755735",
   "metadata": {},
   "outputs": [
    {
     "name": "stdout",
     "output_type": "stream",
     "text": [
      "    * \n",
      "   * * \n",
      "  * * * \n",
      " * * * * \n",
      "* * * * * \n"
     ]
    }
   ],
   "source": [
    "# no=int(input(\"Enter the numbet :\"))\n",
    "no=5\n",
    "i=0\n",
    "while i<no:\n",
    "    print(\" \"*(no-i-1)+'* '*(i+1))\n",
    "    i+=1\n",
    "    "
   ]
  },
  {
   "cell_type": "code",
   "execution_count": 2,
   "id": "dd47986f",
   "metadata": {},
   "outputs": [
    {
     "name": "stdout",
     "output_type": "stream",
     "text": [
      "<class 'int'>\n",
      "<class 'int'>\n",
      "<class 'str'>\n",
      "<class 'int'>\n",
      "<class 'str'>\n",
      "<class 'list'>\n",
      "<class 'int'>\n",
      "<class 'int'>\n",
      "<class 'str'>\n"
     ]
    }
   ],
   "source": [
    "l=[1,2,\"aman\",3,'Gupta',[4,5,\"cnah\"]]\n",
    "for i in l:\n",
    "    print(type(i))\n",
    "    if type(i) == list:\n",
    "        for j in i:\n",
    "            print(type(j))\n"
   ]
  },
  {
   "cell_type": "code",
   "execution_count": 4,
   "id": "f85571ef",
   "metadata": {},
   "outputs": [],
   "source": [
    "li=list(range(10))"
   ]
  },
  {
   "cell_type": "code",
   "execution_count": 6,
   "id": "6a8f8efe",
   "metadata": {},
   "outputs": [
    {
     "data": {
      "text/plain": [
       "10"
      ]
     },
     "execution_count": 6,
     "metadata": {},
     "output_type": "execute_result"
    }
   ],
   "source": [
    "len(li)"
   ]
  },
  {
   "cell_type": "code",
   "execution_count": null,
   "id": "a8faeace",
   "metadata": {},
   "outputs": [],
   "source": []
  }
 ],
 "metadata": {
  "kernelspec": {
   "display_name": "Python 3",
   "language": "python",
   "name": "python3"
  },
  "language_info": {
   "codemirror_mode": {
    "name": "ipython",
    "version": 3
   },
   "file_extension": ".py",
   "mimetype": "text/x-python",
   "name": "python",
   "nbconvert_exporter": "python",
   "pygments_lexer": "ipython3",
   "version": "3.8.8"
  }
 },
 "nbformat": 4,
 "nbformat_minor": 5
}
