{
 "cells": [
  {
   "cell_type": "code",
   "execution_count": null,
   "id": "af9bb420",
   "metadata": {},
   "outputs": [],
   "source": [
    "s=\"This is my first class to full stack data science that's why i have joined\""
   ]
  },
  {
   "cell_type": "code",
   "execution_count": null,
   "id": "eeec1049",
   "metadata": {},
   "outputs": [],
   "source": [
    "s[0]"
   ]
  },
  {
   "cell_type": "code",
   "execution_count": null,
   "id": "2e805cc1",
   "metadata": {},
   "outputs": [],
   "source": [
    "len(s)"
   ]
  },
  {
   "cell_type": "code",
   "execution_count": null,
   "id": "f93a581c",
   "metadata": {},
   "outputs": [],
   "source": [
    "s[::-1]"
   ]
  },
  {
   "cell_type": "code",
   "execution_count": null,
   "id": "bd10e807",
   "metadata": {},
   "outputs": [],
   "source": [
    "# for i in range(len(s)):\n",
    "#     print(s[-i])"
   ]
  },
  {
   "cell_type": "code",
   "execution_count": null,
   "id": "399e5520",
   "metadata": {},
   "outputs": [],
   "source": [
    "s[0]='t'"
   ]
  },
  {
   "cell_type": "code",
   "execution_count": null,
   "id": "630a0ad2",
   "metadata": {},
   "outputs": [],
   "source": [
    "l=['aman',12,13.5,True]\n",
    "l"
   ]
  },
  {
   "cell_type": "code",
   "execution_count": null,
   "id": "441ef76c",
   "metadata": {},
   "outputs": [],
   "source": [
    "l[0]='Aman'"
   ]
  },
  {
   "cell_type": "code",
   "execution_count": null,
   "id": "2ca2d2c6",
   "metadata": {},
   "outputs": [],
   "source": [
    "l"
   ]
  },
  {
   "cell_type": "code",
   "execution_count": null,
   "id": "35d4c07b",
   "metadata": {},
   "outputs": [],
   "source": [
    "\"aman\"+\"gupta\""
   ]
  },
  {
   "cell_type": "code",
   "execution_count": null,
   "id": "945b98dc",
   "metadata": {},
   "outputs": [],
   "source": [
    "\"aman\"+str(20)"
   ]
  },
  {
   "cell_type": "code",
   "execution_count": null,
   "id": "f55931c7",
   "metadata": {},
   "outputs": [],
   "source": [
    "\"aman\"+[\"gupta\",12,3]"
   ]
  },
  {
   "cell_type": "code",
   "execution_count": null,
   "id": "facaa3ad",
   "metadata": {},
   "outputs": [],
   "source": [
    "\"aman\"*3"
   ]
  },
  {
   "cell_type": "code",
   "execution_count": null,
   "id": "35887597",
   "metadata": {},
   "outputs": [],
   "source": [
    "s=\"my name is aman, and i am 22 yr old\""
   ]
  },
  {
   "cell_type": "code",
   "execution_count": null,
   "id": "9a226109",
   "metadata": {},
   "outputs": [],
   "source": [
    "x=s.find('name')\n",
    "for i in range(len('name')):\n",
    "    print(x+i)"
   ]
  },
  {
   "cell_type": "code",
   "execution_count": null,
   "id": "f9cd4a94",
   "metadata": {},
   "outputs": [],
   "source": [
    "s.split(',')"
   ]
  },
  {
   "cell_type": "code",
   "execution_count": null,
   "id": "977aa782",
   "metadata": {},
   "outputs": [],
   "source": [
    "s.upper()"
   ]
  },
  {
   "cell_type": "code",
   "execution_count": null,
   "id": "08979138",
   "metadata": {},
   "outputs": [],
   "source": [
    "s.lower()"
   ]
  },
  {
   "cell_type": "code",
   "execution_count": null,
   "id": "d295fec1",
   "metadata": {},
   "outputs": [],
   "source": [
    "s.title()"
   ]
  },
  {
   "cell_type": "code",
   "execution_count": null,
   "id": "bd46247c",
   "metadata": {},
   "outputs": [],
   "source": [
    "s.swapcase()"
   ]
  },
  {
   "cell_type": "code",
   "execution_count": null,
   "id": "64f6b4e2",
   "metadata": {},
   "outputs": [],
   "source": [
    "\"a\".join(s)"
   ]
  },
  {
   "cell_type": "code",
   "execution_count": null,
   "id": "79d77442",
   "metadata": {},
   "outputs": [],
   "source": [
    "list(reversed(s))"
   ]
  },
  {
   "cell_type": "code",
   "execution_count": null,
   "id": "1d048366",
   "metadata": {},
   "outputs": [],
   "source": [
    "for i in reversed(s):\n",
    "    print(i)"
   ]
  },
  {
   "cell_type": "code",
   "execution_count": null,
   "id": "136d784c",
   "metadata": {},
   "outputs": [],
   "source": [
    "name=\"    ama n     \""
   ]
  },
  {
   "cell_type": "code",
   "execution_count": null,
   "id": "329d81e4",
   "metadata": {},
   "outputs": [],
   "source": [
    "name.strip()"
   ]
  },
  {
   "cell_type": "code",
   "execution_count": null,
   "id": "80fdf9a0",
   "metadata": {},
   "outputs": [],
   "source": [
    "name.lstrip()"
   ]
  },
  {
   "cell_type": "code",
   "execution_count": null,
   "id": "ba6a4ad8",
   "metadata": {},
   "outputs": [],
   "source": [
    "name.rstrip()"
   ]
  },
  {
   "cell_type": "code",
   "execution_count": null,
   "id": "2810144f",
   "metadata": {},
   "outputs": [],
   "source": [
    "n=\"Greetings from me\"\n",
    "n"
   ]
  },
  {
   "cell_type": "code",
   "execution_count": null,
   "id": "eff37ef5",
   "metadata": {},
   "outputs": [],
   "source": [
    "n=n.replace('re','xr')\n",
    "n"
   ]
  },
  {
   "cell_type": "code",
   "execution_count": null,
   "id": "fd28ac59",
   "metadata": {},
   "outputs": [],
   "source": [
    "s=\"aman\""
   ]
  },
  {
   "cell_type": "code",
   "execution_count": null,
   "id": "c03077b0",
   "metadata": {},
   "outputs": [],
   "source": [
    "s.center(20,'*')"
   ]
  },
  {
   "cell_type": "code",
   "execution_count": null,
   "id": "3a096b99",
   "metadata": {},
   "outputs": [],
   "source": [
    "s=\"aman\\tgupta\"\n",
    "s"
   ]
  },
  {
   "cell_type": "code",
   "execution_count": null,
   "id": "eca39461",
   "metadata": {},
   "outputs": [],
   "source": [
    "s.expandtabs()"
   ]
  },
  {
   "cell_type": "code",
   "execution_count": 20,
   "id": "f62c9dbd",
   "metadata": {},
   "outputs": [
    {
     "data": {
      "text/plain": [
       "'We are all part of full stack developer'"
      ]
     },
     "execution_count": 20,
     "metadata": {},
     "output_type": "execute_result"
    }
   ],
   "source": [
    "a=\"We are all part of full stack developer\"\n",
    "a"
   ]
  },
  {
   "cell_type": "code",
   "execution_count": 21,
   "id": "55316d7c",
   "metadata": {},
   "outputs": [
    {
     "data": {
      "text/plain": [
       "'we are all part of full stack developer'"
      ]
     },
     "execution_count": 21,
     "metadata": {},
     "output_type": "execute_result"
    }
   ],
   "source": [
    "a.lower()"
   ]
  },
  {
   "cell_type": "code",
   "execution_count": 22,
   "id": "6787c95a",
   "metadata": {},
   "outputs": [
    {
     "data": {
      "text/plain": [
       "4"
      ]
     },
     "execution_count": 22,
     "metadata": {},
     "output_type": "execute_result"
    }
   ],
   "source": [
    "a.count('a')"
   ]
  },
  {
   "cell_type": "code",
   "execution_count": 23,
   "id": "0c5fd007",
   "metadata": {},
   "outputs": [
    {
     "data": {
      "text/plain": [
       "3"
      ]
     },
     "execution_count": 23,
     "metadata": {},
     "output_type": "execute_result"
    }
   ],
   "source": [
    "x=a.find('a')\n",
    "x"
   ]
  },
  {
   "cell_type": "code",
   "execution_count": 24,
   "id": "070dd79a",
   "metadata": {},
   "outputs": [
    {
     "data": {
      "text/plain": [
       "39"
      ]
     },
     "execution_count": 24,
     "metadata": {},
     "output_type": "execute_result"
    }
   ],
   "source": [
    "len(a)"
   ]
  },
  {
   "cell_type": "code",
   "execution_count": 25,
   "id": "b0217b5d",
   "metadata": {},
   "outputs": [
    {
     "name": "stdout",
     "output_type": "stream",
     "text": [
      "3\n",
      "7\n",
      "12\n",
      "26\n"
     ]
    }
   ],
   "source": [
    "for i in range(len(a)):\n",
    "    if a[i]=='a':\n",
    "        print(i)"
   ]
  },
  {
   "cell_type": "code",
   "execution_count": null,
   "id": "d9e90a0a",
   "metadata": {},
   "outputs": [],
   "source": [
    "a.replace(\"a\",\"iNeuron\")"
   ]
  },
  {
   "cell_type": "code",
   "execution_count": null,
   "id": "6a4a055a",
   "metadata": {},
   "outputs": [],
   "source": [
    "a.split()"
   ]
  },
  {
   "cell_type": "code",
   "execution_count": null,
   "id": "7b87c816",
   "metadata": {},
   "outputs": [],
   "source": [
    "s=\"1\"\n",
    "s"
   ]
  },
  {
   "cell_type": "code",
   "execution_count": null,
   "id": "95d0a764",
   "metadata": {},
   "outputs": [],
   "source": [
    "s.isupper()"
   ]
  },
  {
   "cell_type": "code",
   "execution_count": null,
   "id": "d1c3f36c",
   "metadata": {},
   "outputs": [],
   "source": [
    "s.islower()"
   ]
  },
  {
   "cell_type": "code",
   "execution_count": null,
   "id": "e6abe8ea",
   "metadata": {},
   "outputs": [],
   "source": [
    "s.isspace()"
   ]
  },
  {
   "cell_type": "code",
   "execution_count": null,
   "id": "3e7b4f15",
   "metadata": {},
   "outputs": [],
   "source": [
    "s.isdigit()"
   ]
  },
  {
   "cell_type": "code",
   "execution_count": null,
   "id": "d53ded4c",
   "metadata": {},
   "outputs": [],
   "source": [
    "s.endswith('1')"
   ]
  },
  {
   "cell_type": "code",
   "execution_count": null,
   "id": "82b3062f",
   "metadata": {},
   "outputs": [],
   "source": [
    "s.startswith('1')"
   ]
  },
  {
   "cell_type": "code",
   "execution_count": null,
   "id": "8a469c77",
   "metadata": {},
   "outputs": [],
   "source": [
    "s.isalnum()"
   ]
  },
  {
   "cell_type": "code",
   "execution_count": null,
   "id": "e0b4c414",
   "metadata": {},
   "outputs": [],
   "source": [
    "s.isalpha()"
   ]
  },
  {
   "cell_type": "code",
   "execution_count": null,
   "id": "471aa0ce",
   "metadata": {},
   "outputs": [],
   "source": [
    "s.istitle()"
   ]
  },
  {
   "cell_type": "code",
   "execution_count": null,
   "id": "2629babf",
   "metadata": {},
   "outputs": [],
   "source": [
    "s=\"this is full stack course\"\n",
    "s\n",
    "len(s)"
   ]
  },
  {
   "cell_type": "code",
   "execution_count": null,
   "id": "b64979d9",
   "metadata": {},
   "outputs": [],
   "source": [
    "count=0\n",
    "for i in s:\n",
    "    count=count+1\n",
    "print(count)"
   ]
  },
  {
   "cell_type": "code",
   "execution_count": null,
   "id": "0ce436e3",
   "metadata": {},
   "outputs": [],
   "source": [
    "s=\"My name is aman\"\n",
    "s"
   ]
  },
  {
   "cell_type": "code",
   "execution_count": null,
   "id": "93367b79",
   "metadata": {},
   "outputs": [],
   "source": [
    "for i in range(1,len(s)+1):\n",
    "    print(s[-i])"
   ]
  },
  {
   "cell_type": "code",
   "execution_count": null,
   "id": "88a0414d",
   "metadata": {},
   "outputs": [],
   "source": [
    "s=\"aman\"\n",
    "ch=len(s)-1\n",
    "while ch>=0:\n",
    "    print(s[ch])\n",
    "    ch=ch-1"
   ]
  },
  {
   "cell_type": "code",
   "execution_count": null,
   "id": "d011ea1f",
   "metadata": {},
   "outputs": [],
   "source": [
    "name=\"ineuron\"\n",
    "vowel=\"AaEeIiOoUu\"\n",
    "for i in name :\n",
    "    if i in vowel:\n",
    "        print(\"{} is a vowel\".format(i))\n",
    "    else:\n",
    "        print(\"{} is not a vowel\".format(i))"
   ]
  },
  {
   "cell_type": "code",
   "execution_count": null,
   "id": "c1f19a9b",
   "metadata": {},
   "outputs": [],
   "source": [
    "# Program to check if word is palindrome or not\n",
    "x=input(\"Enter a word :\")\n",
    "x1=x[::-1]\n",
    "if(x1==x):\n",
    "    print(\"It is palindrome\")\n",
    "else:\n",
    "    print(\"It is not a palindrome\")    "
   ]
  },
  {
   "cell_type": "code",
   "execution_count": 1,
   "id": "7677d248",
   "metadata": {},
   "outputs": [],
   "source": [
    "l=[\"aman\",1,2,3,[1,3]]"
   ]
  },
  {
   "cell_type": "code",
   "execution_count": 4,
   "id": "92adf1c0",
   "metadata": {},
   "outputs": [
    {
     "data": {
      "text/plain": [
       "[3, 2, 1]"
      ]
     },
     "execution_count": 4,
     "metadata": {},
     "output_type": "execute_result"
    }
   ],
   "source": [
    "l[3:0:-1]"
   ]
  },
  {
   "cell_type": "code",
   "execution_count": 5,
   "id": "2a2996b4",
   "metadata": {},
   "outputs": [
    {
     "data": {
      "text/plain": [
       "[[1, 3], 3, 2, 1, 'aman']"
      ]
     },
     "execution_count": 5,
     "metadata": {},
     "output_type": "execute_result"
    }
   ],
   "source": [
    "l[::-1]"
   ]
  },
  {
   "cell_type": "code",
   "execution_count": 6,
   "id": "8e5768c4",
   "metadata": {},
   "outputs": [],
   "source": [
    "s=\"xyz\""
   ]
  },
  {
   "cell_type": "code",
   "execution_count": 7,
   "id": "58e8900c",
   "metadata": {},
   "outputs": [
    {
     "ename": "TypeError",
     "evalue": "can only concatenate list (not \"str\") to list",
     "output_type": "error",
     "traceback": [
      "\u001b[1;31m---------------------------------------------------------------------------\u001b[0m",
      "\u001b[1;31mTypeError\u001b[0m                                 Traceback (most recent call last)",
      "\u001b[1;32m<ipython-input-7-c62842885d3f>\u001b[0m in \u001b[0;36m<module>\u001b[1;34m\u001b[0m\n\u001b[1;32m----> 1\u001b[1;33m \u001b[0ml\u001b[0m\u001b[1;33m+\u001b[0m\u001b[0ms\u001b[0m\u001b[1;33m\u001b[0m\u001b[1;33m\u001b[0m\u001b[0m\n\u001b[0m",
      "\u001b[1;31mTypeError\u001b[0m: can only concatenate list (not \"str\") to list"
     ]
    }
   ],
   "source": [
    "l+s"
   ]
  },
  {
   "cell_type": "code",
   "execution_count": 8,
   "id": "ff214766",
   "metadata": {},
   "outputs": [],
   "source": [
    "s=list(s)"
   ]
  },
  {
   "cell_type": "code",
   "execution_count": 9,
   "id": "df544efc",
   "metadata": {},
   "outputs": [
    {
     "data": {
      "text/plain": [
       "['x', 'y', 'z']"
      ]
     },
     "execution_count": 9,
     "metadata": {},
     "output_type": "execute_result"
    }
   ],
   "source": [
    "s"
   ]
  },
  {
   "cell_type": "code",
   "execution_count": 13,
   "id": "b7be8a64",
   "metadata": {},
   "outputs": [
    {
     "data": {
      "text/plain": [
       "['aman', 1, 2, 3, [1, 3], 'xyz']"
      ]
     },
     "execution_count": 13,
     "metadata": {},
     "output_type": "execute_result"
    }
   ],
   "source": [
    "l+s"
   ]
  },
  {
   "cell_type": "code",
   "execution_count": 11,
   "id": "09e9bea5",
   "metadata": {},
   "outputs": [],
   "source": [
    "s=[\"xyz\"]"
   ]
  },
  {
   "cell_type": "code",
   "execution_count": 14,
   "id": "e3c783ad",
   "metadata": {},
   "outputs": [
    {
     "data": {
      "text/plain": [
       "['xyz', 'xyz', 'xyz', 'xyz', 'xyz', 'xyz']"
      ]
     },
     "execution_count": 14,
     "metadata": {},
     "output_type": "execute_result"
    }
   ],
   "source": [
    "s*6"
   ]
  },
  {
   "cell_type": "code",
   "execution_count": 15,
   "id": "4f2bd975",
   "metadata": {},
   "outputs": [
    {
     "data": {
      "text/plain": [
       "5"
      ]
     },
     "execution_count": 15,
     "metadata": {},
     "output_type": "execute_result"
    }
   ],
   "source": [
    "len(l)"
   ]
  },
  {
   "cell_type": "code",
   "execution_count": 19,
   "id": "9c020d7b",
   "metadata": {},
   "outputs": [
    {
     "data": {
      "text/plain": [
       "False"
      ]
     },
     "execution_count": 19,
     "metadata": {},
     "output_type": "execute_result"
    }
   ],
   "source": [
    "12 in l"
   ]
  },
  {
   "cell_type": "code",
   "execution_count": null,
   "id": "e634f755",
   "metadata": {},
   "outputs": [],
   "source": []
  }
 ],
 "metadata": {
  "kernelspec": {
   "display_name": "Python 3",
   "language": "python",
   "name": "python3"
  },
  "language_info": {
   "codemirror_mode": {
    "name": "ipython",
    "version": 3
   },
   "file_extension": ".py",
   "mimetype": "text/x-python",
   "name": "python",
   "nbconvert_exporter": "python",
   "pygments_lexer": "ipython3",
   "version": "3.8.8"
  }
 },
 "nbformat": 4,
 "nbformat_minor": 5
}
